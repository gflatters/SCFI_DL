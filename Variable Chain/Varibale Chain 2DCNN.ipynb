{
 "cells": [
  {
   "cell_type": "markdown",
   "metadata": {},
   "source": [
    "The CNN gives good results, but what if we want to use the CNN trained on the images, and other information, like cell fluctuations, patient history, etc? We can stack another model on top of the CNN predictions! See the Jan 2020 report for details"
   ]
  },
  {
   "cell_type": "code",
   "execution_count": 1,
   "metadata": {},
   "outputs": [
    {
     "name": "stderr",
     "output_type": "stream",
     "text": [
      "Using TensorFlow backend.\n"
     ]
    },
    {
     "name": "stdout",
     "output_type": "stream",
     "text": [
      "WARNING:tensorflow:From /home/ubuntu/anaconda3/envs/tensorflow_p36/lib/python3.6/site-packages/tensorflow_core/__init__.py:1467: The name tf.estimator.inputs is deprecated. Please use tf.compat.v1.estimator.inputs instead.\n",
      "\n"
     ]
    }
   ],
   "source": [
    "#load the usual suspects\n",
    "import sys\n",
    "sys.path.insert(0, \"/home/ubuntu/data/code/Modules/\")\n",
    "import numpy as np\n",
    "import pickle\n",
    "import DataGenerator\n",
    "import random\n",
    "import CNN_Module as cnn_module\n",
    "import models"
   ]
  },
  {
   "cell_type": "markdown",
   "metadata": {},
   "source": [
    "Prep cells and images as before"
   ]
  },
  {
   "cell_type": "code",
   "execution_count": 2,
   "metadata": {},
   "outputs": [],
   "source": [
    "#prep cells for feeding into CNN\n",
    "control_cells = np.array(cnn_module.findallcells_indir('/home/ubuntu/data/resistant/'))\n",
    "sus_cells     = np.array(cnn_module.findallcells_indir('/home/ubuntu/data/susceptible/'))\n",
    "\n",
    "#label cells, and split cells into test and train, making sure to have equal proportion of sus and ctrl in both\n",
    "control_cells_label = cnn_module.create_label_dict(control_cells,0)\n",
    "sus_cells_label  = cnn_module.create_label_dict(sus_cells,1)\n",
    "\n",
    "train_ctrl, test_ctrl = cnn_module.split_train_test(control_cells_label,0.9)\n",
    "train_sus, test_sus = cnn_module.split_train_test(sus_cells_label,0.9)\n",
    "\n",
    "train_labels = train_ctrl+train_sus\n",
    "test_labels = test_ctrl+test_sus\n",
    "\n",
    "random.shuffle(train_labels)\n",
    "random.shuffle(test_labels)\n",
    "\n",
    "video_path = '/cropped_video80'\n",
    "sample_gap = 10\n",
    "im_paths_train, im_labels_train, im_paths_test, im_labels_test = cnn_module.get_labels_images(train_labels,test_labels,video_path,sample_gap)\n",
    "random.shuffle(im_paths_train)\n",
    "random.shuffle(im_paths_test)"
   ]
  },
  {
   "cell_type": "code",
   "execution_count": 3,
   "metadata": {},
   "outputs": [
    {
     "name": "stdout",
     "output_type": "stream",
     "text": [
      "WARNING:tensorflow:From /home/ubuntu/anaconda3/envs/tensorflow_p36/lib/python3.6/site-packages/keras/backend/tensorflow_backend.py:74: The name tf.get_default_graph is deprecated. Please use tf.compat.v1.get_default_graph instead.\n",
      "\n",
      "WARNING:tensorflow:From /home/ubuntu/anaconda3/envs/tensorflow_p36/lib/python3.6/site-packages/keras/backend/tensorflow_backend.py:517: The name tf.placeholder is deprecated. Please use tf.compat.v1.placeholder instead.\n",
      "\n",
      "WARNING:tensorflow:From /home/ubuntu/anaconda3/envs/tensorflow_p36/lib/python3.6/site-packages/keras/backend/tensorflow_backend.py:4138: The name tf.random_uniform is deprecated. Please use tf.random.uniform instead.\n",
      "\n",
      "WARNING:tensorflow:From /home/ubuntu/anaconda3/envs/tensorflow_p36/lib/python3.6/site-packages/keras/backend/tensorflow_backend.py:174: The name tf.get_default_session is deprecated. Please use tf.compat.v1.get_default_session instead.\n",
      "\n",
      "WARNING:tensorflow:From /home/ubuntu/anaconda3/envs/tensorflow_p36/lib/python3.6/site-packages/keras/backend/tensorflow_backend.py:184: The name tf.ConfigProto is deprecated. Please use tf.compat.v1.ConfigProto instead.\n",
      "\n",
      "WARNING:tensorflow:From /home/ubuntu/anaconda3/envs/tensorflow_p36/lib/python3.6/site-packages/keras/backend/tensorflow_backend.py:186: The name tf.Session is deprecated. Please use tf.compat.v1.Session instead.\n",
      "\n",
      "WARNING:tensorflow:From /home/ubuntu/anaconda3/envs/tensorflow_p36/lib/python3.6/site-packages/keras/backend/tensorflow_backend.py:190: The name tf.global_variables is deprecated. Please use tf.compat.v1.global_variables instead.\n",
      "\n",
      "WARNING:tensorflow:From /home/ubuntu/anaconda3/envs/tensorflow_p36/lib/python3.6/site-packages/keras/backend/tensorflow_backend.py:199: The name tf.is_variable_initialized is deprecated. Please use tf.compat.v1.is_variable_initialized instead.\n",
      "\n",
      "WARNING:tensorflow:From /home/ubuntu/anaconda3/envs/tensorflow_p36/lib/python3.6/site-packages/keras/backend/tensorflow_backend.py:206: The name tf.variables_initializer is deprecated. Please use tf.compat.v1.variables_initializer instead.\n",
      "\n",
      "WARNING:tensorflow:From /home/ubuntu/anaconda3/envs/tensorflow_p36/lib/python3.6/site-packages/keras/backend/tensorflow_backend.py:1834: The name tf.nn.fused_batch_norm is deprecated. Please use tf.compat.v1.nn.fused_batch_norm instead.\n",
      "\n",
      "WARNING:tensorflow:From /home/ubuntu/anaconda3/envs/tensorflow_p36/lib/python3.6/site-packages/keras/backend/tensorflow_backend.py:133: The name tf.placeholder_with_default is deprecated. Please use tf.compat.v1.placeholder_with_default instead.\n",
      "\n",
      "WARNING:tensorflow:From /home/ubuntu/anaconda3/envs/tensorflow_p36/lib/python3.6/site-packages/keras/backend/tensorflow_backend.py:3976: The name tf.nn.max_pool is deprecated. Please use tf.nn.max_pool2d instead.\n",
      "\n",
      "WARNING:tensorflow:From /home/ubuntu/anaconda3/envs/tensorflow_p36/lib/python3.6/site-packages/keras/backend/tensorflow_backend.py:3445: calling dropout (from tensorflow.python.ops.nn_ops) with keep_prob is deprecated and will be removed in a future version.\n",
      "Instructions for updating:\n",
      "Please use `rate` instead of `keep_prob`. Rate should be set to `rate = 1 - keep_prob`.\n",
      "WARNING:tensorflow:From /home/ubuntu/anaconda3/envs/tensorflow_p36/lib/python3.6/site-packages/keras/optimizers.py:790: The name tf.train.Optimizer is deprecated. Please use tf.compat.v1.train.Optimizer instead.\n",
      "\n",
      "WARNING:tensorflow:From /home/ubuntu/anaconda3/envs/tensorflow_p36/lib/python3.6/site-packages/keras/backend/tensorflow_backend.py:3376: The name tf.log is deprecated. Please use tf.math.log instead.\n",
      "\n",
      "WARNING:tensorflow:From /home/ubuntu/anaconda3/envs/tensorflow_p36/lib/python3.6/site-packages/tensorflow_core/python/ops/nn_impl.py:183: where (from tensorflow.python.ops.array_ops) is deprecated and will be removed in a future version.\n",
      "Instructions for updating:\n",
      "Use tf.where in 2.0, which has the same broadcast rule as np.where\n"
     ]
    }
   ],
   "source": [
    "#get our model params\n",
    "model = models.get_luke_model(80)\n",
    "augment_train, augment_valid = cnn_module.get_augmentations_train_test()\n",
    "params_train, params_test = cnn_module.get_params_train_test(80,80,augment_train,augment_valid)"
   ]
  },
  {
   "cell_type": "code",
   "execution_count": 4,
   "metadata": {},
   "outputs": [],
   "source": [
    "training_generator = DataGenerator.DataGenerator(im_paths_train, im_labels_train, **params_train)\n",
    "prediction_generator = DataGenerator.DataGenerator(im_paths_test, im_labels_test, **params_test)"
   ]
  },
  {
   "cell_type": "markdown",
   "metadata": {},
   "source": [
    "we now call cnn.module.k_fold_train to train on 80% of the train data and predict on the remaining 20%. We do this with different 20% holdouts until we have predictions for the entire training set. We also fully train a model on the entire training set which we use to predict on the test set."
   ]
  },
  {
   "cell_type": "code",
   "execution_count": 5,
   "metadata": {},
   "outputs": [
    {
     "name": "stdout",
     "output_type": "stream",
     "text": [
      "WARNING:tensorflow:From /home/ubuntu/anaconda3/envs/tensorflow_p36/lib/python3.6/site-packages/keras/backend/tensorflow_backend.py:986: The name tf.assign_add is deprecated. Please use tf.compat.v1.assign_add instead.\n",
      "\n",
      "WARNING:tensorflow:From /home/ubuntu/anaconda3/envs/tensorflow_p36/lib/python3.6/site-packages/keras/backend/tensorflow_backend.py:973: The name tf.assign is deprecated. Please use tf.compat.v1.assign instead.\n",
      "\n",
      "Epoch 1/2\n",
      "100/100 [==============================] - 54s 545ms/step - loss: 5.1903 - acc: 0.5375 - val_loss: 7.4702 - val_acc: 0.5338\n",
      "Epoch 2/2\n",
      "100/100 [==============================] - 50s 500ms/step - loss: 6.7442 - acc: 0.5706 - val_loss: 6.5430 - val_acc: 0.5899\n",
      "Epoch 1/2\n",
      "100/100 [==============================] - 25s 250ms/step - loss: 5.6782 - acc: 0.5156 - val_loss: 8.4997 - val_acc: 0.4698\n",
      "Epoch 2/2\n",
      "100/100 [==============================] - 25s 247ms/step - loss: 7.3077 - acc: 0.5266 - val_loss: 6.7840 - val_acc: 0.5768\n"
     ]
    }
   ],
   "source": [
    "#select either normal or k-fold training\n",
    "sample_gap=10\n",
    "epochs=2\n",
    "stepsperepoch=100\n",
    "video_path = '/cropped_video80'\n",
    "validate_steps = len(im_paths_test)//32\n",
    "\n",
    "#get kfold predictions from training set \n",
    "#train_preds = cnn_module.k_fold_train(train_labels,video_path,model,sample_gap,epochs,stepsperepoch,params_train,params_test)\n",
    "\n",
    "#don't use k-fold\n",
    "train_preds = cnn_module.fit_model_from_labels(train_labels,video_path,model,sample_gap,epochs,stepsperepoch,params_train,params_test)\n",
    "\n",
    "#get a fully trained model for the test predictions\n",
    "fully_train_model = cnn_module.fit_model(model,training_generator,prediction_generator,epochs,stepsperepoch,validate_steps,params_train,params_test)\n",
    "#make the test predictions.\n",
    "test_predictions = cnn_module.predict(test_labels,video_path,fully_train_model,sample_gap,params_test)\n"
   ]
  },
  {
   "cell_type": "code",
   "execution_count": null,
   "metadata": {},
   "outputs": [],
   "source": [
    "\n"
   ]
  },
  {
   "cell_type": "markdown",
   "metadata": {},
   "source": [
    "Now we want to get our fluctuations and lengths. We can do this using the Get_Simple_Fluctuations_Average_Intensity module."
   ]
  },
  {
   "cell_type": "code",
   "execution_count": null,
   "metadata": {},
   "outputs": [],
   "source": []
  },
  {
   "cell_type": "code",
   "execution_count": 6,
   "metadata": {},
   "outputs": [],
   "source": [
    "import Get_Simple_Fluctuations_Average_Intensity as simp"
   ]
  },
  {
   "cell_type": "code",
   "execution_count": 7,
   "metadata": {},
   "outputs": [
    {
     "name": "stdout",
     "output_type": "stream",
     "text": [
      "{'/home/ubuntu/data/resistant/sample52/cell052': 0.4105601323258871, '/home/ubuntu/data/resistant/sample52/cell053': 0.2492287167989228, '/home/ubuntu/data/resistant/sample52/cell054': 0.1912419898435697, '/home/ubuntu/data/resistant/sample52/cell055': 0.25145341079894984, '/home/ubuntu/data/resistant/sample52/cell056': 0.37586532491543895, '/home/ubuntu/data/resistant/sample52/cell057': 0.4540137046534464, '/home/ubuntu/data/resistant/sample52/cell058': 0.3237048144351004, '/home/ubuntu/data/resistant/sample52/cell059': 0.3445670103204346, '/home/ubuntu/data/resistant/sample52/cell060': 0.3714476252166599, '/home/ubuntu/data/resistant/sample52/cell061': 0.2445139433575501, '/home/ubuntu/data/resistant/sample52/cell062': 0.3911178476272494, '/home/ubuntu/data/resistant/sample52/cell063': 0.2915990885935849, '/home/ubuntu/data/resistant/sample52/cell064': 0.4364501098072686, '/home/ubuntu/data/resistant/sample52/cell065': 0.4474303337743871, '/home/ubuntu/data/resistant/sample52/cell066': 0.4785401359041356, '/home/ubuntu/data/resistant/sample52/cell067': 0.4945677969526684, '/home/ubuntu/data/resistant/sample52/cell069': 0.398958147938886, '/home/ubuntu/data/resistant/sample52/cell070': 0.3747840466554204, '/home/ubuntu/data/resistant/sample52/cell071': 0.29786471895282485, '/home/ubuntu/data/resistant/sample52/cell072': 0.4242108747974895, '/home/ubuntu/data/resistant/sample52/cell073': 0.3909035472546917, '/home/ubuntu/data/resistant/sample52/cell074': 0.327643862116765, '/home/ubuntu/data/resistant/sample52/cell075': 0.23997078913352865, '/home/ubuntu/data/resistant/sample52/cell076': 0.24818809258740515, '/home/ubuntu/data/resistant/sample52/cell077': 0.18701028387432447, '/home/ubuntu/data/resistant/sample52/cell078': 0.4599809433633386, '/home/ubuntu/data/resistant/sample52/cell080': 0.3863390268038104, '/home/ubuntu/data/resistant/sample52/cell081': 0.305292319076155, '/home/ubuntu/data/resistant/sample52/cell082': 0.3617116183121457, '/home/ubuntu/data/resistant/sample52/cell083': 0.2623220889246033, '/home/ubuntu/data/resistant/sample52/cell084': 0.4163786563805654, '/home/ubuntu/data/resistant/sample52/cell085': 0.21259023443220926, '/home/ubuntu/data/resistant/sample52/cell086': 0.3213374695366993, '/home/ubuntu/data/resistant/sample52/cell087': 0.3872806955304518, '/home/ubuntu/data/resistant/sample52/cell088': 0.3826055578476278, '/home/ubuntu/data/resistant/sample52/cell089': 0.3753813002705979, '/home/ubuntu/data/resistant/sample52/cell090': 0.3133507296895188, '/home/ubuntu/data/resistant/sample52/cell091': 0.24539998045010175, '/home/ubuntu/data/resistant/sample52/cell092': 0.3902386613063483, '/home/ubuntu/data/resistant/sample52/cell093': 0.31800552526428194, '/home/ubuntu/data/resistant/sample52/cell094': 0.2939706530717966, '/home/ubuntu/data/resistant/sample52/cell095': 0.4274232546077889, '/home/ubuntu/data/resistant/sample52/cell096': 0.2579691465025981, '/home/ubuntu/data/resistant/sample52/cell097': 0.4004214679254355, '/home/ubuntu/data/resistant/sample52/cell098': 0.3826463064080677, '/home/ubuntu/data/resistant/sample52/cell099': 0.4950547134056079, '/home/ubuntu/data/resistant/sample52/cell100': 0.38749393467765775, '/home/ubuntu/data/resistant/sample52/cell101': 0.34553732475530996, '/home/ubuntu/data/resistant/sample52/cell102': 0.14835419327120947, '/home/ubuntu/data/resistant/sample52/cell103': 0.2781097963926881, '/home/ubuntu/data/resistant/sample52/cell104': 0.4523561957416185, '/home/ubuntu/data/resistant/sample52/cell105': 0.3182295067234593, '/home/ubuntu/data/resistant/sample52/cell106': 0.3396210667281065, '/home/ubuntu/data/resistant/sample52/cell107': 0.2954642773102891, '/home/ubuntu/data/resistant/sample52/cell108': 0.3939705272112637, '/home/ubuntu/data/resistant/sample52/cell109': 0.388462341552589, '/home/ubuntu/data/resistant/sample52/cell110': 0.24525648727975186, '/home/ubuntu/data/resistant/sample52/cell111': 0.26857587440746195, '/home/ubuntu/data/resistant/sample36/cell280': 0.3934117281416769, '/home/ubuntu/data/resistant/sample36/cell281': 0.3246456427100697, '/home/ubuntu/data/resistant/sample36/cell282': 0.307690710534234, '/home/ubuntu/data/resistant/sample36/cell283': 0.2954225231738034, '/home/ubuntu/data/resistant/sample36/cell284': 0.1999355263323246, '/home/ubuntu/data/resistant/sample36/cell285': 0.220933215183835, '/home/ubuntu/data/resistant/sample36/cell286': 0.37511465904405705, '/home/ubuntu/data/resistant/sample36/cell287': 0.34563982703002666, '/home/ubuntu/data/resistant/sample36/cell288': 0.30800869294686417, '/home/ubuntu/data/resistant/sample36/cell289': 0.4348264347759612, '/home/ubuntu/data/resistant/sample36/cell290': 0.3853788665489768, '/home/ubuntu/data/resistant/sample36/cell291': 0.412493394308057, '/home/ubuntu/data/resistant/sample36/cell292': 0.26292696855794706, '/home/ubuntu/data/resistant/sample36/cell293': 0.2671163286100018, '/home/ubuntu/data/resistant/sample36/cell294': 0.3764295644517833, '/home/ubuntu/data/resistant/sample36/cell295': 0.4802074820547086, '/home/ubuntu/data/resistant/sample36/cell296': 0.32225617313444016, '/home/ubuntu/data/resistant/sample36/cell297': 0.19477359610772904, '/home/ubuntu/data/resistant/sample36/cell298': 0.26520815494840705, '/home/ubuntu/data/resistant/sample36/cell299': 0.2471269726568495, '/home/ubuntu/data/resistant/sample36/cell300': 0.4002599587925759, '/home/ubuntu/data/resistant/sample36/cell301': 0.3763201242045518, '/home/ubuntu/data/resistant/sample36/cell302': 0.22244471378370625, '/home/ubuntu/data/resistant/sample36/cell303': 0.3471590615498126, '/home/ubuntu/data/resistant/sample36/cell304': 0.3611420795072451, '/home/ubuntu/data/resistant/sample36/cell306': 0.31131308725711965, '/home/ubuntu/data/resistant/sample36/cell307': 0.13496954387336926, '/home/ubuntu/data/resistant/sample36/cell308': 0.30891376492323114, '/home/ubuntu/data/resistant/sample36/cell309': 0.44265413860991976, '/home/ubuntu/data/resistant/sample36/cell310': 0.2262712675722948, '/home/ubuntu/data/resistant/sample36/cell311': 0.2583492262233954, '/home/ubuntu/data/resistant/sample36/cell312': 0.18156773836797616, '/home/ubuntu/data/resistant/sample36/cell313': 0.27675008008350604, '/home/ubuntu/data/resistant/sample36/cell314': 0.20301602144766595, '/home/ubuntu/data/resistant/sample36/cell315': 0.3438252586690009, '/home/ubuntu/data/resistant/sample36/cell317': 0.4256317559802939, '/home/ubuntu/data/resistant/sample36/cell318': 0.2782909502520701, '/home/ubuntu/data/resistant/sample36/cell319': 0.3676220163531832, '/home/ubuntu/data/resistant/sample36/cell320': 0.3635034433964801, '/home/ubuntu/data/resistant/sample36/cell322': 0.2444810217052284, '/home/ubuntu/data/resistant/sample36/cell323': 0.2940498358311852, '/home/ubuntu/data/resistant/sample36/cell325': 0.2502062706748289, '/home/ubuntu/data/resistant/sample36/cell326': 0.2603584715001915, '/home/ubuntu/data/resistant/sample36/cell328': 0.3123269446035198, '/home/ubuntu/data/resistant/sample36/cell329': 0.2387874922907877, '/home/ubuntu/data/resistant/sample36/cell330': 0.37613100199840704, '/home/ubuntu/data/resistant/sample36/cell331': 0.22664434288279955, '/home/ubuntu/data/resistant/sample36/cell332': 0.24724489394083424, '/home/ubuntu/data/resistant/sample36/cell333': 0.3487481756270747, '/home/ubuntu/data/resistant/sample42/cell056': 0.05469099414345, '/home/ubuntu/data/resistant/sample42/cell061': 0.20156173904492936, '/home/ubuntu/data/resistant/sample42/cell062': 0.18911799421040834, '/home/ubuntu/data/resistant/sample42/cell063': 0.4727155348067351, '/home/ubuntu/data/resistant/sample42/cell064': 0.22181470401055176, '/home/ubuntu/data/resistant/sample42/cell065': 0.22821818253531184, '/home/ubuntu/data/resistant/sample42/cell066': 0.26462753896659297, '/home/ubuntu/data/resistant/sample42/cell067': 0.3206022747894903, '/home/ubuntu/data/resistant/sample42/cell068': 0.09000598072452454, '/home/ubuntu/data/resistant/sample42/cell070': 0.3289627267744938, '/home/ubuntu/data/resistant/sample42/cell071': 0.3046807444339619, '/home/ubuntu/data/resistant/sample42/cell072': 0.2313058389611731, '/home/ubuntu/data/resistant/sample42/cell073': 0.3234672707186679, '/home/ubuntu/data/resistant/sample42/cell074': 0.11852094438819916, '/home/ubuntu/data/resistant/sample42/cell075': 0.2453909112159849, '/home/ubuntu/data/resistant/sample42/cell076': 0.28394922904407444, '/home/ubuntu/data/resistant/sample42/cell078': 0.3538148469145501, '/home/ubuntu/data/resistant/sample42/cell079': 0.3165545291035687, '/home/ubuntu/data/resistant/sample42/cell080': 0.35605449868144723, '/home/ubuntu/data/resistant/sample42/cell082': 0.2866018184962102, '/home/ubuntu/data/resistant/sample42/cell083': 0.2822021326644669, '/home/ubuntu/data/resistant/sample42/cell084': 0.1152999927081288, '/home/ubuntu/data/resistant/sample42/cell085': 0.3974155554734694, '/home/ubuntu/data/resistant/sample42/cell087': 0.3046369470949741, '/home/ubuntu/data/resistant/sample42/cell088': 0.3316728906925888, '/home/ubuntu/data/resistant/sample42/cell091': 0.24880049445451585, '/home/ubuntu/data/resistant/sample42/cell093': 0.2802449304618626, '/home/ubuntu/data/resistant/sample42/cell094': 0.486555118173497, '/home/ubuntu/data/resistant/sample42/cell095': 0.3475047052046081, '/home/ubuntu/data/resistant/sample42/cell097': 0.29998470109363873, '/home/ubuntu/data/resistant/sample42/cell098': 0.08043896214567432, '/home/ubuntu/data/resistant/sample42/cell099': 0.28620323845875184, '/home/ubuntu/data/resistant/sample42/cell100': 0.10901037425529468, '/home/ubuntu/data/resistant/sample42/cell101': 0.1980499568938866, '/home/ubuntu/data/resistant/sample42/cell102': 0.24407538403739745, '/home/ubuntu/data/resistant/sample42/cell103': 0.29179381506977903, '/home/ubuntu/data/resistant/sample42/cell104': 0.11083533784147072, '/home/ubuntu/data/resistant/sample42/cell105': 0.24395435342657584, '/home/ubuntu/data/resistant/sample42/cell106': 0.17403360448525593, '/home/ubuntu/data/resistant/sample42/cell107': 0.173838817832891, '/home/ubuntu/data/resistant/sample42/cell108': 0.2441877402956197, '/home/ubuntu/data/resistant/sample42/cell109': 0.0863897522900487, '/home/ubuntu/data/resistant/sample42/cell110': 0.17315377935743725, '/home/ubuntu/data/resistant/sample42/cell111': 0.3555116227975092, '/home/ubuntu/data/resistant/sample42/cell112': 0.286019243403989, '/home/ubuntu/data/resistant/sample42/cell113': 0.1880286413789037, '/home/ubuntu/data/resistant/sample42/cell114': 0.2420694648557044, '/home/ubuntu/data/resistant/sample42/cell116': 0.25920608570949977, '/home/ubuntu/data/resistant/sample42/cell117': 0.2369787157682889, '/home/ubuntu/data/resistant/sample42/cell118': 0.2772682556903857, '/home/ubuntu/data/resistant/sample42/cell119': 0.1636178660836554, '/home/ubuntu/data/resistant/sample34/cell168': 0.3861005809093216, '/home/ubuntu/data/resistant/sample34/cell169': 0.2928372121823002, '/home/ubuntu/data/resistant/sample34/cell170': 0.3093125921799126, '/home/ubuntu/data/resistant/sample34/cell171': 0.2038861263181974, '/home/ubuntu/data/resistant/sample34/cell172': 0.25469742384962, '/home/ubuntu/data/resistant/sample34/cell173': 0.5908612350931245, '/home/ubuntu/data/resistant/sample34/cell174': 0.195453287782986, '/home/ubuntu/data/resistant/sample34/cell175': 0.36581351647028704, '/home/ubuntu/data/resistant/sample34/cell177': 0.4811578155966381, '/home/ubuntu/data/resistant/sample34/cell178': 0.4279401331148806, '/home/ubuntu/data/resistant/sample34/cell180': 0.2381968360250445, '/home/ubuntu/data/resistant/sample34/cell181': 0.3704717652204257, '/home/ubuntu/data/resistant/sample34/cell182': 0.14807110044439822, '/home/ubuntu/data/resistant/sample34/cell183': 0.3748525674805254, '/home/ubuntu/data/resistant/sample34/cell184': 0.5837343043099938, '/home/ubuntu/data/resistant/sample34/cell186': 0.4884679319220082, '/home/ubuntu/data/resistant/sample34/cell187': 0.4613492039336741, '/home/ubuntu/data/resistant/sample34/cell190': 0.20741442159821374, '/home/ubuntu/data/resistant/sample34/cell191': 0.32829996917862825, '/home/ubuntu/data/resistant/sample34/cell192': 0.4540235069285469, '/home/ubuntu/data/resistant/sample34/cell193': 0.21876762430460356, '/home/ubuntu/data/resistant/sample34/cell194': 0.4300487858732679, '/home/ubuntu/data/resistant/sample34/cell195': 0.1976744192530706, '/home/ubuntu/data/resistant/sample34/cell196': 0.38660794171180607, '/home/ubuntu/data/resistant/sample34/cell197': 0.2967568281249192, '/home/ubuntu/data/resistant/sample34/cell198': 0.2953036037687897, '/home/ubuntu/data/resistant/sample34/cell199': 0.5213639907762477, '/home/ubuntu/data/resistant/sample34/cell200': 0.4215659790103683, '/home/ubuntu/data/resistant/sample34/cell201': 0.2935868101988353, '/home/ubuntu/data/resistant/sample34/cell203': 0.13839156740955402, '/home/ubuntu/data/resistant/sample34/cell204': 0.3123132710565677, '/home/ubuntu/data/resistant/sample34/cell205': 0.15364619292218054, '/home/ubuntu/data/resistant/sample34/cell206': 0.19469185453466725, '/home/ubuntu/data/resistant/sample34/cell207': 0.4344429734936863, '/home/ubuntu/data/resistant/sample34/cell208': 0.23680324762768426, '/home/ubuntu/data/resistant/sample34/cell209': 0.2331171021033901, '/home/ubuntu/data/resistant/sample34/cell210': 0.4186986650908922, '/home/ubuntu/data/resistant/sample34/cell211': 0.4384082567187935, '/home/ubuntu/data/resistant/sample34/cell212': 0.2231903534222657, '/home/ubuntu/data/resistant/sample34/cell213': 0.3129837904230288, '/home/ubuntu/data/resistant/sample34/cell214': 0.4353769282205455, '/home/ubuntu/data/resistant/sample34/cell215': 0.5142658681700696, '/home/ubuntu/data/resistant/sample34/cell216': 0.3377291857661131, '/home/ubuntu/data/resistant/sample34/cell217': 0.17398336251942514, '/home/ubuntu/data/resistant/sample34/cell218': 0.1874542878083605, '/home/ubuntu/data/resistant/sample34/cell219': 0.3909935655245994, '/home/ubuntu/data/resistant/sample34/cell220': 0.3775069887121606, '/home/ubuntu/data/resistant/sample34/cell223': 0.1847610935208406, '/home/ubuntu/data/resistant/sample34/cell224': 0.3717789453579425, '/home/ubuntu/data/resistant/sample34/cell225': 0.4908300432483077, '/home/ubuntu/data/resistant/sample34/cell226': 0.1162588912369669, '/home/ubuntu/data/resistant/sample24/cell167': 0.4114542205213805, '/home/ubuntu/data/resistant/sample24/cell168': 0.4775952360847195, '/home/ubuntu/data/resistant/sample24/cell169': 0.5668600688158371, '/home/ubuntu/data/resistant/sample24/cell170': 0.3786834334811673, '/home/ubuntu/data/resistant/sample24/cell171': 0.5243698143707864, '/home/ubuntu/data/resistant/sample24/cell172': 0.4663511412424994, '/home/ubuntu/data/resistant/sample24/cell173': 0.3747844828179658, '/home/ubuntu/data/resistant/sample24/cell174': 0.5632208500611131, '/home/ubuntu/data/resistant/sample24/cell175': 0.32618859941113604, '/home/ubuntu/data/resistant/sample24/cell176': 0.435249007305618, '/home/ubuntu/data/resistant/sample24/cell177': 0.1734864149386196, '/home/ubuntu/data/resistant/sample24/cell178': 0.37337268213664215, '/home/ubuntu/data/resistant/sample24/cell179': 0.4862067852921663, '/home/ubuntu/data/resistant/sample24/cell180': 0.42747526097015376, '/home/ubuntu/data/resistant/sample24/cell181': 0.4985453016161448, '/home/ubuntu/data/resistant/sample24/cell182': 0.37319623524957307, '/home/ubuntu/data/resistant/sample24/cell183': 0.4691622030673296, '/home/ubuntu/data/resistant/sample24/cell184': 0.4160173768457514, '/home/ubuntu/data/resistant/sample24/cell185': 0.49858695786426904, '/home/ubuntu/data/resistant/sample24/cell186': 0.4080788978986274, '/home/ubuntu/data/resistant/sample24/cell187': 0.27504365903859834, '/home/ubuntu/data/resistant/sample24/cell188': 0.3636278672774862, '/home/ubuntu/data/resistant/sample24/cell189': 0.4780625492922962, '/home/ubuntu/data/resistant/sample24/cell190': 0.34732956369401474, '/home/ubuntu/data/resistant/sample24/cell191': 0.3966638402242256, '/home/ubuntu/data/resistant/sample24/cell193': 0.5038309738643485, '/home/ubuntu/data/resistant/sample24/cell194': 0.301031135008041, '/home/ubuntu/data/resistant/sample24/cell195': 0.5116695408180174, '/home/ubuntu/data/resistant/sample24/cell196': 0.4930865856068984, '/home/ubuntu/data/resistant/sample24/cell197': 0.4798394216102534, '/home/ubuntu/data/resistant/sample24/cell198': 0.11714802895278027, '/home/ubuntu/data/resistant/sample24/cell199': 0.2820849992668211, '/home/ubuntu/data/resistant/sample24/cell200': 0.4099155925036282, '/home/ubuntu/data/resistant/sample24/cell201': 0.4470847611136781, '/home/ubuntu/data/resistant/sample24/cell202': 0.40857506183564696, '/home/ubuntu/data/resistant/sample24/cell203': 0.3268861981961302, '/home/ubuntu/data/resistant/sample24/cell206': 0.4736422368886667, '/home/ubuntu/data/resistant/sample24/cell207': 0.32711286081780755, '/home/ubuntu/data/resistant/sample24/cell208': 0.58477259019742, '/home/ubuntu/data/resistant/sample24/cell209': 0.37822196908920896, '/home/ubuntu/data/resistant/sample24/cell210': 0.5184206228508246, '/home/ubuntu/data/resistant/sample24/cell211': 0.5406365045680384, '/home/ubuntu/data/resistant/sample24/cell212': 0.2766051516758999, '/home/ubuntu/data/resistant/sample24/cell213': 0.3354858816425317, '/home/ubuntu/data/resistant/sample24/cell214': 0.5093720278937374, '/home/ubuntu/data/resistant/sample24/cell215': 0.27134633024669985, '/home/ubuntu/data/resistant/sample24/cell216': 0.4803453913700095, '/home/ubuntu/data/resistant/sample24/cell217': 0.3878094709786026, '/home/ubuntu/data/resistant/sample24/cell218': 0.3349809692839355, '/home/ubuntu/data/resistant/sample24/cell219': 0.134918637089836, '/home/ubuntu/data/resistant/sample24/cell220': 0.34282421658911616, '/home/ubuntu/data/resistant/sample28/cell330': 0.4628986147675282, '/home/ubuntu/data/resistant/sample28/cell331': 0.30614475991817724, '/home/ubuntu/data/resistant/sample28/cell332': 0.4448539446283706, '/home/ubuntu/data/resistant/sample28/cell333': 0.4161752280862202, '/home/ubuntu/data/resistant/sample28/cell334': 0.3542776849939844, '/home/ubuntu/data/resistant/sample28/cell335': 0.2830690607245587, '/home/ubuntu/data/resistant/sample28/cell336': 0.2531948574717713, '/home/ubuntu/data/resistant/sample28/cell337': 0.4865584086525467, '/home/ubuntu/data/resistant/sample28/cell338': 0.31248673683847705, '/home/ubuntu/data/resistant/sample28/cell339': 0.5555522526310709, '/home/ubuntu/data/resistant/sample28/cell340': 0.3168566316723893, '/home/ubuntu/data/resistant/sample28/cell341': 0.3517720461166303, '/home/ubuntu/data/resistant/sample28/cell343': 0.4699365822897301, '/home/ubuntu/data/resistant/sample28/cell345': 0.2683543380016593, '/home/ubuntu/data/resistant/sample28/cell346': 0.4391378071524363, '/home/ubuntu/data/resistant/sample28/cell347': 0.307513704925299, '/home/ubuntu/data/resistant/sample28/cell348': 0.4824755222181025, '/home/ubuntu/data/resistant/sample28/cell349': 0.33350635688521485, '/home/ubuntu/data/resistant/sample28/cell350': 0.4971897993358225, '/home/ubuntu/data/resistant/sample28/cell351': 0.17093615191323214, '/home/ubuntu/data/resistant/sample28/cell352': 0.4515070057850557, '/home/ubuntu/data/resistant/sample28/cell353': 0.4003330500226076, '/home/ubuntu/data/resistant/sample28/cell354': 0.3533716407905676, '/home/ubuntu/data/resistant/sample28/cell355': 0.2763193513251271, '/home/ubuntu/data/resistant/sample28/cell356': 0.2987820394420665, '/home/ubuntu/data/resistant/sample28/cell357': 0.2400555590294732, '/home/ubuntu/data/resistant/sample28/cell358': 0.32141588322898124, '/home/ubuntu/data/resistant/sample28/cell359': 0.301859368256214, '/home/ubuntu/data/resistant/sample28/cell360': 0.28377713992258113, '/home/ubuntu/data/resistant/sample28/cell361': 0.4558436269123665, '/home/ubuntu/data/resistant/sample28/cell362': 0.4683443289774009, '/home/ubuntu/data/resistant/sample28/cell363': 0.4464924273876388, '/home/ubuntu/data/resistant/sample28/cell364': 0.2440412532104448, '/home/ubuntu/data/resistant/sample28/cell365': 0.35009694951441755, '/home/ubuntu/data/resistant/sample28/cell367': 0.29048395359688783, '/home/ubuntu/data/resistant/sample28/cell368': 0.42498249153643497, '/home/ubuntu/data/resistant/sample28/cell369': 0.3797083780500851, '/home/ubuntu/data/resistant/sample28/cell370': 0.15531685182314986, '/home/ubuntu/data/resistant/sample28/cell371': 0.3682316456182552, '/home/ubuntu/data/resistant/sample28/cell372': 0.3307167010853555, '/home/ubuntu/data/resistant/sample28/cell373': 0.430582692015188, '/home/ubuntu/data/resistant/sample28/cell374': 0.4330301513516552, '/home/ubuntu/data/resistant/sample28/cell375': 0.3435790010382714, '/home/ubuntu/data/resistant/sample28/cell376': 0.37737314772378383, '/home/ubuntu/data/resistant/sample28/cell377': 0.2480168959712735, '/home/ubuntu/data/resistant/sample28/cell378': 0.3898211059661817, '/home/ubuntu/data/resistant/sample28/cell379': 0.3535479143759408, '/home/ubuntu/data/resistant/sample28/cell380': 0.4151526139851267, '/home/ubuntu/data/resistant/sample28/cell381': 0.27582185558268923, '/home/ubuntu/data/resistant/sample28/cell382': 0.4196012569362637, '/home/ubuntu/data/resistant/sample28/cell383': 0.5298288780551745}\n",
      "{'/home/ubuntu/data/susceptible/sample44/cell171': 0.4144275813313011, '/home/ubuntu/data/susceptible/sample44/cell172': 0.3798702449064397, '/home/ubuntu/data/susceptible/sample44/cell173': 0.5216461222891586, '/home/ubuntu/data/susceptible/sample44/cell174': 0.4013965073882664, '/home/ubuntu/data/susceptible/sample44/cell175': 0.22294871138513134, '/home/ubuntu/data/susceptible/sample44/cell176': 0.5213106688039919, '/home/ubuntu/data/susceptible/sample44/cell177': 0.21885771260958525, '/home/ubuntu/data/susceptible/sample44/cell178': 0.4848568220111976, '/home/ubuntu/data/susceptible/sample44/cell179': 0.4216718300781037, '/home/ubuntu/data/susceptible/sample44/cell180': 0.4004133401271468, '/home/ubuntu/data/susceptible/sample44/cell181': 0.2801502922089095, '/home/ubuntu/data/susceptible/sample44/cell182': 0.4982450701492645, '/home/ubuntu/data/susceptible/sample44/cell183': 0.40605900381798776, '/home/ubuntu/data/susceptible/sample44/cell184': 0.5335063239184551, '/home/ubuntu/data/susceptible/sample44/cell185': 0.5005660432084258, '/home/ubuntu/data/susceptible/sample44/cell186': 0.4923785044123881, '/home/ubuntu/data/susceptible/sample44/cell187': 0.5114680049297223, '/home/ubuntu/data/susceptible/sample44/cell188': 0.4486978946295392, '/home/ubuntu/data/susceptible/sample44/cell189': 0.5025704096613839, '/home/ubuntu/data/susceptible/sample44/cell190': 0.474763967302125, '/home/ubuntu/data/susceptible/sample44/cell191': 0.4407219446207684, '/home/ubuntu/data/susceptible/sample44/cell192': 0.4990170916636093, '/home/ubuntu/data/susceptible/sample44/cell193': 0.6354576605428621, '/home/ubuntu/data/susceptible/sample44/cell194': 0.3520893545650904, '/home/ubuntu/data/susceptible/sample44/cell195': 0.3029410978722927, '/home/ubuntu/data/susceptible/sample44/cell196': 0.4649815457129911, '/home/ubuntu/data/susceptible/sample44/cell197': 0.4519243677128218, '/home/ubuntu/data/susceptible/sample44/cell198': 0.4401777202779492, '/home/ubuntu/data/susceptible/sample44/cell199': 0.5264410888996852, '/home/ubuntu/data/susceptible/sample44/cell200': 0.4473047394430887, '/home/ubuntu/data/susceptible/sample44/cell201': 0.4028172304274885, '/home/ubuntu/data/susceptible/sample44/cell202': 0.27724991516430986, '/home/ubuntu/data/susceptible/sample44/cell203': 0.4050819319415364, '/home/ubuntu/data/susceptible/sample44/cell204': 0.4786911673737958, '/home/ubuntu/data/susceptible/sample44/cell205': 0.34831986319123104, '/home/ubuntu/data/susceptible/sample44/cell206': 0.2118016677011424, '/home/ubuntu/data/susceptible/sample44/cell207': 0.2640306007823308, '/home/ubuntu/data/susceptible/sample44/cell208': 0.4899378326769017, '/home/ubuntu/data/susceptible/sample44/cell209': 0.5735590604369096, '/home/ubuntu/data/susceptible/sample44/cell210': 0.5479875304212836, '/home/ubuntu/data/susceptible/sample44/cell211': 0.38716383238716295, '/home/ubuntu/data/susceptible/sample44/cell212': 0.4416905408069551, '/home/ubuntu/data/susceptible/sample44/cell213': 0.5821671767389189, '/home/ubuntu/data/susceptible/sample44/cell214': 0.14659034857815662, '/home/ubuntu/data/susceptible/sample44/cell215': 0.5733986156050905, '/home/ubuntu/data/susceptible/sample44/cell216': 0.4576116459149046, '/home/ubuntu/data/susceptible/sample44/cell217': 0.4392999619016184, '/home/ubuntu/data/susceptible/sample44/cell218': 0.5600583062049724, '/home/ubuntu/data/susceptible/sample44/cell219': 0.3102359506103781, '/home/ubuntu/data/susceptible/sample44/cell220': 0.496537074393991, '/home/ubuntu/data/susceptible/sample44/cell221': 0.5033788858623691, '/home/ubuntu/data/susceptible/sample46/cell274': 0.5002563446071717, '/home/ubuntu/data/susceptible/sample46/cell275': 0.1672014177319072, '/home/ubuntu/data/susceptible/sample46/cell276': 0.20649042501854806, '/home/ubuntu/data/susceptible/sample46/cell277': 0.20332228396390392, '/home/ubuntu/data/susceptible/sample46/cell278': 0.4160057531472405, '/home/ubuntu/data/susceptible/sample46/cell279': 0.5144690734595176, '/home/ubuntu/data/susceptible/sample46/cell280': 0.09968071469030833, '/home/ubuntu/data/susceptible/sample46/cell281': 0.06261670094830525, '/home/ubuntu/data/susceptible/sample46/cell282': 0.06802155789084363, '/home/ubuntu/data/susceptible/sample46/cell283': 0.5069421266068724, '/home/ubuntu/data/susceptible/sample46/cell284': 0.04583242901047081, '/home/ubuntu/data/susceptible/sample46/cell286': 0.12365375596896472, '/home/ubuntu/data/susceptible/sample46/cell287': 0.1345711241615081, '/home/ubuntu/data/susceptible/sample46/cell289': 0.08558715643386804, '/home/ubuntu/data/susceptible/sample46/cell290': 0.06458312258704038, '/home/ubuntu/data/susceptible/sample46/cell291': 0.31479436374985, '/home/ubuntu/data/susceptible/sample46/cell292': 0.05210823206189679, '/home/ubuntu/data/susceptible/sample46/cell293': 0.06929149289574793, '/home/ubuntu/data/susceptible/sample46/cell294': 0.05091303607301356, '/home/ubuntu/data/susceptible/sample46/cell295': 0.06615362658235119, '/home/ubuntu/data/susceptible/sample46/cell296': 0.05203415726884363, '/home/ubuntu/data/susceptible/sample46/cell297': 0.049024359416408515, '/home/ubuntu/data/susceptible/sample46/cell298': 0.08027953532933263, '/home/ubuntu/data/susceptible/sample46/cell299': 0.07931024335958685, '/home/ubuntu/data/susceptible/sample46/cell300': 0.08589326505252716, '/home/ubuntu/data/susceptible/sample46/cell301': 0.12412743229416005, '/home/ubuntu/data/susceptible/sample46/cell302': 0.06030548726868998, '/home/ubuntu/data/susceptible/sample46/cell303': 0.2577114851434157, '/home/ubuntu/data/susceptible/sample46/cell304': 0.13097960246071888, '/home/ubuntu/data/susceptible/sample46/cell305': 0.07248785258292655, '/home/ubuntu/data/susceptible/sample46/cell306': 0.06473046429263205, '/home/ubuntu/data/susceptible/sample46/cell307': 0.050892454138787936, '/home/ubuntu/data/susceptible/sample46/cell308': 0.4625041135798441, '/home/ubuntu/data/susceptible/sample46/cell309': 0.6030787296551594, '/home/ubuntu/data/susceptible/sample46/cell310': 0.4893580411640913, '/home/ubuntu/data/susceptible/sample46/cell311': 0.2520798135228268, '/home/ubuntu/data/susceptible/sample46/cell312': 0.4779271697686373, '/home/ubuntu/data/susceptible/sample46/cell313': 0.2942459317399906, '/home/ubuntu/data/susceptible/sample46/cell314': 0.6112102500522374, '/home/ubuntu/data/susceptible/sample46/cell315': 0.21049176414598256, '/home/ubuntu/data/susceptible/sample46/cell316': 0.08186968968110071, '/home/ubuntu/data/susceptible/sample46/cell317': 0.4846236127704813, '/home/ubuntu/data/susceptible/sample46/cell319': 0.1014138334676313, '/home/ubuntu/data/susceptible/sample46/cell320': 0.5020677004071502, '/home/ubuntu/data/susceptible/sample46/cell321': 0.3660099298248942, '/home/ubuntu/data/susceptible/sample46/cell322': 0.566386350450094, '/home/ubuntu/data/susceptible/sample46/cell323': 0.06103031734944615, '/home/ubuntu/data/susceptible/sample46/cell324': 0.09570664957157836, '/home/ubuntu/data/susceptible/sample46/cell325': 0.3758418471566749, '/home/ubuntu/data/susceptible/sample46/cell326': 0.5374289757399369, '/home/ubuntu/data/susceptible/sample46/cell327': 0.1212067578150242, '/home/ubuntu/data/susceptible/sample15/cell220': 0.09771730429574564, '/home/ubuntu/data/susceptible/sample15/cell221': 0.3511036814107729, '/home/ubuntu/data/susceptible/sample15/cell223': 0.6325728700425205, '/home/ubuntu/data/susceptible/sample15/cell224': 0.5717553466198615, '/home/ubuntu/data/susceptible/sample15/cell225': 0.5003197672913036, '/home/ubuntu/data/susceptible/sample15/cell226': 0.5705918503778703, '/home/ubuntu/data/susceptible/sample15/cell227': 0.2885150408192596, '/home/ubuntu/data/susceptible/sample15/cell228': 0.4636292094620078, '/home/ubuntu/data/susceptible/sample15/cell229': 0.4682305698444331, '/home/ubuntu/data/susceptible/sample15/cell231': 0.527678844983879, '/home/ubuntu/data/susceptible/sample15/cell232': 0.2534949974935755, '/home/ubuntu/data/susceptible/sample15/cell233': 0.29487119964927644, '/home/ubuntu/data/susceptible/sample15/cell234': 0.4828868587954097, '/home/ubuntu/data/susceptible/sample15/cell236': 0.5532706294194399, '/home/ubuntu/data/susceptible/sample15/cell237': 0.3005429753013835, '/home/ubuntu/data/susceptible/sample15/cell238': 0.5984824765201899, '/home/ubuntu/data/susceptible/sample15/cell239': 0.5555461265060926, '/home/ubuntu/data/susceptible/sample15/cell240': 0.598267699287856, '/home/ubuntu/data/susceptible/sample15/cell241': 0.4068663608458971, '/home/ubuntu/data/susceptible/sample15/cell242': 0.3880861436372756, '/home/ubuntu/data/susceptible/sample15/cell243': 0.28524061642789506, '/home/ubuntu/data/susceptible/sample15/cell244': 0.4848663447982116, '/home/ubuntu/data/susceptible/sample15/cell245': 0.5837889339991378, '/home/ubuntu/data/susceptible/sample15/cell247': 0.4333110685132204, '/home/ubuntu/data/susceptible/sample15/cell248': 0.3802390352589232, '/home/ubuntu/data/susceptible/sample15/cell249': 0.4518956232517702, '/home/ubuntu/data/susceptible/sample15/cell250': 0.5862292241844145, '/home/ubuntu/data/susceptible/sample15/cell251': 0.4607428604705789, '/home/ubuntu/data/susceptible/sample15/cell252': 0.4377482756112193, '/home/ubuntu/data/susceptible/sample15/cell253': 0.5691950718936746, '/home/ubuntu/data/susceptible/sample15/cell255': 0.5205184396943684, '/home/ubuntu/data/susceptible/sample15/cell256': 0.5031687261957134, '/home/ubuntu/data/susceptible/sample15/cell257': 0.5395854276668717, '/home/ubuntu/data/susceptible/sample15/cell258': 0.5816306953590189, '/home/ubuntu/data/susceptible/sample15/cell260': 0.6189771516507269, '/home/ubuntu/data/susceptible/sample15/cell262': 0.396343698633614, '/home/ubuntu/data/susceptible/sample15/cell263': 0.4477775053209352, '/home/ubuntu/data/susceptible/sample15/cell264': 0.4653298385979785, '/home/ubuntu/data/susceptible/sample15/cell265': 0.5252627380576274, '/home/ubuntu/data/susceptible/sample15/cell266': 0.4123181521160887, '/home/ubuntu/data/susceptible/sample15/cell267': 0.5499624180970335, '/home/ubuntu/data/susceptible/sample15/cell268': 0.4281448827238215, '/home/ubuntu/data/susceptible/sample15/cell269': 0.5102727500404184, '/home/ubuntu/data/susceptible/sample15/cell270': 0.2984113393626761, '/home/ubuntu/data/susceptible/sample15/cell271': 0.5484148120692677, '/home/ubuntu/data/susceptible/sample22/cell053': 0.4549598370053148, '/home/ubuntu/data/susceptible/sample22/cell055': 0.3935323283958056, '/home/ubuntu/data/susceptible/sample22/cell056': 0.3644051439282229, '/home/ubuntu/data/susceptible/sample22/cell057': 0.5558225061297476, '/home/ubuntu/data/susceptible/sample22/cell058': 0.4185700634074727, '/home/ubuntu/data/susceptible/sample22/cell059': 0.20059921552909685, '/home/ubuntu/data/susceptible/sample22/cell060': 0.4566063027606354, '/home/ubuntu/data/susceptible/sample22/cell061': 0.5241945458429281, '/home/ubuntu/data/susceptible/sample22/cell062': 0.537099081984461, '/home/ubuntu/data/susceptible/sample22/cell063': 0.4092851466758689, '/home/ubuntu/data/susceptible/sample22/cell064': 0.4343804664737043, '/home/ubuntu/data/susceptible/sample22/cell065': 0.2508046006894996, '/home/ubuntu/data/susceptible/sample22/cell066': 0.5278536104506517, '/home/ubuntu/data/susceptible/sample22/cell067': 0.4644546330128886, '/home/ubuntu/data/susceptible/sample22/cell068': 0.5276006710309937, '/home/ubuntu/data/susceptible/sample22/cell069': 0.4432069175199345, '/home/ubuntu/data/susceptible/sample22/cell070': 0.5166684135088285, '/home/ubuntu/data/susceptible/sample22/cell071': 0.4851411496214322, '/home/ubuntu/data/susceptible/sample22/cell072': 0.5484833217098656, '/home/ubuntu/data/susceptible/sample22/cell073': 0.5405273879546773, '/home/ubuntu/data/susceptible/sample22/cell074': 0.4802719803241519, '/home/ubuntu/data/susceptible/sample22/cell075': 0.5571126257657332, '/home/ubuntu/data/susceptible/sample22/cell076': 0.4703665470844968, '/home/ubuntu/data/susceptible/sample22/cell077': 0.4822239928204173, '/home/ubuntu/data/susceptible/sample22/cell078': 0.3633179976656579, '/home/ubuntu/data/susceptible/sample22/cell079': 0.4772530389193615, '/home/ubuntu/data/susceptible/sample22/cell080': 0.4141165850562786, '/home/ubuntu/data/susceptible/sample22/cell081': 0.5198966515656346, '/home/ubuntu/data/susceptible/sample22/cell082': 0.5711653206040702, '/home/ubuntu/data/susceptible/sample22/cell083': 0.4740613758552721, '/home/ubuntu/data/susceptible/sample22/cell084': 0.5553889164868326, '/home/ubuntu/data/susceptible/sample22/cell085': 0.5292236654968673, '/home/ubuntu/data/susceptible/sample22/cell086': 0.5978927955076071, '/home/ubuntu/data/susceptible/sample22/cell087': 0.4793339042617839, '/home/ubuntu/data/susceptible/sample22/cell088': 0.4952876275307445, '/home/ubuntu/data/susceptible/sample22/cell089': 0.5764542963672974, '/home/ubuntu/data/susceptible/sample22/cell090': 0.4974788986066423, '/home/ubuntu/data/susceptible/sample22/cell091': 0.5965104167521049, '/home/ubuntu/data/susceptible/sample22/cell093': 0.5172539464295917, '/home/ubuntu/data/susceptible/sample22/cell094': 0.4979462508516786, '/home/ubuntu/data/susceptible/sample22/cell095': 0.4651109681872235, '/home/ubuntu/data/susceptible/sample22/cell096': 0.4557472085072452, '/home/ubuntu/data/susceptible/sample22/cell097': 0.6250094099853963, '/home/ubuntu/data/susceptible/sample22/cell098': 0.5350107133644009, '/home/ubuntu/data/susceptible/sample22/cell100': 0.3657699488974915, '/home/ubuntu/data/susceptible/sample22/cell101': 0.4421488904249631, '/home/ubuntu/data/susceptible/sample22/cell102': 0.2883319684668471, '/home/ubuntu/data/susceptible/sample22/cell103': 0.5060314373924474, '/home/ubuntu/data/susceptible/sample22/cell104': 0.5685444497205113, '/home/ubuntu/data/susceptible/sample22/cell105': 0.4615268080665901, '/home/ubuntu/data/susceptible/sample22/cell106': 0.5772815136551941, '/home/ubuntu/data/susceptible/sample25/cell221': 0.4743955846879974, '/home/ubuntu/data/susceptible/sample25/cell222': 0.6165401977396969, '/home/ubuntu/data/susceptible/sample25/cell223': 0.46506841830778894, '/home/ubuntu/data/susceptible/sample25/cell224': 0.4811811934597612, '/home/ubuntu/data/susceptible/sample25/cell225': 0.6325004062008266, '/home/ubuntu/data/susceptible/sample25/cell226': 0.4428625767918781, '/home/ubuntu/data/susceptible/sample25/cell227': 0.4010486248813694, '/home/ubuntu/data/susceptible/sample25/cell228': 0.4825764846172075, '/home/ubuntu/data/susceptible/sample25/cell229': 0.4412767952353061, '/home/ubuntu/data/susceptible/sample25/cell230': 0.4625548555755858, '/home/ubuntu/data/susceptible/sample25/cell231': 0.5461083440668161, '/home/ubuntu/data/susceptible/sample25/cell232': 0.5010366217927894, '/home/ubuntu/data/susceptible/sample25/cell233': 0.6000390777760809, '/home/ubuntu/data/susceptible/sample25/cell234': 0.5156158594169976, '/home/ubuntu/data/susceptible/sample25/cell235': 0.461371407250419, '/home/ubuntu/data/susceptible/sample25/cell236': 0.4411017029774029, '/home/ubuntu/data/susceptible/sample25/cell237': 0.2515117794003961, '/home/ubuntu/data/susceptible/sample25/cell238': 0.4729063867733718, '/home/ubuntu/data/susceptible/sample25/cell240': 0.5624360875557579, '/home/ubuntu/data/susceptible/sample25/cell241': 0.4535065141290281, '/home/ubuntu/data/susceptible/sample25/cell243': 0.5780079251195248, '/home/ubuntu/data/susceptible/sample25/cell244': 0.4199044074068064, '/home/ubuntu/data/susceptible/sample25/cell245': 0.4317436484676985, '/home/ubuntu/data/susceptible/sample25/cell246': 0.5238999089268278, '/home/ubuntu/data/susceptible/sample25/cell247': 0.5481143506194991, '/home/ubuntu/data/susceptible/sample25/cell248': 0.5601205143173601, '/home/ubuntu/data/susceptible/sample25/cell249': 0.5692438327961867, '/home/ubuntu/data/susceptible/sample25/cell250': 0.562566357645599, '/home/ubuntu/data/susceptible/sample25/cell251': 0.5850860248334595, '/home/ubuntu/data/susceptible/sample25/cell252': 0.4071385627542336, '/home/ubuntu/data/susceptible/sample25/cell253': 0.4450707448426427, '/home/ubuntu/data/susceptible/sample25/cell254': 0.5307460447011172, '/home/ubuntu/data/susceptible/sample25/cell255': 0.4550485761709078, '/home/ubuntu/data/susceptible/sample25/cell256': 0.6092678651284912, '/home/ubuntu/data/susceptible/sample25/cell257': 0.5204509310340556, '/home/ubuntu/data/susceptible/sample25/cell258': 0.5667292556471956, '/home/ubuntu/data/susceptible/sample25/cell259': 0.5101755061619495, '/home/ubuntu/data/susceptible/sample25/cell260': 0.5738614968423406, '/home/ubuntu/data/susceptible/sample25/cell261': 0.5398127798930307, '/home/ubuntu/data/susceptible/sample25/cell262': 0.5395118258024518, '/home/ubuntu/data/susceptible/sample25/cell263': 0.4767258748837698, '/home/ubuntu/data/susceptible/sample25/cell264': 0.557551631763045, '/home/ubuntu/data/susceptible/sample25/cell266': 0.5818237128716872, '/home/ubuntu/data/susceptible/sample25/cell267': 0.6303121951402981, '/home/ubuntu/data/susceptible/sample25/cell268': 0.5553555030982474, '/home/ubuntu/data/susceptible/sample25/cell269': 0.5313905915797974, '/home/ubuntu/data/susceptible/sample25/cell271': 0.478944705854077, '/home/ubuntu/data/susceptible/sample25/cell272': 0.5701515888070486, '/home/ubuntu/data/susceptible/sample25/cell273': 0.5196332973482944, '/home/ubuntu/data/susceptible/sample25/cell274': 0.2510044394257265, '/home/ubuntu/data/susceptible/sample25/cell276': 0.5064596980575611, '/home/ubuntu/data/susceptible/sample25/cell277': 0.3346919014368248, '/home/ubuntu/data/susceptible/sample25/cell278': 0.4820598085125798, '/home/ubuntu/data/susceptible/sample34/cell168': 0.3861005809093216, '/home/ubuntu/data/susceptible/sample34/cell169': 0.2928372121823002, '/home/ubuntu/data/susceptible/sample34/cell170': 0.3093125921799126, '/home/ubuntu/data/susceptible/sample34/cell171': 0.2038861263181974, '/home/ubuntu/data/susceptible/sample34/cell172': 0.25469742384962, '/home/ubuntu/data/susceptible/sample34/cell173': 0.5908612350931245, '/home/ubuntu/data/susceptible/sample34/cell174': 0.195453287782986, '/home/ubuntu/data/susceptible/sample34/cell175': 0.36581351647028704, '/home/ubuntu/data/susceptible/sample34/cell177': 0.4811578155966381, '/home/ubuntu/data/susceptible/sample34/cell178': 0.4279401331148806, '/home/ubuntu/data/susceptible/sample34/cell180': 0.2381968360250445, '/home/ubuntu/data/susceptible/sample34/cell181': 0.3704717652204257, '/home/ubuntu/data/susceptible/sample34/cell182': 0.14807110044439822, '/home/ubuntu/data/susceptible/sample34/cell183': 0.3748525674805254, '/home/ubuntu/data/susceptible/sample34/cell184': 0.5837343043099938, '/home/ubuntu/data/susceptible/sample34/cell186': 0.4884679319220082, '/home/ubuntu/data/susceptible/sample34/cell187': 0.4613492039336741, '/home/ubuntu/data/susceptible/sample34/cell190': 0.20741442159821374, '/home/ubuntu/data/susceptible/sample34/cell191': 0.32829996917862825, '/home/ubuntu/data/susceptible/sample34/cell192': 0.4540235069285469, '/home/ubuntu/data/susceptible/sample34/cell193': 0.21876762430460356, '/home/ubuntu/data/susceptible/sample34/cell194': 0.4300487858732679, '/home/ubuntu/data/susceptible/sample34/cell195': 0.1976744192530706, '/home/ubuntu/data/susceptible/sample34/cell196': 0.38660794171180607, '/home/ubuntu/data/susceptible/sample34/cell197': 0.2967568281249192, '/home/ubuntu/data/susceptible/sample34/cell198': 0.2953036037687897, '/home/ubuntu/data/susceptible/sample34/cell199': 0.5213639907762477, '/home/ubuntu/data/susceptible/sample34/cell200': 0.4215659790103683, '/home/ubuntu/data/susceptible/sample34/cell201': 0.2935868101988353, '/home/ubuntu/data/susceptible/sample34/cell203': 0.13839156740955402, '/home/ubuntu/data/susceptible/sample34/cell204': 0.3123132710565677, '/home/ubuntu/data/susceptible/sample34/cell205': 0.15364619292218054, '/home/ubuntu/data/susceptible/sample34/cell206': 0.19469185453466725, '/home/ubuntu/data/susceptible/sample34/cell207': 0.4344429734936863, '/home/ubuntu/data/susceptible/sample34/cell208': 0.23680324762768426, '/home/ubuntu/data/susceptible/sample34/cell209': 0.2331171021033901, '/home/ubuntu/data/susceptible/sample34/cell210': 0.4186986650908922, '/home/ubuntu/data/susceptible/sample34/cell211': 0.4384082567187935, '/home/ubuntu/data/susceptible/sample34/cell212': 0.2231903534222657, '/home/ubuntu/data/susceptible/sample34/cell213': 0.3129837904230288, '/home/ubuntu/data/susceptible/sample34/cell214': 0.4353769282205455, '/home/ubuntu/data/susceptible/sample34/cell215': 0.5142658681700696, '/home/ubuntu/data/susceptible/sample34/cell216': 0.3377291857661131, '/home/ubuntu/data/susceptible/sample34/cell217': 0.17398336251942514, '/home/ubuntu/data/susceptible/sample34/cell218': 0.1874542878083605, '/home/ubuntu/data/susceptible/sample34/cell219': 0.3909935655245994, '/home/ubuntu/data/susceptible/sample34/cell220': 0.3775069887121606, '/home/ubuntu/data/susceptible/sample34/cell223': 0.1847610935208406, '/home/ubuntu/data/susceptible/sample34/cell224': 0.3717789453579425, '/home/ubuntu/data/susceptible/sample34/cell225': 0.4908300432483077, '/home/ubuntu/data/susceptible/sample34/cell226': 0.1162588912369669, '/home/ubuntu/data/susceptible/sample38/cell392': 0.24682818443216495, '/home/ubuntu/data/susceptible/sample38/cell393': 0.22104391657837494, '/home/ubuntu/data/susceptible/sample38/cell394': 0.11573121838775713, '/home/ubuntu/data/susceptible/sample38/cell396': 0.2301419402593141, '/home/ubuntu/data/susceptible/sample38/cell397': 0.3261220794404208, '/home/ubuntu/data/susceptible/sample38/cell398': 0.16611907029798192, '/home/ubuntu/data/susceptible/sample38/cell399': 0.09251011384816664, '/home/ubuntu/data/susceptible/sample38/cell400': 0.1604780791855476, '/home/ubuntu/data/susceptible/sample38/cell401': 0.13329692625653086, '/home/ubuntu/data/susceptible/sample38/cell402': 0.2907866790047151, '/home/ubuntu/data/susceptible/sample38/cell403': 0.26450851402182823, '/home/ubuntu/data/susceptible/sample38/cell405': 0.19914322065381715, '/home/ubuntu/data/susceptible/sample38/cell406': 0.1295966377729883, '/home/ubuntu/data/susceptible/sample38/cell407': 0.5263350094844323, '/home/ubuntu/data/susceptible/sample38/cell408': 0.28135915015390073, '/home/ubuntu/data/susceptible/sample38/cell409': 0.3309128860770491, '/home/ubuntu/data/susceptible/sample38/cell410': 0.4632378463604712, '/home/ubuntu/data/susceptible/sample38/cell411': 0.2660866719744262, '/home/ubuntu/data/susceptible/sample38/cell413': 0.2678945638591509, '/home/ubuntu/data/susceptible/sample38/cell416': 0.32734928293424914, '/home/ubuntu/data/susceptible/sample38/cell417': 0.35837201109345224, '/home/ubuntu/data/susceptible/sample38/cell418': 0.2834379935242828, '/home/ubuntu/data/susceptible/sample38/cell420': 0.39927806814746736, '/home/ubuntu/data/susceptible/sample38/cell422': 0.14472057125976082, '/home/ubuntu/data/susceptible/sample38/cell423': 0.4507613063596032, '/home/ubuntu/data/susceptible/sample38/cell424': 0.2360700257117782, '/home/ubuntu/data/susceptible/sample38/cell425': 0.10336472747320008, '/home/ubuntu/data/susceptible/sample38/cell426': 0.35951116003009403, '/home/ubuntu/data/susceptible/sample38/cell427': 0.09355878779917108, '/home/ubuntu/data/susceptible/sample38/cell428': 0.19327675769731165, '/home/ubuntu/data/susceptible/sample38/cell430': 0.11546160001923572, '/home/ubuntu/data/susceptible/sample38/cell432': 0.4220153836275029, '/home/ubuntu/data/susceptible/sample38/cell433': 0.4761060559861596, '/home/ubuntu/data/susceptible/sample38/cell434': 0.09899022196260084, '/home/ubuntu/data/susceptible/sample38/cell437': 0.15866325064046474, '/home/ubuntu/data/susceptible/sample38/cell438': 0.11549232489468515, '/home/ubuntu/data/susceptible/sample38/cell441': 0.3472840234531308, '/home/ubuntu/data/susceptible/sample38/cell443': 0.10269187979760948, '/home/ubuntu/data/susceptible/sample38/cell444': 0.425442280879374, '/home/ubuntu/data/susceptible/sample38/cell445': 0.28362030801009336, '/home/ubuntu/data/susceptible/sample38/cell446': 0.11349328733034647, '/home/ubuntu/data/susceptible/sample38/cell447': 0.3706702675965827, '/home/ubuntu/data/susceptible/sample38/cell448': 0.11832470761840255, '/home/ubuntu/data/susceptible/sample38/cell450': 0.09227393077086292, '/home/ubuntu/data/susceptible/sample38/cell453': 0.31453814159659554, '/home/ubuntu/data/susceptible/sample38/cell454': 0.1366774723305264, '/home/ubuntu/data/susceptible/sample38/cell455': 0.4411838920729759, '/home/ubuntu/data/susceptible/sample38/cell457': 0.20679105640741646, '/home/ubuntu/data/susceptible/sample38/cell458': 0.30402961501864945}\n"
     ]
    }
   ],
   "source": [
    "control_flucs_csv =  simp.flucs_from_csv('/home/ubuntu/data/resistant/')\n",
    "print(control_flucs_csv)\n",
    "sus_flucs_csv = simp.flucs_from_csv('/home/ubuntu/data/susceptible/')\n",
    "print(sus_flucs_csv)\n",
    "#combine dictionaries\n",
    "all_flucs = {**control_flucs_csv, **sus_flucs_csv} \n",
    "\n",
    "control_lengths = simp.getlengths('/home/ubuntu/data/resistant/')\n",
    "sus_lengths = simp.getlengths('/home/ubuntu/data/susceptible/')\n",
    "all_lengths = control_lengths+sus_lengths"
   ]
  },
  {
   "cell_type": "markdown",
   "metadata": {},
   "source": [
    "We also want the labels"
   ]
  },
  {
   "cell_type": "code",
   "execution_count": 8,
   "metadata": {},
   "outputs": [],
   "source": [
    "targets = simp.gettargets('/home/ubuntu/data/resistant/','/home/ubuntu/data/susceptible/')"
   ]
  },
  {
   "cell_type": "markdown",
   "metadata": {},
   "source": [
    "We can compile these together. We iterate through the all_lengths list, getting the path and length from each element (ignoring the centre position which is also given by simp.getlengths with _ )\n",
    "\n",
    "We then make a new dictionary, where each key is the path of the cell, and the value is (length, fluctuation, label)"
   ]
  },
  {
   "cell_type": "code",
   "execution_count": 1,
   "metadata": {},
   "outputs": [
    {
     "ename": "NameError",
     "evalue": "name 'all_lengths' is not defined",
     "output_type": "error",
     "traceback": [
      "\u001b[0;31m---------------------------------------------------------------------------\u001b[0m",
      "\u001b[0;31mNameError\u001b[0m                                 Traceback (most recent call last)",
      "\u001b[0;32m<ipython-input-1-586bdbca6a58>\u001b[0m in \u001b[0;36m<module>\u001b[0;34m()\u001b[0m\n\u001b[1;32m      1\u001b[0m \u001b[0mresult_dict\u001b[0m \u001b[0;34m=\u001b[0m \u001b[0;34m{\u001b[0m\u001b[0;34m}\u001b[0m\u001b[0;34m\u001b[0m\u001b[0m\n\u001b[0;32m----> 2\u001b[0;31m \u001b[0;32mfor\u001b[0m \u001b[0mpath\u001b[0m\u001b[0;34m,\u001b[0m \u001b[0mlength\u001b[0m\u001b[0;34m,\u001b[0m \u001b[0m_\u001b[0m \u001b[0;32min\u001b[0m \u001b[0mall_lengths\u001b[0m\u001b[0;34m:\u001b[0m\u001b[0;34m\u001b[0m\u001b[0m\n\u001b[0m\u001b[1;32m      3\u001b[0m     \u001b[0mresult_dict\u001b[0m\u001b[0;34m[\u001b[0m\u001b[0mpath\u001b[0m\u001b[0;34m]\u001b[0m\u001b[0;34m=\u001b[0m\u001b[0;34m(\u001b[0m\u001b[0mlength\u001b[0m\u001b[0;34m,\u001b[0m\u001b[0mall_flucs\u001b[0m\u001b[0;34m[\u001b[0m\u001b[0mpath\u001b[0m\u001b[0;34m]\u001b[0m\u001b[0;34m,\u001b[0m\u001b[0mtargets\u001b[0m\u001b[0;34m[\u001b[0m\u001b[0mpath\u001b[0m\u001b[0;34m]\u001b[0m\u001b[0;34m)\u001b[0m\u001b[0;34m\u001b[0m\u001b[0m\n",
      "\u001b[0;31mNameError\u001b[0m: name 'all_lengths' is not defined"
     ]
    }
   ],
   "source": [
    "result_dict = {}\n",
    "for path, length, _ in all_lengths:\n",
    "    result_dict[path]=(length,all_flucs[path],targets[path])"
   ]
  },
  {
   "cell_type": "markdown",
   "metadata": {},
   "source": [
    "Now we have 3 results dictionaries. These are the train CNN predictions, the test CNN predictions, and the fluctuations and lengths.\n",
    "\n",
    "The train/test CNN predictions are on images, but the flucs/lengths are per cell. We need to do some work to get cell-level predictions from the image level predictions\n",
    "\n",
    "The code for gluing the cnn predictions to the flucs/lengths is called the glue_code"
   ]
  },
  {
   "cell_type": "code",
   "execution_count": 10,
   "metadata": {},
   "outputs": [],
   "source": [
    "import glue_code"
   ]
  },
  {
   "cell_type": "code",
   "execution_count": 11,
   "metadata": {},
   "outputs": [],
   "source": [
    "#First find the cells in the train and test partitions\n",
    "test_cells = sorted(glue_code.partition_to_keys(list(test_predictions.keys())))\n",
    "train_cells = sorted(glue_code.partition_to_keys(list(train_preds.keys())))"
   ]
  },
  {
   "cell_type": "code",
   "execution_count": 12,
   "metadata": {},
   "outputs": [],
   "source": [
    "#go from list of cells, to list of lists of images from each cell\n",
    "cell_ims_test = glue_code.split_preds_into_cells(test_predictions,test_cells)\n",
    "cell_ims_train = glue_code.split_preds_into_cells(train_preds,train_cells)\n",
    "\n",
    "#get the av score for susceptible, and proportion of images classified as susceptible\n",
    "cell_predictions_test = glue_code.get_cell_predictions(cell_ims_test,test_predictions)\n",
    "cell_predictions_train = glue_code.get_cell_predictions(cell_ims_train,train_preds)"
   ]
  },
  {
   "cell_type": "code",
   "execution_count": 13,
   "metadata": {},
   "outputs": [],
   "source": [
    "#glue together CNN predictions and fluctuation/av/lengths/labels\n",
    "\n",
    "test_final = glue_code.glue_flucs_preds(cell_predictions_test,result_dict)\n",
    "train_final = glue_code.glue_flucs_preds(cell_predictions_train,result_dict)"
   ]
  },
  {
   "cell_type": "markdown",
   "metadata": {},
   "source": [
    "We now have 2 beautiful lists, containing test and train data. Each list element is (path of cell, proportion of cell images identified as susceptible, average CNN susceptible image score, cell length, cell fluctuation, correct label)\n",
    "\n",
    "For training a further algorithm on these, we drop the pesky paths, as they are strings, convert to arrays and shuffle."
   ]
  },
  {
   "cell_type": "code",
   "execution_count": 14,
   "metadata": {},
   "outputs": [],
   "source": [
    "test_arr =(np.array(test_final)[:,1:].astype(float))\n",
    "train_arr =  (np.array(train_final)[:,1:].astype(float))\n",
    "\n",
    "np.random.shuffle(test_arr)\n",
    "np.random.shuffle(train_arr)"
   ]
  },
  {
   "cell_type": "markdown",
   "metadata": {},
   "source": [
    "Now we split off the labels which we are trying to predict, from the predictors."
   ]
  },
  {
   "cell_type": "code",
   "execution_count": 15,
   "metadata": {},
   "outputs": [],
   "source": [
    "Xtrain = train_arr[:,:-1]\n",
    "Ytrain = train_arr[:,-1]\n",
    "\n",
    "Xtest = test_arr[:,:-1]\n",
    "Ytest = test_arr[:,-1]"
   ]
  },
  {
   "cell_type": "markdown",
   "metadata": {},
   "source": [
    "Now we can train our new algorithm! Here we try gradient boosting, but try uncommenting Adaboost and RandomForest too, and play around with their parameters."
   ]
  },
  {
   "cell_type": "code",
   "execution_count": 16,
   "metadata": {},
   "outputs": [
    {
     "name": "stdout",
     "output_type": "stream",
     "text": [
      "0.5735294117647058\n"
     ]
    }
   ],
   "source": [
    "from sklearn.ensemble import AdaBoostClassifier, RandomForestClassifier,BaggingClassifier,GradientBoostingClassifier\n",
    "#clf = AdaBoostClassifier(n_estimators=3, random_state=0)\n",
    "clf = RandomForestClassifier(max_depth=1,n_estimators=1, random_state=0)\n",
    "#clf = GradientBoostingClassifier(n_estimators=10,max_depth=1)\n",
    "clf.fit(Xtrain, Ytrain)\n",
    "print(clf.score(Xtest, Ytest))"
   ]
  },
  {
   "cell_type": "code",
   "execution_count": null,
   "metadata": {},
   "outputs": [],
   "source": []
  }
 ],
 "metadata": {
  "kernelspec": {
   "display_name": "Python 3",
   "language": "python",
   "name": "python3"
  },
  "language_info": {
   "codemirror_mode": {
    "name": "ipython",
    "version": 3
   },
   "file_extension": ".py",
   "mimetype": "text/x-python",
   "name": "python",
   "nbconvert_exporter": "python",
   "pygments_lexer": "ipython3",
   "version": "3.6.5"
  }
 },
 "nbformat": 4,
 "nbformat_minor": 2
}
