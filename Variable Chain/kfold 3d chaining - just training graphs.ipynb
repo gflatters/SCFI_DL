{
 "cells": [
  {
   "cell_type": "code",
   "execution_count": 10,
   "metadata": {},
   "outputs": [],
   "source": [
    "import sys\n",
    "sys.path.insert(0, \"/home/ubuntu/data/code/Modules/\")\n",
    "import skimage\n",
    "import numpy as np\n",
    "import pickle\n",
    "import gc\n",
    "from albumentations import Compose,HorizontalFlip, VerticalFlip, ToFloat\n",
    "from sklearn.metrics import confusion_matrix\n",
    "import cv2\n",
    "import matplotlib.pyplot as plt\n",
    "from keras import backend\n",
    "from keras.models import Sequential\n",
    "from keras.losses import binary_crossentropy\n",
    "from keras.layers.convolutional import Conv2D, MaxPooling2D\n",
    "from keras.layers import Dense, BatchNormalization, Flatten, Dropout\n",
    "from keras.optimizers import SGD,Adadelta\n",
    "import DataGenerator\n",
    "from albumentations import Compose,HorizontalFlip, VerticalFlip, ToFloat\n",
    "from sklearn.model_selection import KFold\n",
    "import random\n",
    "import glob\n",
    "import CNN_Module as cnn_module\n",
    "import models\n",
    "import DataGenerator_3d\n",
    "import time\n",
    "import warnings"
   ]
  },
  {
   "cell_type": "code",
   "execution_count": 2,
   "metadata": {},
   "outputs": [
    {
     "data": {
      "text/plain": [
       "<module 'models' from '/home/ubuntu/data/code/Modules/models.py'>"
      ]
     },
     "execution_count": 2,
     "metadata": {},
     "output_type": "execute_result"
    }
   ],
   "source": [
    "import imp\n",
    "imp.reload(cnn_module)\n",
    "imp.reload(models)"
   ]
  },
  {
   "cell_type": "code",
   "execution_count": 3,
   "metadata": {},
   "outputs": [
    {
     "name": "stdout",
     "output_type": "stream",
     "text": [
      "WARNING:tensorflow:From /home/ubuntu/anaconda3/envs/tensorflow_p36/lib/python3.6/site-packages/keras/backend/tensorflow_backend.py:74: The name tf.get_default_graph is deprecated. Please use tf.compat.v1.get_default_graph instead.\n",
      "\n",
      "WARNING:tensorflow:From /home/ubuntu/anaconda3/envs/tensorflow_p36/lib/python3.6/site-packages/keras/backend/tensorflow_backend.py:517: The name tf.placeholder is deprecated. Please use tf.compat.v1.placeholder instead.\n",
      "\n",
      "WARNING:tensorflow:From /home/ubuntu/anaconda3/envs/tensorflow_p36/lib/python3.6/site-packages/keras/backend/tensorflow_backend.py:4138: The name tf.random_uniform is deprecated. Please use tf.random.uniform instead.\n",
      "\n",
      "WARNING:tensorflow:From /home/ubuntu/anaconda3/envs/tensorflow_p36/lib/python3.6/site-packages/keras/backend/tensorflow_backend.py:133: The name tf.placeholder_with_default is deprecated. Please use tf.compat.v1.placeholder_with_default instead.\n",
      "\n",
      "WARNING:tensorflow:From /home/ubuntu/anaconda3/envs/tensorflow_p36/lib/python3.6/site-packages/keras/backend/tensorflow_backend.py:3445: calling dropout (from tensorflow.python.ops.nn_ops) with keep_prob is deprecated and will be removed in a future version.\n",
      "Instructions for updating:\n",
      "Please use `rate` instead of `keep_prob`. Rate should be set to `rate = 1 - keep_prob`.\n",
      "WARNING:tensorflow:From /home/ubuntu/anaconda3/envs/tensorflow_p36/lib/python3.6/site-packages/keras/optimizers.py:790: The name tf.train.Optimizer is deprecated. Please use tf.compat.v1.train.Optimizer instead.\n",
      "\n",
      "WARNING:tensorflow:From /home/ubuntu/anaconda3/envs/tensorflow_p36/lib/python3.6/site-packages/keras/backend/tensorflow_backend.py:3376: The name tf.log is deprecated. Please use tf.math.log instead.\n",
      "\n",
      "WARNING:tensorflow:From /home/ubuntu/anaconda3/envs/tensorflow_p36/lib/python3.6/site-packages/tensorflow_core/python/ops/nn_impl.py:183: where (from tensorflow.python.ops.array_ops) is deprecated and will be removed in a future version.\n",
      "Instructions for updating:\n",
      "Use tf.where in 2.0, which has the same broadcast rule as np.where\n"
     ]
    }
   ],
   "source": [
    "sequence_length = 10\n",
    "model = models.get_luke_3d_model2(input_shape=(140,100,1),sequence_length=sequence_length)\n",
    "warnings.filterwarnings('ignore')\n",
    "augment_train, augment_valid = cnn_module.get_augmentations_train_test()\n",
    "params_train, params_test = cnn_module.get_params_train_test(140,100,augment_train,augment_valid)\n",
    "params_train['dim']=(sequence_length,140,100)\n",
    "params_test['dim']=(sequence_length,140,100)"
   ]
  },
  {
   "cell_type": "code",
   "execution_count": null,
   "metadata": {},
   "outputs": [
    {
     "name": "stdout",
     "output_type": "stream",
     "text": [
      "311\n",
      "351\n",
      "train = 594\n",
      "test = 68\n",
      "kfold training on train data\n",
      "all data = 594\n",
      "kfold 1\n",
      "WARNING:tensorflow:From /home/ubuntu/anaconda3/envs/tensorflow_p36/lib/python3.6/site-packages/keras/backend/tensorflow_backend.py:986: The name tf.assign_add is deprecated. Please use tf.compat.v1.assign_add instead.\n",
      "\n",
      "WARNING:tensorflow:From /home/ubuntu/anaconda3/envs/tensorflow_p36/lib/python3.6/site-packages/keras/backend/tensorflow_backend.py:973: The name tf.assign is deprecated. Please use tf.compat.v1.assign instead.\n",
      "\n",
      "WARNING:tensorflow:From /home/ubuntu/anaconda3/envs/tensorflow_p36/lib/python3.6/site-packages/keras/backend/tensorflow_backend.py:2741: The name tf.Session is deprecated. Please use tf.compat.v1.Session instead.\n",
      "\n",
      "Epoch 1/30\n",
      "WARNING:tensorflow:From /home/ubuntu/anaconda3/envs/tensorflow_p36/lib/python3.6/site-packages/keras/backend/tensorflow_backend.py:174: The name tf.get_default_session is deprecated. Please use tf.compat.v1.get_default_session instead.\n",
      "\n",
      "WARNING:tensorflow:From /home/ubuntu/anaconda3/envs/tensorflow_p36/lib/python3.6/site-packages/keras/backend/tensorflow_backend.py:181: The name tf.ConfigProto is deprecated. Please use tf.compat.v1.ConfigProto instead.\n",
      "\n",
      "WARNING:tensorflow:From /home/ubuntu/anaconda3/envs/tensorflow_p36/lib/python3.6/site-packages/keras/backend/tensorflow_backend.py:190: The name tf.global_variables is deprecated. Please use tf.compat.v1.global_variables instead.\n",
      "\n",
      "WARNING:tensorflow:From /home/ubuntu/anaconda3/envs/tensorflow_p36/lib/python3.6/site-packages/keras/backend/tensorflow_backend.py:199: The name tf.is_variable_initialized is deprecated. Please use tf.compat.v1.is_variable_initialized instead.\n",
      "\n",
      "WARNING:tensorflow:From /home/ubuntu/anaconda3/envs/tensorflow_p36/lib/python3.6/site-packages/keras/backend/tensorflow_backend.py:206: The name tf.variables_initializer is deprecated. Please use tf.compat.v1.variables_initializer instead.\n",
      "\n",
      "100/100 [==============================] - 62s 623ms/step - loss: 0.6921 - acc: 0.5359 - val_loss: 0.6899 - val_acc: 0.6510\n",
      "Epoch 2/30\n",
      "100/100 [==============================] - 55s 550ms/step - loss: 0.6913 - acc: 0.5369 - val_loss: 0.6859 - val_acc: 0.5990\n",
      "Epoch 3/30\n",
      "100/100 [==============================] - 54s 543ms/step - loss: 0.6903 - acc: 0.5406 - val_loss: 0.6840 - val_acc: 0.6961\n",
      "Epoch 4/30\n",
      "100/100 [==============================] - 54s 544ms/step - loss: 0.6874 - acc: 0.5491 - val_loss: 0.6803 - val_acc: 0.5765\n",
      "Epoch 5/30\n",
      "100/100 [==============================] - 54s 544ms/step - loss: 0.6874 - acc: 0.5316 - val_loss: 0.6761 - val_acc: 0.7647\n",
      "Epoch 6/30\n",
      "100/100 [==============================] - 55s 545ms/step - loss: 0.6852 - acc: 0.5687 - val_loss: 0.6742 - val_acc: 0.6995\n",
      "Epoch 7/30\n",
      "100/100 [==============================] - 54s 544ms/step - loss: 0.6837 - acc: 0.5887 - val_loss: 0.6758 - val_acc: 0.6917\n",
      "Epoch 8/30\n",
      "100/100 [==============================] - 54s 544ms/step - loss: 0.6825 - acc: 0.6312 - val_loss: 0.6684 - val_acc: 0.7583\n",
      "Epoch 9/30\n",
      "100/100 [==============================] - 55s 545ms/step - loss: 0.6794 - acc: 0.6472 - val_loss: 0.6615 - val_acc: 0.8108\n",
      "Epoch 10/30\n",
      "100/100 [==============================] - 55s 547ms/step - loss: 0.6765 - acc: 0.6422 - val_loss: 0.6578 - val_acc: 0.7559\n",
      "Epoch 11/30\n",
      "100/100 [==============================] - 54s 541ms/step - loss: 0.6724 - acc: 0.6600 - val_loss: 0.6560 - val_acc: 0.7142\n",
      "Epoch 12/30\n",
      "100/100 [==============================] - 54s 544ms/step - loss: 0.6685 - acc: 0.6772 - val_loss: 0.6468 - val_acc: 0.7593\n",
      "Epoch 13/30\n",
      "100/100 [==============================] - 55s 546ms/step - loss: 0.6621 - acc: 0.6969 - val_loss: 0.6297 - val_acc: 0.8191\n",
      "Epoch 14/30\n",
      "100/100 [==============================] - 54s 544ms/step - loss: 0.6554 - acc: 0.7125 - val_loss: 0.6225 - val_acc: 0.7804\n",
      "Epoch 15/30\n",
      "100/100 [==============================] - 55s 546ms/step - loss: 0.6463 - acc: 0.7269 - val_loss: 0.6120 - val_acc: 0.7627\n",
      "Epoch 16/30\n",
      "100/100 [==============================] - 55s 546ms/step - loss: 0.6353 - acc: 0.7338 - val_loss: 0.5899 - val_acc: 0.7799\n",
      "Epoch 17/30\n",
      "100/100 [==============================] - 54s 545ms/step - loss: 0.6203 - acc: 0.7512 - val_loss: 0.5629 - val_acc: 0.8319\n",
      "Epoch 18/30\n",
      "100/100 [==============================] - 54s 542ms/step - loss: 0.6070 - acc: 0.7666 - val_loss: 0.5738 - val_acc: 0.7593\n",
      "Epoch 19/30\n",
      "100/100 [==============================] - 55s 546ms/step - loss: 0.5910 - acc: 0.7681 - val_loss: 0.5455 - val_acc: 0.7608\n",
      "Epoch 20/30\n",
      "100/100 [==============================] - 54s 545ms/step - loss: 0.5764 - acc: 0.7647 - val_loss: 0.5937 - val_acc: 0.6613\n",
      "Epoch 21/30\n",
      "100/100 [==============================] - 54s 545ms/step - loss: 0.5521 - acc: 0.7834 - val_loss: 0.6922 - val_acc: 0.5505\n",
      "Epoch 22/30\n",
      "100/100 [==============================] - 55s 547ms/step - loss: 0.5302 - acc: 0.7963 - val_loss: 0.4860 - val_acc: 0.7971\n",
      "Epoch 23/30\n",
      "100/100 [==============================] - 54s 542ms/step - loss: 0.5273 - acc: 0.7887 - val_loss: 0.5287 - val_acc: 0.7186\n",
      "Epoch 24/30\n",
      "100/100 [==============================] - 54s 544ms/step - loss: 0.4844 - acc: 0.8175 - val_loss: 0.4339 - val_acc: 0.8270\n",
      "Epoch 25/30\n",
      "100/100 [==============================] - 55s 546ms/step - loss: 0.4715 - acc: 0.8147 - val_loss: 0.5697 - val_acc: 0.7025\n",
      "Epoch 26/30\n",
      "100/100 [==============================] - 54s 543ms/step - loss: 0.4711 - acc: 0.8041 - val_loss: 0.4408 - val_acc: 0.8137\n",
      "Epoch 27/30\n",
      "100/100 [==============================] - 54s 544ms/step - loss: 0.4558 - acc: 0.8144 - val_loss: 0.7071 - val_acc: 0.6319\n",
      "Epoch 28/30\n",
      "100/100 [==============================] - 54s 544ms/step - loss: 0.4318 - acc: 0.8328 - val_loss: 0.4652 - val_acc: 0.7902\n",
      "Epoch 29/30\n",
      "100/100 [==============================] - 55s 546ms/step - loss: 0.4155 - acc: 0.8325 - val_loss: 0.8179 - val_acc: 0.6049\n",
      "Epoch 30/30\n",
      "100/100 [==============================] - 54s 542ms/step - loss: 0.4048 - acc: 0.8353 - val_loss: 1.0200 - val_acc: 0.5975\n",
      "1661.9125697612762\n",
      "kfold 2\n",
      "Epoch 1/30\n",
      "100/100 [==============================] - 61s 607ms/step - loss: 0.6928 - acc: 0.5094 - val_loss: 0.6905 - val_acc: 0.5931\n",
      "Epoch 2/30\n",
      "100/100 [==============================] - 55s 554ms/step - loss: 0.6902 - acc: 0.5591 - val_loss: 0.6876 - val_acc: 0.5422\n",
      "Epoch 3/30\n",
      "100/100 [==============================] - 55s 551ms/step - loss: 0.6870 - acc: 0.5394 - val_loss: 0.6831 - val_acc: 0.5691\n",
      "Epoch 4/30\n",
      "100/100 [==============================] - 55s 551ms/step - loss: 0.6857 - acc: 0.5278 - val_loss: 0.6842 - val_acc: 0.5395\n",
      "Epoch 5/30\n",
      "100/100 [==============================] - 55s 553ms/step - loss: 0.6814 - acc: 0.5444 - val_loss: 0.6778 - val_acc: 0.5858\n",
      "Epoch 6/30\n",
      "100/100 [==============================] - 55s 552ms/step - loss: 0.6785 - acc: 0.5784 - val_loss: 0.6767 - val_acc: 0.6564\n",
      "Epoch 7/30\n",
      "100/100 [==============================] - 55s 550ms/step - loss: 0.6744 - acc: 0.5978 - val_loss: 0.6712 - val_acc: 0.6500\n",
      "Epoch 8/30\n",
      "100/100 [==============================] - 55s 546ms/step - loss: 0.6680 - acc: 0.6606 - val_loss: 0.6667 - val_acc: 0.6529\n",
      "Epoch 9/30\n",
      "100/100 [==============================] - 55s 551ms/step - loss: 0.6604 - acc: 0.6787 - val_loss: 0.6625 - val_acc: 0.6319\n",
      "Epoch 10/30\n",
      "100/100 [==============================] - 55s 550ms/step - loss: 0.6537 - acc: 0.6903 - val_loss: 0.6499 - val_acc: 0.6667\n",
      "Epoch 11/30\n",
      "  4/100 [>.............................] - ETA: 42s - loss: 0.6427 - acc: 0.7188"
     ]
    }
   ],
   "source": [
    "result_val_acc = []\n",
    "\n",
    "video_path = '/cropped_video100_140'\n",
    "depth = 10\n",
    "\n",
    "sequence_length=10 \n",
    "sample_gap=10 \n",
    "epochs=30\n",
    "stepsperepoch=100\n",
    "k=5\n",
    "\n",
    "start = time.time()\n",
    "\n",
    "#prep cells for feeding into CNN\n",
    "control_cells = np.array(cnn_module.findallcells_indir('/home/ubuntu/data/resistant/'))\n",
    "print(len(control_cells))\n",
    "sus_cells     = np.array(cnn_module.findallcells_indir('/home/ubuntu/data/susceptible/'))\n",
    "print(len(sus_cells))\n",
    "#label cells, and split cells into test and train, making sure to have equal proportion of sus and ctrl in both\n",
    "control_cells_label = cnn_module.create_label_dict(control_cells,0)\n",
    "sus_cells_label     = cnn_module.create_label_dict(sus_cells,1)\n",
    "\n",
    "train_ctrl, test_ctrl = cnn_module.split_train_test(control_cells_label,0.9)\n",
    "train_sus, test_sus = cnn_module.split_train_test(sus_cells_label,0.9)\n",
    "\n",
    "train_labels = train_ctrl+train_sus\n",
    "test_labels = test_ctrl+test_sus\n",
    "print('train =', len(train_labels))\n",
    "print('test =', len(test_labels))\n",
    "\n",
    "im_paths_train, im_labels_train, im_paths_test, im_labels_test = cnn_module.get_labels_images_3d(train_labels,test_labels,video_path,sample_gap,depth)\n",
    "random.shuffle(im_paths_train)\n",
    "random.shuffle(im_paths_test)\n",
    "\n",
    "augment_train, augment_valid = cnn_module.get_augmentations_train_test()\n",
    "\n",
    "model = models.get_luke_3d_model2(input_shape=(140,100,1),sequence_length=sequence_length)\n",
    "validate_steps = len(im_paths_test)//32\n",
    "\n",
    "training_generator = DataGenerator_3d.DataGenerator(im_paths_train, im_labels_train, **params_train,depth=depth)\n",
    "prediction_generator = DataGenerator_3d.DataGenerator(im_paths_test, im_labels_test, **params_test,depth=depth)\n",
    "\n",
    "#get kfold predictions from training set \n",
    "print('kfold training on train data')\n",
    "train_preds, kfold_val_acc, kfold_acc, kfold_val_loss, kfold_loss = cnn_module.k_fold_train_3d2(train_labels,video_path,model,sample_gap,epochs,stepsperepoch,params_train,params_test,depth,sequence_length,k)\n",
    "\n",
    "#fully train a model to make predicitons on the test set\n",
    "print('final training')\n",
    "fully_train_model = cnn_module.fit_model(model,training_generator,prediction_generator,epochs,stepsperepoch,validate_steps,params_train,params_test)\n",
    "#make the test predictions.\n",
    "test_preds = cnn_module.predict(test_labels,video_path,fully_train_model,sample_gap,params_test)\n",
    "\n",
    "run_val_acc = model.history.history['val_acc']\n",
    "end = time.time()\n",
    "run_time = end-start\n",
    "print(run_time)"
   ]
  },
  {
   "cell_type": "code",
   "execution_count": 1,
   "metadata": {},
   "outputs": [
    {
     "name": "stdout",
     "output_type": "stream",
     "text": [
      "final training\n"
     ]
    },
    {
     "ename": "NameError",
     "evalue": "name 'cnn_module' is not defined",
     "output_type": "error",
     "traceback": [
      "\u001b[0;31m---------------------------------------------------------------------------\u001b[0m",
      "\u001b[0;31mNameError\u001b[0m                                 Traceback (most recent call last)",
      "\u001b[0;32m<ipython-input-1-50bc884a6466>\u001b[0m in \u001b[0;36m<module>\u001b[0;34m()\u001b[0m\n\u001b[1;32m      1\u001b[0m \u001b[0;31m# use this cell if the final predictions were bad !\u001b[0m\u001b[0;34m\u001b[0m\u001b[0;34m\u001b[0m\u001b[0;34m\u001b[0m\u001b[0m\n\u001b[1;32m      2\u001b[0m \u001b[0mprint\u001b[0m\u001b[0;34m(\u001b[0m\u001b[0;34m'final training'\u001b[0m\u001b[0;34m)\u001b[0m\u001b[0;34m\u001b[0m\u001b[0;34m\u001b[0m\u001b[0m\n\u001b[0;32m----> 3\u001b[0;31m \u001b[0mfully_train_model\u001b[0m \u001b[0;34m=\u001b[0m \u001b[0mcnn_module\u001b[0m\u001b[0;34m.\u001b[0m\u001b[0mfit_model\u001b[0m\u001b[0;34m(\u001b[0m\u001b[0mmodel\u001b[0m\u001b[0;34m,\u001b[0m\u001b[0mtraining_generator\u001b[0m\u001b[0;34m,\u001b[0m\u001b[0mprediction_generator\u001b[0m\u001b[0;34m,\u001b[0m\u001b[0mepochs\u001b[0m\u001b[0;34m,\u001b[0m\u001b[0mstepsperepoch\u001b[0m\u001b[0;34m,\u001b[0m\u001b[0mvalidate_steps\u001b[0m\u001b[0;34m,\u001b[0m\u001b[0mparams_train\u001b[0m\u001b[0;34m,\u001b[0m\u001b[0mparams_test\u001b[0m\u001b[0;34m)\u001b[0m\u001b[0;34m\u001b[0m\u001b[0;34m\u001b[0m\u001b[0m\n\u001b[0m\u001b[1;32m      4\u001b[0m \u001b[0mtest_preds\u001b[0m \u001b[0;34m=\u001b[0m \u001b[0mcnn_module\u001b[0m\u001b[0;34m.\u001b[0m\u001b[0mpredict\u001b[0m\u001b[0;34m(\u001b[0m\u001b[0mtest_labels\u001b[0m\u001b[0;34m,\u001b[0m\u001b[0mvideo_path\u001b[0m\u001b[0;34m,\u001b[0m\u001b[0mfully_train_model\u001b[0m\u001b[0;34m,\u001b[0m\u001b[0msample_gap\u001b[0m\u001b[0;34m,\u001b[0m\u001b[0mparams_test\u001b[0m\u001b[0;34m)\u001b[0m\u001b[0;34m\u001b[0m\u001b[0;34m\u001b[0m\u001b[0m\n\u001b[1;32m      5\u001b[0m \u001b[0mrun_val_acc\u001b[0m \u001b[0;34m=\u001b[0m \u001b[0mmodel\u001b[0m\u001b[0;34m.\u001b[0m\u001b[0mhistory\u001b[0m\u001b[0;34m.\u001b[0m\u001b[0mhistory\u001b[0m\u001b[0;34m[\u001b[0m\u001b[0;34m'val_acc'\u001b[0m\u001b[0;34m]\u001b[0m\u001b[0;34m\u001b[0m\u001b[0;34m\u001b[0m\u001b[0m\n",
      "\u001b[0;31mNameError\u001b[0m: name 'cnn_module' is not defined"
     ]
    }
   ],
   "source": [
    "# use this cell if the final predictions were bad !\n",
    "print('final training')\n",
    "fully_train_model = cnn_module.fit_model(model,training_generator,prediction_generator,epochs,stepsperepoch,validate_steps,params_train,params_test)\n",
    "test_preds = cnn_module.predict(test_labels,video_path,fully_train_model,sample_gap,params_test)\n",
    "run_val_acc = model.history.history['val_acc']"
   ]
  },
  {
   "cell_type": "code",
   "execution_count": 8,
   "metadata": {},
   "outputs": [],
   "source": [
    "import pickle\n",
    "results = [test_preds, train_preds, kfold_val_acc, kfold_acc, kfold_val_loss, kfold_loss, run_val_acc]\n",
    "#pickle.dump(results, open('/home/ubuntu/data/code/chaining/cipro2_chain_3d_results.p','wb'))\n",
    "## when reloading need to take out of results!!\n"
   ]
  },
  {
   "cell_type": "code",
   "execution_count": 11,
   "metadata": {},
   "outputs": [],
   "source": [
    "import pickle\n",
    "results=pickle.load(open('/home/ubuntu/data/code/chaining/3dchain_preds_final_trim.p','rb'))\n",
    "kfold_val_acc, kfold_preds, test_val_acc, test_preds = results\n",
    "#test_preds, train_preds, kfold_val_acc, kfold_acc, kfold_val_loss, kfold_loss = results"
   ]
  },
  {
   "cell_type": "code",
   "execution_count": 12,
   "metadata": {},
   "outputs": [
    {
     "name": "stdout",
     "output_type": "stream",
     "text": [
      "[0.6690361  0.70037558 0.71937639 0.74940764 0.7388662  0.74382688\n",
      " 0.74615094 0.76743295 0.74957401 0.77854658 0.77203569 0.76100272\n",
      " 0.77975902 0.7844752  0.78283172 0.77335148 0.77812563 0.76603902\n",
      " 0.77222474 0.78309639 0.76008268 0.7698906  0.7876588  0.78354255\n",
      " 0.75578746]\n"
     ]
    }
   ],
   "source": [
    "# kfold val acc graphs:\n",
    "#print(kfold_val_acc[i])\n",
    "averages = np.average(kfold_val_acc, axis=0)\n",
    "print(averages)"
   ]
  },
  {
   "cell_type": "code",
   "execution_count": 8,
   "metadata": {},
   "outputs": [
    {
     "ename": "NameError",
     "evalue": "name 'result' is not defined",
     "output_type": "error",
     "traceback": [
      "\u001b[0;31m---------------------------------------------------------------------------\u001b[0m",
      "\u001b[0;31mNameError\u001b[0m                                 Traceback (most recent call last)",
      "\u001b[0;32m<ipython-input-8-d6a17269357f>\u001b[0m in \u001b[0;36m<module>\u001b[0;34m()\u001b[0m\n\u001b[0;32m----> 1\u001b[0;31m \u001b[0maverages\u001b[0m \u001b[0;34m=\u001b[0m \u001b[0mnp\u001b[0m\u001b[0;34m.\u001b[0m\u001b[0maverage\u001b[0m\u001b[0;34m(\u001b[0m\u001b[0;34m[\u001b[0m\u001b[0;34m(\u001b[0m\u001b[0mnp\u001b[0m\u001b[0;34m.\u001b[0m\u001b[0marray\u001b[0m\u001b[0;34m(\u001b[0m\u001b[0mi\u001b[0m\u001b[0;34m)\u001b[0m\u001b[0;34m[\u001b[0m\u001b[0;36m1\u001b[0m\u001b[0;34m]\u001b[0m\u001b[0;34m)\u001b[0m \u001b[0;32mfor\u001b[0m \u001b[0mi\u001b[0m \u001b[0;32min\u001b[0m \u001b[0mresult\u001b[0m\u001b[0;34m]\u001b[0m\u001b[0;34m)\u001b[0m\u001b[0;34m\u001b[0m\u001b[0;34m\u001b[0m\u001b[0m\n\u001b[0m\u001b[1;32m      2\u001b[0m \u001b[0mprint\u001b[0m\u001b[0;34m(\u001b[0m\u001b[0maverages\u001b[0m\u001b[0;34m)\u001b[0m\u001b[0;34m\u001b[0m\u001b[0;34m\u001b[0m\u001b[0m\n",
      "\u001b[0;31mNameError\u001b[0m: name 'result' is not defined"
     ]
    }
   ],
   "source": [
    "averages = np.average([(np.array(i)[1]) for i in result])\n",
    "print(averages)"
   ]
  },
  {
   "cell_type": "code",
   "execution_count": 13,
   "metadata": {},
   "outputs": [
    {
     "name": "stdout",
     "output_type": "stream",
     "text": [
      "25\n",
      "25\n"
     ]
    },
    {
     "data": {
      "text/plain": [
       "(0.5, 0.85)"
      ]
     },
     "execution_count": 13,
     "metadata": {},
     "output_type": "execute_result"
    },
    {
     "data": {
      "image/png": "[encoded data removed]",
      "text/plain": [
       "<Figure size 432x288 with 1 Axes>"
      ]
     },
     "metadata": {},
     "output_type": "display_data"
    }
   ],
   "source": [
    "xvals = np.arange(1,26,1)\n",
    "print(len(xvals))\n",
    "print(len(averages))\n",
    "\n",
    "#bests = [np.max(np.array(i)[:,1]) for i in data]\n",
    "#stds = [np.std(np.array(i)[:,1]) for i in data]\n",
    "\n",
    "plt.style.use('seaborn-darkgrid')\n",
    "\n",
    "plt.scatter(xvals,averages, marker='o', s= 75, label='Averages',color='yellow', edgecolors='black',linewidth=1)\n",
    "plt.plot(xvals,test_val_acc)\n",
    "#plt.errorbar(x_vals,data_av,std,elinewidth=2,color='maroon',label='std')\n",
    "plt.legend(loc='lower right',frameon=True, fontsize=12)\n",
    "#plt.title('Sample gap vs accuracy')\n",
    "plt.xlabel('Number of Epochs', size = 15)\n",
    "plt.ylabel('Accuracy', size = 15)\n",
    "plt.xticks(np.arange(0, 35, 5))\n",
    "plt.xlim(0,31)\n",
    "plt.ylim(0.5,0.85)\n",
    "\n",
    "#plt.savefig('/home/ubuntu/data/figs/3dEpochs.png', dpi=500)"
   ]
  },
  {
   "cell_type": "code",
   "execution_count": null,
   "metadata": {},
   "outputs": [],
   "source": []
  },
  {
   "cell_type": "code",
   "execution_count": null,
   "metadata": {},
   "outputs": [],
   "source": []
  },
  {
   "cell_type": "code",
   "execution_count": null,
   "metadata": {
    "scrolled": true
   },
   "outputs": [],
   "source": []
  },
  {
   "cell_type": "code",
   "execution_count": null,
   "metadata": {},
   "outputs": [],
   "source": []
  },
  {
   "cell_type": "code",
   "execution_count": null,
   "metadata": {},
   "outputs": [],
   "source": []
  },
  {
   "cell_type": "code",
   "execution_count": null,
   "metadata": {},
   "outputs": [],
   "source": []
  },
  {
   "cell_type": "code",
   "execution_count": null,
   "metadata": {},
   "outputs": [],
   "source": []
  },
  {
   "cell_type": "code",
   "execution_count": null,
   "metadata": {},
   "outputs": [],
   "source": []
  },
  {
   "cell_type": "code",
   "execution_count": null,
   "metadata": {},
   "outputs": [],
   "source": []
  },
  {
   "cell_type": "code",
   "execution_count": null,
   "metadata": {},
   "outputs": [],
   "source": []
  },
  {
   "cell_type": "code",
   "execution_count": null,
   "metadata": {},
   "outputs": [],
   "source": []
  }
 ],
 "metadata": {
  "kernelspec": {
   "display_name": "Python 3",
   "language": "python",
   "name": "python3"
  },
  "language_info": {
   "codemirror_mode": {
    "name": "ipython",
    "version": 3
   },
   "file_extension": ".py",
   "mimetype": "text/x-python",
   "name": "python",
   "nbconvert_exporter": "python",
   "pygments_lexer": "ipython3",
   "version": "3.6.5"
  },
  "widgets": {
   "application/vnd.jupyter.widget-state+json": {
    "state": {},
    "version_major": 2,
    "version_minor": 0
   }
  }
 },
 "nbformat": 4,
 "nbformat_minor": 2
}
