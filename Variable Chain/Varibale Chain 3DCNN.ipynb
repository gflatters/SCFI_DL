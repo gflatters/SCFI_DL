{
 "cells": [
  {
   "cell_type": "markdown",
   "metadata": {},
   "source": [
    "The CNN gives good results, but what if we want to use the CNN trained on the images, and other information, like cell fluctuations, patient history, etc? We can stack another model on top of the CNN predictions! See the Jan 2020 report for details"
   ]
  },
  {
   "cell_type": "code",
   "execution_count": 1,
   "metadata": {},
   "outputs": [
    {
     "name": "stderr",
     "output_type": "stream",
     "text": [
      "Using TensorFlow backend.\n"
     ]
    },
    {
     "name": "stdout",
     "output_type": "stream",
     "text": [
      "WARNING:tensorflow:From /home/ubuntu/anaconda3/envs/tensorflow_p36/lib/python3.6/site-packages/tensorflow_core/__init__.py:1467: The name tf.estimator.inputs is deprecated. Please use tf.compat.v1.estimator.inputs instead.\n",
      "\n"
     ]
    }
   ],
   "source": [
    "import sys\n",
    "sys.path.insert(0, \"/home/ubuntu/data/code/Modules/\")\n",
    "import CNN_Module as cnn_module\n",
    "import DataGenerator_3d\n",
    "import numpy as np\n",
    "import random\n",
    "import pickle\n",
    "import models\n",
    "import matplotlib.pyplot as plt\n",
    "from sklearn.metrics import confusion_matrix"
   ]
  },
  {
   "cell_type": "code",
   "execution_count": 2,
   "metadata": {},
   "outputs": [
    {
     "data": {
      "text/plain": [
       "<module 'models' from '/home/ubuntu/data/code/Modules/models.py'>"
      ]
     },
     "execution_count": 2,
     "metadata": {},
     "output_type": "execute_result"
    }
   ],
   "source": [
    "import imp\n",
    "imp.reload(models)"
   ]
  },
  {
   "cell_type": "markdown",
   "metadata": {},
   "source": [
    "Prep cells and images as before"
   ]
  },
  {
   "cell_type": "code",
   "execution_count": 3,
   "metadata": {},
   "outputs": [],
   "source": [
    "#prep cells for feeding into CNN\n",
    "control_cells = np.array(cnn_module.findallcells_indir('/home/ubuntu/data/resistant/'))\n",
    "sus_cells     = np.array(cnn_module.findallcells_indir('/home/ubuntu/data/susceptible/'))\n",
    "\n",
    "#label cells, and split cells into test and train, making sure to have equal proportion of sus and ctrl in both\n",
    "control_cells_label = cnn_module.create_label_dict(control_cells,0)\n",
    "sus_cells_label  = cnn_module.create_label_dict(sus_cells,1)\n",
    "\n",
    "train_ctrl, test_ctrl = cnn_module.split_train_test(control_cells_label,0.9)\n",
    "train_sus, test_sus = cnn_module.split_train_test(sus_cells_label,0.9)\n",
    "\n",
    "train_labels = train_ctrl+train_sus\n",
    "test_labels = test_ctrl+test_sus\n",
    "\n",
    "video_path = '/cropped_video80'\n",
    "sample_gap = 10\n",
    "depth = 10\n",
    "#im_paths_train, im_labels_train = cnn_module.get_labels_images_3d(train_labels,test_labels,video_path,sample_gap,depth)\n",
    "im_paths_train, im_labels_train, im_paths_test, im_labels_test = cnn_module.get_labels_images_3d(train_labels,test_labels,video_path,sample_gap,depth)\n",
    "random.shuffle(im_paths_train)\n",
    "random.shuffle(im_paths_test)"
   ]
  },
  {
   "cell_type": "code",
   "execution_count": 4,
   "metadata": {},
   "outputs": [
    {
     "name": "stdout",
     "output_type": "stream",
     "text": [
      "WARNING:tensorflow:From /home/ubuntu/anaconda3/envs/tensorflow_p36/lib/python3.6/site-packages/keras/backend/tensorflow_backend.py:74: The name tf.get_default_graph is deprecated. Please use tf.compat.v1.get_default_graph instead.\n",
      "\n",
      "WARNING:tensorflow:From /home/ubuntu/anaconda3/envs/tensorflow_p36/lib/python3.6/site-packages/keras/backend/tensorflow_backend.py:517: The name tf.placeholder is deprecated. Please use tf.compat.v1.placeholder instead.\n",
      "\n",
      "WARNING:tensorflow:From /home/ubuntu/anaconda3/envs/tensorflow_p36/lib/python3.6/site-packages/keras/backend/tensorflow_backend.py:4138: The name tf.random_uniform is deprecated. Please use tf.random.uniform instead.\n",
      "\n",
      "WARNING:tensorflow:From /home/ubuntu/anaconda3/envs/tensorflow_p36/lib/python3.6/site-packages/keras/backend/tensorflow_backend.py:133: The name tf.placeholder_with_default is deprecated. Please use tf.compat.v1.placeholder_with_default instead.\n",
      "\n",
      "WARNING:tensorflow:From /home/ubuntu/anaconda3/envs/tensorflow_p36/lib/python3.6/site-packages/keras/backend/tensorflow_backend.py:3445: calling dropout (from tensorflow.python.ops.nn_ops) with keep_prob is deprecated and will be removed in a future version.\n",
      "Instructions for updating:\n",
      "Please use `rate` instead of `keep_prob`. Rate should be set to `rate = 1 - keep_prob`.\n",
      "WARNING:tensorflow:From /home/ubuntu/anaconda3/envs/tensorflow_p36/lib/python3.6/site-packages/keras/optimizers.py:790: The name tf.train.Optimizer is deprecated. Please use tf.compat.v1.train.Optimizer instead.\n",
      "\n",
      "WARNING:tensorflow:From /home/ubuntu/anaconda3/envs/tensorflow_p36/lib/python3.6/site-packages/keras/backend/tensorflow_backend.py:3376: The name tf.log is deprecated. Please use tf.math.log instead.\n",
      "\n",
      "WARNING:tensorflow:From /home/ubuntu/anaconda3/envs/tensorflow_p36/lib/python3.6/site-packages/tensorflow_core/python/ops/nn_impl.py:183: where (from tensorflow.python.ops.array_ops) is deprecated and will be removed in a future version.\n",
      "Instructions for updating:\n",
      "Use tf.where in 2.0, which has the same broadcast rule as np.where\n"
     ]
    }
   ],
   "source": [
    "sequence_length=10\n",
    "model = models.get_luke_3d_model(input_shape=(80,80,1),sequence_length=sequence_length)"
   ]
  },
  {
   "cell_type": "code",
   "execution_count": 5,
   "metadata": {},
   "outputs": [],
   "source": [
    "augment_train, augment_valid = cnn_module.get_augmentations_train_test()\n",
    "params_train, params_test = cnn_module.get_params_train_test(80,80,augment_valid,augment_valid)\n",
    "params_train['dim']=(sequence_length,80,80)\n",
    "params_test['dim']=(sequence_length,80,80)"
   ]
  },
  {
   "cell_type": "code",
   "execution_count": 6,
   "metadata": {},
   "outputs": [],
   "source": [
    "training_generator = DataGenerator_3d.DataGenerator(im_paths_train, im_labels_train, **params_train,depth=depth)\n",
    "prediction_generator = DataGenerator_3d.DataGenerator(im_paths_test, im_labels_test, **params_test,depth=depth)"
   ]
  },
  {
   "cell_type": "markdown",
   "metadata": {},
   "source": [
    "we now call cnn.module.k_fold_train to train on 80% of the train data and predict on the remaining 20%. We do this with different 20% holdouts until we have predictions for the entire training set. We also fully train a model on the entire training set which we use to predict on the test set."
   ]
  },
  {
   "cell_type": "code",
   "execution_count": null,
   "metadata": {},
   "outputs": [
    {
     "name": "stdout",
     "output_type": "stream",
     "text": [
      "WARNING:tensorflow:From /home/ubuntu/anaconda3/envs/tensorflow_p36/lib/python3.6/site-packages/keras/backend/tensorflow_backend.py:986: The name tf.assign_add is deprecated. Please use tf.compat.v1.assign_add instead.\n",
      "\n",
      "WARNING:tensorflow:From /home/ubuntu/anaconda3/envs/tensorflow_p36/lib/python3.6/site-packages/keras/backend/tensorflow_backend.py:973: The name tf.assign is deprecated. Please use tf.compat.v1.assign instead.\n",
      "\n",
      "WARNING:tensorflow:From /home/ubuntu/anaconda3/envs/tensorflow_p36/lib/python3.6/site-packages/keras/backend/tensorflow_backend.py:2741: The name tf.Session is deprecated. Please use tf.compat.v1.Session instead.\n",
      "\n",
      "Epoch 1/2\n",
      "WARNING:tensorflow:From /home/ubuntu/anaconda3/envs/tensorflow_p36/lib/python3.6/site-packages/keras/backend/tensorflow_backend.py:174: The name tf.get_default_session is deprecated. Please use tf.compat.v1.get_default_session instead.\n",
      "\n",
      "WARNING:tensorflow:From /home/ubuntu/anaconda3/envs/tensorflow_p36/lib/python3.6/site-packages/keras/backend/tensorflow_backend.py:184: The name tf.ConfigProto is deprecated. Please use tf.compat.v1.ConfigProto instead.\n",
      "\n",
      "WARNING:tensorflow:From /home/ubuntu/anaconda3/envs/tensorflow_p36/lib/python3.6/site-packages/keras/backend/tensorflow_backend.py:190: The name tf.global_variables is deprecated. Please use tf.compat.v1.global_variables instead.\n",
      "\n",
      "WARNING:tensorflow:From /home/ubuntu/anaconda3/envs/tensorflow_p36/lib/python3.6/site-packages/keras/backend/tensorflow_backend.py:199: The name tf.is_variable_initialized is deprecated. Please use tf.compat.v1.is_variable_initialized instead.\n",
      "\n",
      "WARNING:tensorflow:From /home/ubuntu/anaconda3/envs/tensorflow_p36/lib/python3.6/site-packages/keras/backend/tensorflow_backend.py:206: The name tf.variables_initializer is deprecated. Please use tf.compat.v1.variables_initializer instead.\n",
      "\n"
     ]
    }
   ],
   "source": [
    "#select either normal or k-fold training\n",
    "sample_gap=10\n",
    "epochs=2\n",
    "stepsperepoch=10\n",
    "video_path = '/cropped_video80'\n",
    "validate_steps = len(im_paths_test)//32\n",
    "\n",
    "#get kfold predictions from training set \n",
    "#train_preds = cnn_module.k_fold_train(train_labels,video_path,model,sample_gap,epochs,stepsperepoch,params_train,params_test)\n",
    "\n",
    "#don't use k-fold\n",
    "train_preds = cnn_module.fit_model_from_labels(train_labels,video_path,model,sample_gap,epochs,stepsperepoch,params_train,params_test)\n",
    "\n",
    "#get a fully trained model for the test predictions\n",
    "fully_train_model = cnn_module.fit_model(model,training_generator,prediction_generator,epochs,stepsperepoch,validate_steps,params_train,params_test)\n",
    "#make the test predictions.\n",
    "test_predictions = cnn_module.predict(test_labels,video_path,fully_train_model,sample_gap,params_test)\n"
   ]
  },
  {
   "cell_type": "code",
   "execution_count": null,
   "metadata": {},
   "outputs": [],
   "source": [
    "\n"
   ]
  },
  {
   "cell_type": "markdown",
   "metadata": {},
   "source": [
    "Now we want to get our fluctuations and lengths. We can do this using the Get_Simple_Fluctuations_Average_Intensity module."
   ]
  },
  {
   "cell_type": "code",
   "execution_count": null,
   "metadata": {},
   "outputs": [],
   "source": []
  },
  {
   "cell_type": "code",
   "execution_count": null,
   "metadata": {},
   "outputs": [],
   "source": [
    "import Get_Simple_Fluctuations_Average_Intensity as simp"
   ]
  },
  {
   "cell_type": "code",
   "execution_count": null,
   "metadata": {},
   "outputs": [],
   "source": [
    "control_flucs_csv =  simp.flucs_from_csv('/home/ubuntu/data/resistant/')\n",
    "print(control_flucs_csv)\n",
    "sus_flucs_csv = simp.flucs_from_csv('/home/ubuntu/data/susceptible/')\n",
    "print(sus_flucs_csv)\n",
    "#combine dictionaries\n",
    "all_flucs = {**control_flucs_csv, **sus_flucs_csv} \n",
    "\n",
    "control_lengths = simp.getlengths('/home/ubuntu/data/resistant/')\n",
    "sus_lengths = simp.getlengths('/home/ubuntu/data/susceptible/')\n",
    "all_lengths = control_lengths+sus_lengths"
   ]
  },
  {
   "cell_type": "markdown",
   "metadata": {},
   "source": [
    "We also want the labels"
   ]
  },
  {
   "cell_type": "code",
   "execution_count": null,
   "metadata": {},
   "outputs": [],
   "source": [
    "targets = simp.gettargets('/home/ubuntu/data/resistant/','/home/ubuntu/data/susceptible/')"
   ]
  },
  {
   "cell_type": "markdown",
   "metadata": {},
   "source": [
    "We can compile these together. We iterate through the all_lengths list, getting the path and length from each element (ignoring the centre position which is also given by simp.getlengths with _ )\n",
    "\n",
    "We then make a new dictionary, where each key is the path of the cell, and the value is (length, fluctuation, label)"
   ]
  },
  {
   "cell_type": "code",
   "execution_count": null,
   "metadata": {},
   "outputs": [],
   "source": [
    "result_dict = {}\n",
    "for path, length, _ in all_lengths:\n",
    "    result_dict[path]=(length,all_flucs[path],targets[path])"
   ]
  },
  {
   "cell_type": "markdown",
   "metadata": {},
   "source": [
    "Now we have 3 results dictionaries. These are the train CNN predictions, the test CNN predictions, and the fluctuations and lengths.\n",
    "\n",
    "The train/test CNN predictions are on images, but the flucs/lengths are per cell. We need to do some work to get cell-level predictions from the image level predictions\n",
    "\n",
    "The code for gluing the cnn predictions to the flucs/lengths is called the glue_code"
   ]
  },
  {
   "cell_type": "code",
   "execution_count": null,
   "metadata": {},
   "outputs": [],
   "source": [
    "import glue_code"
   ]
  },
  {
   "cell_type": "code",
   "execution_count": null,
   "metadata": {},
   "outputs": [],
   "source": [
    "#First find the cells in the train and test partitions\n",
    "test_cells = sorted(glue_code.partition_to_keys(list(test_predictions.keys())))\n",
    "train_cells = sorted(glue_code.partition_to_keys(list(train_preds.keys())))"
   ]
  },
  {
   "cell_type": "code",
   "execution_count": null,
   "metadata": {},
   "outputs": [],
   "source": [
    "#go from list of cells, to list of lists of images from each cell\n",
    "cell_ims_test = glue_code.split_preds_into_cells(test_predictions,test_cells)\n",
    "cell_ims_train = glue_code.split_preds_into_cells(train_preds,train_cells)\n",
    "\n",
    "#get the av score for susceptible, and proportion of images classified as susceptible\n",
    "cell_predictions_test = glue_code.get_cell_predictions(cell_ims_test,test_predictions)\n",
    "cell_predictions_train = glue_code.get_cell_predictions(cell_ims_train,train_preds)"
   ]
  },
  {
   "cell_type": "code",
   "execution_count": null,
   "metadata": {},
   "outputs": [],
   "source": [
    "#glue together CNN predictions and fluctuation/av/lengths/labels\n",
    "\n",
    "test_final = glue_code.glue_flucs_preds(cell_predictions_test,result_dict)\n",
    "train_final = glue_code.glue_flucs_preds(cell_predictions_train,result_dict)"
   ]
  },
  {
   "cell_type": "markdown",
   "metadata": {},
   "source": [
    "We now have 2 beautiful lists, containing test and train data. Each list element is (path of cell, proportion of cell images identified as susceptible, average CNN susceptible image score, cell length, cell fluctuation, correct label)\n",
    "\n",
    "For training a further algorithm on these, we drop the pesky paths, as they are strings, convert to arrays and shuffle."
   ]
  },
  {
   "cell_type": "code",
   "execution_count": null,
   "metadata": {},
   "outputs": [],
   "source": [
    "test_arr =(np.array(test_final)[:,1:].astype(float))\n",
    "train_arr =  (np.array(train_final)[:,1:].astype(float))\n",
    "\n",
    "np.random.shuffle(test_arr)\n",
    "np.random.shuffle(train_arr)"
   ]
  },
  {
   "cell_type": "markdown",
   "metadata": {},
   "source": [
    "Now we split off the labels which we are trying to predict, from the predictors."
   ]
  },
  {
   "cell_type": "code",
   "execution_count": null,
   "metadata": {},
   "outputs": [],
   "source": [
    "Xtrain = train_arr[:,:-1]\n",
    "Ytrain = train_arr[:,-1]\n",
    "\n",
    "Xtest = test_arr[:,:-1]\n",
    "Ytest = test_arr[:,-1]"
   ]
  },
  {
   "cell_type": "markdown",
   "metadata": {},
   "source": [
    "Now we can train our new algorithm! Here we try gradient boosting, but try uncommenting Adaboost and RandomForest too, and play around with their parameters."
   ]
  },
  {
   "cell_type": "code",
   "execution_count": null,
   "metadata": {},
   "outputs": [],
   "source": [
    "from sklearn.ensemble import AdaBoostClassifier, RandomForestClassifier,BaggingClassifier,GradientBoostingClassifier\n",
    "#clf = AdaBoostClassifier(n_estimators=3, random_state=0)\n",
    "clf = RandomForestClassifier(max_depth=1,n_estimators=1, random_state=0)\n",
    "#clf = GradientBoostingClassifier(n_estimators=10,max_depth=1)\n",
    "clf.fit(Xtrain, Ytrain)\n",
    "print(clf.score(Xtest, Ytest))"
   ]
  },
  {
   "cell_type": "code",
   "execution_count": null,
   "metadata": {},
   "outputs": [],
   "source": []
  }
 ],
 "metadata": {
  "kernelspec": {
   "display_name": "Python 3",
   "language": "python",
   "name": "python3"
  },
  "language_info": {
   "codemirror_mode": {
    "name": "ipython",
    "version": 3
   },
   "file_extension": ".py",
   "mimetype": "text/x-python",
   "name": "python",
   "nbconvert_exporter": "python",
   "pygments_lexer": "ipython3",
   "version": "3.6.5"
  }
 },
 "nbformat": 4,
 "nbformat_minor": 2
}
