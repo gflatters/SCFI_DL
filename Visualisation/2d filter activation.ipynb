{
 "cells": [
  {
   "cell_type": "code",
   "execution_count": 1,
   "metadata": {},
   "outputs": [
    {
     "name": "stderr",
     "output_type": "stream",
     "text": [
      "Using TensorFlow backend.\n"
     ]
    },
    {
     "name": "stdout",
     "output_type": "stream",
     "text": [
      "WARNING:tensorflow:From /home/ubuntu/anaconda3/envs/tensorflow_p36/lib/python3.6/site-packages/tensorflow_core/__init__.py:1467: The name tf.estimator.inputs is deprecated. Please use tf.compat.v1.estimator.inputs instead.\n",
      "\n"
     ]
    }
   ],
   "source": [
    "%load_ext autoreload\n",
    "%autoreload 2\n",
    "import sys\n",
    "sys.path.insert(0, \"/home/ubuntu/data/code/Modules/\")\n",
    "import os\n",
    "\n",
    "import numpy as np\n",
    "import CNN_Module as cnn_module\n",
    "import skimage\n",
    "import numpy as np\n",
    "import pickle\n",
    "import gc\n",
    "from albumentations import Compose,HorizontalFlip, VerticalFlip, ToFloat\n",
    "from sklearn.metrics import confusion_matrix\n",
    "import cv2\n",
    "import matplotlib.pyplot as plt\n",
    "from keras import backend\n",
    "from keras.models import Sequential\n",
    "from keras.losses import binary_crossentropy\n",
    "from keras.layers.convolutional import Conv2D, MaxPooling2D\n",
    "from keras.layers import Dense, BatchNormalization, Flatten, Dropout\n",
    "from keras.optimizers import SGD,Adadelta\n",
    "import DataGenerator\n",
    "from albumentations import Compose,HorizontalFlip, VerticalFlip, ToFloat\n",
    "from sklearn.model_selection import KFold\n",
    "from sklearn.metrics import accuracy_score\n",
    "import random\n",
    "import glob\n",
    "import CNN_Module as cnn_module\n",
    "import models\n",
    "import glue_code\n",
    "from keras.utils.layer_utils import print_summary\n",
    "from keras.models import save_model\n",
    "from keras.models import load_model\n",
    "from keras.preprocessing.image import load_img, img_to_array\n",
    "\n",
    "from plotting import visualise_img_in_layer\n",
    "from plotting import plti"
   ]
  },
  {
   "cell_type": "code",
   "execution_count": 2,
   "metadata": {},
   "outputs": [
    {
     "name": "stdout",
     "output_type": "stream",
     "text": [
      "WARNING:tensorflow:From /home/ubuntu/anaconda3/envs/tensorflow_p36/lib/python3.6/site-packages/keras/backend/tensorflow_backend.py:74: The name tf.get_default_graph is deprecated. Please use tf.compat.v1.get_default_graph instead.\n",
      "\n",
      "WARNING:tensorflow:From /home/ubuntu/anaconda3/envs/tensorflow_p36/lib/python3.6/site-packages/keras/backend/tensorflow_backend.py:517: The name tf.placeholder is deprecated. Please use tf.compat.v1.placeholder instead.\n",
      "\n",
      "WARNING:tensorflow:From /home/ubuntu/anaconda3/envs/tensorflow_p36/lib/python3.6/site-packages/keras/backend/tensorflow_backend.py:4138: The name tf.random_uniform is deprecated. Please use tf.random.uniform instead.\n",
      "\n",
      "WARNING:tensorflow:From /home/ubuntu/anaconda3/envs/tensorflow_p36/lib/python3.6/site-packages/keras/backend/tensorflow_backend.py:174: The name tf.get_default_session is deprecated. Please use tf.compat.v1.get_default_session instead.\n",
      "\n",
      "WARNING:tensorflow:From /home/ubuntu/anaconda3/envs/tensorflow_p36/lib/python3.6/site-packages/keras/backend/tensorflow_backend.py:181: The name tf.ConfigProto is deprecated. Please use tf.compat.v1.ConfigProto instead.\n",
      "\n",
      "WARNING:tensorflow:From /home/ubuntu/anaconda3/envs/tensorflow_p36/lib/python3.6/site-packages/keras/backend/tensorflow_backend.py:186: The name tf.Session is deprecated. Please use tf.compat.v1.Session instead.\n",
      "\n",
      "WARNING:tensorflow:From /home/ubuntu/anaconda3/envs/tensorflow_p36/lib/python3.6/site-packages/keras/backend/tensorflow_backend.py:190: The name tf.global_variables is deprecated. Please use tf.compat.v1.global_variables instead.\n",
      "\n",
      "WARNING:tensorflow:From /home/ubuntu/anaconda3/envs/tensorflow_p36/lib/python3.6/site-packages/keras/backend/tensorflow_backend.py:199: The name tf.is_variable_initialized is deprecated. Please use tf.compat.v1.is_variable_initialized instead.\n",
      "\n",
      "WARNING:tensorflow:From /home/ubuntu/anaconda3/envs/tensorflow_p36/lib/python3.6/site-packages/keras/backend/tensorflow_backend.py:206: The name tf.variables_initializer is deprecated. Please use tf.compat.v1.variables_initializer instead.\n",
      "\n",
      "WARNING:tensorflow:From /home/ubuntu/anaconda3/envs/tensorflow_p36/lib/python3.6/site-packages/keras/backend/tensorflow_backend.py:1834: The name tf.nn.fused_batch_norm is deprecated. Please use tf.compat.v1.nn.fused_batch_norm instead.\n",
      "\n",
      "WARNING:tensorflow:From /home/ubuntu/anaconda3/envs/tensorflow_p36/lib/python3.6/site-packages/keras/backend/tensorflow_backend.py:133: The name tf.placeholder_with_default is deprecated. Please use tf.compat.v1.placeholder_with_default instead.\n",
      "\n",
      "WARNING:tensorflow:From /home/ubuntu/anaconda3/envs/tensorflow_p36/lib/python3.6/site-packages/keras/backend/tensorflow_backend.py:3976: The name tf.nn.max_pool is deprecated. Please use tf.nn.max_pool2d instead.\n",
      "\n",
      "WARNING:tensorflow:From /home/ubuntu/anaconda3/envs/tensorflow_p36/lib/python3.6/site-packages/keras/backend/tensorflow_backend.py:3445: calling dropout (from tensorflow.python.ops.nn_ops) with keep_prob is deprecated and will be removed in a future version.\n",
      "Instructions for updating:\n",
      "Please use `rate` instead of `keep_prob`. Rate should be set to `rate = 1 - keep_prob`.\n",
      "WARNING:tensorflow:From /home/ubuntu/anaconda3/envs/tensorflow_p36/lib/python3.6/site-packages/keras/optimizers.py:790: The name tf.train.Optimizer is deprecated. Please use tf.compat.v1.train.Optimizer instead.\n",
      "\n",
      "WARNING:tensorflow:From /home/ubuntu/anaconda3/envs/tensorflow_p36/lib/python3.6/site-packages/keras/backend/tensorflow_backend.py:3376: The name tf.log is deprecated. Please use tf.math.log instead.\n",
      "\n",
      "WARNING:tensorflow:From /home/ubuntu/anaconda3/envs/tensorflow_p36/lib/python3.6/site-packages/tensorflow_core/python/ops/nn_impl.py:183: where (from tensorflow.python.ops.array_ops) is deprecated and will be removed in a future version.\n",
      "Instructions for updating:\n",
      "Use tf.where in 2.0, which has the same broadcast rule as np.where\n",
      "WARNING:tensorflow:From /home/ubuntu/anaconda3/envs/tensorflow_p36/lib/python3.6/site-packages/keras/backend/tensorflow_backend.py:986: The name tf.assign_add is deprecated. Please use tf.compat.v1.assign_add instead.\n",
      "\n",
      "WARNING:tensorflow:From /home/ubuntu/anaconda3/envs/tensorflow_p36/lib/python3.6/site-packages/keras/backend/tensorflow_backend.py:973: The name tf.assign is deprecated. Please use tf.compat.v1.assign instead.\n",
      "\n",
      "Epoch 1/30\n",
      "100/100 [==============================] - 7s 74ms/step - loss: 0.8482 - acc: 0.5828 - val_loss: 0.6652 - val_acc: 0.5915\n",
      "Epoch 2/30\n",
      "100/100 [==============================] - 4s 39ms/step - loss: 0.6473 - acc: 0.6016 - val_loss: 0.6465 - val_acc: 0.7933\n",
      "Epoch 3/30\n",
      "100/100 [==============================] - 4s 39ms/step - loss: 0.6200 - acc: 0.6406 - val_loss: 0.6119 - val_acc: 0.7059\n",
      "Epoch 4/30\n",
      "100/100 [==============================] - 4s 39ms/step - loss: 0.5905 - acc: 0.6713 - val_loss: 0.5839 - val_acc: 0.7680\n",
      "Epoch 5/30\n",
      "100/100 [==============================] - 4s 40ms/step - loss: 0.5631 - acc: 0.6878 - val_loss: 0.5337 - val_acc: 0.7917\n",
      "Epoch 6/30\n",
      "100/100 [==============================] - 4s 40ms/step - loss: 0.5704 - acc: 0.6834 - val_loss: 0.5338 - val_acc: 0.7859\n",
      "Epoch 7/30\n",
      "100/100 [==============================] - 4s 39ms/step - loss: 0.5563 - acc: 0.6850 - val_loss: 0.5224 - val_acc: 0.7704\n",
      "Epoch 8/30\n",
      "100/100 [==============================] - 4s 38ms/step - loss: 0.5427 - acc: 0.7072 - val_loss: 0.5291 - val_acc: 0.7672\n",
      "Epoch 9/30\n",
      "100/100 [==============================] - 4s 40ms/step - loss: 0.5480 - acc: 0.6981 - val_loss: 0.5008 - val_acc: 0.7859\n",
      "Epoch 10/30\n",
      "100/100 [==============================] - 4s 40ms/step - loss: 0.5195 - acc: 0.7244 - val_loss: 0.5039 - val_acc: 0.7908\n",
      "Epoch 11/30\n",
      "100/100 [==============================] - 4s 41ms/step - loss: 0.5170 - acc: 0.7297 - val_loss: 0.4821 - val_acc: 0.7704\n",
      "Epoch 12/30\n",
      "100/100 [==============================] - 4s 39ms/step - loss: 0.5293 - acc: 0.7175 - val_loss: 0.5139 - val_acc: 0.7712\n",
      "Epoch 13/30\n",
      "100/100 [==============================] - 4s 39ms/step - loss: 0.5241 - acc: 0.7284 - val_loss: 0.5073 - val_acc: 0.7778\n",
      "Epoch 14/30\n",
      "100/100 [==============================] - 4s 41ms/step - loss: 0.5025 - acc: 0.7381 - val_loss: 0.5022 - val_acc: 0.7786\n",
      "Epoch 15/30\n",
      "100/100 [==============================] - 4s 39ms/step - loss: 0.5081 - acc: 0.7359 - val_loss: 0.4975 - val_acc: 0.7696\n",
      "Epoch 16/30\n",
      "100/100 [==============================] - 4s 39ms/step - loss: 0.4883 - acc: 0.7441 - val_loss: 0.5025 - val_acc: 0.7721\n",
      "Epoch 17/30\n",
      "100/100 [==============================] - 4s 39ms/step - loss: 0.5012 - acc: 0.7334 - val_loss: 0.5620 - val_acc: 0.6936\n",
      "Epoch 18/30\n",
      "100/100 [==============================] - 4s 42ms/step - loss: 0.4827 - acc: 0.7444 - val_loss: 0.4816 - val_acc: 0.7835\n",
      "Epoch 19/30\n",
      "100/100 [==============================] - 4s 40ms/step - loss: 0.4571 - acc: 0.7650 - val_loss: 0.4693 - val_acc: 0.7859\n",
      "Epoch 20/30\n",
      "100/100 [==============================] - 4s 39ms/step - loss: 0.4605 - acc: 0.7656 - val_loss: 0.4957 - val_acc: 0.7704\n",
      "Epoch 21/30\n",
      "100/100 [==============================] - 4s 39ms/step - loss: 0.4766 - acc: 0.7481 - val_loss: 0.4837 - val_acc: 0.7810\n",
      "Epoch 22/30\n",
      "100/100 [==============================] - 4s 40ms/step - loss: 0.4760 - acc: 0.7459 - val_loss: 0.4861 - val_acc: 0.7729\n",
      "Epoch 23/30\n",
      "100/100 [==============================] - 4s 40ms/step - loss: 0.4488 - acc: 0.7678 - val_loss: 0.4642 - val_acc: 0.7827\n",
      "Epoch 24/30\n",
      "100/100 [==============================] - 4s 39ms/step - loss: 0.4498 - acc: 0.7641 - val_loss: 0.5572 - val_acc: 0.7034\n",
      "Epoch 25/30\n",
      "100/100 [==============================] - 4s 38ms/step - loss: 0.4367 - acc: 0.7709 - val_loss: 0.5131 - val_acc: 0.7459\n",
      "Epoch 26/30\n",
      "100/100 [==============================] - 4s 40ms/step - loss: 0.4296 - acc: 0.7872 - val_loss: 0.9803 - val_acc: 0.5547\n",
      "Epoch 27/30\n",
      "100/100 [==============================] - 4s 42ms/step - loss: 0.4214 - acc: 0.7837 - val_loss: 0.4753 - val_acc: 0.7900\n",
      "Epoch 28/30\n",
      "100/100 [==============================] - 4s 39ms/step - loss: 0.4206 - acc: 0.7806 - val_loss: 0.5099 - val_acc: 0.7884\n",
      "Epoch 29/30\n",
      "100/100 [==============================] - 4s 39ms/step - loss: 0.4318 - acc: 0.7831 - val_loss: 0.4856 - val_acc: 0.7966\n",
      "Epoch 30/30\n"
     ]
    },
    {
     "name": "stdout",
     "output_type": "stream",
     "text": [
      "100/100 [==============================] - 4s 40ms/step - loss: 0.4214 - acc: 0.7922 - val_loss: 0.5000 - val_acc: 0.7680\n"
     ]
    }
   ],
   "source": [
    "result_acc = []\n",
    "result_val_acc = []\n",
    "\n",
    "video_path = '/cropped_video100_140'\n",
    "sample_gap = 10\n",
    "epochs=30\n",
    "stepsperepoch=100\n",
    "\n",
    "#prep cells for feeding into CNN\n",
    "control_cells = np.array(cnn_module.findallcells_indir('/home/ubuntu/data/susceptible/'))\n",
    "sus_cells     = np.array(cnn_module.findallcells_indir('/home/ubuntu/data/resistant/'))\n",
    "\n",
    "#label cells, and split cells into test and train, making sure to have equal proportion of sus and ctrl in both\n",
    "control_cells_label = cnn_module.create_label_dict(control_cells,0)\n",
    "sus_cells_label  = cnn_module.create_label_dict(sus_cells,1)\n",
    "train_ctrl, test_ctrl = cnn_module.split_train_test(control_cells_label,0.9)\n",
    "train_sus, test_sus = cnn_module.split_train_test(sus_cells_label,0.9)\n",
    "train_labels = train_ctrl+train_sus\n",
    "test_labels = test_ctrl+test_sus\n",
    "\n",
    "\n",
    "im_paths_train, im_labels_train, im_paths_test, im_labels_test = cnn_module.get_labels_images(train_labels,test_labels,video_path,sample_gap)\n",
    "random.shuffle(im_paths_train)\n",
    "random.shuffle(im_paths_test)\n",
    "\n",
    "model = models.get_luke_model_140_2((140,100,1))\n",
    "\n",
    "augment_train, augment_valid = cnn_module.get_augmentations_train_test()\n",
    "params_train, params_test = cnn_module.get_params_train_test(140,100,augment_valid,augment_valid) #no flipping\n",
    "\n",
    "training_generator = DataGenerator.DataGenerator(im_paths_train, im_labels_train, **params_train)\n",
    "prediction_generator = DataGenerator.DataGenerator(im_paths_test, im_labels_test, **params_test)\n",
    "\n",
    "validate_steps = len(im_paths_test)//32\n",
    "\n",
    "fully_train_model = cnn_module.fit_model(model,training_generator,prediction_generator,epochs,stepsperepoch,validate_steps,params_train,params_test)\n",
    "#pickle.dump(fully_train_model, open(\"/home/ubuntu/data/code/Visualisation/2d100_140nn.p\", \"wb\"))"
   ]
  },
  {
   "cell_type": "code",
   "execution_count": 2,
   "metadata": {},
   "outputs": [
    {
     "name": "stdout",
     "output_type": "stream",
     "text": [
      "WARNING:tensorflow:From /home/ubuntu/anaconda3/envs/tensorflow_p36/lib/python3.6/site-packages/keras/backend/tensorflow_backend.py:517: The name tf.placeholder is deprecated. Please use tf.compat.v1.placeholder instead.\n",
      "\n",
      "WARNING:tensorflow:From /home/ubuntu/anaconda3/envs/tensorflow_p36/lib/python3.6/site-packages/keras/backend/tensorflow_backend.py:4138: The name tf.random_uniform is deprecated. Please use tf.random.uniform instead.\n",
      "\n",
      "WARNING:tensorflow:From /home/ubuntu/anaconda3/envs/tensorflow_p36/lib/python3.6/site-packages/keras/backend/tensorflow_backend.py:245: The name tf.get_default_graph is deprecated. Please use tf.compat.v1.get_default_graph instead.\n",
      "\n",
      "WARNING:tensorflow:From /home/ubuntu/anaconda3/envs/tensorflow_p36/lib/python3.6/site-packages/keras/backend/tensorflow_backend.py:174: The name tf.get_default_session is deprecated. Please use tf.compat.v1.get_default_session instead.\n",
      "\n",
      "WARNING:tensorflow:From /home/ubuntu/anaconda3/envs/tensorflow_p36/lib/python3.6/site-packages/keras/backend/tensorflow_backend.py:184: The name tf.ConfigProto is deprecated. Please use tf.compat.v1.ConfigProto instead.\n",
      "\n",
      "WARNING:tensorflow:From /home/ubuntu/anaconda3/envs/tensorflow_p36/lib/python3.6/site-packages/keras/backend/tensorflow_backend.py:186: The name tf.Session is deprecated. Please use tf.compat.v1.Session instead.\n",
      "\n",
      "WARNING:tensorflow:From /home/ubuntu/anaconda3/envs/tensorflow_p36/lib/python3.6/site-packages/keras/backend/tensorflow_backend.py:190: The name tf.global_variables is deprecated. Please use tf.compat.v1.global_variables instead.\n",
      "\n",
      "WARNING:tensorflow:From /home/ubuntu/anaconda3/envs/tensorflow_p36/lib/python3.6/site-packages/keras/backend/tensorflow_backend.py:199: The name tf.is_variable_initialized is deprecated. Please use tf.compat.v1.is_variable_initialized instead.\n",
      "\n",
      "WARNING:tensorflow:From /home/ubuntu/anaconda3/envs/tensorflow_p36/lib/python3.6/site-packages/keras/backend/tensorflow_backend.py:206: The name tf.variables_initializer is deprecated. Please use tf.compat.v1.variables_initializer instead.\n",
      "\n",
      "WARNING:tensorflow:From /home/ubuntu/anaconda3/envs/tensorflow_p36/lib/python3.6/site-packages/keras/backend/tensorflow_backend.py:1834: The name tf.nn.fused_batch_norm is deprecated. Please use tf.compat.v1.nn.fused_batch_norm instead.\n",
      "\n",
      "WARNING:tensorflow:From /home/ubuntu/anaconda3/envs/tensorflow_p36/lib/python3.6/site-packages/keras/backend/tensorflow_backend.py:133: The name tf.placeholder_with_default is deprecated. Please use tf.compat.v1.placeholder_with_default instead.\n",
      "\n",
      "WARNING:tensorflow:From /home/ubuntu/anaconda3/envs/tensorflow_p36/lib/python3.6/site-packages/keras/backend/tensorflow_backend.py:3976: The name tf.nn.max_pool is deprecated. Please use tf.nn.max_pool2d instead.\n",
      "\n",
      "WARNING:tensorflow:From /home/ubuntu/anaconda3/envs/tensorflow_p36/lib/python3.6/site-packages/keras/backend/tensorflow_backend.py:3445: calling dropout (from tensorflow.python.ops.nn_ops) with keep_prob is deprecated and will be removed in a future version.\n",
      "Instructions for updating:\n",
      "Please use `rate` instead of `keep_prob`. Rate should be set to `rate = 1 - keep_prob`.\n",
      "WARNING:tensorflow:From /home/ubuntu/anaconda3/envs/tensorflow_p36/lib/python3.6/site-packages/keras/optimizers.py:790: The name tf.train.Optimizer is deprecated. Please use tf.compat.v1.train.Optimizer instead.\n",
      "\n",
      "WARNING:tensorflow:From /home/ubuntu/anaconda3/envs/tensorflow_p36/lib/python3.6/site-packages/keras/backend/tensorflow_backend.py:3376: The name tf.log is deprecated. Please use tf.math.log instead.\n",
      "\n",
      "WARNING:tensorflow:From /home/ubuntu/anaconda3/envs/tensorflow_p36/lib/python3.6/site-packages/tensorflow_core/python/ops/nn_impl.py:183: where (from tensorflow.python.ops.array_ops) is deprecated and will be removed in a future version.\n",
      "Instructions for updating:\n",
      "Use tf.where in 2.0, which has the same broadcast rule as np.where\n",
      "WARNING:tensorflow:From /home/ubuntu/anaconda3/envs/tensorflow_p36/lib/python3.6/site-packages/keras/backend/tensorflow_backend.py:986: The name tf.assign_add is deprecated. Please use tf.compat.v1.assign_add instead.\n",
      "\n",
      "WARNING:tensorflow:From /home/ubuntu/anaconda3/envs/tensorflow_p36/lib/python3.6/site-packages/keras/backend/tensorflow_backend.py:973: The name tf.assign is deprecated. Please use tf.compat.v1.assign instead.\n",
      "\n",
      "_________________________________________________________________\n",
      "Layer (type)                 Output Shape              Param #   \n",
      "=================================================================\n",
      "conv2d_1 (Conv2D)            (None, 140, 100, 32)      320       \n",
      "_________________________________________________________________\n",
      "batch_normalization_1 (Batch (None, 140, 100, 32)      128       \n",
      "_________________________________________________________________\n",
      "max_pooling2d_1 (MaxPooling2 (None, 70, 50, 32)        0         \n",
      "_________________________________________________________________\n",
      "conv2d_2 (Conv2D)            (None, 70, 50, 32)        9248      \n",
      "_________________________________________________________________\n",
      "batch_normalization_2 (Batch (None, 70, 50, 32)        128       \n",
      "_________________________________________________________________\n",
      "max_pooling2d_2 (MaxPooling2 (None, 35, 25, 32)        0         \n",
      "_________________________________________________________________\n",
      "conv2d_3 (Conv2D)            (None, 35, 25, 32)        9248      \n",
      "_________________________________________________________________\n",
      "batch_normalization_3 (Batch (None, 35, 25, 32)        128       \n",
      "_________________________________________________________________\n",
      "max_pooling2d_3 (MaxPooling2 (None, 17, 12, 32)        0         \n",
      "_________________________________________________________________\n",
      "conv2d_4 (Conv2D)            (None, 17, 12, 64)        18496     \n",
      "_________________________________________________________________\n",
      "batch_normalization_4 (Batch (None, 17, 12, 64)        256       \n",
      "_________________________________________________________________\n",
      "max_pooling2d_4 (MaxPooling2 (None, 8, 6, 64)          0         \n",
      "_________________________________________________________________\n",
      "flatten_1 (Flatten)          (None, 3072)              0         \n",
      "_________________________________________________________________\n",
      "dropout_1 (Dropout)          (None, 3072)              0         \n",
      "_________________________________________________________________\n",
      "dense_1 (Dense)              (None, 512)               1573376   \n",
      "_________________________________________________________________\n",
      "dropout_2 (Dropout)          (None, 512)               0         \n",
      "_________________________________________________________________\n",
      "dense_2 (Dense)              (None, 64)                32832     \n",
      "_________________________________________________________________\n",
      "dropout_3 (Dropout)          (None, 64)                0         \n",
      "_________________________________________________________________\n",
      "dense_3 (Dense)              (None, 2)                 130       \n",
      "=================================================================\n",
      "Total params: 1,644,290\n",
      "Trainable params: 1,643,970\n",
      "Non-trainable params: 320\n",
      "_________________________________________________________________\n",
      "None\n"
     ]
    }
   ],
   "source": [
    "#save_model(fully_train_model,\"/home/ubuntu/data/code/visualisation/2d_cipro1\")\n",
    "model = load_model(\"/home/ubuntu/data/code/visualisation/2d_cipro1\")\n",
    "\n",
    "#model = fully_train_model\n",
    "print(model.summary())"
   ]
  },
  {
   "cell_type": "code",
   "execution_count": 2,
   "metadata": {},
   "outputs": [
    {
     "name": "stdout",
     "output_type": "stream",
     "text": [
      "/home/ubuntu/data/resistant/sample28/cell330/cropped_video100_140/croppedvideo000.tiff\n"
     ]
    }
   ],
   "source": [
    "# pick image\n",
    "\n",
    "## resistant image\n",
    "#test_image_path = ('/home/ubuntu/data/resistant/sample24/cell167/cropped_video100_140/croppedvideo000.tiff')\n",
    "## susceptible image\n",
    "test_image_path = ('/home/ubuntu/data/resistant/sample28/cell330/cropped_video100_140/croppedvideo000.tiff')\n",
    "print(test_image_path)"
   ]
  },
  {
   "cell_type": "code",
   "execution_count": 3,
   "metadata": {},
   "outputs": [
    {
     "data": {
      "text/plain": [
       "<matplotlib.image.AxesImage at 0x7f29a15aeac8>"
      ]
     },
     "execution_count": 3,
     "metadata": {},
     "output_type": "execute_result"
    },
    {
     "data": {
      "image/png": "[encoded data removed]",
      "text/plain": [
       "<Figure size 432x288 with 1 Axes>"
      ]
     },
     "metadata": {},
     "output_type": "display_data"
    }
   ],
   "source": [
    "test_image = load_img(test_image_path, color_mode='grayscale')\n",
    "from PIL import Image\n",
    "from matplotlib.pyplot import imshow\n",
    "#imshow(test_image, cmap='veridis')\n",
    "imshow(test_image, cmap='gist_gray')"
   ]
  },
  {
   "cell_type": "code",
   "execution_count": 4,
   "metadata": {},
   "outputs": [
    {
     "data": {
      "image/png": "[encoded data removed]",
      "text/plain": [
       "<Figure size 806.4x576 with 1 Axes>"
      ]
     },
     "metadata": {},
     "output_type": "display_data"
    }
   ],
   "source": [
    "test_image = img_to_array(test_image)\n",
    "img_to_visualize = np.expand_dims(test_image, axis=0)\n",
    "plti(np.squeeze(test_image), h=8)"
   ]
  },
  {
   "cell_type": "code",
   "execution_count": 5,
   "metadata": {},
   "outputs": [
    {
     "ename": "NameError",
     "evalue": "name 'model' is not defined",
     "output_type": "error",
     "traceback": [
      "\u001b[0;31m---------------------------------------------------------------------------\u001b[0m",
      "\u001b[0;31mNameError\u001b[0m                                 Traceback (most recent call last)",
      "\u001b[0;32m<ipython-input-5-55c6e93905f7>\u001b[0m in \u001b[0;36m<module>\u001b[0;34m()\u001b[0m\n\u001b[0;32m----> 1\u001b[0;31m \u001b[0mlayer\u001b[0m \u001b[0;34m=\u001b[0m \u001b[0mmodel\u001b[0m\u001b[0;34m.\u001b[0m\u001b[0mget_layer\u001b[0m\u001b[0;34m(\u001b[0m\u001b[0;34m'conv2d_1'\u001b[0m\u001b[0;34m)\u001b[0m\u001b[0;34m\u001b[0m\u001b[0m\n\u001b[0m\u001b[1;32m      2\u001b[0m \u001b[0mvisualise_img_in_layer\u001b[0m\u001b[0;34m(\u001b[0m\u001b[0mmodel\u001b[0m\u001b[0;34m,\u001b[0m \u001b[0mlayer\u001b[0m\u001b[0;34m,\u001b[0m \u001b[0mimg_to_visualize\u001b[0m\u001b[0;34m)\u001b[0m\u001b[0;34m\u001b[0m\u001b[0m\n",
      "\u001b[0;31mNameError\u001b[0m: name 'model' is not defined"
     ]
    }
   ],
   "source": [
    "layer = model.get_layer('conv2d_1')\n",
    "visualise_img_in_layer(model, layer, img_to_visualize)"
   ]
  },
  {
   "cell_type": "code",
   "execution_count": null,
   "metadata": {},
   "outputs": [],
   "source": []
  },
  {
   "cell_type": "code",
   "execution_count": null,
   "metadata": {},
   "outputs": [],
   "source": []
  },
  {
   "cell_type": "code",
   "execution_count": null,
   "metadata": {},
   "outputs": [],
   "source": []
  }
 ],
 "metadata": {
  "kernelspec": {
   "display_name": "Python 3",
   "language": "python",
   "name": "python3"
  },
  "language_info": {
   "codemirror_mode": {
    "name": "ipython",
    "version": 3
   },
   "file_extension": ".py",
   "mimetype": "text/x-python",
   "name": "python",
   "nbconvert_exporter": "python",
   "pygments_lexer": "ipython3",
   "version": "3.6.5"
  }
 },
 "nbformat": 4,
 "nbformat_minor": 2
}
