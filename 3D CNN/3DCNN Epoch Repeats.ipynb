{
 "cells": [
  {
   "cell_type": "code",
   "execution_count": 1,
   "metadata": {},
   "outputs": [
    {
     "name": "stderr",
     "output_type": "stream",
     "text": [
      "Using TensorFlow backend.\n"
     ]
    },
    {
     "name": "stdout",
     "output_type": "stream",
     "text": [
      "WARNING:tensorflow:From /home/ubuntu/anaconda3/envs/tensorflow_p36/lib/python3.6/site-packages/tensorflow_core/__init__.py:1467: The name tf.estimator.inputs is deprecated. Please use tf.compat.v1.estimator.inputs instead.\n",
      "\n"
     ]
    }
   ],
   "source": [
    "import sys\n",
    "sys.path.insert(0, \"/home/ubuntu/data/code/Modules/\")\n",
    "import CNN_Module as cnn_module\n",
    "import DataGenerator_3d\n",
    "import numpy as np\n",
    "import random\n",
    "import pickle\n",
    "import models\n",
    "import matplotlib.pyplot as plt\n",
    "from sklearn.metrics import confusion_matrix"
   ]
  },
  {
   "cell_type": "code",
   "execution_count": 2,
   "metadata": {},
   "outputs": [
    {
     "data": {
      "text/plain": [
       "<module 'models' from '/home/ubuntu/data/code/Modules/models.py'>"
      ]
     },
     "execution_count": 2,
     "metadata": {},
     "output_type": "execute_result"
    }
   ],
   "source": [
    "import imp\n",
    "imp.reload(models)"
   ]
  },
  {
   "cell_type": "code",
   "execution_count": null,
   "metadata": {
    "scrolled": false
   },
   "outputs": [
    {
     "name": "stdout",
     "output_type": "stream",
     "text": [
      "repeat = 0\n",
      "311\n",
      "351\n",
      "WARNING:tensorflow:From /home/ubuntu/anaconda3/envs/tensorflow_p36/lib/python3.6/site-packages/keras/backend/tensorflow_backend.py:74: The name tf.get_default_graph is deprecated. Please use tf.compat.v1.get_default_graph instead.\n",
      "\n",
      "WARNING:tensorflow:From /home/ubuntu/anaconda3/envs/tensorflow_p36/lib/python3.6/site-packages/keras/backend/tensorflow_backend.py:517: The name tf.placeholder is deprecated. Please use tf.compat.v1.placeholder instead.\n",
      "\n",
      "WARNING:tensorflow:From /home/ubuntu/anaconda3/envs/tensorflow_p36/lib/python3.6/site-packages/keras/backend/tensorflow_backend.py:4138: The name tf.random_uniform is deprecated. Please use tf.random.uniform instead.\n",
      "\n",
      "WARNING:tensorflow:From /home/ubuntu/anaconda3/envs/tensorflow_p36/lib/python3.6/site-packages/keras/backend/tensorflow_backend.py:133: The name tf.placeholder_with_default is deprecated. Please use tf.compat.v1.placeholder_with_default instead.\n",
      "\n",
      "WARNING:tensorflow:From /home/ubuntu/anaconda3/envs/tensorflow_p36/lib/python3.6/site-packages/keras/backend/tensorflow_backend.py:3445: calling dropout (from tensorflow.python.ops.nn_ops) with keep_prob is deprecated and will be removed in a future version.\n",
      "Instructions for updating:\n",
      "Please use `rate` instead of `keep_prob`. Rate should be set to `rate = 1 - keep_prob`.\n",
      "WARNING:tensorflow:From /home/ubuntu/anaconda3/envs/tensorflow_p36/lib/python3.6/site-packages/keras/optimizers.py:790: The name tf.train.Optimizer is deprecated. Please use tf.compat.v1.train.Optimizer instead.\n",
      "\n",
      "WARNING:tensorflow:From /home/ubuntu/anaconda3/envs/tensorflow_p36/lib/python3.6/site-packages/keras/backend/tensorflow_backend.py:3376: The name tf.log is deprecated. Please use tf.math.log instead.\n",
      "\n",
      "WARNING:tensorflow:From /home/ubuntu/anaconda3/envs/tensorflow_p36/lib/python3.6/site-packages/tensorflow_core/python/ops/nn_impl.py:183: where (from tensorflow.python.ops.array_ops) is deprecated and will be removed in a future version.\n",
      "Instructions for updating:\n",
      "Use tf.where in 2.0, which has the same broadcast rule as np.where\n",
      "WARNING:tensorflow:From /home/ubuntu/anaconda3/envs/tensorflow_p36/lib/python3.6/site-packages/keras/backend/tensorflow_backend.py:986: The name tf.assign_add is deprecated. Please use tf.compat.v1.assign_add instead.\n",
      "\n",
      "WARNING:tensorflow:From /home/ubuntu/anaconda3/envs/tensorflow_p36/lib/python3.6/site-packages/keras/backend/tensorflow_backend.py:973: The name tf.assign is deprecated. Please use tf.compat.v1.assign instead.\n",
      "\n",
      "WARNING:tensorflow:From /home/ubuntu/anaconda3/envs/tensorflow_p36/lib/python3.6/site-packages/keras/backend/tensorflow_backend.py:2741: The name tf.Session is deprecated. Please use tf.compat.v1.Session instead.\n",
      "\n",
      "Epoch 1/25\n",
      "WARNING:tensorflow:From /home/ubuntu/anaconda3/envs/tensorflow_p36/lib/python3.6/site-packages/keras/backend/tensorflow_backend.py:174: The name tf.get_default_session is deprecated. Please use tf.compat.v1.get_default_session instead.\n",
      "\n",
      "WARNING:tensorflow:From /home/ubuntu/anaconda3/envs/tensorflow_p36/lib/python3.6/site-packages/keras/backend/tensorflow_backend.py:181: The name tf.ConfigProto is deprecated. Please use tf.compat.v1.ConfigProto instead.\n",
      "\n",
      "WARNING:tensorflow:From /home/ubuntu/anaconda3/envs/tensorflow_p36/lib/python3.6/site-packages/keras/backend/tensorflow_backend.py:190: The name tf.global_variables is deprecated. Please use tf.compat.v1.global_variables instead.\n",
      "\n",
      "WARNING:tensorflow:From /home/ubuntu/anaconda3/envs/tensorflow_p36/lib/python3.6/site-packages/keras/backend/tensorflow_backend.py:199: The name tf.is_variable_initialized is deprecated. Please use tf.compat.v1.is_variable_initialized instead.\n",
      "\n",
      "WARNING:tensorflow:From /home/ubuntu/anaconda3/envs/tensorflow_p36/lib/python3.6/site-packages/keras/backend/tensorflow_backend.py:206: The name tf.variables_initializer is deprecated. Please use tf.compat.v1.variables_initializer instead.\n",
      "\n",
      "100/100 [==============================] - 74s 744ms/step - loss: 0.6917 - acc: 0.5353 - val_loss: 0.6895 - val_acc: 0.6268\n",
      "Epoch 2/25\n",
      "100/100 [==============================] - 60s 596ms/step - loss: 0.6884 - acc: 0.6119 - val_loss: 0.6837 - val_acc: 0.6596\n",
      "Epoch 3/25\n",
      "100/100 [==============================] - 59s 593ms/step - loss: 0.6850 - acc: 0.6478 - val_loss: 0.6781 - val_acc: 0.6720\n",
      "Epoch 4/25\n",
      "100/100 [==============================] - 60s 596ms/step - loss: 0.6795 - acc: 0.6897 - val_loss: 0.6709 - val_acc: 0.6631\n",
      "Epoch 5/25\n",
      "100/100 [==============================] - 59s 595ms/step - loss: 0.6727 - acc: 0.7119 - val_loss: 0.6619 - val_acc: 0.6498\n",
      "Epoch 6/25\n",
      "100/100 [==============================] - 60s 596ms/step - loss: 0.6657 - acc: 0.7006 - val_loss: 0.6446 - val_acc: 0.6800\n",
      "Epoch 7/25\n",
      "100/100 [==============================] - 59s 593ms/step - loss: 0.6514 - acc: 0.7219 - val_loss: 0.6301 - val_acc: 0.6729\n",
      "Epoch 8/25\n",
      "100/100 [==============================] - 60s 596ms/step - loss: 0.6377 - acc: 0.7113 - val_loss: 0.6129 - val_acc: 0.6857\n",
      "Epoch 9/25\n",
      " 22/100 [=====>........................] - ETA: 37s - loss: 0.6337 - acc: 0.7202"
     ]
    }
   ],
   "source": [
    "import time\n",
    "#result_acc = []\n",
    "#result_val_acc = []\n",
    "start = time.time()\n",
    "for repeat in np.arange(0,1):\n",
    "    print('repeat =', repeat)\n",
    "    #prep cells for feeding into CNN\n",
    "    control_cells = np.array(cnn_module.findallcells_indir('/home/ubuntu/data/resistant/'))\n",
    "    sus_cells     = np.array(cnn_module.findallcells_indir('/home/ubuntu/data/susceptible/'))\n",
    "    print(len(control_cells))\n",
    "    print(len(sus_cells))\n",
    "\n",
    "    #label cells, and split cells into test and train, making sure to have equal proportion of sus and ctrl in both\n",
    "    control_cells_label = cnn_module.create_label_dict(control_cells,0)\n",
    "    sus_cells_label  = cnn_module.create_label_dict(sus_cells,1)\n",
    "\n",
    "    train_ctrl, test_ctrl = cnn_module.split_train_test(control_cells_label,0.8)\n",
    "    train_sus, test_sus = cnn_module.split_train_test(sus_cells_label,0.8)\n",
    "\n",
    "    train_labels = train_ctrl+train_sus\n",
    "    test_labels = test_ctrl+test_sus\n",
    "\n",
    "    video_path = '/cropped_video100_140'\n",
    "    sample_gap = 10\n",
    "    depth = 10\n",
    "    #im_paths_train, im_labels_train = cnn_module.get_labels_images_3d(train_labels,test_labels,video_path,sample_gap,depth)\n",
    "    im_paths_train, im_labels_train, im_paths_test, im_labels_test = cnn_module.get_labels_images_3d(train_labels,test_labels,video_path,sample_gap,depth)\n",
    "    random.shuffle(im_paths_train)\n",
    "    random.shuffle(im_paths_test)\n",
    "\n",
    "    sequence_length=10\n",
    "    \n",
    "    ## MODEL \n",
    "    model = models.get_luke_3d_model2(input_shape=(140,100,1),sequence_length=sequence_length)\n",
    "    \n",
    "    augment_train, augment_valid = cnn_module.get_augmentations_train_test()\n",
    "    params_train, params_test = cnn_module.get_params_train_test(140,100,augment_valid,augment_valid)\n",
    "    params_train['dim']=(sequence_length,140,100)\n",
    "    params_test['dim']=(sequence_length,140,100)\n",
    "\n",
    "    training_generator = DataGenerator_3d.DataGenerator(im_paths_train, im_labels_train, **params_train,depth=depth)\n",
    "    prediction_generator = DataGenerator_3d.DataGenerator(im_paths_test, im_labels_test, **params_test,depth=depth)\n",
    "\n",
    "    epochs=25\n",
    "    stepsperepoch=100\n",
    "    validate_steps = len(im_paths_test)//32\n",
    "    fully_train_model = cnn_module.fit_model(model,training_generator,prediction_generator,epochs,stepsperepoch,validate_steps,params_train,params_test)\n",
    "    \n",
    "    run_val_acc = model.history.history['val_acc']\n",
    "    run_acc = model.history.history['acc']\n",
    "    run_loss = model.history.history['loss']\n",
    "    run_val_loss = model.history.history['val_loss']\n",
    "    result_val_acc.append(run_val_acc)\n",
    "    result_acc.append(run_acc)\n",
    "end = time.time()\n",
    "print('time =', end-start)"
   ]
  },
  {
   "cell_type": "code",
   "execution_count": null,
   "metadata": {},
   "outputs": [],
   "source": [
    "print(result_val_acc)\n",
    "print(result_acc)\n",
    "####################\n",
    "result = [result_val_acc,result_acc]"
   ]
  },
  {
   "cell_type": "code",
   "execution_count": null,
   "metadata": {},
   "outputs": [],
   "source": [
    "pickle.dump(result,open('/home/ubuntu/data/code/3dCNN/3d_kfold_final_cipro.p','wb'))"
   ]
  },
  {
   "cell_type": "code",
   "execution_count": null,
   "metadata": {},
   "outputs": [],
   "source": [
    "result_all=pickle.load(open('/home/ubuntu/data/code/3dCNN/3d_kfold_final_cipro.p','rb'))"
   ]
  },
  {
   "cell_type": "code",
   "execution_count": null,
   "metadata": {},
   "outputs": [],
   "source": [
    "x_vals=np.arange(1,26)\n",
    "\n",
    "\n",
    "plt.style.use('seaborn-darkgrid')\n",
    "\n",
    "plt.scatter(x_vals,run_val_acc,marker='o', alpha= 0.5, label='val acc',color='red')\n",
    "plt.scatter(x_vals,run_acc,marker='o', alpha= 0.5, label='acc',color='blue')\n",
    "#plt.errorbar(x_vals,data_av,std,elinewidth=2,color='maroon',label='std')\n",
    "plt.legend(loc='upper left',frameon=True, fontsize=12)\n",
    "#plt.title('Sample gap vs accuracy')\n",
    "plt.xlabel('Number of Epochs', size = 15)\n",
    "plt.ylabel('Accuracy', size = 15)\n",
    "plt.xticks(np.arange(0, 25, 5))\n",
    "plt.ylim(0.4,1)\n",
    "\n",
    "plt.show()\n",
    "\n",
    "plt.style.use('seaborn-darkgrid')\n",
    "\n",
    "plt.scatter(x_vals,run_val_loss,marker='o', alpha= 0.5, label='val loss',color='red')\n",
    "plt.scatter(x_vals,run_loss,marker='o', alpha= 0.5, label='loss',color='blue')\n",
    "#plt.errorbar(x_vals,data_av,std,elinewidth=2,color='maroon',label='std')\n",
    "plt.legend(loc='lower left',frameon=True, fontsize=12)\n",
    "#plt.title('Sample gap vs accuracy')\n",
    "plt.xlabel('Number of Epochs', size = 15)\n",
    "plt.ylabel('Loss', size = 15)\n",
    "plt.xticks(np.arange(0, 25, 5))\n",
    "\n",
    "plt.show()"
   ]
  },
  {
   "cell_type": "code",
   "execution_count": 7,
   "metadata": {},
   "outputs": [
    {
     "data": {
      "text/plain": [
       "([<matplotlib.axis.XTick at 0x7f16c08a9ac8>,\n",
       "  <matplotlib.axis.XTick at 0x7f16c08a9358>,\n",
       "  <matplotlib.axis.XTick at 0x7f16c08a9208>,\n",
       "  <matplotlib.axis.XTick at 0x7f16c085aba8>,\n",
       "  <matplotlib.axis.XTick at 0x7f16c085a048>],\n",
       " <a list of 5 Text xticklabel objects>)"
      ]
     },
     "execution_count": 7,
     "metadata": {},
     "output_type": "execute_result"
    },
    {
     "data": {
      "image/png": "[encoded data removed]",
      "text/plain": [
       "<Figure size 432x288 with 1 Axes>"
      ]
     },
     "metadata": {},
     "output_type": "display_data"
    }
   ],
   "source": [
    "x_vals=np.arange(1,21)\n",
    "\n",
    "\n",
    "plt.style.use('seaborn-darkgrid')\n",
    "\n",
    "plt.scatter(x_vals,run_val_loss,marker='o', alpha= 0.5, label='val loss',color='red')\n",
    "plt.scatter(x_vals,run_loss,marker='o', alpha= 0.5, label='loss',color='blue')\n",
    "#plt.errorbar(x_vals,data_av,std,elinewidth=2,color='maroon',label='std')\n",
    "plt.legend(loc='lower left',frameon=True, fontsize=12)\n",
    "#plt.title('Sample gap vs accuracy')\n",
    "plt.xlabel('Number of Epochs', size = 15)\n",
    "plt.ylabel('Loss', size = 15)\n",
    "plt.xticks(np.arange(0, 25, 5))"
   ]
  },
  {
   "cell_type": "code",
   "execution_count": null,
   "metadata": {},
   "outputs": [],
   "source": []
  },
  {
   "cell_type": "code",
   "execution_count": null,
   "metadata": {},
   "outputs": [],
   "source": []
  },
  {
   "cell_type": "code",
   "execution_count": null,
   "metadata": {},
   "outputs": [],
   "source": []
  },
  {
   "cell_type": "code",
   "execution_count": null,
   "metadata": {},
   "outputs": [],
   "source": []
  },
  {
   "cell_type": "code",
   "execution_count": null,
   "metadata": {},
   "outputs": [],
   "source": []
  },
  {
   "cell_type": "code",
   "execution_count": 6,
   "metadata": {},
   "outputs": [
    {
     "name": "stdout",
     "output_type": "stream",
     "text": [
      "0.6501551402851622\n"
     ]
    }
   ],
   "source": [
    "###first run: unhash list_res and list_av to open blank list, then hash out for repeats.\n",
    "###Rerun with new result_all to add data to list_res and list_av\n",
    "#if closing and reopening use list_res = pickle.load(open('/home/ubuntu/data/code/3dCNN/test_result_all','rb'))\n",
    "#list_res = []\n",
    "#list_av = []\n",
    "averages = np.average([(np.array(i)[1]) for i in result_val_acc])\n",
    "print(averages)\n",
    "\n",
    "#\n",
    "##list_res.extend(result_all)\n",
    "#print(len(list_res))\n",
    "#print(list_res)\n",
    "\n",
    "#list_av.extend([averages])\n",
    "#print(len(list_av))\n",
    "#print(list_av)\n"
   ]
  },
  {
   "cell_type": "code",
   "execution_count": null,
   "metadata": {},
   "outputs": [],
   "source": [
    "xvals = np.arange(1,26)\n",
    "plt.plot(xvals, averages)"
   ]
  },
  {
   "cell_type": "code",
   "execution_count": null,
   "metadata": {},
   "outputs": [],
   "source": [
    "##save and reload total data set\n",
    "pickle.dump(list_res,open('/home/ubuntu/data/code/3dCNN/test_result_all','wb'))\n",
    "pickle.dump(list_av,open('/home/ubuntu/data/code/3dCNN/test_av_all','wb'))"
   ]
  },
  {
   "cell_type": "code",
   "execution_count": 2,
   "metadata": {},
   "outputs": [],
   "source": [
    "import pickle\n",
    "data=pickle.load(open('/home/ubuntu/data/code/3dCNN/test_result_all','rb'))\n",
    "data_av=pickle.load(open('/home/ubuntu/data/code/3dCNN/test_av_all','rb'))"
   ]
  },
  {
   "cell_type": "code",
   "execution_count": 3,
   "metadata": {},
   "outputs": [
    {
     "data": {
      "text/plain": [
       "[0.6211805587013564,\n",
       " 0.6571180544793606,\n",
       " 0.7272569417953492,\n",
       " 0.6993055570870639,\n",
       " 0.7239583348234494,\n",
       " 0.7324652779847384,\n",
       " 0.6836805567145348]"
      ]
     },
     "execution_count": 3,
     "metadata": {},
     "output_type": "execute_result"
    }
   ],
   "source": [
    "data_av"
   ]
  },
  {
   "cell_type": "code",
   "execution_count": null,
   "metadata": {},
   "outputs": [],
   "source": [
    "x_vals=[1,5,10,15,20,25,30]\n",
    "\n",
    "#bests = [np.max(np.array(i)[:,1]) for i in data]\n",
    "#stds = [np.std(np.array(i)[:,1]) for i in data]\n",
    "\n",
    "plt.style.use('seaborn-darkgrid')\n",
    "\n",
    "plt.scatter(np.array(data)[:,0],np.array(data)[:,1],marker='x', alpha= 0.5, label='Individual runs',color='black')\n",
    "plt.scatter(x_vals,data_av, marker='o', s= 75, label='Averages',color='yellow', edgecolors='black',linewidth=1)\n",
    "#plt.errorbar(x_vals,data_av,std,elinewidth=2,color='maroon',label='std')\n",
    "plt.legend(loc='lower right',frameon=True, fontsize=12)\n",
    "#plt.title('Sample gap vs accuracy')\n",
    "plt.xlabel('Number of Epochs', size = 15)\n",
    "plt.ylabel('Accuracy', size = 15)\n",
    "plt.xticks(np.arange(0, 35, 5))\n",
    "plt.xlim(0,31)\n",
    "plt.ylim(0.5,0.80)\n",
    "\n",
    "#plt.savefig('/home/ubuntu/data/figs/3dEpochs.png', dpi=500)"
   ]
  }
 ],
 "metadata": {
  "kernelspec": {
   "display_name": "Python 3",
   "language": "python",
   "name": "python3"
  },
  "language_info": {
   "codemirror_mode": {
    "name": "ipython",
    "version": 3
   },
   "file_extension": ".py",
   "mimetype": "text/x-python",
   "name": "python",
   "nbconvert_exporter": "python",
   "pygments_lexer": "ipython3",
   "version": "3.6.7"
  }
 },
 "nbformat": 4,
 "nbformat_minor": 2
}
