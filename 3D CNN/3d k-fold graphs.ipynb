{
 "cells": [
  {
   "cell_type": "code",
   "execution_count": 2,
   "metadata": {},
   "outputs": [
    {
     "name": "stderr",
     "output_type": "stream",
     "text": [
      "Using TensorFlow backend.\n"
     ]
    },
    {
     "name": "stdout",
     "output_type": "stream",
     "text": [
      "WARNING:tensorflow:From /home/ubuntu/anaconda3/envs/tensorflow_p36/lib/python3.6/site-packages/tensorflow_core/__init__.py:1467: The name tf.estimator.inputs is deprecated. Please use tf.compat.v1.estimator.inputs instead.\n",
      "\n"
     ]
    }
   ],
   "source": [
    "import sys\n",
    "sys.path.insert(0, \"/home/ubuntu/data/code/Modules/\")\n",
    "import skimage\n",
    "import numpy as np\n",
    "import pickle\n",
    "import gc\n",
    "from albumentations import Compose,HorizontalFlip, VerticalFlip, ToFloat\n",
    "from sklearn.metrics import confusion_matrix\n",
    "import cv2\n",
    "import matplotlib.pyplot as plt\n",
    "from keras import backend\n",
    "from keras.models import Sequential\n",
    "from keras.losses import binary_crossentropy\n",
    "from keras.layers.convolutional import Conv2D, MaxPooling2D\n",
    "from keras.layers import Dense, BatchNormalization, Flatten, Dropout\n",
    "from keras.optimizers import SGD,Adadelta\n",
    "import DataGenerator\n",
    "from albumentations import Compose,HorizontalFlip, VerticalFlip, ToFloat\n",
    "from sklearn.model_selection import KFold\n",
    "import random\n",
    "import glob\n",
    "import CNN_Module as cnn_module\n",
    "import models\n",
    "import DataGenerator_3d\n",
    "import time"
   ]
  },
  {
   "cell_type": "code",
   "execution_count": 3,
   "metadata": {},
   "outputs": [
    {
     "data": {
      "text/plain": [
       "<module 'models' from '/home/ubuntu/data/code/Modules/models.py'>"
      ]
     },
     "execution_count": 3,
     "metadata": {},
     "output_type": "execute_result"
    }
   ],
   "source": [
    "import imp\n",
    "imp.reload(cnn_module)\n",
    "imp.reload(models)"
   ]
  },
  {
   "cell_type": "code",
   "execution_count": 4,
   "metadata": {},
   "outputs": [
    {
     "name": "stdout",
     "output_type": "stream",
     "text": [
      "WARNING:tensorflow:From /home/ubuntu/anaconda3/envs/tensorflow_p36/lib/python3.6/site-packages/keras/backend/tensorflow_backend.py:74: The name tf.get_default_graph is deprecated. Please use tf.compat.v1.get_default_graph instead.\n",
      "\n",
      "WARNING:tensorflow:From /home/ubuntu/anaconda3/envs/tensorflow_p36/lib/python3.6/site-packages/keras/backend/tensorflow_backend.py:517: The name tf.placeholder is deprecated. Please use tf.compat.v1.placeholder instead.\n",
      "\n",
      "WARNING:tensorflow:From /home/ubuntu/anaconda3/envs/tensorflow_p36/lib/python3.6/site-packages/keras/backend/tensorflow_backend.py:4138: The name tf.random_uniform is deprecated. Please use tf.random.uniform instead.\n",
      "\n",
      "WARNING:tensorflow:From /home/ubuntu/anaconda3/envs/tensorflow_p36/lib/python3.6/site-packages/keras/backend/tensorflow_backend.py:133: The name tf.placeholder_with_default is deprecated. Please use tf.compat.v1.placeholder_with_default instead.\n",
      "\n",
      "WARNING:tensorflow:From /home/ubuntu/anaconda3/envs/tensorflow_p36/lib/python3.6/site-packages/keras/backend/tensorflow_backend.py:3445: calling dropout (from tensorflow.python.ops.nn_ops) with keep_prob is deprecated and will be removed in a future version.\n",
      "Instructions for updating:\n",
      "Please use `rate` instead of `keep_prob`. Rate should be set to `rate = 1 - keep_prob`.\n",
      "WARNING:tensorflow:From /home/ubuntu/anaconda3/envs/tensorflow_p36/lib/python3.6/site-packages/keras/optimizers.py:790: The name tf.train.Optimizer is deprecated. Please use tf.compat.v1.train.Optimizer instead.\n",
      "\n",
      "WARNING:tensorflow:From /home/ubuntu/anaconda3/envs/tensorflow_p36/lib/python3.6/site-packages/keras/backend/tensorflow_backend.py:3376: The name tf.log is deprecated. Please use tf.math.log instead.\n",
      "\n",
      "WARNING:tensorflow:From /home/ubuntu/anaconda3/envs/tensorflow_p36/lib/python3.6/site-packages/tensorflow_core/python/ops/nn_impl.py:183: where (from tensorflow.python.ops.array_ops) is deprecated and will be removed in a future version.\n",
      "Instructions for updating:\n",
      "Use tf.where in 2.0, which has the same broadcast rule as np.where\n"
     ]
    }
   ],
   "source": [
    "sequence_length = 10\n",
    "model = models.get_luke_3d_model(input_shape=(140,100,1),sequence_length=sequence_length)\n",
    "\n",
    "augment_train, augment_valid = cnn_module.get_augmentations_train_test()\n",
    "params_train, params_test = cnn_module.get_params_train_test(140,100,augment_train,augment_valid)\n",
    "params_train['dim']=(sequence_length,140,100)\n",
    "params_test['dim']=(sequence_length,140,100)"
   ]
  },
  {
   "cell_type": "code",
   "execution_count": 17,
   "metadata": {},
   "outputs": [
    {
     "name": "stdout",
     "output_type": "stream",
     "text": [
      "696\n",
      "78\n"
     ]
    }
   ],
   "source": []
  },
  {
   "cell_type": "code",
   "execution_count": 6,
   "metadata": {
    "scrolled": true
   },
   "outputs": [
    {
     "name": "stdout",
     "output_type": "stream",
     "text": [
      "repeat = 0\n",
      "458\n",
      "52\n",
      "kfold training\n",
      "92\n",
      "[0 0 0 0 0 0 0 0 0 0 0 0 0 0 0 0 0 0 0 0 0 0 0 0 0 0 0 0 0 0 0 0 0 0 0 0 0\n",
      " 0 0 0 0 0 0 0 0 0 0 0 0 0 0 0 0 0 0 0 0 0 0 0 0 0 0 0 0 0 0 0 0 0 0 0 0 0\n",
      " 0 0 0 0 0 0 0 0 0 0 0 0 0 0 0 0 0 0]\n",
      "WARNING:tensorflow:From /home/ubuntu/anaconda3/envs/tensorflow_p36/lib/python3.6/site-packages/keras/backend/tensorflow_backend.py:986: The name tf.assign_add is deprecated. Please use tf.compat.v1.assign_add instead.\n",
      "\n",
      "WARNING:tensorflow:From /home/ubuntu/anaconda3/envs/tensorflow_p36/lib/python3.6/site-packages/keras/backend/tensorflow_backend.py:973: The name tf.assign is deprecated. Please use tf.compat.v1.assign instead.\n",
      "\n",
      "WARNING:tensorflow:From /home/ubuntu/anaconda3/envs/tensorflow_p36/lib/python3.6/site-packages/keras/backend/tensorflow_backend.py:2741: The name tf.Session is deprecated. Please use tf.compat.v1.Session instead.\n",
      "\n",
      "Epoch 1/2\n",
      "WARNING:tensorflow:From /home/ubuntu/anaconda3/envs/tensorflow_p36/lib/python3.6/site-packages/keras/backend/tensorflow_backend.py:174: The name tf.get_default_session is deprecated. Please use tf.compat.v1.get_default_session instead.\n",
      "\n",
      "WARNING:tensorflow:From /home/ubuntu/anaconda3/envs/tensorflow_p36/lib/python3.6/site-packages/keras/backend/tensorflow_backend.py:181: The name tf.ConfigProto is deprecated. Please use tf.compat.v1.ConfigProto instead.\n",
      "\n",
      "WARNING:tensorflow:From /home/ubuntu/anaconda3/envs/tensorflow_p36/lib/python3.6/site-packages/keras/backend/tensorflow_backend.py:190: The name tf.global_variables is deprecated. Please use tf.compat.v1.global_variables instead.\n",
      "\n",
      "WARNING:tensorflow:From /home/ubuntu/anaconda3/envs/tensorflow_p36/lib/python3.6/site-packages/keras/backend/tensorflow_backend.py:199: The name tf.is_variable_initialized is deprecated. Please use tf.compat.v1.is_variable_initialized instead.\n",
      "\n",
      "WARNING:tensorflow:From /home/ubuntu/anaconda3/envs/tensorflow_p36/lib/python3.6/site-packages/keras/backend/tensorflow_backend.py:206: The name tf.variables_initializer is deprecated. Please use tf.compat.v1.variables_initializer instead.\n",
      "\n",
      "100/100 [==============================] - 93s 934ms/step - loss: 0.5322 - acc: 0.7425 - val_loss: 0.7786 - val_acc: 0.6515\n",
      "Epoch 2/2\n",
      " 33/100 [========>.....................] - ETA: 33s - loss: 0.4179 - acc: 0.8049"
     ]
    },
    {
     "ename": "KeyboardInterrupt",
     "evalue": "",
     "output_type": "error",
     "traceback": [
      "\u001b[0;31m---------------------------------------------------------------------------\u001b[0m",
      "\u001b[0;31mKeyboardInterrupt\u001b[0m                         Traceback (most recent call last)",
      "\u001b[0;32m<ipython-input-6-9008dc88b3bb>\u001b[0m in \u001b[0;36m<module>\u001b[0;34m()\u001b[0m\n\u001b[1;32m     47\u001b[0m     \u001b[0;31m#get kfold predictions from training set\u001b[0m\u001b[0;34m\u001b[0m\u001b[0;34m\u001b[0m\u001b[0;34m\u001b[0m\u001b[0m\n\u001b[1;32m     48\u001b[0m     \u001b[0mprint\u001b[0m\u001b[0;34m(\u001b[0m\u001b[0;34m'kfold training'\u001b[0m\u001b[0;34m)\u001b[0m\u001b[0;34m\u001b[0m\u001b[0;34m\u001b[0m\u001b[0m\n\u001b[0;32m---> 49\u001b[0;31m     \u001b[0mtrain_preds\u001b[0m\u001b[0;34m,\u001b[0m \u001b[0mkfold_val_acc\u001b[0m \u001b[0;34m=\u001b[0m \u001b[0mcnn_module\u001b[0m\u001b[0;34m.\u001b[0m\u001b[0mk_fold_train_3d2\u001b[0m\u001b[0;34m(\u001b[0m\u001b[0mtrain_labels\u001b[0m\u001b[0;34m,\u001b[0m\u001b[0mvideo_path\u001b[0m\u001b[0;34m,\u001b[0m\u001b[0mmodel\u001b[0m\u001b[0;34m,\u001b[0m\u001b[0msample_gap\u001b[0m\u001b[0;34m,\u001b[0m\u001b[0mepochs\u001b[0m\u001b[0;34m,\u001b[0m\u001b[0mstepsperepoch\u001b[0m\u001b[0;34m,\u001b[0m\u001b[0mparams_train\u001b[0m\u001b[0;34m,\u001b[0m\u001b[0mparams_test\u001b[0m\u001b[0;34m,\u001b[0m\u001b[0mdepth\u001b[0m\u001b[0;34m,\u001b[0m\u001b[0msequence_length\u001b[0m\u001b[0;34m)\u001b[0m\u001b[0;34m\u001b[0m\u001b[0;34m\u001b[0m\u001b[0m\n\u001b[0m\u001b[1;32m     50\u001b[0m     \u001b[0mprint\u001b[0m\u001b[0;34m(\u001b[0m\u001b[0;34m'final training'\u001b[0m\u001b[0;34m)\u001b[0m\u001b[0;34m\u001b[0m\u001b[0;34m\u001b[0m\u001b[0m\n\u001b[1;32m     51\u001b[0m \u001b[0;34m\u001b[0m\u001b[0m\n",
      "\u001b[0;32m~/data/code/Modules/CNN_Module.py\u001b[0m in \u001b[0;36mk_fold_train_3d2\u001b[0;34m(train_labels, video_path, model, sample_gap, epochs, stepsperepoch, params_train, params_validate, depth, sequence_length)\u001b[0m\n\u001b[1;32m    362\u001b[0m         \u001b[0mvalidate_steps\u001b[0m \u001b[0;34m=\u001b[0m \u001b[0mlen\u001b[0m\u001b[0;34m(\u001b[0m\u001b[0mim_paths_test\u001b[0m\u001b[0;34m)\u001b[0m\u001b[0;34m//\u001b[0m\u001b[0;36m32\u001b[0m\u001b[0;34m\u001b[0m\u001b[0;34m\u001b[0m\u001b[0m\n\u001b[1;32m    363\u001b[0m         model_history = model.fit_generator(generator=training_generator, validation_data=prediction_generator,\n\u001b[0;32m--> 364\u001b[0;31m                                             validation_steps=len(im_paths_test)//32,epochs = epochs,steps_per_epoch=stepsperepoch)\n\u001b[0m\u001b[1;32m    365\u001b[0m \u001b[0;34m\u001b[0m\u001b[0m\n\u001b[1;32m    366\u001b[0m         \u001b[0;31m##make oof predictions\u001b[0m\u001b[0;34m\u001b[0m\u001b[0;34m\u001b[0m\u001b[0;34m\u001b[0m\u001b[0m\n",
      "\u001b[0;32m~/anaconda3/envs/tensorflow_p36/lib/python3.6/site-packages/keras/legacy/interfaces.py\u001b[0m in \u001b[0;36mwrapper\u001b[0;34m(*args, **kwargs)\u001b[0m\n\u001b[1;32m     89\u001b[0m                 warnings.warn('Update your `' + object_name + '` call to the ' +\n\u001b[1;32m     90\u001b[0m                               'Keras 2 API: ' + signature, stacklevel=2)\n\u001b[0;32m---> 91\u001b[0;31m             \u001b[0;32mreturn\u001b[0m \u001b[0mfunc\u001b[0m\u001b[0;34m(\u001b[0m\u001b[0;34m*\u001b[0m\u001b[0margs\u001b[0m\u001b[0;34m,\u001b[0m \u001b[0;34m**\u001b[0m\u001b[0mkwargs\u001b[0m\u001b[0;34m)\u001b[0m\u001b[0;34m\u001b[0m\u001b[0;34m\u001b[0m\u001b[0m\n\u001b[0m\u001b[1;32m     92\u001b[0m         \u001b[0mwrapper\u001b[0m\u001b[0;34m.\u001b[0m\u001b[0m_original_function\u001b[0m \u001b[0;34m=\u001b[0m \u001b[0mfunc\u001b[0m\u001b[0;34m\u001b[0m\u001b[0;34m\u001b[0m\u001b[0m\n\u001b[1;32m     93\u001b[0m         \u001b[0;32mreturn\u001b[0m \u001b[0mwrapper\u001b[0m\u001b[0;34m\u001b[0m\u001b[0;34m\u001b[0m\u001b[0m\n",
      "\u001b[0;32m~/anaconda3/envs/tensorflow_p36/lib/python3.6/site-packages/keras/engine/training.py\u001b[0m in \u001b[0;36mfit_generator\u001b[0;34m(self, generator, steps_per_epoch, epochs, verbose, callbacks, validation_data, validation_steps, class_weight, max_queue_size, workers, use_multiprocessing, shuffle, initial_epoch)\u001b[0m\n\u001b[1;32m   1416\u001b[0m             \u001b[0muse_multiprocessing\u001b[0m\u001b[0;34m=\u001b[0m\u001b[0muse_multiprocessing\u001b[0m\u001b[0;34m,\u001b[0m\u001b[0;34m\u001b[0m\u001b[0;34m\u001b[0m\u001b[0m\n\u001b[1;32m   1417\u001b[0m             \u001b[0mshuffle\u001b[0m\u001b[0;34m=\u001b[0m\u001b[0mshuffle\u001b[0m\u001b[0;34m,\u001b[0m\u001b[0;34m\u001b[0m\u001b[0;34m\u001b[0m\u001b[0m\n\u001b[0;32m-> 1418\u001b[0;31m             initial_epoch=initial_epoch)\n\u001b[0m\u001b[1;32m   1419\u001b[0m \u001b[0;34m\u001b[0m\u001b[0m\n\u001b[1;32m   1420\u001b[0m     \u001b[0;34m@\u001b[0m\u001b[0minterfaces\u001b[0m\u001b[0;34m.\u001b[0m\u001b[0mlegacy_generator_methods_support\u001b[0m\u001b[0;34m\u001b[0m\u001b[0;34m\u001b[0m\u001b[0m\n",
      "\u001b[0;32m~/anaconda3/envs/tensorflow_p36/lib/python3.6/site-packages/keras/engine/training_generator.py\u001b[0m in \u001b[0;36mfit_generator\u001b[0;34m(model, generator, steps_per_epoch, epochs, verbose, callbacks, validation_data, validation_steps, class_weight, max_queue_size, workers, use_multiprocessing, shuffle, initial_epoch)\u001b[0m\n\u001b[1;32m    215\u001b[0m                 outs = model.train_on_batch(x, y,\n\u001b[1;32m    216\u001b[0m                                             \u001b[0msample_weight\u001b[0m\u001b[0;34m=\u001b[0m\u001b[0msample_weight\u001b[0m\u001b[0;34m,\u001b[0m\u001b[0;34m\u001b[0m\u001b[0;34m\u001b[0m\u001b[0m\n\u001b[0;32m--> 217\u001b[0;31m                                             class_weight=class_weight)\n\u001b[0m\u001b[1;32m    218\u001b[0m \u001b[0;34m\u001b[0m\u001b[0m\n\u001b[1;32m    219\u001b[0m                 \u001b[0mouts\u001b[0m \u001b[0;34m=\u001b[0m \u001b[0mto_list\u001b[0m\u001b[0;34m(\u001b[0m\u001b[0mouts\u001b[0m\u001b[0;34m)\u001b[0m\u001b[0;34m\u001b[0m\u001b[0;34m\u001b[0m\u001b[0m\n",
      "\u001b[0;32m~/anaconda3/envs/tensorflow_p36/lib/python3.6/site-packages/keras/engine/training.py\u001b[0m in \u001b[0;36mtrain_on_batch\u001b[0;34m(self, x, y, sample_weight, class_weight)\u001b[0m\n\u001b[1;32m   1215\u001b[0m             \u001b[0mins\u001b[0m \u001b[0;34m=\u001b[0m \u001b[0mx\u001b[0m \u001b[0;34m+\u001b[0m \u001b[0my\u001b[0m \u001b[0;34m+\u001b[0m \u001b[0msample_weights\u001b[0m\u001b[0;34m\u001b[0m\u001b[0;34m\u001b[0m\u001b[0m\n\u001b[1;32m   1216\u001b[0m         \u001b[0mself\u001b[0m\u001b[0;34m.\u001b[0m\u001b[0m_make_train_function\u001b[0m\u001b[0;34m(\u001b[0m\u001b[0;34m)\u001b[0m\u001b[0;34m\u001b[0m\u001b[0;34m\u001b[0m\u001b[0m\n\u001b[0;32m-> 1217\u001b[0;31m         \u001b[0moutputs\u001b[0m \u001b[0;34m=\u001b[0m \u001b[0mself\u001b[0m\u001b[0;34m.\u001b[0m\u001b[0mtrain_function\u001b[0m\u001b[0;34m(\u001b[0m\u001b[0mins\u001b[0m\u001b[0;34m)\u001b[0m\u001b[0;34m\u001b[0m\u001b[0;34m\u001b[0m\u001b[0m\n\u001b[0m\u001b[1;32m   1218\u001b[0m         \u001b[0;32mreturn\u001b[0m \u001b[0munpack_singleton\u001b[0m\u001b[0;34m(\u001b[0m\u001b[0moutputs\u001b[0m\u001b[0;34m)\u001b[0m\u001b[0;34m\u001b[0m\u001b[0;34m\u001b[0m\u001b[0m\n\u001b[1;32m   1219\u001b[0m \u001b[0;34m\u001b[0m\u001b[0m\n",
      "\u001b[0;32m~/anaconda3/envs/tensorflow_p36/lib/python3.6/site-packages/keras/backend/tensorflow_backend.py\u001b[0m in \u001b[0;36m__call__\u001b[0;34m(self, inputs)\u001b[0m\n\u001b[1;32m   2713\u001b[0m                 \u001b[0;32mreturn\u001b[0m \u001b[0mself\u001b[0m\u001b[0;34m.\u001b[0m\u001b[0m_legacy_call\u001b[0m\u001b[0;34m(\u001b[0m\u001b[0minputs\u001b[0m\u001b[0;34m)\u001b[0m\u001b[0;34m\u001b[0m\u001b[0;34m\u001b[0m\u001b[0m\n\u001b[1;32m   2714\u001b[0m \u001b[0;34m\u001b[0m\u001b[0m\n\u001b[0;32m-> 2715\u001b[0;31m             \u001b[0;32mreturn\u001b[0m \u001b[0mself\u001b[0m\u001b[0;34m.\u001b[0m\u001b[0m_call\u001b[0m\u001b[0;34m(\u001b[0m\u001b[0minputs\u001b[0m\u001b[0;34m)\u001b[0m\u001b[0;34m\u001b[0m\u001b[0;34m\u001b[0m\u001b[0m\n\u001b[0m\u001b[1;32m   2716\u001b[0m         \u001b[0;32melse\u001b[0m\u001b[0;34m:\u001b[0m\u001b[0;34m\u001b[0m\u001b[0;34m\u001b[0m\u001b[0m\n\u001b[1;32m   2717\u001b[0m             \u001b[0;32mif\u001b[0m \u001b[0mpy_any\u001b[0m\u001b[0;34m(\u001b[0m\u001b[0mis_tensor\u001b[0m\u001b[0;34m(\u001b[0m\u001b[0mx\u001b[0m\u001b[0;34m)\u001b[0m \u001b[0;32mfor\u001b[0m \u001b[0mx\u001b[0m \u001b[0;32min\u001b[0m \u001b[0minputs\u001b[0m\u001b[0;34m)\u001b[0m\u001b[0;34m:\u001b[0m\u001b[0;34m\u001b[0m\u001b[0;34m\u001b[0m\u001b[0m\n",
      "\u001b[0;32m~/anaconda3/envs/tensorflow_p36/lib/python3.6/site-packages/keras/backend/tensorflow_backend.py\u001b[0m in \u001b[0;36m_call\u001b[0;34m(self, inputs)\u001b[0m\n\u001b[1;32m   2673\u001b[0m             \u001b[0mfetched\u001b[0m \u001b[0;34m=\u001b[0m \u001b[0mself\u001b[0m\u001b[0;34m.\u001b[0m\u001b[0m_callable_fn\u001b[0m\u001b[0;34m(\u001b[0m\u001b[0;34m*\u001b[0m\u001b[0marray_vals\u001b[0m\u001b[0;34m,\u001b[0m \u001b[0mrun_metadata\u001b[0m\u001b[0;34m=\u001b[0m\u001b[0mself\u001b[0m\u001b[0;34m.\u001b[0m\u001b[0mrun_metadata\u001b[0m\u001b[0;34m)\u001b[0m\u001b[0;34m\u001b[0m\u001b[0;34m\u001b[0m\u001b[0m\n\u001b[1;32m   2674\u001b[0m         \u001b[0;32melse\u001b[0m\u001b[0;34m:\u001b[0m\u001b[0;34m\u001b[0m\u001b[0;34m\u001b[0m\u001b[0m\n\u001b[0;32m-> 2675\u001b[0;31m             \u001b[0mfetched\u001b[0m \u001b[0;34m=\u001b[0m \u001b[0mself\u001b[0m\u001b[0;34m.\u001b[0m\u001b[0m_callable_fn\u001b[0m\u001b[0;34m(\u001b[0m\u001b[0;34m*\u001b[0m\u001b[0marray_vals\u001b[0m\u001b[0;34m)\u001b[0m\u001b[0;34m\u001b[0m\u001b[0;34m\u001b[0m\u001b[0m\n\u001b[0m\u001b[1;32m   2676\u001b[0m         \u001b[0;32mreturn\u001b[0m \u001b[0mfetched\u001b[0m\u001b[0;34m[\u001b[0m\u001b[0;34m:\u001b[0m\u001b[0mlen\u001b[0m\u001b[0;34m(\u001b[0m\u001b[0mself\u001b[0m\u001b[0;34m.\u001b[0m\u001b[0moutputs\u001b[0m\u001b[0;34m)\u001b[0m\u001b[0;34m]\u001b[0m\u001b[0;34m\u001b[0m\u001b[0;34m\u001b[0m\u001b[0m\n\u001b[1;32m   2677\u001b[0m \u001b[0;34m\u001b[0m\u001b[0m\n",
      "\u001b[0;32m~/anaconda3/envs/tensorflow_p36/lib/python3.6/site-packages/tensorflow_core/python/client/session.py\u001b[0m in \u001b[0;36m__call__\u001b[0;34m(self, *args, **kwargs)\u001b[0m\n\u001b[1;32m   1470\u001b[0m         ret = tf_session.TF_SessionRunCallable(self._session._session,\n\u001b[1;32m   1471\u001b[0m                                                \u001b[0mself\u001b[0m\u001b[0;34m.\u001b[0m\u001b[0m_handle\u001b[0m\u001b[0;34m,\u001b[0m \u001b[0margs\u001b[0m\u001b[0;34m,\u001b[0m\u001b[0;34m\u001b[0m\u001b[0;34m\u001b[0m\u001b[0m\n\u001b[0;32m-> 1472\u001b[0;31m                                                run_metadata_ptr)\n\u001b[0m\u001b[1;32m   1473\u001b[0m         \u001b[0;32mif\u001b[0m \u001b[0mrun_metadata\u001b[0m\u001b[0;34m:\u001b[0m\u001b[0;34m\u001b[0m\u001b[0;34m\u001b[0m\u001b[0m\n\u001b[1;32m   1474\u001b[0m           \u001b[0mproto_data\u001b[0m \u001b[0;34m=\u001b[0m \u001b[0mtf_session\u001b[0m\u001b[0;34m.\u001b[0m\u001b[0mTF_GetBuffer\u001b[0m\u001b[0;34m(\u001b[0m\u001b[0mrun_metadata_ptr\u001b[0m\u001b[0;34m)\u001b[0m\u001b[0;34m\u001b[0m\u001b[0;34m\u001b[0m\u001b[0m\n",
      "\u001b[0;31mKeyboardInterrupt\u001b[0m: "
     ]
    }
   ],
   "source": [
    "result_val_acc = []\n",
    "result_acc =[]\n",
    "times = []\n",
    "\n",
    "video_path = '/cropped_video100_140'\n",
    "depth = 10\n",
    "sequence_length=10 \n",
    "sample_gap=10 \n",
    "epochs=30\n",
    "stepsperepoch=100\n",
    "\n",
    "for repeat in np.arange(0,1):\n",
    "    start = time.time()\n",
    "    \n",
    "    print('repeat =', repeat)\n",
    "    #prep cells for feeding into CNN\n",
    "    control_cells = np.array(cnn_module.findallcells_indir('/home/ubuntu/data/trimdata/resistant/'))\n",
    "    sus_cells     = np.array(cnn_module.findallcells_indir('/home/ubuntu/data/trimdata/susceptible/'))\n",
    "\n",
    "    #label cells, and split cells into test and train, making sure to have equal proportion of sus and ctrl in both\n",
    "    control_cells_label = cnn_module.create_label_dict(control_cells,0)\n",
    "    sus_cells_label     = cnn_module.create_label_dict(sus_cells,1)\n",
    "\n",
    "    train_ctrl, test_ctrl = cnn_module.split_train_test(control_cells_label,0.9)\n",
    "    train_sus, test_sus = cnn_module.split_train_test(sus_cells_label,0.9)\n",
    "\n",
    "    train_labels = train_ctrl+train_sus\n",
    "    test_labels = test_ctrl+test_sus\n",
    "    \n",
    "    print(len(train_labels))\n",
    "    print(len(test_labels))\n",
    "\n",
    "    #im_paths_train, im_labels_train = cnn_module.get_labels_images_3d(train_labels,test_labels,video_path,sample_gap,depth)\n",
    "    im_paths_train, im_labels_train, im_paths_test, im_labels_test = cnn_module.get_labels_images_3d(train_labels,test_labels,video_path,sample_gap,depth)\n",
    "    #random.shuffle(im_paths_train)\n",
    "    #random.shuffle(im_paths_test)\n",
    "\n",
    "    augment_train, augment_valid = cnn_module.get_augmentations_train_test()\n",
    "\n",
    "    model = models.get_luke_3d_model(input_shape=(140,100,1),sequence_length=sequence_length)\n",
    "    validate_steps = len(im_paths_test)//32\n",
    "    \n",
    "    training_generator = DataGenerator_3d.DataGenerator(im_paths_train, im_labels_train, **params_train,depth=depth)\n",
    "    prediction_generator = DataGenerator_3d.DataGenerator(im_paths_test, im_labels_test, **params_test,depth=depth)\n",
    "    #print(params_train)\n",
    "    \n",
    "    #get kfold predictions from training set \n",
    "    print('kfold training')\n",
    "    train_preds, kfold_val_acc, kfold_acc, kfold_val_loss, kfold_loss = cnn_module.k_fold_train_3d2(train_labels,video_path,model,sample_gap,epochs,stepsperepoch,params_train,params_test,depth,sequence_length)    \n",
    "    print('final training')\n",
    "    \n",
    "    #fully train a model to make predictions on the test set\n",
    "    fully_train_model = cnn_module.fit_model(model,training_generator,prediction_generator,epochs,stepsperepoch,validate_steps,params_train,params_test)\n",
    "    test_predictions = cnn_module.predict(test_labels,video_path,fully_train_model,sample_gap,params_test)\n",
    "    \n",
    "    run_val_acc = model.history.history['val_acc']\n",
    "    run_acc = model.history.history['acc']\n",
    "    end = time.time()\n",
    "    run_time = end-start\n",
    "    print(run_time)\n",
    "    \n",
    "    result_val_acc.append(run_val_acc)\n",
    "    result_acc.append(run_acc)\n",
    "    times.append(run_time)"
   ]
  },
  {
   "cell_type": "code",
   "execution_count": 19,
   "metadata": {},
   "outputs": [
    {
     "name": "stdout",
     "output_type": "stream",
     "text": [
      "[[0.5621069191761736, 0.8750000033738479, 0.5039308194844228, 0.9520440236577448, 0.9606918209003952, 0.5809748442667835, 0.5495283041360244, 0.5047169845059233, 0.8852201239118036, 0.9591194919820102, 0.9158805057687579, 0.7602201261610355, 0.9693396192676617, 0.6257861661461165, 0.9599056581281266, 0.805817610812637, 0.7995283007621765, 0.8655660377358491, 0.9308176063141733, 0.5267295618102236, 0.8985849056603774, 0.9410377313505929, 0.8616352193760421, 0.9339622607770955, 0.9622641453203166, 0.5227987423258008, 0.7767295567494519, 0.7617924539548047, 0.968553456495393, 0.9512578575116284], [0.47272727570750495, 0.6416666713627902, 0.4712121229280125, 0.9121212124824524, 0.5265151554887945, 0.5280303093520078, 0.5462121253663843, 0.908333327553489, 0.9037878762591969, 0.9212121183221991, 0.9689393910494718, 0.6000000032511624, 0.7136363668875261, 0.5363636401566592, 0.8060606078668074, 0.6333333362232555, 0.9416666637767445, 0.5833333389325576, 0.6719696955247358, 0.6386363674293865, 0.867424243146723, 0.5265151565725154, 0.9424242409792813, 0.8984848466786471, 0.5378787929361517, 0.6606060613285412, 0.5477272781458769, 0.771969694441015, 0.5931818225167015, 0.5795454512942921], [0.511437912197674, 0.670751633012996, 0.7998365993593254, 0.48447712554651146, 0.9068627450980392, 0.8047385601436391, 0.4901960807688096, 0.8047385624810761, 0.8602941199844959, 0.5367647076354307, 0.49183006847605987, 0.7949346362375745, 0.8986928100679435, 0.9468954205513, 0.9305555563347012, 0.6887254878586414, 0.48856209481463714, 0.9722222171577752, 0.8357843160629272, 0.9477124179110807, 0.9044117623684453, 0.8848039180624718, 0.9207516347660738, 0.841503268363429, 0.9362745074664846, 0.7173202610483357, 0.8913398642165988, 0.8578431384236205, 0.9076797377829459, 0.9158496704756045], [0.511437912197674, 0.5539215703805288, 0.7499999988312814, 0.8643790869151845, 0.4959150330693114, 0.4771241852465798, 0.6985294146865022, 0.7606209154222526, 0.47385621158515706, 0.8676470588235294, 0.6421568639138165, 0.9313725478508893, 0.4722222238779068, 0.5514705882352942, 0.5016339877072502, 0.9746731987186507, 0.615196079600091, 0.9566993444573646, 0.5196078472277698, 0.8529411764705882, 0.993464049170999, 0.7107843113880531, 0.834150328355677, 0.8937908481149113, 0.8137254866899228, 0.9346405197592342, 0.7197712449466481, 0.9297385589749205, 0.9828431360861835, 0.4754901992924073], [0.5225000029802322, 0.5283333349227906, 0.6900000011920929, 0.5549999982118606, 0.6483333331346511, 0.5674999976158142, 0.8549999988079071, 0.9325000011920929, 0.9724999976158142, 0.9749999952316284, 0.7216666650772094, 0.7766666698455811, 0.9399999964237213, 0.8658333313465119, 0.4733333352208138, 0.6533333349227906, 0.9316666638851165, 0.6333333361148834, 0.85, 0.9833333277702332, 0.48083333522081373, 0.4616666677594185, 0.5341666710376739, 0.8358333337306977, 0.681666665673256, 0.9075000011920928, 0.59, 0.7508333349227905, 0.9316666650772095, 0.9324999976158143]]\n",
      "[[0.7415625, 0.874375, 0.9025, 0.9209375, 0.9453125, 0.9484375, 0.95875, 0.965625, 0.9790625, 0.9675, 0.9803125, 0.9840625, 0.9815625, 0.985625, 0.988125, 0.990625, 0.990625, 0.99, 0.988125, 0.990625, 0.9890625, 0.9921875, 0.9909375, 0.99, 0.9921875, 0.994375, 0.995625, 0.9946875, 0.991875, 0.99625], [0.725, 0.8575, 0.908125, 0.9309375, 0.93875, 0.9559375, 0.965625, 0.965, 0.9740625, 0.9725, 0.9834375, 0.9828125, 0.98125, 0.979375, 0.9859375, 0.9921875, 0.98625, 0.989375, 0.990625, 0.991875, 0.991875, 0.99375, 0.991875, 0.993125, 0.99125, 0.9925, 0.993125, 0.9925, 0.99625, 0.9925], [0.7284375, 0.856875, 0.9009375, 0.928125, 0.9403125, 0.9559375, 0.96125, 0.9640625, 0.974375, 0.9809375, 0.9715625, 0.981875, 0.9840625, 0.9834375, 0.9821875, 0.9884375, 0.9909375, 0.9890625, 0.9934375, 0.99, 0.9890625, 0.99, 0.99375, 0.991875, 0.9928125, 0.9934375, 0.9928125, 0.994375, 0.995625, 0.99125], [0.6465625, 0.82875, 0.8809375, 0.8978125, 0.9209375, 0.936875, 0.955, 0.96625, 0.9684375, 0.9728125, 0.9746875, 0.9809375, 0.9825, 0.985625, 0.979375, 0.9878125, 0.986875, 0.98625, 0.98875, 0.9896875, 0.9915625, 0.995, 0.98875, 0.9934375, 0.99, 0.9928125, 0.9934375, 0.991875, 0.9940625, 0.9896875], [0.7365625, 0.873125, 0.90625, 0.9246875, 0.9409375, 0.9471875, 0.9559375, 0.964375, 0.963125, 0.9771875, 0.9871875, 0.9828125, 0.984375, 0.986875, 0.9821875, 0.985625, 0.99125, 0.994375, 0.989375, 0.9915625, 0.9884375, 0.9915625, 0.988125, 0.995625, 0.9953125, 0.993125, 0.9909375, 0.9946875, 0.990625, 0.9978125]]\n"
     ]
    }
   ],
   "source": [
    "print(result_val_acc)\n",
    "print(result_acc)"
   ]
  },
  {
   "cell_type": "code",
   "execution_count": 20,
   "metadata": {},
   "outputs": [],
   "source": [
    "pickle.dump(result_val_acc,open('/home/ubuntu/data/code/Results/2Dk_val_acc1_cs.p','wb'))\n",
    "pickle.dump(result_acc,open('/home/ubuntu/data/code/Results/2Dk_acc1_cs.p','wb'))"
   ]
  },
  {
   "cell_type": "code",
   "execution_count": 21,
   "metadata": {},
   "outputs": [],
   "source": [
    "import pickle\n",
    "result_val_acc_all=pickle.load(open('/home/ubuntu/data/code/Results/2Dk_val_acc1_cs.p','rb'))\n",
    "result_acc_all=pickle.load(open('/home/ubuntu/data/code/Results/2Dk_acc1_cs.p','rb'))"
   ]
  },
  {
   "cell_type": "code",
   "execution_count": 22,
   "metadata": {},
   "outputs": [
    {
     "name": "stdout",
     "output_type": "stream",
     "text": [
      "[[0.5621069191761736, 0.8750000033738479, 0.5039308194844228, 0.9520440236577448, 0.9606918209003952, 0.5809748442667835, 0.5495283041360244, 0.5047169845059233, 0.8852201239118036, 0.9591194919820102, 0.9158805057687579, 0.7602201261610355, 0.9693396192676617, 0.6257861661461165, 0.9599056581281266, 0.805817610812637, 0.7995283007621765, 0.8655660377358491, 0.9308176063141733, 0.5267295618102236, 0.8985849056603774, 0.9410377313505929, 0.8616352193760421, 0.9339622607770955, 0.9622641453203166, 0.5227987423258008, 0.7767295567494519, 0.7617924539548047, 0.968553456495393, 0.9512578575116284], [0.47272727570750495, 0.6416666713627902, 0.4712121229280125, 0.9121212124824524, 0.5265151554887945, 0.5280303093520078, 0.5462121253663843, 0.908333327553489, 0.9037878762591969, 0.9212121183221991, 0.9689393910494718, 0.6000000032511624, 0.7136363668875261, 0.5363636401566592, 0.8060606078668074, 0.6333333362232555, 0.9416666637767445, 0.5833333389325576, 0.6719696955247358, 0.6386363674293865, 0.867424243146723, 0.5265151565725154, 0.9424242409792813, 0.8984848466786471, 0.5378787929361517, 0.6606060613285412, 0.5477272781458769, 0.771969694441015, 0.5931818225167015, 0.5795454512942921], [0.511437912197674, 0.670751633012996, 0.7998365993593254, 0.48447712554651146, 0.9068627450980392, 0.8047385601436391, 0.4901960807688096, 0.8047385624810761, 0.8602941199844959, 0.5367647076354307, 0.49183006847605987, 0.7949346362375745, 0.8986928100679435, 0.9468954205513, 0.9305555563347012, 0.6887254878586414, 0.48856209481463714, 0.9722222171577752, 0.8357843160629272, 0.9477124179110807, 0.9044117623684453, 0.8848039180624718, 0.9207516347660738, 0.841503268363429, 0.9362745074664846, 0.7173202610483357, 0.8913398642165988, 0.8578431384236205, 0.9076797377829459, 0.9158496704756045], [0.511437912197674, 0.5539215703805288, 0.7499999988312814, 0.8643790869151845, 0.4959150330693114, 0.4771241852465798, 0.6985294146865022, 0.7606209154222526, 0.47385621158515706, 0.8676470588235294, 0.6421568639138165, 0.9313725478508893, 0.4722222238779068, 0.5514705882352942, 0.5016339877072502, 0.9746731987186507, 0.615196079600091, 0.9566993444573646, 0.5196078472277698, 0.8529411764705882, 0.993464049170999, 0.7107843113880531, 0.834150328355677, 0.8937908481149113, 0.8137254866899228, 0.9346405197592342, 0.7197712449466481, 0.9297385589749205, 0.9828431360861835, 0.4754901992924073], [0.5225000029802322, 0.5283333349227906, 0.6900000011920929, 0.5549999982118606, 0.6483333331346511, 0.5674999976158142, 0.8549999988079071, 0.9325000011920929, 0.9724999976158142, 0.9749999952316284, 0.7216666650772094, 0.7766666698455811, 0.9399999964237213, 0.8658333313465119, 0.4733333352208138, 0.6533333349227906, 0.9316666638851165, 0.6333333361148834, 0.85, 0.9833333277702332, 0.48083333522081373, 0.4616666677594185, 0.5341666710376739, 0.8358333337306977, 0.681666665673256, 0.9075000011920928, 0.59, 0.7508333349227905, 0.9316666650772095, 0.9324999976158143]]\n",
      "[0.516042   0.65393464 0.64299591 0.75360429 0.70766362 0.59167358\n",
      " 0.62789318 0.78218196 0.81913167 0.85194867 0.7480947  0.7726388\n",
      " 0.7987782  0.70526983 0.73429783 0.75117659 0.75532396 0.80223085\n",
      " 0.76163589 0.78987057 0.82894366 0.70496156 0.81862562 0.88071491\n",
      " 0.78636192 0.74857312 0.70511359 0.81443544 0.87678496 0.77092864]\n"
     ]
    }
   ],
   "source": [
    "import numpy as np\n",
    "print(result_val_acc_all)\n",
    "val_acc_avg = np.mean(result_val_acc_all, axis = 0)\n",
    "print(val_acc_avg)"
   ]
  },
  {
   "cell_type": "code",
   "execution_count": 23,
   "metadata": {},
   "outputs": [
    {
     "name": "stdout",
     "output_type": "stream",
     "text": [
      "[[0.7415625, 0.874375, 0.9025, 0.9209375, 0.9453125, 0.9484375, 0.95875, 0.965625, 0.9790625, 0.9675, 0.9803125, 0.9840625, 0.9815625, 0.985625, 0.988125, 0.990625, 0.990625, 0.99, 0.988125, 0.990625, 0.9890625, 0.9921875, 0.9909375, 0.99, 0.9921875, 0.994375, 0.995625, 0.9946875, 0.991875, 0.99625], [0.725, 0.8575, 0.908125, 0.9309375, 0.93875, 0.9559375, 0.965625, 0.965, 0.9740625, 0.9725, 0.9834375, 0.9828125, 0.98125, 0.979375, 0.9859375, 0.9921875, 0.98625, 0.989375, 0.990625, 0.991875, 0.991875, 0.99375, 0.991875, 0.993125, 0.99125, 0.9925, 0.993125, 0.9925, 0.99625, 0.9925], [0.7284375, 0.856875, 0.9009375, 0.928125, 0.9403125, 0.9559375, 0.96125, 0.9640625, 0.974375, 0.9809375, 0.9715625, 0.981875, 0.9840625, 0.9834375, 0.9821875, 0.9884375, 0.9909375, 0.9890625, 0.9934375, 0.99, 0.9890625, 0.99, 0.99375, 0.991875, 0.9928125, 0.9934375, 0.9928125, 0.994375, 0.995625, 0.99125], [0.6465625, 0.82875, 0.8809375, 0.8978125, 0.9209375, 0.936875, 0.955, 0.96625, 0.9684375, 0.9728125, 0.9746875, 0.9809375, 0.9825, 0.985625, 0.979375, 0.9878125, 0.986875, 0.98625, 0.98875, 0.9896875, 0.9915625, 0.995, 0.98875, 0.9934375, 0.99, 0.9928125, 0.9934375, 0.991875, 0.9940625, 0.9896875], [0.7365625, 0.873125, 0.90625, 0.9246875, 0.9409375, 0.9471875, 0.9559375, 0.964375, 0.963125, 0.9771875, 0.9871875, 0.9828125, 0.984375, 0.986875, 0.9821875, 0.985625, 0.99125, 0.994375, 0.989375, 0.9915625, 0.9884375, 0.9915625, 0.988125, 0.995625, 0.9953125, 0.993125, 0.9909375, 0.9946875, 0.990625, 0.9978125]]\n",
      "[0.715625  0.858125  0.89975   0.9205    0.93725   0.948875  0.9593125\n",
      " 0.9650625 0.9718125 0.9741875 0.9794375 0.9825    0.98275   0.9841875\n",
      " 0.9835625 0.9889375 0.9891875 0.9898125 0.9900625 0.99075   0.99\n",
      " 0.9925    0.9906875 0.9928125 0.9923125 0.99325   0.9931875 0.993625\n",
      " 0.9936875 0.9935   ]\n"
     ]
    }
   ],
   "source": [
    "import numpy as np\n",
    "print(result_acc_all)\n",
    "acc_avg = np.mean(result_acc_all, axis = 0)\n",
    "print(acc_avg)"
   ]
  },
  {
   "cell_type": "code",
   "execution_count": 25,
   "metadata": {},
   "outputs": [
    {
     "data": {
      "image/png": "[encoded data removed]",
      "text/plain": [
       "<Figure size 432x288 with 1 Axes>"
      ]
     },
     "metadata": {},
     "output_type": "display_data"
    }
   ],
   "source": [
    "x_vals=np.arange(1,31)\n",
    "\n",
    "#bests = [np.max(np.array(i)[:,1]) for i in data]\n",
    "#stds = [np.std(np.array(i)[:,1]) for i in data]\n",
    "\n",
    "plt.style.use('seaborn-darkgrid')\n",
    "\n",
    "#plt.scatter(np.array(data)[:,0],np.array(data)[:,1],marker='x', alpha= 0.5, label='Individual runs',color='black')\n",
    "plt.scatter(x_vals,val_acc_avg, marker='o', s= 75, label='Averages',color='yellow', edgecolors='black',linewidth=1)\n",
    "#plt.errorbar(x_vals,data_av,std,elinewidth=2,color='maroon',label='std')\n",
    "plt.legend(loc='lower right',frameon=True, fontsize=12)\n",
    "#plt.title('Sample gap vs accuracy')\n",
    "plt.xlabel('Number of Epochs', size = 15)\n",
    "plt.ylabel('Accuracy', size = 15)\n",
    "plt.xticks(np.arange(0, 35, 5))\n",
    "plt.xlim(0,31)\n",
    "plt.ylim(0.5,1)\n",
    "\n",
    "#plt.savefig('/home/ubuntu/data/figs/2dk_cs_val_acc.png', dpi=500)"
   ]
  },
  {
   "cell_type": "code",
   "execution_count": 26,
   "metadata": {},
   "outputs": [
    {
     "data": {
      "image/png": "[encoded data removed]",
      "text/plain": [
       "<Figure size 432x288 with 1 Axes>"
      ]
     },
     "metadata": {},
     "output_type": "display_data"
    }
   ],
   "source": [
    "x_vals=np.arange(1,31)\n",
    "\n",
    "#bests = [np.max(np.array(i)[:,1]) for i in data]\n",
    "#stds = [np.std(np.array(i)[:,1]) for i in data]\n",
    "\n",
    "plt.style.use('seaborn-darkgrid')\n",
    "\n",
    "#plt.scatter(np.array(data)[:,0],np.array(data)[:,1],marker='x', alpha= 0.5, label='Individual runs',color='black')\n",
    "plt.scatter(x_vals,acc_avg, marker='o', s= 75, label='Averages',color='yellow', edgecolors='black',linewidth=1)\n",
    "#plt.errorbar(x_vals,data_av,std,elinewidth=2,color='maroon',label='std')\n",
    "plt.legend(loc='lower right',frameon=True, fontsize=12)\n",
    "#plt.title('Sample gap vs accuracy')\n",
    "plt.xlabel('Number of Epochs', size = 15)\n",
    "plt.ylabel('Accuracy', size = 15)\n",
    "plt.xticks(np.arange(0, 35, 5))\n",
    "plt.xlim(0,31)\n",
    "plt.ylim(0.5,1)\n",
    "\n",
    "#plt.savefig('/home/ubuntu/data/figs/2dk_cs_acc.png', dpi=500)"
   ]
  },
  {
   "cell_type": "code",
   "execution_count": 22,
   "metadata": {},
   "outputs": [
    {
     "data": {
      "text/plain": [
       "array([[ 94,  50],\n",
       "       [  5, 139]])"
      ]
     },
     "execution_count": 22,
     "metadata": {},
     "output_type": "execute_result"
    }
   ],
   "source": [
    "prediction_generator = DataGenerator.DataGenerator(im_paths_test, im_labels_test, **params_test)  \n",
    "preds = model.predict_generator(generator=prediction_generator,workers=1,steps = len(im_paths_test)//24, use_multiprocessing=False)\n",
    "filenames_preds = dict(zip(prediction_generator.filenames,preds))\n",
    "im_result = np.array([(im_labels_test[key],np.argmax(filenames_preds[key])) for key in filenames_preds.keys()])\n",
    "confusion_matrix(im_result[:,0], im_result[:,1])"
   ]
  },
  {
   "cell_type": "code",
   "execution_count": 25,
   "metadata": {},
   "outputs": [
    {
     "name": "stdout",
     "output_type": "stream",
     "text": [
      "Normalized\n"
     ]
    },
    {
     "data": {
      "text/plain": [
       "array([[0.65277778, 0.34722222],\n",
       "       [0.03472222, 0.96527778]])"
      ]
     },
     "execution_count": 25,
     "metadata": {},
     "output_type": "execute_result"
    }
   ],
   "source": [
    "print('Normalised')\n",
    "confusion_matrix(im_result[:,0], im_result[:,1])/144"
   ]
  },
  {
   "cell_type": "code",
   "execution_count": 26,
   "metadata": {},
   "outputs": [
    {
     "name": "stdout",
     "output_type": "stream",
     "text": [
      "Accuracy\n"
     ]
    },
    {
     "data": {
      "text/plain": [
       "0.8090277777777778"
      ]
     },
     "execution_count": 26,
     "metadata": {},
     "output_type": "execute_result"
    }
   ],
   "source": [
    "print('Accuracy')\n",
    "(94+139)/(94+139+55)"
   ]
  },
  {
   "cell_type": "code",
   "execution_count": null,
   "metadata": {},
   "outputs": [],
   "source": [
    "test_predictions"
   ]
  },
  {
   "cell_type": "code",
   "execution_count": null,
   "metadata": {},
   "outputs": [],
   "source": [
    "1264+176+95+745"
   ]
  },
  {
   "cell_type": "code",
   "execution_count": null,
   "metadata": {},
   "outputs": [],
   "source": [
    "2009/2280"
   ]
  },
  {
   "cell_type": "code",
   "execution_count": null,
   "metadata": {},
   "outputs": [],
   "source": [
    "sample_gap"
   ]
  },
  {
   "cell_type": "code",
   "execution_count": null,
   "metadata": {},
   "outputs": [],
   "source": []
  }
 ],
 "metadata": {
  "kernelspec": {
   "display_name": "Python 3",
   "language": "python",
   "name": "python3"
  },
  "language_info": {
   "codemirror_mode": {
    "name": "ipython",
    "version": 3
   },
   "file_extension": ".py",
   "mimetype": "text/x-python",
   "name": "python",
   "nbconvert_exporter": "python",
   "pygments_lexer": "ipython3",
   "version": "3.6.7"
  }
 },
 "nbformat": 4,
 "nbformat_minor": 2
}
