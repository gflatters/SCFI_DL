{
 "cells": [
  {
   "cell_type": "code",
   "execution_count": 1,
   "metadata": {},
   "outputs": [
    {
     "name": "stderr",
     "output_type": "stream",
     "text": [
      "Using TensorFlow backend.\n"
     ]
    },
    {
     "name": "stdout",
     "output_type": "stream",
     "text": [
      "WARNING:tensorflow:From /home/ubuntu/anaconda3/envs/tensorflow_p36/lib/python3.6/site-packages/tensorflow_core/__init__.py:1467: The name tf.estimator.inputs is deprecated. Please use tf.compat.v1.estimator.inputs instead.\n",
      "\n"
     ]
    }
   ],
   "source": [
    "import sys\n",
    "sys.path.insert(0, \"/home/ubuntu/data/code/Modules/\")\n",
    "import skimage\n",
    "import numpy as np\n",
    "import pickle\n",
    "import gc\n",
    "from albumentations import Compose,HorizontalFlip, VerticalFlip, ToFloat\n",
    "from sklearn.metrics import confusion_matrix\n",
    "import cv2\n",
    "import matplotlib.pyplot as plt\n",
    "from keras import backend\n",
    "from keras.models import Sequential\n",
    "from keras.losses import binary_crossentropy\n",
    "from keras.layers.convolutional import Conv2D, MaxPooling2D\n",
    "from keras.layers import Dense, BatchNormalization, Flatten, Dropout\n",
    "from keras.optimizers import SGD,Adadelta\n",
    "import DataGenerator\n",
    "from albumentations import Compose,HorizontalFlip, VerticalFlip, ToFloat\n",
    "from sklearn.model_selection import KFold\n",
    "import random\n",
    "import glob\n",
    "import CNN_Module as cnn_module\n",
    "import models\n",
    "import time"
   ]
  },
  {
   "cell_type": "code",
   "execution_count": 2,
   "metadata": {},
   "outputs": [
    {
     "data": {
      "text/plain": [
       "<module 'models' from '/home/ubuntu/data/code/Modules/models.py'>"
      ]
     },
     "execution_count": 2,
     "metadata": {},
     "output_type": "execute_result"
    }
   ],
   "source": [
    "import imp\n",
    "imp.reload(cnn_module)\n",
    "imp.reload(models)"
   ]
  },
  {
   "cell_type": "code",
   "execution_count": 3,
   "metadata": {},
   "outputs": [
    {
     "name": "stdout",
     "output_type": "stream",
     "text": [
      "WARNING:tensorflow:From /home/ubuntu/anaconda3/envs/tensorflow_p36/lib/python3.6/site-packages/keras/backend/tensorflow_backend.py:74: The name tf.get_default_graph is deprecated. Please use tf.compat.v1.get_default_graph instead.\n",
      "\n",
      "WARNING:tensorflow:From /home/ubuntu/anaconda3/envs/tensorflow_p36/lib/python3.6/site-packages/keras/backend/tensorflow_backend.py:517: The name tf.placeholder is deprecated. Please use tf.compat.v1.placeholder instead.\n",
      "\n",
      "WARNING:tensorflow:From /home/ubuntu/anaconda3/envs/tensorflow_p36/lib/python3.6/site-packages/keras/backend/tensorflow_backend.py:4138: The name tf.random_uniform is deprecated. Please use tf.random.uniform instead.\n",
      "\n",
      "WARNING:tensorflow:From /home/ubuntu/anaconda3/envs/tensorflow_p36/lib/python3.6/site-packages/keras/backend/tensorflow_backend.py:174: The name tf.get_default_session is deprecated. Please use tf.compat.v1.get_default_session instead.\n",
      "\n",
      "WARNING:tensorflow:From /home/ubuntu/anaconda3/envs/tensorflow_p36/lib/python3.6/site-packages/keras/backend/tensorflow_backend.py:181: The name tf.ConfigProto is deprecated. Please use tf.compat.v1.ConfigProto instead.\n",
      "\n",
      "WARNING:tensorflow:From /home/ubuntu/anaconda3/envs/tensorflow_p36/lib/python3.6/site-packages/keras/backend/tensorflow_backend.py:186: The name tf.Session is deprecated. Please use tf.compat.v1.Session instead.\n",
      "\n",
      "WARNING:tensorflow:From /home/ubuntu/anaconda3/envs/tensorflow_p36/lib/python3.6/site-packages/keras/backend/tensorflow_backend.py:190: The name tf.global_variables is deprecated. Please use tf.compat.v1.global_variables instead.\n",
      "\n",
      "WARNING:tensorflow:From /home/ubuntu/anaconda3/envs/tensorflow_p36/lib/python3.6/site-packages/keras/backend/tensorflow_backend.py:199: The name tf.is_variable_initialized is deprecated. Please use tf.compat.v1.is_variable_initialized instead.\n",
      "\n",
      "WARNING:tensorflow:From /home/ubuntu/anaconda3/envs/tensorflow_p36/lib/python3.6/site-packages/keras/backend/tensorflow_backend.py:206: The name tf.variables_initializer is deprecated. Please use tf.compat.v1.variables_initializer instead.\n",
      "\n",
      "WARNING:tensorflow:From /home/ubuntu/anaconda3/envs/tensorflow_p36/lib/python3.6/site-packages/keras/backend/tensorflow_backend.py:1834: The name tf.nn.fused_batch_norm is deprecated. Please use tf.compat.v1.nn.fused_batch_norm instead.\n",
      "\n",
      "WARNING:tensorflow:From /home/ubuntu/anaconda3/envs/tensorflow_p36/lib/python3.6/site-packages/keras/backend/tensorflow_backend.py:133: The name tf.placeholder_with_default is deprecated. Please use tf.compat.v1.placeholder_with_default instead.\n",
      "\n",
      "WARNING:tensorflow:From /home/ubuntu/anaconda3/envs/tensorflow_p36/lib/python3.6/site-packages/keras/backend/tensorflow_backend.py:3976: The name tf.nn.max_pool is deprecated. Please use tf.nn.max_pool2d instead.\n",
      "\n",
      "WARNING:tensorflow:From /home/ubuntu/anaconda3/envs/tensorflow_p36/lib/python3.6/site-packages/keras/backend/tensorflow_backend.py:3445: calling dropout (from tensorflow.python.ops.nn_ops) with keep_prob is deprecated and will be removed in a future version.\n",
      "Instructions for updating:\n",
      "Please use `rate` instead of `keep_prob`. Rate should be set to `rate = 1 - keep_prob`.\n",
      "WARNING:tensorflow:From /home/ubuntu/anaconda3/envs/tensorflow_p36/lib/python3.6/site-packages/keras/optimizers.py:790: The name tf.train.Optimizer is deprecated. Please use tf.compat.v1.train.Optimizer instead.\n",
      "\n",
      "WARNING:tensorflow:From /home/ubuntu/anaconda3/envs/tensorflow_p36/lib/python3.6/site-packages/keras/backend/tensorflow_backend.py:3376: The name tf.log is deprecated. Please use tf.math.log instead.\n",
      "\n",
      "WARNING:tensorflow:From /home/ubuntu/anaconda3/envs/tensorflow_p36/lib/python3.6/site-packages/tensorflow_core/python/ops/nn_impl.py:183: where (from tensorflow.python.ops.array_ops) is deprecated and will be removed in a future version.\n",
      "Instructions for updating:\n",
      "Use tf.where in 2.0, which has the same broadcast rule as np.where\n"
     ]
    }
   ],
   "source": [
    "model = models.get_luke_model_140(input_shape=(140,100,1))\n",
    "#model = models.get_luke_model_noBN(140,100)\n",
    "augment_train, augment_valid = cnn_module.get_augmentations_train_test()\n",
    "params_train, params_test = cnn_module.get_params_train_test(140,100,augment_valid,augment_valid)"
   ]
  },
  {
   "cell_type": "code",
   "execution_count": null,
   "metadata": {
    "scrolled": true
   },
   "outputs": [
    {
     "name": "stdout",
     "output_type": "stream",
     "text": [
      "318\n",
      "253\n",
      "362\n",
      "257\n",
      "619\n",
      "fold 1\n",
      "Epoch 1/30\n",
      "100/100 [==============================] - 8s 82ms/step - loss: 2.4097 - acc: 0.5469 - val_loss: 0.6633 - val_acc: 0.7104\n",
      "Epoch 2/30\n",
      "100/100 [==============================] - 6s 65ms/step - loss: 0.7733 - acc: 0.5900 - val_loss: 0.6621 - val_acc: 0.7254\n",
      "Epoch 3/30\n",
      "100/100 [==============================] - 6s 64ms/step - loss: 0.7224 - acc: 0.5978 - val_loss: 0.7632 - val_acc: 0.6525\n",
      "Epoch 4/30\n",
      "100/100 [==============================] - 6s 63ms/step - loss: 0.6765 - acc: 0.6297 - val_loss: 0.8595 - val_acc: 0.7052\n",
      "Epoch 5/30\n",
      "100/100 [==============================] - 6s 63ms/step - loss: 0.6365 - acc: 0.6228 - val_loss: 0.7165 - val_acc: 0.5289\n",
      "Epoch 6/30\n",
      "100/100 [==============================] - 6s 64ms/step - loss: 0.6218 - acc: 0.6669 - val_loss: 1.2648 - val_acc: 0.3895\n",
      "Epoch 7/30\n",
      "100/100 [==============================] - 7s 67ms/step - loss: 0.6128 - acc: 0.6594 - val_loss: 0.7534 - val_acc: 0.6791\n",
      "Epoch 8/30\n",
      "100/100 [==============================] - 6s 64ms/step - loss: 0.5815 - acc: 0.6756 - val_loss: 0.7780 - val_acc: 0.6548\n",
      "Epoch 9/30\n",
      "100/100 [==============================] - 6s 64ms/step - loss: 0.5350 - acc: 0.7125 - val_loss: 4.3206 - val_acc: 0.6840\n",
      "Epoch 10/30\n",
      "100/100 [==============================] - 6s 65ms/step - loss: 0.5273 - acc: 0.7281 - val_loss: 0.7244 - val_acc: 0.6716\n",
      "Epoch 11/30\n",
      "100/100 [==============================] - 6s 64ms/step - loss: 0.4914 - acc: 0.7528 - val_loss: 0.7466 - val_acc: 0.6542\n",
      "Epoch 12/30\n",
      "100/100 [==============================] - 6s 63ms/step - loss: 0.4619 - acc: 0.7706 - val_loss: 0.8805 - val_acc: 0.6270\n",
      "Epoch 13/30\n",
      "100/100 [==============================] - 6s 63ms/step - loss: 0.4232 - acc: 0.7947 - val_loss: 0.9747 - val_acc: 0.6354\n",
      "Epoch 14/30\n",
      "100/100 [==============================] - 6s 64ms/step - loss: 0.3728 - acc: 0.8253 - val_loss: 1.0489 - val_acc: 0.6658\n",
      "Epoch 15/30\n",
      "100/100 [==============================] - 6s 64ms/step - loss: 0.3278 - acc: 0.8616 - val_loss: 1.7191 - val_acc: 0.6128\n",
      "Epoch 16/30\n",
      "100/100 [==============================] - 6s 63ms/step - loss: 0.2817 - acc: 0.8891 - val_loss: 1.3928 - val_acc: 0.5344\n",
      "Epoch 17/30\n",
      "100/100 [==============================] - 6s 63ms/step - loss: 0.2572 - acc: 0.8959 - val_loss: 4.9356 - val_acc: 0.6832\n",
      "Epoch 18/30\n",
      "100/100 [==============================] - 7s 65ms/step - loss: 0.2078 - acc: 0.9209 - val_loss: 1.3900 - val_acc: 0.5822\n",
      "Epoch 19/30\n",
      "100/100 [==============================] - 6s 64ms/step - loss: 0.1517 - acc: 0.9444 - val_loss: 2.8988 - val_acc: 0.5318\n",
      "Epoch 20/30\n",
      "100/100 [==============================] - 6s 63ms/step - loss: 0.1812 - acc: 0.9338 - val_loss: 1.8483 - val_acc: 0.5926\n",
      "Epoch 21/30\n",
      "100/100 [==============================] - 6s 63ms/step - loss: 0.1525 - acc: 0.9444 - val_loss: 2.3715 - val_acc: 0.5133\n",
      "Epoch 22/30\n",
      "100/100 [==============================] - 7s 65ms/step - loss: 0.1354 - acc: 0.9516 - val_loss: 2.9255 - val_acc: 0.5995\n",
      "Epoch 23/30\n",
      "100/100 [==============================] - 6s 64ms/step - loss: 0.1447 - acc: 0.9519 - val_loss: 3.1174 - val_acc: 0.5802\n",
      "Epoch 24/30\n",
      "100/100 [==============================] - 6s 63ms/step - loss: 0.1094 - acc: 0.9566 - val_loss: 4.1781 - val_acc: 0.6429\n",
      "Epoch 25/30\n",
      "100/100 [==============================] - 6s 63ms/step - loss: 0.1132 - acc: 0.9553 - val_loss: 2.1777 - val_acc: 0.6282\n",
      "Epoch 26/30\n",
      "100/100 [==============================] - 6s 64ms/step - loss: 0.1101 - acc: 0.9569 - val_loss: 2.8381 - val_acc: 0.5619\n",
      "Epoch 27/30\n",
      "100/100 [==============================] - 6s 65ms/step - loss: 0.0985 - acc: 0.9584 - val_loss: 3.8923 - val_acc: 0.5535\n",
      "Epoch 28/30\n",
      "100/100 [==============================] - 6s 63ms/step - loss: 0.0906 - acc: 0.9616 - val_loss: 1.6448 - val_acc: 0.5561\n",
      "Epoch 29/30\n",
      "100/100 [==============================] - 6s 64ms/step - loss: 0.1012 - acc: 0.9650 - val_loss: 4.1974 - val_acc: 0.5958\n",
      "Epoch 30/30\n",
      "100/100 [==============================] - 6s 65ms/step - loss: 0.0729 - acc: 0.9694 - val_loss: 4.6307 - val_acc: 0.7023\n",
      "fold 2\n",
      "Epoch 1/30\n",
      "100/100 [==============================] - 6s 64ms/step - loss: 1.2233 - acc: 0.5413 - val_loss: 0.7262 - val_acc: 0.7718\n",
      "Epoch 2/30\n",
      "100/100 [==============================] - 7s 65ms/step - loss: 0.7317 - acc: 0.5631 - val_loss: 0.6359 - val_acc: 0.7732\n",
      "Epoch 3/30\n",
      "100/100 [==============================] - 7s 65ms/step - loss: 0.7097 - acc: 0.5959 - val_loss: 0.6113 - val_acc: 0.7276\n",
      "Epoch 4/30\n",
      "100/100 [==============================] - 6s 64ms/step - loss: 0.6588 - acc: 0.6372 - val_loss: 0.5738 - val_acc: 0.7321\n",
      "Epoch 5/30\n",
      "100/100 [==============================] - 7s 67ms/step - loss: 0.6365 - acc: 0.6397 - val_loss: 0.7995 - val_acc: 0.7436\n",
      "Epoch 6/30\n",
      "100/100 [==============================] - 6s 65ms/step - loss: 0.6122 - acc: 0.6694 - val_loss: 1.0247 - val_acc: 0.8034\n",
      "Epoch 7/30\n",
      "100/100 [==============================] - 7s 68ms/step - loss: 0.6046 - acc: 0.6672 - val_loss: 0.9219 - val_acc: 0.5607\n",
      "Epoch 8/30\n",
      "100/100 [==============================] - 6s 64ms/step - loss: 0.5079 - acc: 0.7494 - val_loss: 0.7764 - val_acc: 0.6588\n",
      "Epoch 9/30\n",
      "100/100 [==============================] - 7s 65ms/step - loss: 0.4976 - acc: 0.7481 - val_loss: 1.0283 - val_acc: 0.5912\n",
      "Epoch 10/30\n",
      "100/100 [==============================] - 6s 64ms/step - loss: 0.4422 - acc: 0.7822 - val_loss: 0.8051 - val_acc: 0.7125\n",
      "Epoch 11/30\n",
      "100/100 [==============================] - 6s 65ms/step - loss: 0.3859 - acc: 0.8147 - val_loss: 1.6015 - val_acc: 0.5456\n",
      "Epoch 12/30\n",
      "100/100 [==============================] - 6s 64ms/step - loss: 0.3276 - acc: 0.8563 - val_loss: 0.8695 - val_acc: 0.7313\n",
      "Epoch 13/30\n",
      "100/100 [==============================] - 7s 65ms/step - loss: 0.2810 - acc: 0.8787 - val_loss: 3.5508 - val_acc: 0.7313\n",
      "Epoch 14/30\n",
      "100/100 [==============================] - 7s 67ms/step - loss: 0.2576 - acc: 0.8884 - val_loss: 2.2785 - val_acc: 0.6309\n",
      "Epoch 15/30\n",
      "100/100 [==============================] - 7s 65ms/step - loss: 0.2072 - acc: 0.9175 - val_loss: 1.5451 - val_acc: 0.7324\n",
      "Epoch 16/30\n",
      "100/100 [==============================] - 6s 64ms/step - loss: 0.1598 - acc: 0.9281 - val_loss: 2.0083 - val_acc: 0.5998\n",
      "Epoch 17/30\n",
      "100/100 [==============================] - 7s 66ms/step - loss: 0.1617 - acc: 0.9363 - val_loss: 1.7664 - val_acc: 0.6367\n",
      "Epoch 18/30\n",
      "100/100 [==============================] - 7s 65ms/step - loss: 0.1717 - acc: 0.9356 - val_loss: 3.4746 - val_acc: 0.5361\n",
      "Epoch 19/30\n",
      "100/100 [==============================] - 6s 65ms/step - loss: 0.1408 - acc: 0.9409 - val_loss: 1.9308 - val_acc: 0.6569\n",
      "Epoch 20/30\n",
      "100/100 [==============================] - 6s 64ms/step - loss: 0.1372 - acc: 0.9409 - val_loss: 0.8837 - val_acc: 0.7128\n",
      "Epoch 21/30\n",
      "100/100 [==============================] - 7s 66ms/step - loss: 0.1087 - acc: 0.9497 - val_loss: 2.7420 - val_acc: 0.5903\n",
      "Epoch 22/30\n",
      "100/100 [==============================] - 7s 65ms/step - loss: 0.1111 - acc: 0.9559 - val_loss: 2.4171 - val_acc: 0.6261\n",
      "Epoch 23/30\n",
      "100/100 [==============================] - 6s 65ms/step - loss: 0.1190 - acc: 0.9472 - val_loss: 1.6816 - val_acc: 0.6879\n",
      "Epoch 24/30\n",
      "100/100 [==============================] - 6s 64ms/step - loss: 0.1043 - acc: 0.9525 - val_loss: 7.8537 - val_acc: 0.5101\n",
      "Epoch 25/30\n",
      "100/100 [==============================] - 7s 66ms/step - loss: 0.1059 - acc: 0.9509 - val_loss: 4.2947 - val_acc: 0.6306\n",
      "Epoch 26/30\n",
      "100/100 [==============================] - 6s 65ms/step - loss: 0.0891 - acc: 0.9600 - val_loss: 2.3930 - val_acc: 0.7008\n"
     ]
    }
   ],
   "source": [
    "sample_gap=10\n",
    "epochs=30\n",
    "stepsperepoch=100\n",
    "k = 5\n",
    "video_path = '/cropped_video100_140'\n",
    "\n",
    "\n",
    "start = time.time()    \n",
    "\n",
    "#prep cells for feeding into CNN\n",
    "cipro_con_cells = np.array(cnn_module.findallcells_indir('/home/ubuntu/data/resistant/'))\n",
    "print(len(cipro_con_cells))\n",
    "trim_con_cells = np.array(cnn_module.findallcells_indir('/home/ubuntu/data/trimdata/resistant/'))\n",
    "print(len(trim_con_cells))\n",
    "cipro_sus_cells     = np.array(cnn_module.findallcells_indir('/home/ubuntu/data/susceptible/'))\n",
    "print(len(cipro_sus_cells))\n",
    "trim_sus_cells     = np.array(cnn_module.findallcells_indir('/home/ubuntu/data/trimdata/susceptible/'))\n",
    "print(len(trim_sus_cells))\n",
    "\n",
    "control_cells = np.append(cipro_con_cells, trim_con_cells)\n",
    "sus_cells = np.append(cipro_sus_cells, trim_sus_cells)\n",
    "\n",
    "#label cells, and split cells into test and train, making sure to have equal proportion of sus and ctrl in both\n",
    "control_cells_label = cnn_module.create_label_dict(control_cells,0)\n",
    "sus_cells_label     = cnn_module.create_label_dict(sus_cells,1)\n",
    "print(len(sus_cells_label))\n",
    "train_ctrl, test_ctrl = cnn_module.split_train_test(control_cells_label,0.8)\n",
    "train_sus, test_sus = cnn_module.split_train_test(sus_cells_label,0.8)\n",
    "\n",
    "train_labels = train_ctrl+train_sus\n",
    "test_labels = test_ctrl+test_sus\n",
    "all_labels = train_labels+test_labels\n",
    "random.shuffle(all_labels)\n",
    "\n",
    "#im_paths_train, im_labels_train, im_paths_test, im_labels_test = cnn_module.get_labels_images(train_labels,test_labels,video_path,sample_gap)\n",
    "#random.shuffle(im_paths_train)\n",
    "#random.shuffle(im_paths_test)\n",
    "# now all cells are labeled, add together to send to kfold as we don't need to reserve a train set\n",
    "\n",
    "\n",
    "validate_steps = len(im_paths_test)//32\n",
    "model = models.get_luke_model_140(input_shape=(140,100,1))\n",
    "#model = models.get_luke_model_noBN(140,100)\n",
    "\n",
    "#get kfold predictions from training set \n",
    "train_preds, kfold_val_acc, kfold_acc, kfold_val_loss = cnn_module.k_fold_train_split(all_labels,video_path,model,sample_gap,epochs,stepsperepoch,params_train,params_test,k)\n",
    "\n",
    "\n",
    "end = time.time()\n",
    "run_time = end-start\n",
    "print('time =', run_time)    "
   ]
  },
  {
   "cell_type": "code",
   "execution_count": 6,
   "metadata": {},
   "outputs": [],
   "source": [
    "result = (train_preds, kfold_val_acc, kfold_acc, kfold_val_loss)"
   ]
  },
  {
   "cell_type": "code",
   "execution_count": 6,
   "metadata": {},
   "outputs": [],
   "source": [
    "#pickle.dump(result, open('/home/ubuntu/data/code/2dCNN/kfold5_mix_bad.p','wb'))"
   ]
  },
  {
   "cell_type": "code",
   "execution_count": 7,
   "metadata": {},
   "outputs": [],
   "source": [
    "import pickle\n",
    "result_all = result\n",
    "#result_all = pickle.load(open('/home/ubuntu/data/code/2dCNN/kfold5_mix_bad.p','rb'))\n",
    "kfold_val_acc = result_all[1]\n",
    "kfold_acc = result_all[2]\n",
    "kfold_val_loss = result_all[3]\n",
    "#kfold_loss = result_all[4]"
   ]
  },
  {
   "cell_type": "code",
   "execution_count": 8,
   "metadata": {},
   "outputs": [
    {
     "name": "stdout",
     "output_type": "stream",
     "text": [
      "[0.63181686 0.65419194 0.698423   0.63016689 0.55863278 0.59949225\n",
      " 0.57311146 0.58159723 0.55791889 0.64065253 0.60173811 0.59640711\n",
      " 0.60667882 0.61834217 0.62859057 0.58645171 0.60186791 0.60813687\n",
      " 0.6035925  0.59511865 0.61034949 0.58364526 0.59677557 0.63765947\n",
      " 0.64776182 0.62702343 0.60533865 0.61119155 0.62404427 0.64918637]\n"
     ]
    }
   ],
   "source": [
    "import numpy as np\n",
    "val_acc_avg = np.mean(kfold_val_acc, axis = 0)\n",
    "print(val_acc_avg)"
   ]
  },
  {
   "cell_type": "code",
   "execution_count": 9,
   "metadata": {},
   "outputs": [
    {
     "name": "stdout",
     "output_type": "stream",
     "text": [
      "[0.57725   0.6141875 0.6426875 0.671     0.699125  0.735375  0.7635\n",
      " 0.8035    0.8323125 0.8484375 0.8715625 0.88775   0.8980625 0.9143125\n",
      " 0.9243125 0.9304375 0.935875  0.9424375 0.947375  0.9501875 0.9515\n",
      " 0.9555625 0.958875  0.9561875 0.96125   0.95925   0.96025   0.96\n",
      " 0.9620625 0.961625 ]\n"
     ]
    }
   ],
   "source": [
    "import numpy as np\n",
    "acc_avg = np.mean(kfold_acc, axis = 0)\n",
    "print(acc_avg)"
   ]
  },
  {
   "cell_type": "code",
   "execution_count": 10,
   "metadata": {},
   "outputs": [
    {
     "name": "stdout",
     "output_type": "stream",
     "text": [
      "[0.66599352 0.66441952 0.64332879 0.64988275 0.87146145 0.7010029\n",
      " 1.11952997 1.69172947 2.17378412 2.14514383 1.71526193 1.03525409\n",
      " 1.72375773 2.50107702 2.20628511 3.29172083 2.61670389 2.14726751\n",
      " 2.4737053  2.62821629 2.48749978 2.90731176 2.803859   2.49560873\n",
      " 1.91934896 3.43387676 2.41419338 3.63102333 2.56730707 2.60142858]\n"
     ]
    }
   ],
   "source": [
    "import numpy as np\n",
    "val_loss_avg = np.mean(kfold_val_loss, axis = 0)\n",
    "print(val_loss_avg)"
   ]
  },
  {
   "cell_type": "code",
   "execution_count": 11,
   "metadata": {},
   "outputs": [
    {
     "data": {
      "text/plain": [
       "(0.5, 1)"
      ]
     },
     "execution_count": 11,
     "metadata": {},
     "output_type": "execute_result"
    },
    {
     "data": {
      "image/png": "[encoded data removed]",
      "text/plain": [
       "<Figure size 432x288 with 1 Axes>"
      ]
     },
     "metadata": {},
     "output_type": "display_data"
    }
   ],
   "source": [
    "x_vals=np.arange(1,31)\n",
    "\n",
    "#bests = [np.max(np.array(i)[:,1]) for i in data]\n",
    "#stds = [np.std(np.array(i)[:,1]) for i in data]\n",
    "\n",
    "plt.style.use('seaborn-darkgrid')\n",
    "\n",
    "#plt.scatter(np.array(data)[:,0],np.array(data)[:,1],marker='x', alpha= 0.5, label='Individual runs',color='black')\n",
    "plt.scatter(x_vals,val_acc_avg, marker='o', s= 75, label='Averages',color='yellow', edgecolors='black',linewidth=1)\n",
    "#plt.errorbar(x_vals,data_av,std,elinewidth=2,color='maroon',label='std')\n",
    "plt.legend(loc='upper right',frameon=True, fontsize=12)\n",
    "#plt.title('Sample gap vs accuracy')\n",
    "plt.xlabel('Number of Epochs', size = 15)\n",
    "plt.ylabel('Accuracy', size = 15)\n",
    "plt.xticks(np.arange(0, 31, 5))\n",
    "plt.xlim(0,31)\n",
    "plt.ylim(0.5,1)\n",
    "\n",
    "#plt.savefig('/home/ubuntu/data/figs/2dk_cs_val_acc.png', dpi=500)"
   ]
  },
  {
   "cell_type": "code",
   "execution_count": null,
   "metadata": {},
   "outputs": [],
   "source": [
    "x_vals=np.arange(1,31)\n",
    "\n",
    "#bests = [np.max(np.array(i)[:,1]) for i in data]\n",
    "#stds = [np.std(np.array(i)[:,1]) for i in data]\n",
    "\n",
    "plt.style.use('seaborn-darkgrid')\n",
    "\n",
    "#plt.scatter(np.array(data)[:,0],np.array(data)[:,1],marker='x', alpha= 0.5, label='Individual runs',color='black')\n",
    "plt.scatter(x_vals,val_loss_avg, marker='o', s= 75, label='Averages',color='yellow', edgecolors='black',linewidth=1)\n",
    "#plt.errorbar(x_vals,data_av,std,elinewidth=2,color='maroon',label='std')\n",
    "plt.legend(loc='upper right',frameon=True, fontsize=12)\n",
    "#plt.title('Sample gap vs accuracy')\n",
    "plt.xlabel('Number of Epochs', size = 15)\n",
    "plt.ylabel('Val loss', size = 15)\n",
    "plt.xticks(np.arange(0, 35, 5))\n",
    "plt.xlim(0,31)\n",
    "plt.ylim()\n",
    "\n",
    "#plt.savefig('/home/ubuntu/data/figs/2dk_cs_val_acc.png', dpi=500)"
   ]
  },
  {
   "cell_type": "code",
   "execution_count": null,
   "metadata": {},
   "outputs": [],
   "source": [
    "x_vals=np.arange(1,31)\n",
    "\n",
    "#bests = [np.max(np.array(i)[:,1]) for i in data]\n",
    "#stds = [np.std(np.array(i)[:,1]) for i in data]\n",
    "\n",
    "plt.style.use('seaborn-darkgrid')\n",
    "\n",
    "#plt.scatter(np.array(data)[:,0],np.array(data)[:,1],marker='x', alpha= 0.5, label='Individual runs',color='black')\n",
    "plt.scatter(x_vals,acc_avg, marker='o', s= 75, label='Averages',color='yellow', edgecolors='black',linewidth=1)\n",
    "#plt.errorbar(x_vals,data_av,std,elinewidth=2,color='maroon',label='std')\n",
    "plt.legend(loc='lower right',frameon=True, fontsize=12)\n",
    "#plt.title('Sample gap vs accuracy')\n",
    "plt.xlabel('Number of Epochs', size = 15)\n",
    "plt.ylabel('Accuracy', size = 15)\n",
    "plt.xticks(np.arange(0, 35, 5))\n",
    "plt.xlim(0,31)\n",
    "plt.ylim(0.5,1.05)\n",
    "\n",
    "#plt.savefig('/home/ubuntu/data/figs/2dk_cs_acc.png', dpi=500)"
   ]
  },
  {
   "cell_type": "code",
   "execution_count": null,
   "metadata": {},
   "outputs": [],
   "source": [
    "prediction_generator = DataGenerator.DataGenerator(im_paths_test, im_labels_test, **params_test)  \n",
    "preds = model.predict_generator(generator=prediction_generator,workers=1,steps = len(im_paths_test)//24, use_multiprocessing=False)\n",
    "filenames_preds = dict(zip(prediction_generator.filenames,preds))\n",
    "im_result = np.array([(im_labels_test[key],np.argmax(filenames_preds[key])) for key in filenames_preds.keys()])\n",
    "confusion_matrix(im_result[:,0], im_result[:,1])"
   ]
  },
  {
   "cell_type": "code",
   "execution_count": null,
   "metadata": {},
   "outputs": [],
   "source": [
    "print('Normalised')\n",
    "confusion_matrix(im_result[:,0], im_result[:,1])/144"
   ]
  },
  {
   "cell_type": "code",
   "execution_count": null,
   "metadata": {},
   "outputs": [],
   "source": [
    "print('Accuracy')\n",
    "(94+139)/(94+139+55)"
   ]
  },
  {
   "cell_type": "code",
   "execution_count": null,
   "metadata": {},
   "outputs": [],
   "source": [
    "test_predictions"
   ]
  },
  {
   "cell_type": "code",
   "execution_count": null,
   "metadata": {},
   "outputs": [],
   "source": [
    "1264+176+95+745"
   ]
  },
  {
   "cell_type": "code",
   "execution_count": null,
   "metadata": {},
   "outputs": [],
   "source": [
    "2009/2280"
   ]
  },
  {
   "cell_type": "code",
   "execution_count": null,
   "metadata": {},
   "outputs": [],
   "source": [
    "sample_gap"
   ]
  },
  {
   "cell_type": "code",
   "execution_count": null,
   "metadata": {},
   "outputs": [],
   "source": []
  }
 ],
 "metadata": {
  "kernelspec": {
   "display_name": "Python 3",
   "language": "python",
   "name": "python3"
  },
  "language_info": {
   "codemirror_mode": {
    "name": "ipython",
    "version": 3
   },
   "file_extension": ".py",
   "mimetype": "text/x-python",
   "name": "python",
   "nbconvert_exporter": "python",
   "pygments_lexer": "ipython3",
   "version": "3.6.7"
  }
 },
 "nbformat": 4,
 "nbformat_minor": 2
}
