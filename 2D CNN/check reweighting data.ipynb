{
 "cells": [
  {
   "cell_type": "code",
   "execution_count": 3,
   "metadata": {},
   "outputs": [
    {
     "name": "stderr",
     "output_type": "stream",
     "text": [
      "Using TensorFlow backend.\n"
     ]
    }
   ],
   "source": [
    "import sys\n",
    "sys.path.insert(0, \"/home/ubuntu/data/code/Modules/\")\n",
    "import numpy as np\n",
    "import pickle\n",
    "from sklearn.metrics import confusion_matrix\n",
    "import matplotlib.pyplot as plt\n",
    "import DataGenerator\n",
    "from albumentations import Compose,HorizontalFlip, VerticalFlip, ToFloat\n",
    "from sklearn.metrics import accuracy_score\n",
    "from keras import backend\n",
    "import glob\n",
    "import random\n",
    "import CNN_Module as cnn_module\n",
    "import models\n",
    "import glue_code"
   ]
  },
  {
   "cell_type": "code",
   "execution_count": 64,
   "metadata": {},
   "outputs": [],
   "source": [
    "augment_train, augment_valid = cnn_module.get_augmentations_train_test()\n",
    "params_train, params_test = cnn_module.get_params_train_test(80,augment_valid,augment_valid)\n",
    "params_test['batch_size']=24\n",
    "params_train['batch_size']=32\n",
    "def reset_weights(model):\n",
    "    session = backend.get_session()\n",
    "    for layer in model.layers: \n",
    "        if hasattr(layer, 'kernel_initializer'):\n",
    "            layer.kernel.initializer.run(session=session)"
   ]
  },
  {
   "cell_type": "code",
   "execution_count": 20,
   "metadata": {},
   "outputs": [],
   "source": [
    "def get_im_paths_labels(control_path,sus_path,proportion_train):\n",
    "    #prep cells for feeding into CNN\n",
    "    control_cells = np.array(cnn_module.findallcells_indir(control_path))\n",
    "    sus_cells     = np.array(cnn_module.findallcells_indir(sus_path))\n",
    "    \n",
    "    #label cells, and split cells into test and train, making sure to have equal proportion of sus and ctrl in both\n",
    "    control_cells_label = cnn_module.create_label_dict(control_cells,0)\n",
    "    sus_cells_label  = cnn_module.create_label_dict(sus_cells,1)\n",
    "    \n",
    "    train_ctrl, test_ctrl = cnn_module.split_train_test(control_cells_label,proportion_train)\n",
    "    train_sus, test_sus = cnn_module.split_train_test(sus_cells_label,proportion_train)\n",
    "    \n",
    "    \n",
    "    \n",
    "    train_labels = train_ctrl+train_sus#+train_sus\n",
    "    test_labels = test_ctrl+test_sus\n",
    "    \n",
    "    random.shuffle(train_labels)\n",
    "    random.shuffle(test_labels)\n",
    "    \n",
    "    video_path = '/cropped_video80'\n",
    "    sample_gap = 10\n",
    "    im_paths_train, im_labels_train, im_paths_test, im_labels_test = cnn_module.get_labels_images(train_labels,test_labels,video_path,sample_gap)\n",
    "    return im_paths_train, im_labels_train, im_paths_test, im_labels_test"
   ]
  },
  {
   "cell_type": "code",
   "execution_count": 31,
   "metadata": {},
   "outputs": [
    {
     "data": {
      "text/plain": [
       "0.4"
      ]
     },
     "execution_count": 31,
     "metadata": {},
     "output_type": "execute_result"
    }
   ],
   "source": [
    "1-susweight"
   ]
  },
  {
   "cell_type": "code",
   "execution_count": 92,
   "metadata": {},
   "outputs": [
    {
     "name": "stdout",
     "output_type": "stream",
     "text": [
      "0.5\n",
      "0,1,2,3,4,5,6,7,8,9,10,11,12,13,14,15,16,17,18,19,[0.5        0.81710526 0.853125   0.75535714]\n",
      "0.525\n",
      "0,1,2,3,4,5,6,7,8,9,10,11,12,13,14,15,16,17,18,19,[0.525      0.79337719 0.86652778 0.66797619]\n",
      "0.55\n",
      "0,1,2,3,4,5,6,7,8,9,10,11,12,13,14,15,16,17,18,19,[0.55       0.79679825 0.85180556 0.7025    ]\n",
      "0.575\n",
      "0,1,2,3,4,5,6,7,8,9,10,11,12,13,14,15,16,17,18,19,[0.575      0.79429825 0.87239583 0.66041667]\n",
      "0.6\n",
      "0,1,2,3,4,5,6,7,8,9,10,11,12,13,14,15,16,17,18,19,[0.6        0.77247807 0.83302083 0.66869048]\n",
      "0.625\n",
      "0,1,2,3,4,5,6,7,8,9,10,11,12,13,14,15,16,17,18,19,[0.625      0.7864693  0.8459375  0.68452381]\n",
      "0.65\n",
      "0,1,2,3,4,5,6,7,8,9,10,11,12,13,14,15,16,17,18,19,[0.65       0.77923246 0.83427083 0.68488095]\n",
      "0.675\n",
      "0,1,2,3,4,5,6,7,8,9,10,11,12,13,14,15,16,17,18,19,[0.675      0.75839912 0.81190972 0.66666667]\n",
      "0.7\n",
      "0,1,2,3,4,5,6,7,8,9,10,11,12,13,14,15,16,17,18,19,[0.7        0.76464912 0.804375   0.69654762]\n",
      "0.725\n",
      "0,1,2,3,4,5,6,7,8,9,10,11,12,13,14,15,16,17,18,19,[0.725      0.76736842 0.80715278 0.69916667]\n",
      "0.75\n",
      "0,1,2,3,4,5,6,7,8,9,10,11,12,13,14,15,16,17,18,19,[0.75       0.73600877 0.71923611 0.7647619 ]\n",
      "0.775\n",
      "0,1,2,3,4,5,6,7,8,9,10,11,12,13,14,15,16,17,18,19,[0.775      0.76287281 0.82746528 0.65214286]\n",
      "0.8\n",
      "0,1,2,3,4,5,6,7,8,9,10,11,12,13,14,15,16,17,18,19,[0.8        0.76135965 0.83572917 0.63386905]\n",
      "0.825\n",
      "0,1,2,3,4,5,6,7,8,9,10,11,12,13,14,15,16,17,18,19,[0.825      0.73311404 0.76788194 0.6735119 ]\n",
      "0.85\n",
      "0,1,2,3,4,5,6,7,8,9,10,11,12,13,14,15,16,17,18,19,[0.85       0.74857456 0.75041667 0.74541667]\n",
      "0.875\n",
      "0,1,2,3,4,5,6,7,8,9,10,11,12,13,14,15,16,17,18,19,[0.875      0.73859649 0.740625   0.73511905]\n",
      "0.9\n",
      "0,1,2,3,4,5,6,7,8,9,10,11,12,13,14,15,16,17,18,19,[0.9        0.70203947 0.68201389 0.73636905]\n",
      "0.925\n",
      "0,1,2,3,4,5,6,7,8,9,10,11,12,13,14,15,16,17,18,19,[0.925      0.69986842 0.66190972 0.76494048]\n",
      "0.95\n",
      "0,1,2,3,4,5,6,7,8,9,10,11,12,13,14,15,16,17,18,19,[0.95       0.71802632 0.66225694 0.81363095]\n",
      "0.975\n",
      "0,1,2,3,4,5,6,7,8,9,10,11,12,13,14,15,16,17,18,19,[0.975      0.62502193 0.47975694 0.87404762]\n",
      "0.95\n",
      "0,1,2,3,4,5,6,7,8,9,10,11,12,13,14,15,16,17,18,19,[0.95       0.6825     0.58013889 0.85797619]\n",
      "0.99\n",
      "0,1,2,3,4,5,6,7,8,9,10,11,12,13,14,15,16,17,18,19,[0.99       0.56135965 0.340625   0.9397619 ]\n",
      "0.999\n",
      "0,1,2,3,4,5,6,7,8,9,10,11,12,13,14,15,16,17,18,19,[0.999      0.48449561 0.1878125  0.99309524]\n"
     ]
    }
   ],
   "source": [
    "result = []\n",
    "model = models.get_luke_model(80)\n",
    "for susweight in [0.5,0.525,0.55,0.575,0.6,0.625,0.65,0.675,0.7,0.725,0.75,0.775,0.80,0.825,0.85,0.875,0.9,0.925,0.95,0.975,0.95,0.99,0.999]:\n",
    "    this_result = []\n",
    "    print(susweight)\n",
    "    for repeat in range(20):\n",
    "    \n",
    "        im_paths_train, im_labels_train, im_paths_test, im_labels_test = get_im_paths_labels('/home/ubuntu/data/control/','/home/ubuntu/data/susceptible/',0.9)\n",
    "        \n",
    "        \n",
    "        random.shuffle(im_paths_train)\n",
    "        random.shuffle(im_paths_test)\n",
    "\n",
    "        training_generator = DataGenerator.DataGenerator(im_paths_train, im_labels_train, **params_train)\n",
    "        prediction_generator = DataGenerator.DataGenerator(im_paths_test, im_labels_test, **params_test)\n",
    "        \n",
    "        sample_gap=10\n",
    "        epochs=20\n",
    "        stepsperepoch=100\n",
    "        video_path = '/cropped_video80'\n",
    "        validate_steps = len(im_paths_test)//24.\n",
    "        class_weights = {0: 1-susweight,1: susweight}\n",
    "        \n",
    "\n",
    "        model.fit_generator(generator=training_generator,epochs = epochs,steps_per_epoch=stepsperepoch,verbose=0,class_weight=class_weights)\n",
    "    \n",
    "        preds = model.predict_generator(generator=prediction_generator,workers=1,steps = validate_steps, use_multiprocessing=False)\n",
    "                \n",
    "        filenames_preds = dict(zip(prediction_generator.filenames,preds))\n",
    "        label_prediction=[]\n",
    "        for key in filenames_preds.keys():\n",
    "            image_preds = []\n",
    "            correct_label = im_labels_test[key]    \n",
    "            prediction = np.argmax(filenames_preds[key])\n",
    "            label_prediction.append([correct_label,prediction])\n",
    "            \n",
    "        label_prediction = np.array(label_prediction)\n",
    "        confmat = confusion_matrix(label_prediction[:,0],label_prediction[:,1])\n",
    "        overall_accuracy = (confmat[0][0]+confmat[1][1])/sum(sum(confmat))\n",
    "        control_accuracy = confmat[0][0]/(confmat[0][0]+confmat[0][1])\n",
    "        sus_accuracy = confmat[1][1]/(confmat[1][1]+confmat[1][0])\n",
    "        \n",
    "        this_result.append([susweight,overall_accuracy,control_accuracy,sus_accuracy])\n",
    "        print(repeat,end=',')\n",
    "        reset_weights(model)\n",
    "    print(np.average(this_result,axis=0))\n",
    "    result.append(this_result)\n",
    "    pickle.dump(result,open('/home/ubuntu/data/code/2dCNN/label_weights_result_cache.p','wb'))"
   ]
  },
  {
   "cell_type": "code",
   "execution_count": 88,
   "metadata": {},
   "outputs": [],
   "source": [
    "result=pickle.load(open('/home/ubuntu/data/code/2dCNN/label_weights_32_batch_size.p','rb'))\n",
    "result=np.array(result)"
   ]
  },
  {
   "cell_type": "code",
   "execution_count": 90,
   "metadata": {},
   "outputs": [],
   "source": [
    "result=np.delete(result,20,0)"
   ]
  },
  {
   "cell_type": "code",
   "execution_count": 91,
   "metadata": {},
   "outputs": [
    {
     "data": {
      "text/plain": [
       "(22, 20, 4)"
      ]
     },
     "execution_count": 91,
     "metadata": {},
     "output_type": "execute_result"
    }
   ],
   "source": [
    "result.shape"
   ]
  },
  {
   "cell_type": "code",
   "execution_count": 121,
   "metadata": {},
   "outputs": [],
   "source": [
    "result=np.array(result)\n",
    "result_av = np.average(result,axis=1)\n",
    "stds = np.std(result,axis=1)\n",
    "ratios = result_av[:,0]/(1-result_av[:,0])"
   ]
  },
  {
   "cell_type": "code",
   "execution_count": 193,
   "metadata": {},
   "outputs": [
    {
     "data": {
      "text/plain": [
       "array([  1.        ,   1.10526316,   1.22222222,   1.35294118,\n",
       "         1.5       ,   1.66666667,   1.85714286,   2.07692308,\n",
       "         2.33333333,   2.63636364,   3.        ,   3.44444444,\n",
       "         4.        ,   4.71428571,   5.66666667,   7.        ,\n",
       "         9.        ,  12.33333333,  19.        ,  39.        ,\n",
       "        99.        , 999.        ])"
      ]
     },
     "execution_count": 193,
     "metadata": {},
     "output_type": "execute_result"
    }
   ],
   "source": [
    "ratios"
   ]
  },
  {
   "cell_type": "code",
   "execution_count": 192,
   "metadata": {},
   "outputs": [
    {
     "data": {
      "text/plain": [
       "[[1.0, 0.7227936246867168],\n",
       " [1.1052631578947374, 0.7236107847744361],\n",
       " [1.2222222222222225, 0.7283859388053466],\n",
       " [1.3529411764705874, 0.7289295243316624],\n",
       " [1.4999999999999991, 0.7321025741436926],\n",
       " [1.6666666666666667, 0.738327498433584],\n",
       " [1.8571428571428583, 0.7397313074352547],\n",
       " [2.0769230769230793, 0.7431861424394319],\n",
       " [2.3333333333333304, 0.7491352600250627],\n",
       " [2.636363636363633, 0.7508320671470343],\n",
       " [3.0, 0.7556180686090225],\n",
       " [3.444444444444449, 0.7615847561612364],\n",
       " [4.0000000000000036, 0.7617318295739349],\n",
       " [4.714285714285702, 0.7627698673767754],\n",
       " [5.666666666666661, 0.7699901837928154],\n",
       " [7.0, 0.7629611137218044],\n",
       " [9.000000000000002, 0.7500814144736843],\n",
       " [12.3333333333334, 0.7322804615705931],\n",
       " [18.99999999999985, 0.7246181632466583],\n",
       " [38.999999999999964, 0.7041646999443051],\n",
       " [98.9999999999988, 0.6870187382518796],\n",
       " [998.9999999999991, 0.6661008380325815]]"
      ]
     },
     "execution_count": 192,
     "metadata": {},
     "output_type": "execute_result"
    }
   ],
   "source": [
    "mvav_ctrl"
   ]
  },
  {
   "cell_type": "code",
   "execution_count": 210,
   "metadata": {},
   "outputs": [
    {
     "data": {
      "image/png": "[encoded data removed]",
      "text/plain": [
       "<Figure size 576x360 with 1 Axes>"
      ]
     },
     "metadata": {},
     "output_type": "display_data"
    }
   ],
   "source": [
    "plt.style.use('bmh')\n",
    "plt.rcParams.update({\"figure.figsize\" : (8, 5),\n",
    "                     \"axes.facecolor\" : \"white\",\n",
    "                     \"axes.edgecolor\":  \"black\"})\n",
    "\n",
    "plt.xticks([1,5,10],fontsize=12, rotation=0)\n",
    "plt.yticks(fontsize=12, rotation=0)\n",
    "\n",
    "\n",
    "ctrl_col = '#D8B26A'\n",
    "sus_col = '#AA3A29'\n",
    "\n",
    "\n",
    "plt.plot(ratios,result_av[:,2],'o',markersize=11,mew=2,mec='black',color=ctrl_col,linewidth=0,label='Control Accuracy')\n",
    "plt.errorbar(ratios,result_av[:,2],yerr=stds[:,2],color=ctrl_col,elinewidth=2,lw=0)\n",
    "\n",
    "plt.plot(ratios,result_av[:,3],'o',markersize=11,mew=2,mec='black',color=sus_col,linewidth=0,label='Susceptible Accuracy')\n",
    "plt.errorbar(ratios+(0.03*ratios),result_av[:,3],yerr=stds[:,3],color=sus_col,elinewidth=2,lw=0)\n",
    "plt.xscale('log')\n",
    "plt.xlabel('Susceptible Weight/Control Weight',fontsize=16)\n",
    "plt.ylabel('Accuracy',fontsize=16)\n",
    "plt.legend(loc=3,frameon=True,fontsize=12)\n",
    "plt.xticks([1, 10, 100,1000])\n",
    "#plt.ylim(0.4,1.0)\n",
    "#plt.xlim(0.8,30)\n",
    "plt.savefig('/home/ubuntu/data/figures/tuning_accuracies.png',dpi=500)"
   ]
  },
  {
   "cell_type": "code",
   "execution_count": 150,
   "metadata": {},
   "outputs": [
    {
     "data": {
      "text/plain": [
       "array([   1.1       ,    1.21578947,    1.34444444,    1.48823529,\n",
       "          1.65      ,    1.83333333,    2.04285714,    2.28461538,\n",
       "          2.56666667,    2.9       ,    3.3       ,    3.78888889,\n",
       "          4.4       ,    5.18571429,    6.23333333,    7.7       ,\n",
       "          9.9       ,   13.56666667,   20.9       ,   42.9       ,\n",
       "        108.9       , 1098.9       ])"
      ]
     },
     "execution_count": 150,
     "metadata": {},
     "output_type": "execute_result"
    }
   ],
   "source": [
    "ratios+0.1*ratios"
   ]
  },
  {
   "cell_type": "code",
   "execution_count": 133,
   "metadata": {},
   "outputs": [
    {
     "ename": "IndexError",
     "evalue": "Inconsistent shape between the condition and the input (got (23, 20) and (23, 20, 4))",
     "output_type": "error",
     "traceback": [
      "\u001b[0;31m---------------------------------------------------------------------------\u001b[0m",
      "\u001b[0;31mIndexError\u001b[0m                                Traceback (most recent call last)",
      "\u001b[0;32m<ipython-input-133-f00c09ed3431>\u001b[0m in \u001b[0;36m<module>\u001b[0;34m()\u001b[0m\n\u001b[0;32m----> 1\u001b[0;31m \u001b[0mnp\u001b[0m\u001b[0;34m.\u001b[0m\u001b[0mma\u001b[0m\u001b[0;34m.\u001b[0m\u001b[0mmasked_where\u001b[0m\u001b[0;34m(\u001b[0m\u001b[0mnp\u001b[0m\u001b[0;34m.\u001b[0m\u001b[0marray\u001b[0m\u001b[0;34m(\u001b[0m\u001b[0mresult\u001b[0m\u001b[0;34m)\u001b[0m\u001b[0;34m[\u001b[0m\u001b[0;34m:\u001b[0m\u001b[0;34m,\u001b[0m\u001b[0;34m:\u001b[0m\u001b[0;34m,\u001b[0m\u001b[0;36m3\u001b[0m\u001b[0;34m]\u001b[0m \u001b[0;34m<=\u001b[0m \u001b[0;36m0.5\u001b[0m\u001b[0;34m,\u001b[0m \u001b[0mnp\u001b[0m\u001b[0;34m.\u001b[0m\u001b[0marray\u001b[0m\u001b[0;34m(\u001b[0m\u001b[0mresult\u001b[0m\u001b[0;34m)\u001b[0m\u001b[0;34m)\u001b[0m\u001b[0;34m\u001b[0m\u001b[0m\n\u001b[0m",
      "\u001b[0;32m~/anaconda3/envs/tensorflow_p36/lib/python3.6/site-packages/numpy/ma/core.py\u001b[0m in \u001b[0;36mmasked_where\u001b[0;34m(condition, a, copy)\u001b[0m\n\u001b[1;32m   1936\u001b[0m     \u001b[0;32mif\u001b[0m \u001b[0mcshape\u001b[0m \u001b[0;32mand\u001b[0m \u001b[0mcshape\u001b[0m \u001b[0;34m!=\u001b[0m \u001b[0mashape\u001b[0m\u001b[0;34m:\u001b[0m\u001b[0;34m\u001b[0m\u001b[0m\n\u001b[1;32m   1937\u001b[0m         raise IndexError(\"Inconsistent shape between the condition and the input\"\n\u001b[0;32m-> 1938\u001b[0;31m                          \" (got %s and %s)\" % (cshape, ashape))\n\u001b[0m\u001b[1;32m   1939\u001b[0m     \u001b[0;32mif\u001b[0m \u001b[0mhasattr\u001b[0m\u001b[0;34m(\u001b[0m\u001b[0ma\u001b[0m\u001b[0;34m,\u001b[0m \u001b[0;34m'_mask'\u001b[0m\u001b[0;34m)\u001b[0m\u001b[0;34m:\u001b[0m\u001b[0;34m\u001b[0m\u001b[0m\n\u001b[1;32m   1940\u001b[0m         \u001b[0mcond\u001b[0m \u001b[0;34m=\u001b[0m \u001b[0mmask_or\u001b[0m\u001b[0;34m(\u001b[0m\u001b[0mcond\u001b[0m\u001b[0;34m,\u001b[0m \u001b[0ma\u001b[0m\u001b[0;34m.\u001b[0m\u001b[0m_mask\u001b[0m\u001b[0;34m)\u001b[0m\u001b[0;34m\u001b[0m\u001b[0m\n",
      "\u001b[0;31mIndexError\u001b[0m: Inconsistent shape between the condition and the input (got (23, 20) and (23, 20, 4))"
     ]
    }
   ],
   "source": [
    "np.ma.masked_where(np.array(result)[:,:,3] <= 0.5, np.array(result))"
   ]
  },
  {
   "cell_type": "code",
   "execution_count": 134,
   "metadata": {},
   "outputs": [
    {
     "data": {
      "text/plain": [
       "array([0.5       , 0.81622807, 0.79166667, ..., 0.4872807 , 0.19027778,\n",
       "       0.99642857])"
      ]
     },
     "execution_count": 134,
     "metadata": {},
     "output_type": "execute_result"
    }
   ],
   "source": [
    "np.array(result).flatten()"
   ]
  },
  {
   "cell_type": "code",
   "execution_count": 1,
   "metadata": {},
   "outputs": [
    {
     "ename": "NameError",
     "evalue": "name 'result' is not defined",
     "output_type": "error",
     "traceback": [
      "\u001b[0;31m---------------------------------------------------------------------------\u001b[0m",
      "\u001b[0;31mNameError\u001b[0m                                 Traceback (most recent call last)",
      "\u001b[0;32m<ipython-input-1-0ac921c19f1a>\u001b[0m in \u001b[0;36m<module>\u001b[0;34m()\u001b[0m\n\u001b[0;32m----> 1\u001b[0;31m \u001b[0mresult\u001b[0m\u001b[0;34m\u001b[0m\u001b[0m\n\u001b[0m",
      "\u001b[0;31mNameError\u001b[0m: name 'result' is not defined"
     ]
    }
   ],
   "source": [
    "result"
   ]
  },
  {
   "cell_type": "code",
   "execution_count": null,
   "metadata": {},
   "outputs": [],
   "source": []
  }
 ],
 "metadata": {
  "kernelspec": {
   "display_name": "Python 3",
   "language": "python",
   "name": "python3"
  },
  "language_info": {
   "codemirror_mode": {
    "name": "ipython",
    "version": 3
   },
   "file_extension": ".py",
   "mimetype": "text/x-python",
   "name": "python",
   "nbconvert_exporter": "python",
   "pygments_lexer": "ipython3",
   "version": "3.6.5"
  }
 },
 "nbformat": 4,
 "nbformat_minor": 2
}
