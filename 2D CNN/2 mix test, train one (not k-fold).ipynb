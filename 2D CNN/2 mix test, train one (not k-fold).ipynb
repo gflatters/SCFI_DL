{
 "cells": [
  {
   "cell_type": "code",
   "execution_count": 1,
   "metadata": {},
   "outputs": [
    {
     "name": "stderr",
     "output_type": "stream",
     "text": [
      "Using TensorFlow backend.\n"
     ]
    },
    {
     "name": "stdout",
     "output_type": "stream",
     "text": [
      "WARNING:tensorflow:From /home/ubuntu/anaconda3/envs/tensorflow_p36/lib/python3.6/site-packages/tensorflow_core/__init__.py:1467: The name tf.estimator.inputs is deprecated. Please use tf.compat.v1.estimator.inputs instead.\n",
      "\n"
     ]
    }
   ],
   "source": [
    "import sys\n",
    "sys.path.insert(0, \"/home/ubuntu/data/code/Modules/\")\n",
    "import skimage\n",
    "import numpy as np\n",
    "import pickle\n",
    "import gc\n",
    "from albumentations import Compose,HorizontalFlip, VerticalFlip, ToFloat\n",
    "from sklearn.metrics import confusion_matrix\n",
    "import cv2\n",
    "import matplotlib.pyplot as plt\n",
    "from keras import backend\n",
    "from keras.models import Sequential\n",
    "from keras.losses import binary_crossentropy\n",
    "from keras.layers.convolutional import Conv2D, MaxPooling2D\n",
    "from keras.layers import Dense, BatchNormalization, Flatten, Dropout\n",
    "from keras.optimizers import SGD,Adadelta\n",
    "import DataGenerator\n",
    "from albumentations import Compose,HorizontalFlip, VerticalFlip, ToFloat\n",
    "from sklearn.model_selection import KFold\n",
    "from sklearn.metrics import accuracy_score\n",
    "import random\n",
    "import glob\n",
    "import CNN_Module as cnn_module\n",
    "import models\n",
    "import glue_code"
   ]
  },
  {
   "cell_type": "code",
   "execution_count": 2,
   "metadata": {},
   "outputs": [
    {
     "data": {
      "text/plain": [
       "<module 'models' from '/home/ubuntu/data/code/Modules/models.py'>"
      ]
     },
     "execution_count": 2,
     "metadata": {},
     "output_type": "execute_result"
    }
   ],
   "source": [
    "import imp\n",
    "imp.reload(cnn_module)\n",
    "imp.reload(models)"
   ]
  },
  {
   "cell_type": "code",
   "execution_count": 3,
   "metadata": {
    "scrolled": true
   },
   "outputs": [
    {
     "name": "stdout",
     "output_type": "stream",
     "text": [
      "WARNING:tensorflow:From /home/ubuntu/anaconda3/envs/tensorflow_p36/lib/python3.6/site-packages/keras/backend/tensorflow_backend.py:74: The name tf.get_default_graph is deprecated. Please use tf.compat.v1.get_default_graph instead.\n",
      "\n",
      "WARNING:tensorflow:From /home/ubuntu/anaconda3/envs/tensorflow_p36/lib/python3.6/site-packages/keras/backend/tensorflow_backend.py:517: The name tf.placeholder is deprecated. Please use tf.compat.v1.placeholder instead.\n",
      "\n",
      "WARNING:tensorflow:From /home/ubuntu/anaconda3/envs/tensorflow_p36/lib/python3.6/site-packages/keras/backend/tensorflow_backend.py:4138: The name tf.random_uniform is deprecated. Please use tf.random.uniform instead.\n",
      "\n",
      "WARNING:tensorflow:From /home/ubuntu/anaconda3/envs/tensorflow_p36/lib/python3.6/site-packages/keras/backend/tensorflow_backend.py:174: The name tf.get_default_session is deprecated. Please use tf.compat.v1.get_default_session instead.\n",
      "\n",
      "WARNING:tensorflow:From /home/ubuntu/anaconda3/envs/tensorflow_p36/lib/python3.6/site-packages/keras/backend/tensorflow_backend.py:181: The name tf.ConfigProto is deprecated. Please use tf.compat.v1.ConfigProto instead.\n",
      "\n",
      "WARNING:tensorflow:From /home/ubuntu/anaconda3/envs/tensorflow_p36/lib/python3.6/site-packages/keras/backend/tensorflow_backend.py:186: The name tf.Session is deprecated. Please use tf.compat.v1.Session instead.\n",
      "\n",
      "WARNING:tensorflow:From /home/ubuntu/anaconda3/envs/tensorflow_p36/lib/python3.6/site-packages/keras/backend/tensorflow_backend.py:190: The name tf.global_variables is deprecated. Please use tf.compat.v1.global_variables instead.\n",
      "\n",
      "WARNING:tensorflow:From /home/ubuntu/anaconda3/envs/tensorflow_p36/lib/python3.6/site-packages/keras/backend/tensorflow_backend.py:199: The name tf.is_variable_initialized is deprecated. Please use tf.compat.v1.is_variable_initialized instead.\n",
      "\n",
      "WARNING:tensorflow:From /home/ubuntu/anaconda3/envs/tensorflow_p36/lib/python3.6/site-packages/keras/backend/tensorflow_backend.py:206: The name tf.variables_initializer is deprecated. Please use tf.compat.v1.variables_initializer instead.\n",
      "\n",
      "WARNING:tensorflow:From /home/ubuntu/anaconda3/envs/tensorflow_p36/lib/python3.6/site-packages/keras/backend/tensorflow_backend.py:1834: The name tf.nn.fused_batch_norm is deprecated. Please use tf.compat.v1.nn.fused_batch_norm instead.\n",
      "\n",
      "WARNING:tensorflow:From /home/ubuntu/anaconda3/envs/tensorflow_p36/lib/python3.6/site-packages/keras/backend/tensorflow_backend.py:133: The name tf.placeholder_with_default is deprecated. Please use tf.compat.v1.placeholder_with_default instead.\n",
      "\n",
      "WARNING:tensorflow:From /home/ubuntu/anaconda3/envs/tensorflow_p36/lib/python3.6/site-packages/keras/backend/tensorflow_backend.py:3976: The name tf.nn.max_pool is deprecated. Please use tf.nn.max_pool2d instead.\n",
      "\n",
      "WARNING:tensorflow:From /home/ubuntu/anaconda3/envs/tensorflow_p36/lib/python3.6/site-packages/keras/backend/tensorflow_backend.py:3445: calling dropout (from tensorflow.python.ops.nn_ops) with keep_prob is deprecated and will be removed in a future version.\n",
      "Instructions for updating:\n",
      "Please use `rate` instead of `keep_prob`. Rate should be set to `rate = 1 - keep_prob`.\n",
      "WARNING:tensorflow:From /home/ubuntu/anaconda3/envs/tensorflow_p36/lib/python3.6/site-packages/keras/optimizers.py:790: The name tf.train.Optimizer is deprecated. Please use tf.compat.v1.train.Optimizer instead.\n",
      "\n",
      "WARNING:tensorflow:From /home/ubuntu/anaconda3/envs/tensorflow_p36/lib/python3.6/site-packages/keras/backend/tensorflow_backend.py:3376: The name tf.log is deprecated. Please use tf.math.log instead.\n",
      "\n",
      "WARNING:tensorflow:From /home/ubuntu/anaconda3/envs/tensorflow_p36/lib/python3.6/site-packages/tensorflow_core/python/ops/nn_impl.py:183: where (from tensorflow.python.ops.array_ops) is deprecated and will be removed in a future version.\n",
      "Instructions for updating:\n",
      "Use tf.where in 2.0, which has the same broadcast rule as np.where\n"
     ]
    }
   ],
   "source": [
    "import warnings\n",
    "warnings.filterwarnings('ignore')\n",
    "model = models.get_luke_model_140(input_shape=(140,100,1))\n",
    "#model = models.get_luke_model_noBN(140,100)\n",
    "augment_train, augment_valid = cnn_module.get_augmentations_train_test()\n",
    "params_train, params_test = cnn_module.get_params_train_test(140,100,augment_valid,augment_valid)"
   ]
  },
  {
   "cell_type": "code",
   "execution_count": 6,
   "metadata": {},
   "outputs": [
    {
     "name": "stdout",
     "output_type": "stream",
     "text": [
      "res_cipro = 318\n",
      "res_trim = 253\n",
      "res_ceph = 221\n",
      "sus_cipro = 362\n",
      "sus_trim = 257\n",
      "sus_ceph= 228\n"
     ]
    }
   ],
   "source": [
    "cipro_con_cells = np.array(cnn_module.findallcells_indir('/home/ubuntu/data/resistant/'))\n",
    "trim_con_cells = np.array(cnn_module.findallcells_indir('/home/ubuntu/data/trimdata/resistant/'))\n",
    "ceph_con_cells = np.array(cnn_module.findallcells_indir('/home/ubuntu/data/cephdata/resistant/'))\n",
    "\n",
    "cipro_sus_cells = np.array(cnn_module.findallcells_indir('/home/ubuntu/data/susceptible/'))\n",
    "trim_sus_cells = np.array(cnn_module.findallcells_indir('/home/ubuntu/data/trimdata/susceptible/'))\n",
    "ceph_sus_cells = np.array(cnn_module.findallcells_indir('/home/ubuntu/data/cephdata/susceptible/'))\n",
    "\n",
    "print('res_cipro =',len(cipro_con_cells))\n",
    "print('res_trim =',len(trim_con_cells))\n",
    "print('res_ceph =',len(ceph_con_cells))\n",
    "\n",
    "print('sus_cipro =',len(cipro_sus_cells))\n",
    "print('sus_trim =',len(trim_sus_cells))\n",
    "print('sus_ceph =',len(ceph_sus_cells))"
   ]
  },
  {
   "cell_type": "code",
   "execution_count": 4,
   "metadata": {},
   "outputs": [
    {
     "name": "stdout",
     "output_type": "stream",
     "text": [
      "215\n",
      "218\n",
      "control cells from each data set for train = 215\n",
      "susceptible cells from each data set for train = 218\n",
      "866\n",
      "77\n",
      "[('/home/ubuntu/data/trimdata/susceptible/sample15/cell134', 1), ('/home/ubuntu/data/trimdata/resistant/sample26/cell313', 0), ('/home/ubuntu/data/trimdata/resistant/sample12/cell687', 0), ('/home/ubuntu/data/trimdata/susceptible/sample02/cell069', 1), ('/home/ubuntu/data/trimdata/susceptible/sample05/cell260', 1), ('/home/ubuntu/data/trimdata/resistant/sample26/cell342', 0), ('/home/ubuntu/data/trimdata/susceptible/sample14/cell151', 1), ('/home/ubuntu/data/trimdata/resistant/sample26/cell316', 0), ('/home/ubuntu/data/trimdata/susceptible/sample14/cell146', 1), ('/home/ubuntu/data/trimdata/susceptible/sample05/cell253', 1), ('/home/ubuntu/data/trimdata/resistant/sample18/cell417', 0), ('/home/ubuntu/data/trimdata/susceptible/sample15/cell123', 1), ('/home/ubuntu/data/trimdata/resistant/sample23/cell146', 0), ('/home/ubuntu/data/trimdata/susceptible/sample13/cell140', 1), ('/home/ubuntu/data/trimdata/susceptible/sample14/cell120', 1), ('/home/ubuntu/data/trimdata/resistant/sample23/cell119', 0), ('/home/ubuntu/data/trimdata/resistant/sample23/cell162', 0), ('/home/ubuntu/data/trimdata/resistant/sample18/cell407', 0), ('/home/ubuntu/data/trimdata/susceptible/sample14/cell156', 1), ('/home/ubuntu/data/trimdata/resistant/sample23/cell124', 0), ('/home/ubuntu/data/trimdata/resistant/sample12/cell674', 0), ('/home/ubuntu/data/trimdata/susceptible/sample13/cell129', 1), ('/home/ubuntu/data/trimdata/resistant/sample12/cell663', 0), ('/home/ubuntu/data/trimdata/resistant/sample12/cell652', 0), ('/home/ubuntu/data/trimdata/susceptible/sample14/cell129', 1), ('/home/ubuntu/data/trimdata/resistant/sample18/cell421', 0), ('/home/ubuntu/data/trimdata/susceptible/sample05/cell223', 1), ('/home/ubuntu/data/trimdata/susceptible/sample05/cell219', 1), ('/home/ubuntu/data/trimdata/susceptible/sample13/cell124', 1), ('/home/ubuntu/data/trimdata/resistant/sample22/cell108', 0), ('/home/ubuntu/data/trimdata/susceptible/sample05/cell252', 1), ('/home/ubuntu/data/trimdata/resistant/sample26/cell346', 0), ('/home/ubuntu/data/trimdata/resistant/sample23/cell137', 0), ('/home/ubuntu/data/trimdata/resistant/sample12/cell683', 0), ('/home/ubuntu/data/trimdata/resistant/sample22/cell071', 0), ('/home/ubuntu/data/trimdata/susceptible/sample14/cell160', 1), ('/home/ubuntu/data/trimdata/susceptible/sample02/cell095', 1), ('/home/ubuntu/data/trimdata/resistant/sample23/cell164', 0), ('/home/ubuntu/data/trimdata/susceptible/sample14/cell150', 1), ('/home/ubuntu/data/trimdata/resistant/sample12/cell654', 0), ('/home/ubuntu/data/trimdata/resistant/sample18/cell416', 0), ('/home/ubuntu/data/trimdata/susceptible/sample05/cell244', 1), ('/home/ubuntu/data/trimdata/resistant/sample12/cell678', 0), ('/home/ubuntu/data/trimdata/resistant/sample18/cell403', 0), ('/home/ubuntu/data/trimdata/resistant/sample22/cell059', 0), ('/home/ubuntu/data/trimdata/susceptible/sample05/cell222', 1), ('/home/ubuntu/data/trimdata/susceptible/sample13/cell103', 1), ('/home/ubuntu/data/trimdata/resistant/sample26/cell345', 0), ('/home/ubuntu/data/trimdata/susceptible/sample05/cell250', 1), ('/home/ubuntu/data/trimdata/resistant/sample26/cell311', 0), ('/home/ubuntu/data/trimdata/susceptible/sample13/cell128', 1), ('/home/ubuntu/data/trimdata/resistant/sample18/cell397', 0), ('/home/ubuntu/data/trimdata/resistant/sample26/cell304', 0), ('/home/ubuntu/data/trimdata/susceptible/sample02/cell084', 1), ('/home/ubuntu/data/trimdata/resistant/sample26/cell317', 0), ('/home/ubuntu/data/trimdata/susceptible/sample15/cell171', 1), ('/home/ubuntu/data/trimdata/resistant/sample12/cell644', 0), ('/home/ubuntu/data/trimdata/resistant/sample26/cell300', 0), ('/home/ubuntu/data/trimdata/susceptible/sample05/cell214', 1), ('/home/ubuntu/data/trimdata/resistant/sample22/cell103', 0), ('/home/ubuntu/data/trimdata/susceptible/sample15/cell141', 1), ('/home/ubuntu/data/trimdata/susceptible/sample13/cell143', 1), ('/home/ubuntu/data/trimdata/resistant/sample22/cell106', 0), ('/home/ubuntu/data/trimdata/susceptible/sample14/cell123', 1), ('/home/ubuntu/data/trimdata/resistant/sample18/cell424', 0), ('/home/ubuntu/data/trimdata/susceptible/sample02/cell101', 1), ('/home/ubuntu/data/trimdata/susceptible/sample13/cell138', 1), ('/home/ubuntu/data/trimdata/susceptible/sample14/cell125', 1), ('/home/ubuntu/data/trimdata/resistant/sample23/cell166', 0), ('/home/ubuntu/data/trimdata/susceptible/sample13/cell142', 1), ('/home/ubuntu/data/trimdata/susceptible/sample15/cell138', 1), ('/home/ubuntu/data/trimdata/susceptible/sample02/cell062', 1), ('/home/ubuntu/data/trimdata/resistant/sample22/cell062', 0), ('/home/ubuntu/data/trimdata/susceptible/sample14/cell153', 1), ('/home/ubuntu/data/trimdata/resistant/sample23/cell136', 0), ('/home/ubuntu/data/trimdata/susceptible/sample02/cell090', 1), ('/home/ubuntu/data/trimdata/susceptible/sample13/cell137', 1)]\n"
     ]
    }
   ],
   "source": [
    "cipro_con_cells = np.array(cnn_module.findallcells_indir('/home/ubuntu/data/resistant/'))\n",
    "trim_con_cells = np.array(cnn_module.findallcells_indir('/home/ubuntu/data/trimdata/resistant/'))\n",
    "\n",
    "cipro_sus_cells     = np.array(cnn_module.findallcells_indir('/home/ubuntu/data/susceptible/'))\n",
    "trim_sus_cells     = np.array(cnn_module.findallcells_indir('/home/ubuntu/data/trimdata/susceptible/'))\n",
    "\n",
    "#start by getting the test set from the data\n",
    "trim_con_labels = cnn_module.create_label_dict(trim_con_cells,0)\n",
    "trim_sus_labels  = cnn_module.create_label_dict(trim_sus_cells,1)\n",
    "\n",
    "trim_train_ctrl, trim_test_ctrl = cnn_module.split_train_test(trim_con_labels,0.85)\n",
    "trim_train_sus, trim_test_sus = cnn_module.split_train_test(trim_sus_labels,0.85)\n",
    "\n",
    "print(len(trim_train_ctrl))\n",
    "print(len(trim_train_sus))\n",
    "#print(cipro_con_cells)\n",
    "#prepare the rest of the data\n",
    "random.shuffle(cipro_con_cells)\n",
    "random.shuffle(cipro_sus_cells)\n",
    "cipro_con1 = cipro_con_cells[:(len(trim_train_ctrl))]\n",
    "cipro_sus1 = cipro_sus_cells[:(len(trim_train_sus))]\n",
    "print('control cells from each data set for train =',len(cipro_con1))\n",
    "print('susceptible cells from each data set for train =',len(cipro_sus1))\n",
    "\n",
    "control_cells_label = cnn_module.create_label_dict(cipro_con1,0)\n",
    "sus_cells_label  = cnn_module.create_label_dict(cipro_sus1,1)\n",
    "\n",
    "rest_ctrl, throw1 = cnn_module.split_train_test(control_cells_label,1)\n",
    "rest_sus, throw2 = cnn_module.split_train_test(sus_cells_label,1)\n",
    "\n",
    "train_labels = rest_sus+rest_ctrl+trim_train_ctrl+trim_train_sus\n",
    "test_labels = trim_test_ctrl+trim_test_sus\n",
    "random.shuffle(train_labels)\n",
    "random.shuffle(test_labels)\n",
    "\n",
    "print(len(train_labels))\n",
    "print(len(test_labels))\n",
    "print(test_labels)"
   ]
  },
  {
   "cell_type": "code",
   "execution_count": null,
   "metadata": {
    "scrolled": false
   },
   "outputs": [
    {
     "name": "stdout",
     "output_type": "stream",
     "text": [
      "repeat = 0\n",
      "215\n",
      "218\n",
      "control cells from each data set for train = 215\n",
      "susceptible cells from each data set for train = 218\n",
      "866\n",
      "77\n",
      "WARNING:tensorflow:From /home/ubuntu/anaconda3/envs/tensorflow_p36/lib/python3.6/site-packages/keras/backend/tensorflow_backend.py:986: The name tf.assign_add is deprecated. Please use tf.compat.v1.assign_add instead.\n",
      "\n",
      "WARNING:tensorflow:From /home/ubuntu/anaconda3/envs/tensorflow_p36/lib/python3.6/site-packages/keras/backend/tensorflow_backend.py:973: The name tf.assign is deprecated. Please use tf.compat.v1.assign instead.\n",
      "\n",
      "Epoch 1/30\n",
      "100/100 [==============================] - 14s 143ms/step - loss: 3.9651 - acc: 0.5787 - val_loss: 0.6740 - val_acc: 0.4817\n",
      "Epoch 2/30\n",
      "100/100 [==============================] - 7s 67ms/step - loss: 0.8055 - acc: 0.5687 - val_loss: 0.6649 - val_acc: 0.5599\n",
      "Epoch 3/30\n",
      "100/100 [==============================] - 7s 65ms/step - loss: 0.7628 - acc: 0.5919 - val_loss: 0.6750 - val_acc: 0.6265\n",
      "Epoch 4/30\n",
      "100/100 [==============================] - 7s 69ms/step - loss: 0.6946 - acc: 0.6003 - val_loss: 0.6425 - val_acc: 0.6228\n",
      "Epoch 5/30\n",
      "100/100 [==============================] - 6s 64ms/step - loss: 0.6790 - acc: 0.6247 - val_loss: 0.6624 - val_acc: 0.6016\n",
      "Epoch 6/30\n",
      "100/100 [==============================] - 6s 64ms/step - loss: 0.6657 - acc: 0.6300 - val_loss: 0.6575 - val_acc: 0.6023\n",
      "Epoch 7/30\n",
      "100/100 [==============================] - 6s 55ms/step - loss: 0.6539 - acc: 0.6281 - val_loss: 0.6403 - val_acc: 0.6250\n",
      "Epoch 8/30\n",
      "100/100 [==============================] - 5s 53ms/step - loss: 0.6258 - acc: 0.6734 - val_loss: 0.6581 - val_acc: 0.6330\n",
      "Epoch 9/30\n",
      "100/100 [==============================] - 5s 55ms/step - loss: 0.5906 - acc: 0.6841 - val_loss: 0.6139 - val_acc: 0.6718\n",
      "Epoch 10/30\n",
      "100/100 [==============================] - 5s 54ms/step - loss: 0.5959 - acc: 0.6831 - val_loss: 0.6347 - val_acc: 0.5870\n",
      "Epoch 11/30\n",
      "100/100 [==============================] - 5s 54ms/step - loss: 0.5706 - acc: 0.7062 - val_loss: 0.6015 - val_acc: 0.6550\n",
      "Epoch 12/30\n",
      "100/100 [==============================] - 5s 53ms/step - loss: 0.5215 - acc: 0.7209 - val_loss: 0.5905 - val_acc: 0.6952\n",
      "Epoch 13/30\n",
      "100/100 [==============================] - 6s 55ms/step - loss: 0.4943 - acc: 0.7544 - val_loss: 0.7392 - val_acc: 0.6009\n",
      "Epoch 14/30\n",
      "100/100 [==============================] - 5s 54ms/step - loss: 0.4535 - acc: 0.7869 - val_loss: 0.6056 - val_acc: 0.6747\n",
      "Epoch 15/30\n",
      "100/100 [==============================] - 5s 54ms/step - loss: 0.4269 - acc: 0.8081 - val_loss: 0.6445 - val_acc: 0.6937\n",
      "Epoch 16/30\n",
      "100/100 [==============================] - 5s 52ms/step - loss: 0.3511 - acc: 0.8422 - val_loss: 0.8530 - val_acc: 0.7018\n",
      "Epoch 17/30\n",
      "100/100 [==============================] - 5s 54ms/step - loss: 0.3238 - acc: 0.8644 - val_loss: 0.7767 - val_acc: 0.6901\n",
      "Epoch 18/30\n",
      "100/100 [==============================] - 5s 54ms/step - loss: 0.2931 - acc: 0.8928 - val_loss: 3.7687 - val_acc: 0.5570\n",
      "Epoch 19/30\n",
      "100/100 [==============================] - 5s 54ms/step - loss: 0.2122 - acc: 0.9197 - val_loss: 1.1546 - val_acc: 0.6535\n",
      "Epoch 20/30\n",
      "100/100 [==============================] - 5s 54ms/step - loss: 0.1808 - acc: 0.9372 - val_loss: 0.7272 - val_acc: 0.7076\n",
      "Epoch 21/30\n",
      "100/100 [==============================] - 5s 53ms/step - loss: 0.1660 - acc: 0.9372 - val_loss: 0.9061 - val_acc: 0.7039\n",
      "Epoch 22/30\n",
      "100/100 [==============================] - 5s 53ms/step - loss: 0.1555 - acc: 0.9416 - val_loss: 1.8614 - val_acc: 0.5980\n",
      "Epoch 23/30\n",
      "100/100 [==============================] - 5s 53ms/step - loss: 0.1345 - acc: 0.9447 - val_loss: 1.6199 - val_acc: 0.5841\n",
      "Epoch 24/30\n",
      "100/100 [==============================] - 5s 52ms/step - loss: 0.0970 - acc: 0.9603 - val_loss: 1.2776 - val_acc: 0.6879\n",
      "Epoch 25/30\n",
      "100/100 [==============================] - 5s 53ms/step - loss: 0.1033 - acc: 0.9544 - val_loss: 0.7574 - val_acc: 0.6623\n",
      "Epoch 26/30\n",
      "100/100 [==============================] - 6s 55ms/step - loss: 0.1055 - acc: 0.9587 - val_loss: 1.2591 - val_acc: 0.6762\n",
      "Epoch 27/30\n",
      "100/100 [==============================] - 5s 52ms/step - loss: 0.0824 - acc: 0.9678 - val_loss: 1.9943 - val_acc: 0.6645\n",
      "Epoch 28/30\n",
      "100/100 [==============================] - 6s 55ms/step - loss: 0.0797 - acc: 0.9653 - val_loss: 3.2232 - val_acc: 0.7105\n",
      "Epoch 29/30\n",
      "100/100 [==============================] - 5s 54ms/step - loss: 0.0964 - acc: 0.9637 - val_loss: 2.0648 - val_acc: 0.6901\n",
      "Epoch 30/30\n",
      "100/100 [==============================] - 5s 54ms/step - loss: 0.0860 - acc: 0.9650 - val_loss: 1.4818 - val_acc: 0.7127\n",
      "repeat = 1\n",
      "215\n",
      "218\n",
      "control cells from each data set for train = 215\n",
      "susceptible cells from each data set for train = 218\n",
      "866\n",
      "77\n",
      "Epoch 1/30\n",
      "100/100 [==============================] - 7s 72ms/step - loss: 1.8083 - acc: 0.5494 - val_loss: 0.6825 - val_acc: 0.5234\n",
      "Epoch 2/30\n",
      "100/100 [==============================] - 5s 53ms/step - loss: 0.7833 - acc: 0.5656 - val_loss: 0.6846 - val_acc: 0.6257\n",
      "Epoch 3/30\n",
      "100/100 [==============================] - 5s 54ms/step - loss: 0.7240 - acc: 0.5728 - val_loss: 0.6460 - val_acc: 0.6389\n",
      "Epoch 4/30\n",
      "100/100 [==============================] - 5s 52ms/step - loss: 0.7138 - acc: 0.5859 - val_loss: 0.6524 - val_acc: 0.7763\n",
      "Epoch 5/30\n",
      "100/100 [==============================] - 6s 56ms/step - loss: 0.6623 - acc: 0.6209 - val_loss: 0.6594 - val_acc: 0.6221\n",
      "Epoch 6/30\n",
      " 19/100 [====>.........................] - ETA: 3s - loss: 0.6400 - acc: 0.6316"
     ]
    }
   ],
   "source": [
    "result_acc = []\n",
    "result_val_acc = []\n",
    "result_val_loss = []\n",
    "result_loss = []\n",
    "epochs=30\n",
    "stepsperepoch=100\n",
    "sample_gap = 10\n",
    "model = models.get_luke_model_140(input_shape=(140,100,1))\n",
    "for repeat in np.arange(0,5):\n",
    "    print('repeat =', repeat)\n",
    "    #prep cells for feeding into CNN\n",
    "    cipro_con_cells = np.array(cnn_module.findallcells_indir('/home/ubuntu/data/resistant/'))\n",
    "    trim_con_cells = np.array(cnn_module.findallcells_indir('/home/ubuntu/data/trimdata/resistant/'))\n",
    "\n",
    "    cipro_sus_cells     = np.array(cnn_module.findallcells_indir('/home/ubuntu/data/susceptible/'))\n",
    "    trim_sus_cells     = np.array(cnn_module.findallcells_indir('/home/ubuntu/data/trimdata/susceptible/'))\n",
    "\n",
    "    #start by getting the test set from the data\n",
    "    trim_con_labels = cnn_module.create_label_dict(trim_con_cells,0)\n",
    "    trim_sus_labels  = cnn_module.create_label_dict(trim_sus_cells,1)\n",
    "\n",
    "    trim_train_ctrl, trim_test_ctrl = cnn_module.split_train_test(trim_con_labels,0.85)\n",
    "    trim_train_sus, trim_test_sus = cnn_module.split_train_test(trim_sus_labels,0.85)\n",
    "\n",
    "    print(len(trim_train_ctrl))\n",
    "    print(len(trim_train_sus))\n",
    "    #print(cipro_con_cells)\n",
    "    #prepare the rest of the data\n",
    "    random.shuffle(cipro_con_cells)\n",
    "    random.shuffle(cipro_sus_cells)\n",
    "    cipro_con1 = cipro_con_cells[:(len(trim_train_ctrl))]\n",
    "    cipro_sus1 = cipro_sus_cells[:(len(trim_train_sus))]\n",
    "    print('control cells from each data set for train =',len(cipro_con1))\n",
    "    print('susceptible cells from each data set for train =',len(cipro_sus1))\n",
    "\n",
    "    control_cells_label = cnn_module.create_label_dict(cipro_con1,0)\n",
    "    sus_cells_label  = cnn_module.create_label_dict(cipro_sus1,1)\n",
    "\n",
    "    rest_ctrl, throw1 = cnn_module.split_train_test(control_cells_label,1)\n",
    "    rest_sus, throw2 = cnn_module.split_train_test(sus_cells_label,1)\n",
    "\n",
    "    train_labels = rest_sus+rest_ctrl+trim_train_ctrl+trim_train_sus\n",
    "    test_labels = trim_test_ctrl+trim_test_sus\n",
    "    random.shuffle(train_labels)\n",
    "    random.shuffle(test_labels)\n",
    "\n",
    "    print(len(train_labels))\n",
    "    print(len(test_labels))\n",
    "\n",
    "\n",
    "    video_path = '/cropped_video100_140'\n",
    "    im_paths_train, im_labels_train, im_paths_test, im_labels_test = cnn_module.get_labels_images(train_labels,test_labels,video_path,sample_gap)\n",
    "    random.shuffle(im_paths_train)\n",
    "    random.shuffle(im_paths_test)\n",
    "    \n",
    "    epochs=30\n",
    "    stepsperepoch=100\n",
    "    sample_gap = 10\n",
    "    validate_steps = len(im_paths_test)//32\n",
    "    model = models.get_luke_model_140(input_shape=(140,100,1))\n",
    "    \n",
    "    #augment_train, augment_valid = cnn_module.get_augmentations_train_test()\n",
    "    \n",
    "    params_train, params_test = cnn_module.get_params_train_test(140,100,augment_valid,augment_valid) #no flipping\n",
    "\n",
    "    training_generator = DataGenerator.DataGenerator(im_paths_train, im_labels_train, **params_train)\n",
    "    prediction_generator = DataGenerator.DataGenerator(im_paths_test, im_labels_test, **params_test)\n",
    "    \n",
    "\n",
    "    fully_train_model = cnn_module.fit_model(model,training_generator,prediction_generator,epochs,stepsperepoch,validate_steps,params_train,params_test)\n",
    "    \n",
    "    run_val_acc = model.history.history['val_acc']\n",
    "    run_val_loss = model.history.history['val_loss']\n",
    "    run_acc = model.history.history['acc']\n",
    "    run_loss = model.history.history['loss']\n",
    "    \n",
    "    result_val_acc.append(run_val_acc)\n",
    "    result_val_loss.append(run_val_loss)\n",
    "    result_acc.append(run_acc)\n",
    "    result_loss.append(run_loss)"
   ]
  },
  {
   "cell_type": "code",
   "execution_count": 56,
   "metadata": {},
   "outputs": [
    {
     "name": "stdout",
     "output_type": "stream",
     "text": [
      "([[0.6310307011008263, 0.6277412293772948, 0.7757675404611387, 0.734100875885863, 0.7774122820088738, 0.726425439119339, 0.6831140353491432, 0.7066885993668908, 0.7894736834262547, 0.6847587733676559, 0.5087719316545286, 0.6606359693564867, 0.662280703845777, 0.7088815813001833, 0.66337719324388, 0.7637061421808443, 0.7033991225455937, 0.7302631578947368, 0.7017543876641675, 0.7505482482282739, 0.7225877179911262, 0.773026317358017, 0.666118422229039, 0.7571271920674726, 0.6699561413965727, 0.732456138651622, 0.7467105271000611, 0.6573464921430537, 0.7275219316545286, 0.7116228075403916], [0.7214912297694307, 0.5904605259236536, 0.6940789442313345, 0.7110745624492043, 0.6244517549088127, 0.6885964901823747, 0.5915570176745716, 0.6052631571104652, 0.6480263189265603, 0.5910087733676559, 0.6452850879807221, 0.6584429835018358, 0.6869517505953187, 0.6661184218369032, 0.7225877183832621, 0.7039473703817317, 0.7072368432816706, 0.6458333358168602, 0.6918859626901778, 0.6737938601719705, 0.7308114049466032, 0.7105263142209304, 0.7242324560096389, 0.7072368409288557, 0.6222587714069768, 0.6820175432060894, 0.6392543845270809, 0.7203947384106485, 0.6798245593121177, 0.503289474860618], [0.7337662333791907, 0.7548701283219573, 0.7256493483270917, 0.6985930738511024, 0.6347402605143461, 0.6677489187810328, 0.643939396003624, 0.6975108245750526, 0.6715367970528541, 0.673160174450317, 0.4924242440369222, 0.6796536790086077, 0.6287878755625192, 0.6433982663340383, 0.6812770575672001, 0.6222943744876168, 0.674783549525521, 0.7023809559933551, 0.7018398270978556, 0.6807359317680458, 0.6325757584788583, 0.6948051951922379, 0.6823593072302929, 0.708874460938689, 0.6547619057940198, 0.7099567086665661, 0.6336580120123826, 0.6672077929818785, 0.6774891800694651, 0.6996753246753247]], [[0.6911618317428389, 0.675955394380971, 0.6144904721724359, 0.5923227891325951, 0.5716472852386927, 0.5809169690075674, 0.5862688265348736, 0.540692726248189, 0.49014766435874135, 0.5627693910347787, 0.7807080498651454, 0.7089649580026928, 0.6378820844386753, 0.7296621089703158, 0.6544464579538295, 0.7917641842443692, 0.820391805548417, 1.0565262926056196, 0.9671995977037832, 3.037826171831081, 1.4120895776309466, 2.6520473945297693, 1.8772775719040318, 1.6973894916866954, 1.135018190270976, 1.1869580516297566, 1.4755035811348964, 3.541763862496928, 0.9512675908443174, 1.3459450528025627], [0.6545264916984659, 0.6399662275063364, 0.5924275431193804, 0.5533211803749988, 0.6268325632340029, 0.5839093264780546, 0.85672417204631, 0.9603530388129385, 0.9778873892991167, 1.382803429114191, 1.3490986231910556, 1.9403505556677516, 1.0010171913002666, 1.8642364610966884, 2.2198008102805993, 1.6454266427378905, 1.9437275579885434, 4.238319629117062, 2.7848107775575235, 2.10315011873057, 2.333749720924779, 3.464245142121064, 2.677290618419647, 2.155104853604969, 2.931898760168176, 2.4644839112695895, 2.633101307247814, 2.1716239879790105, 4.101868778467178, 7.896276395571859], [0.6332774177774206, 0.6089687440302465, 0.5944981195709922, 0.6222938786853444, 0.6720500394895479, 0.7104904736791339, 0.6351482647579986, 0.8191586887681639, 0.938036827684997, 1.0342686284672131, 7.9964573352367845, 2.4467992674220693, 2.5224245151916107, 1.3599922548640857, 2.4020047838037666, 1.5587762118159951, 2.5656277173525326, 2.9762963103009508, 3.3859037431803616, 2.5512007800015537, 2.2940995739651964, 2.7100162142282955, 3.0974799580388255, 3.1751857934060035, 3.3008563348225186, 2.7085388322155195, 2.627979239086052, 2.624598111425127, 3.4841564104154514, 3.269659687946369]], [[0.580625, 0.5703125, 0.5890625, 0.6378125, 0.61875, 0.6528125, 0.6734375, 0.7103125, 0.71625, 0.756875, 0.79, 0.8290625, 0.8803125, 0.90625, 0.938125, 0.955, 0.96375, 0.97625, 0.971875, 0.9790625, 0.98125, 0.9859375, 0.9834375, 0.9784375, 0.9821875, 0.9853125, 0.981875, 0.9878125, 0.9846875, 0.9878125], [0.5675, 0.5925, 0.6271875, 0.63375, 0.678125, 0.7296875, 0.7640625, 0.7921875, 0.8628125, 0.9071875, 0.946875, 0.9590625, 0.9690625, 0.98, 0.9834375, 0.98, 0.9875, 0.985, 0.9853125, 0.9890625, 0.989375, 0.9875, 0.99125, 0.99, 0.9925, 0.9903125, 0.9903125, 0.9915625, 0.9896875, 0.99], [0.556875, 0.620625, 0.6259375, 0.6590625, 0.6940625, 0.7159375, 0.7678125, 0.8184375, 0.8753125, 0.9159375, 0.945, 0.9609375, 0.968125, 0.9775, 0.9828125, 0.981875, 0.98875, 0.9903125, 0.9925, 0.9928125, 0.9934375, 0.9934375, 0.9934375, 0.9940625, 0.99625, 0.99375, 0.9921875, 0.994375, 0.993125, 0.9940625]], [[2.0685792815685273, 0.7966643875837326, 0.723234538435936, 0.7095859435200691, 0.6724407899379731, 0.6103750920295715, 0.6126875135302544, 0.577510461807251, 0.552884920835495, 0.5020370136201382, 0.44128579303622245, 0.38695584014058115, 0.2861579118669033, 0.241109512001276, 0.18128248419612647, 0.1179440207220614, 0.10886783671798185, 0.07583200143650175, 0.09188396838842891, 0.060462646768428385, 0.04927425862115342, 0.046677630491285524, 0.04926366819650866, 0.061756845826803325, 0.050216284767720935, 0.05315328411565133, 0.05752743972414464, 0.028857856604727204, 0.03899649712921558, 0.027237095200739532], [2.6211981201171874, 0.7403489828109742, 0.6984979358315467, 0.6780486679077149, 0.6152758267521858, 0.561437112390995, 0.49092538207769393, 0.4268768694996834, 0.3211325307190418, 0.223331652097404, 0.15645490922033786, 0.11557266362477094, 0.10154485730454325, 0.061708909823792055, 0.05196625836775638, 0.061530114497873004, 0.03867298858560389, 0.04674309547581288, 0.04592363863603168, 0.034426612380630106, 0.030813832110898148, 0.042998375948359355, 0.02931285456500973, 0.030711038230419943, 0.022741863493642996, 0.0352477092381514, 0.02315221423619107, 0.023565323693669028, 0.03609843669946258, 0.030133145842455918], [1.7278229108452796, 0.74062804967165, 0.7366109043359756, 0.6517940837144852, 0.5978442686796188, 0.5453192952275276, 0.4972341817617416, 0.4054216901957989, 0.29925657480955126, 0.2087893981859088, 0.1386552284657955, 0.13723715008236467, 0.09011440551374107, 0.06817880000860896, 0.052720965761254776, 0.056119559015351116, 0.03513047469619778, 0.040904172644404754, 0.029235545687752166, 0.022380388557048717, 0.023120959434303357, 0.01952209273078779, 0.03403700093789666, 0.02232034693319747, 0.02763325102086469, 0.023460614673515467, 0.03392139281872005, 0.022720689249922543, 0.02182110674327987, 0.02284473459333327]])\n"
     ]
    }
   ],
   "source": [
    "result = (result_val_acc, result_val_loss, result_acc, result_loss)\n",
    "print(result)"
   ]
  },
  {
   "cell_type": "code",
   "execution_count": 57,
   "metadata": {},
   "outputs": [],
   "source": [
    "#pickle.dump(result, open('/home/ubuntu/data/code/2dCNN/trimcipro_train_trim_test3.p','wb'))"
   ]
  },
  {
   "cell_type": "code",
   "execution_count": 58,
   "metadata": {},
   "outputs": [],
   "source": [
    "import pickle\n",
    "result_all = pickle.load(open('/home/ubuntu/data/code/2dCNN/trimcipro_train_trim_test3.p','rb'))\n",
    "val_acc_all = result_all[0]\n",
    "val_loss_all = result_all[1]\n",
    "acc_all = result_all[2]\n",
    "loss_all = result_all[3]"
   ]
  },
  {
   "cell_type": "code",
   "execution_count": 59,
   "metadata": {},
   "outputs": [
    {
     "name": "stdout",
     "output_type": "stream",
     "text": [
      "[0.69542939 0.65769063 0.73183194 0.7145895  0.6788681  0.69425695\n",
      " 0.63953682 0.66982086 0.70301227 0.64964257 0.54882709 0.66624421\n",
      " 0.65934011 0.67279942 0.68908066 0.6966493  0.69513984 0.69282582\n",
      " 0.69849339 0.70169268 0.69532496 0.72611928 0.6909034  0.72441283\n",
      " 0.64899227 0.70814346 0.67320764 0.68164967 0.69494522 0.63819587]\n",
      "[0.56833333 0.59447917 0.6140625  0.64354167 0.66364583 0.69947917\n",
      " 0.73510417 0.77364583 0.818125   0.86       0.89395833 0.91635417\n",
      " 0.93916667 0.95458333 0.968125   0.97229167 0.98       0.98385417\n",
      " 0.98322917 0.98697917 0.98802083 0.98895833 0.989375   0.9875\n",
      " 0.9903125  0.98979167 0.988125   0.99125    0.98916667 0.990625  ]\n"
     ]
    }
   ],
   "source": [
    "import numpy as np\n",
    "\n",
    "val_acc_avg = np.mean(val_acc_all, axis = 0)\n",
    "print(val_acc_avg)\n",
    "\n",
    "acc_avg = np.mean(acc_all, axis = 0)\n",
    "print(acc_avg)"
   ]
  },
  {
   "cell_type": "code",
   "execution_count": 60,
   "metadata": {},
   "outputs": [
    {
     "data": {
      "text/plain": [
       "(0.5, 1)"
      ]
     },
     "execution_count": 60,
     "metadata": {},
     "output_type": "execute_result"
    },
    {
     "data": {
      "image/png": "[encoded data removed]",
      "text/plain": [
       "<Figure size 432x288 with 1 Axes>"
      ]
     },
     "metadata": {},
     "output_type": "display_data"
    }
   ],
   "source": [
    "x_vals=np.arange(1,31)\n",
    "\n",
    "#bests = [np.max(np.array(i)[:,1]) for i in data]\n",
    "#stds = [np.std(np.array(i)[:,1]) for i in data]\n",
    "\n",
    "plt.style.use('seaborn-darkgrid')\n",
    "\n",
    "#plt.scatter(np.array(data)[:,0],np.array(data)[:,1],marker='x', alpha= 0.5, label='Individual runs',color='black')\n",
    "plt.scatter(x_vals,val_acc_avg, marker='o', s= 75, label='Averages',color='yellow', edgecolors='black',linewidth=1)\n",
    "#plt.errorbar(x_vals,data_av,std,elinewidth=2,color='maroon',label='std')\n",
    "plt.legend(loc='lower right',frameon=True, fontsize=12)\n",
    "#plt.title('Sample gap vs accuracy')\n",
    "plt.xlabel('Number of Epochs', size = 15)\n",
    "plt.ylabel('Accuracy', size = 15)\n",
    "plt.xticks(np.arange(0, 36, 5))\n",
    "plt.xlim(0,31)\n",
    "plt.ylim(0.5,1)\n",
    "\n",
    "#plt.savefig('/home/ubuntu/data/figs/2d_cr_val_acc.png', dpi=500)"
   ]
  },
  {
   "cell_type": "code",
   "execution_count": 61,
   "metadata": {},
   "outputs": [
    {
     "data": {
      "text/plain": [
       "(0.5, 1)"
      ]
     },
     "execution_count": 61,
     "metadata": {},
     "output_type": "execute_result"
    },
    {
     "data": {
      "image/png": "[encoded data removed]",
      "text/plain": [
       "<Figure size 432x288 with 1 Axes>"
      ]
     },
     "metadata": {},
     "output_type": "display_data"
    }
   ],
   "source": [
    "x_vals=np.arange(1,31)\n",
    "\n",
    "#bests = [np.max(np.array(i)[:,1]) for i in data]\n",
    "#stds = [np.std(np.array(i)[:,1]) for i in data]\n",
    "\n",
    "plt.style.use('seaborn-darkgrid')\n",
    "\n",
    "#plt.scatter(np.array(data)[:,0],np.array(data)[:,1],marker='x', alpha= 0.5, label='Individual runs',color='black')\n",
    "plt.scatter(x_vals,acc_avg, marker='o', s= 75, label='Averages',color='yellow', edgecolors='black',linewidth=1)\n",
    "#plt.errorbar(x_vals,data_av,std,elinewidth=2,color='maroon',label='std')\n",
    "plt.legend(loc='lower right',frameon=True, fontsize=12)\n",
    "#plt.title('Sample gap vs accuracy')\n",
    "plt.xlabel('Number of Epochs', size = 15)\n",
    "plt.ylabel('Accuracy', size = 15)\n",
    "plt.xticks(np.arange(0, 36, 5))\n",
    "plt.xlim(0,31)\n",
    "plt.ylim(0.5,1)\n",
    "\n",
    "#plt.savefig('/home/ubuntu/data/figs/2d_cr_acc.png', dpi=500)"
   ]
  }
 ],
 "metadata": {
  "kernelspec": {
   "display_name": "Python 3",
   "language": "python",
   "name": "python3"
  },
  "language_info": {
   "codemirror_mode": {
    "name": "ipython",
    "version": 3
   },
   "file_extension": ".py",
   "mimetype": "text/x-python",
   "name": "python",
   "nbconvert_exporter": "python",
   "pygments_lexer": "ipython3",
   "version": "3.6.7"
  }
 },
 "nbformat": 4,
 "nbformat_minor": 2
}
