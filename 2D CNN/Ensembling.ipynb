{
 "cells": [
  {
   "cell_type": "code",
   "execution_count": 2,
   "metadata": {},
   "outputs": [],
   "source": [
    "import sys\n",
    "sys.path.insert(0, \"/home/ubuntu/data/code/Modules/\")"
   ]
  },
  {
   "cell_type": "code",
   "execution_count": 3,
   "metadata": {},
   "outputs": [
    {
     "name": "stderr",
     "output_type": "stream",
     "text": [
      "Using TensorFlow backend.\n"
     ]
    }
   ],
   "source": [
    "import sys\n",
    "sys.path.insert(0, \"/home/ubuntu/data/code/Modules/\")\n",
    "import numpy as np\n",
    "import pickle\n",
    "from sklearn.metrics import confusion_matrix\n",
    "import matplotlib.pyplot as plt\n",
    "import DataGenerator\n",
    "from albumentations import Compose,HorizontalFlip, VerticalFlip, ToFloat\n",
    "from sklearn.metrics import accuracy_score\n",
    "from keras import backend\n",
    "import glob\n",
    "import random\n",
    "import CNN_Module as cnn_module\n",
    "import models\n",
    "import glue_code"
   ]
  },
  {
   "cell_type": "code",
   "execution_count": 4,
   "metadata": {},
   "outputs": [],
   "source": [
    "augment_train, augment_valid = cnn_module.get_augmentations_train_test()\n",
    "params_train, params_test = cnn_module.get_params_train_test(80,augment_train,augment_valid)\n",
    "params_test['batch_size']=24\n",
    "def reset_weights(model):\n",
    "    session = backend.get_session()\n",
    "    for layer in model.layers: \n",
    "        if hasattr(layer, 'kernel_initializer'):\n",
    "            layer.kernel.initializer.run(session=session)"
   ]
  },
  {
   "cell_type": "code",
   "execution_count": 331,
   "metadata": {},
   "outputs": [
    {
     "data": {
      "text/plain": [
       "842"
      ]
     },
     "execution_count": 331,
     "metadata": {},
     "output_type": "execute_result"
    }
   ],
   "source": [
    "len(train_labels)"
   ]
  },
  {
   "cell_type": "code",
   "execution_count": 37,
   "metadata": {},
   "outputs": [],
   "source": [
    "#prep cells for feeding into CNN\n",
    "control_cells = np.array(cnn_module.findallcells_indir('/home/ubuntu/data/control/'))\n",
    "sus_cells     = np.array(cnn_module.findallcells_indir('/home/ubuntu/data/susceptible/'))\n",
    "\n",
    "#label cells, and split cells into test and train, making sure to have equal proportion of sus and ctrl in both\n",
    "control_cells_label = cnn_module.create_label_dict(control_cells,0)\n",
    "sus_cells_label  = cnn_module.create_label_dict(sus_cells,1)\n",
    "\n",
    "train_ctrl, test_ctrl = cnn_module.split_train_test(control_cells_label,0.9)\n",
    "train_sus, test_sus = cnn_module.split_train_test(sus_cells_label,0.9)\n",
    "\n",
    "train_labels = train_ctrl+train_sus\n",
    "test_labels = test_ctrl+test_sus\n",
    "\n",
    "random.shuffle(train_labels)\n",
    "random.shuffle(test_labels)\n",
    "\n",
    "video_path = '/cropped_video80'\n",
    "sample_gap = 10\n",
    "im_paths_train, im_labels_train, im_paths_test, im_labels_test = cnn_module.get_labels_images(train_labels,test_labels,video_path,sample_gap)\n",
    "random.shuffle(im_paths_train)\n",
    "random.shuffle(im_paths_test)"
   ]
  },
  {
   "cell_type": "code",
   "execution_count": 323,
   "metadata": {},
   "outputs": [
    {
     "data": {
      "text/plain": [
       "array([0, 1, 2])"
      ]
     },
     "execution_count": 323,
     "metadata": {},
     "output_type": "execute_result"
    }
   ],
   "source": [
    "np.arange(0,3)"
   ]
  },
  {
   "cell_type": "code",
   "execution_count": 334,
   "metadata": {},
   "outputs": [
    {
     "name": "stdout",
     "output_type": "stream",
     "text": [
      "0\n",
      "1\n",
      "2\n",
      "3\n",
      "4\n",
      "5\n",
      "6\n",
      "7\n",
      "8\n",
      "9\n",
      "10\n",
      "11\n",
      "12\n",
      "13\n",
      "14\n",
      "[0.7759683098591549, 0.8877640845070423, 0.9027288732394366, 0.8926056338028169, 0.8996478873239436, 0.897887323943662]\n",
      "0\n",
      "1\n",
      "2\n",
      "3\n",
      "4\n",
      "5\n",
      "6\n",
      "7\n",
      "8\n",
      "9\n",
      "10\n",
      "11\n",
      "12\n",
      "13\n",
      "14\n",
      "[0.8503521126760564, 0.8490316901408451, 0.8745598591549296, 0.8736795774647887, 0.8776408450704225, 0.8816021126760564]\n",
      "0\n",
      "1\n",
      "2\n",
      "3\n",
      "4\n",
      "5\n",
      "6\n",
      "7\n",
      "8\n",
      "9\n",
      "10\n",
      "11\n",
      "12\n",
      "13\n",
      "14\n",
      "[0.863556338028169, 0.8705985915492958, 0.883362676056338, 0.8842429577464789, 0.886443661971831, 0.8868838028169014]\n",
      "0\n",
      "1\n",
      "2\n",
      "3\n",
      "4\n",
      "5\n",
      "6\n",
      "7\n",
      "8\n",
      "9\n",
      "10\n",
      "11\n",
      "12\n",
      "13\n",
      "14\n",
      "[0.8235035211267606, 0.8402288732394366, 0.8648767605633803, 0.8855633802816901, 0.8824823943661971, 0.8868838028169014]\n",
      "0\n",
      "1\n",
      "2\n",
      "3\n",
      "4\n",
      "5\n",
      "6\n",
      "7\n",
      "8\n",
      "9\n",
      "10\n",
      "11\n",
      "12\n",
      "13\n",
      "14\n",
      "[0.7535211267605634, 0.809419014084507, 0.8336267605633803, 0.8419894366197183, 0.8499119718309859, 0.8485915492957746]\n"
     ]
    }
   ],
   "source": [
    "model = models.get_luke_model(80)\n",
    "\n",
    "accuracies_togther = []\n",
    "num_models = 15\n",
    "for statistics_repeat in np.arange(0,5):\n",
    "    #prep cells for feeding into CNN\n",
    "    control_cells = np.array(cnn_module.findallcells_indir('/home/ubuntu/data/control/'))\n",
    "    sus_cells     = np.array(cnn_module.findallcells_indir('/home/ubuntu/data/susceptible/'))\n",
    "    \n",
    "    #label cells, and split cells into test and train, making sure to have equal proportion of sus and ctrl in both\n",
    "    control_cells_label = cnn_module.create_label_dict(control_cells,0)\n",
    "    sus_cells_label  = cnn_module.create_label_dict(sus_cells,1)\n",
    "    \n",
    "    train_ctrl, test_ctrl = cnn_module.split_train_test(control_cells_label,0.9)\n",
    "    train_sus, test_sus = cnn_module.split_train_test(sus_cells_label,0.9)\n",
    "    \n",
    "    train_labels = train_ctrl+train_sus\n",
    "    test_labels = test_ctrl+test_sus\n",
    "    \n",
    "    random.shuffle(train_labels)\n",
    "    random.shuffle(test_labels)\n",
    "    \n",
    "    video_path = '/cropped_video80'\n",
    "    sample_gap = 10\n",
    "    im_paths_train, im_labels_train, im_paths_test, im_labels_test = cnn_module.get_labels_images(train_labels,test_labels,video_path,sample_gap)\n",
    "    random.shuffle(im_paths_train)\n",
    "    \n",
    "    \n",
    "    result_predicting = []\n",
    "    for repeat in np.arange(0,num_models): \n",
    "        random.shuffle(im_paths_train)\n",
    "        ##fit model\n",
    "        epochs=20\n",
    "        stepsperepoch=100\n",
    "        training_generator = DataGenerator.DataGenerator(im_paths_train, im_labels_train, **params_train)\n",
    "        model.fit_generator(generator=training_generator,epochs = epochs,steps_per_epoch=stepsperepoch,verbose=0)\n",
    "        #make predictions\n",
    "        prediction_generator = DataGenerator.DataGenerator(im_paths_test, im_labels_test, **params_test)\n",
    "        preds = model.predict_generator(generator=prediction_generator,workers=1,steps = len(im_paths_test)//24, use_multiprocessing=False)\n",
    "        \n",
    "        filenames_preds = dict(zip(prediction_generator.filenames,preds))   \n",
    "        result_predicting.append(filenames_preds)\n",
    "        reset_weights(model)\n",
    "        \n",
    "        print(repeat)\n",
    "        \n",
    "    result_ensembling = []\n",
    "    for key in list(result_predicting[0].keys()):\n",
    "        image_preds = []\n",
    "        correct_label = im_labels_test[key]\n",
    "        for dictionary in result_predicting:     \n",
    "            prediction = dictionary[key]\n",
    "            image_preds.append(prediction)\n",
    "        result_ensembling.append([correct_label,image_preds])\n",
    "        \n",
    "    #get result array which = [label, 1 model, 3 models, 5 models, 7 models, 9 models]\n",
    "    result = []\n",
    "    for image in result_ensembling:\n",
    "        prediction_num_models = []\n",
    "        for i in np.arange(1,num_models+1,2):\n",
    "            predictions = image[1][:i]#2d probabilities from each model\n",
    "            integer_predictions = list(np.argmax(np.array(predictions),axis=1))#integer predictions from each model\n",
    "            final_prediction = max(set(integer_predictions), key=integer_predictions.count)#most common integer prediction\n",
    "            prediction_num_models.append(final_prediction)#prediction for 1,3,5,7,9 models\n",
    "        \n",
    "        result.append(np.insert(prediction_num_models,0,image[0]))#label, prediction for 1,3,5,7,9 models\n",
    "    result = np.array(result) \n",
    "    accuracies = [accuracy_score(result[:,0],result[:,i]) for i in np.arange(1,7)]\n",
    "    print(accuracies)\n",
    "    accuracies_togther.append(accuracies)"
   ]
  },
  {
   "cell_type": "code",
   "execution_count": 207,
   "metadata": {},
   "outputs": [],
   "source": [
    "#get the correct label for each prediction\n",
    "result_ensembling = []\n",
    "for key in list(result_predicting[0].keys()):\n",
    "    image_preds = []\n",
    "    correct_label = im_labels_test[key]\n",
    "    for dictionary in result_predicting:\n",
    "        \n",
    "        prediction = dictionary[key]\n",
    "        image_preds.append(prediction)\n",
    "    result_ensembling.append([correct_label,image_preds])"
   ]
  },
  {
   "cell_type": "code",
   "execution_count": 242,
   "metadata": {},
   "outputs": [],
   "source": [
    "#get result array which = [label, 1 model, 3 models, 5 models, 7 models, 9 models]\n",
    "num_models = 10\n",
    "result = []\n",
    "for image in result_ensembling:\n",
    "    prediction_num_models = []\n",
    "    for i in np.arange(1,num_models,2):\n",
    "        predictions = image[1][:i]#2d probabilities from each model\n",
    "        integer_predictions = list(np.argmax(np.array(predictions),axis=1))#integer predictions from each model\n",
    "        final_prediction = max(set(integer_predictions), key=integer_predictions.count)#most common integer prediction\n",
    "        prediction_num_models.append(final_prediction)#prediction for 1,3,5,7,9 models\n",
    "        \n",
    "    result.append(np.insert(prediction_num_models,0,image[0]))#label, prediction for 1,3,5,7,9 models\n",
    "result = np.array(result)   "
   ]
  },
  {
   "cell_type": "code",
   "execution_count": 335,
   "metadata": {},
   "outputs": [],
   "source": [
    "import pickle\n",
    "pickle.dump(accuracies_togther,open('5_full_ensemble_experiments.p','wb'))"
   ]
  },
  {
   "cell_type": "code",
   "execution_count": 5,
   "metadata": {},
   "outputs": [],
   "source": [
    "accuracies_togther=pickle.load(open('5_full_ensemble_experiments.p','rb'))"
   ]
  },
  {
   "cell_type": "code",
   "execution_count": 13,
   "metadata": {},
   "outputs": [],
   "source": [
    "xs_scatter =[]\n",
    "for i in range(5):\n",
    "    i = np.arange(1,13,2)\n",
    "    i = list(i)\n",
    "    xs_scatter.extend(i)"
   ]
  },
  {
   "cell_type": "code",
   "execution_count": 60,
   "metadata": {},
   "outputs": [
    {
     "data": {
      "image/png": "[encoded data removed]",
      "text/plain": [
       "<Figure size 576x360 with 1 Axes>"
      ]
     },
     "metadata": {},
     "output_type": "display_data"
    }
   ],
   "source": [
    "plt.style.use('bmh')\n",
    "plt.rcParams.update({\"figure.figsize\" : (8, 5),\n",
    "                     \"axes.facecolor\" : \"white\",\n",
    "                     \"axes.edgecolor\":  \"black\"})\n",
    "\n",
    "plt.xticks(fontsize=12, rotation=0)\n",
    "plt.yticks(fontsize=12, rotation=0)\n",
    "plt.xticks([1,3,5,7,9,11])\n",
    "num_models=15\n",
    "plt.plot(xs_scatter,np.array(accuracies_togther).flatten(),color='black',marker='x',markersize=4,linewidth=0,label = 'Individual Runs')\n",
    "plt.plot(np.arange(1,num_models-2,2), np.average(np.array(accuracies_togther),axis=0),color='yellow',marker='o',linewidth = 0, markersize=10,mew=2,mec='black',label='Average Accuracy')\n",
    "plt.ylabel('Accuracy',fontsize=16)\n",
    "plt.xlabel('Number of Models in Ensemble',fontsize=16)\n",
    "plt.legend(loc=4,frameon=True,fontsize=12)\n",
    "plt.xlim(0,12)\n",
    "plt.savefig('/home/ubuntu/data/figures/Ensemble.png',dpi=300)"
   ]
  },
  {
   "cell_type": "code",
   "execution_count": 11,
   "metadata": {},
   "outputs": [
    {
     "data": {
      "text/plain": [
       "array([ 1,  3,  5,  7,  9, 11])"
      ]
     },
     "execution_count": 11,
     "metadata": {},
     "output_type": "execute_result"
    }
   ],
   "source": [
    "np.arange(1,num_models-2,2)"
   ]
  },
  {
   "cell_type": "code",
   "execution_count": 185,
   "metadata": {},
   "outputs": [
    {
     "data": {
      "text/plain": [
       "[array([1.0000000e+00, 1.8792168e-12], dtype=float32),\n",
       " array([9.9999988e-01, 1.3411567e-07], dtype=float32),\n",
       " array([9.9999762e-01, 2.3564676e-06], dtype=float32),\n",
       " array([9.9999976e-01, 2.6209159e-07], dtype=float32),\n",
       " array([1.000000e+00, 1.102331e-08], dtype=float32),\n",
       " array([1.0000000e+00, 1.6388351e-12], dtype=float32),\n",
       " array([0.98137474, 0.0186252 ], dtype=float32),\n",
       " array([1.000000e+00, 6.366477e-10], dtype=float32),\n",
       " array([1.0000000e+00, 3.1398755e-13], dtype=float32),\n",
       " array([0.9988938 , 0.00110626], dtype=float32)]"
      ]
     },
     "execution_count": 185,
     "metadata": {},
     "output_type": "execute_result"
    }
   ],
   "source": [
    "predictions"
   ]
  },
  {
   "cell_type": "code",
   "execution_count": 44,
   "metadata": {},
   "outputs": [
    {
     "data": {
      "text/plain": [
       "842"
      ]
     },
     "execution_count": 44,
     "metadata": {},
     "output_type": "execute_result"
    }
   ],
   "source": [
    "len(train_labels)"
   ]
  },
  {
   "cell_type": "code",
   "execution_count": null,
   "metadata": {},
   "outputs": [],
   "source": []
  }
 ],
 "metadata": {
  "kernelspec": {
   "display_name": "Python 3",
   "language": "python",
   "name": "python3"
  },
  "language_info": {
   "codemirror_mode": {
    "name": "ipython",
    "version": 3
   },
   "file_extension": ".py",
   "mimetype": "text/x-python",
   "name": "python",
   "nbconvert_exporter": "python",
   "pygments_lexer": "ipython3",
   "version": "3.6.7"
  }
 },
 "nbformat": 4,
 "nbformat_minor": 2
}
