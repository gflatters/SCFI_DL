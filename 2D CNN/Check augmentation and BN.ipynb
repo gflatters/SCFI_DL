{
 "cells": [
  {
   "cell_type": "code",
   "execution_count": null,
   "metadata": {},
   "outputs": [],
   "source": [
    "import sys\n",
    "sys.path.insert(0, \"/home/ubuntu/data/code/Modules/\")"
   ]
  },
  {
   "cell_type": "code",
   "execution_count": 4,
   "metadata": {},
   "outputs": [
    {
     "ename": "ModuleNotFoundError",
     "evalue": "No module named 'DataGenerator'",
     "output_type": "error",
     "traceback": [
      "\u001b[0;31m---------------------------------------------------------------------------\u001b[0m",
      "\u001b[0;31mModuleNotFoundError\u001b[0m                       Traceback (most recent call last)",
      "\u001b[0;32m<ipython-input-4-0b8f1da24d3c>\u001b[0m in \u001b[0;36m<module>\u001b[0;34m()\u001b[0m\n\u001b[1;32m      3\u001b[0m \u001b[0;32mfrom\u001b[0m \u001b[0msklearn\u001b[0m\u001b[0;34m.\u001b[0m\u001b[0mmetrics\u001b[0m \u001b[0;32mimport\u001b[0m \u001b[0mconfusion_matrix\u001b[0m\u001b[0;34m\u001b[0m\u001b[0m\n\u001b[1;32m      4\u001b[0m \u001b[0;32mimport\u001b[0m \u001b[0mmatplotlib\u001b[0m\u001b[0;34m.\u001b[0m\u001b[0mpyplot\u001b[0m \u001b[0;32mas\u001b[0m \u001b[0mplt\u001b[0m\u001b[0;34m\u001b[0m\u001b[0m\n\u001b[0;32m----> 5\u001b[0;31m \u001b[0;32mimport\u001b[0m \u001b[0mDataGenerator\u001b[0m\u001b[0;34m\u001b[0m\u001b[0m\n\u001b[0m\u001b[1;32m      6\u001b[0m \u001b[0;32mfrom\u001b[0m \u001b[0malbumentations\u001b[0m \u001b[0;32mimport\u001b[0m \u001b[0mCompose\u001b[0m\u001b[0;34m,\u001b[0m\u001b[0mHorizontalFlip\u001b[0m\u001b[0;34m,\u001b[0m \u001b[0mVerticalFlip\u001b[0m\u001b[0;34m,\u001b[0m \u001b[0mToFloat\u001b[0m\u001b[0;34m\u001b[0m\u001b[0m\n\u001b[1;32m      7\u001b[0m \u001b[0;32mfrom\u001b[0m \u001b[0msklearn\u001b[0m\u001b[0;34m.\u001b[0m\u001b[0mmetrics\u001b[0m \u001b[0;32mimport\u001b[0m \u001b[0maccuracy_score\u001b[0m\u001b[0;34m\u001b[0m\u001b[0m\n",
      "\u001b[0;31mModuleNotFoundError\u001b[0m: No module named 'DataGenerator'"
     ]
    }
   ],
   "source": [
    "import numpy as np\n",
    "import pickle\n",
    "from sklearn.metrics import confusion_matrix\n",
    "import matplotlib.pyplot as plt\n",
    "import DataGenerator\n",
    "from albumentations import Compose,HorizontalFlip, VerticalFlip, ToFloat\n",
    "from sklearn.metrics import accuracy_score\n",
    "from keras import backend\n",
    "import glob\n",
    "import random\n",
    "import CNN_Module as cnn_module\n",
    "import models\n",
    "import glue_code"
   ]
  },
  {
   "cell_type": "code",
   "execution_count": 46,
   "metadata": {},
   "outputs": [],
   "source": [
    "model_noBN_no_aug = models.get_luke_model_noBN(80)\n",
    "model_noBN = models.get_luke_model_noBN(80)\n",
    "model_no_aug = models.get_luke_model(80)\n",
    "model_BN = models.get_luke_model(80)"
   ]
  },
  {
   "cell_type": "code",
   "execution_count": null,
   "metadata": {},
   "outputs": [],
   "source": [
    "augment_train, augment_valid = cnn_module.get_augmentations_train_test()\n",
    "params_train_no_aug, params_test = cnn_module.get_params_train_test(80,augment_valid,augment_valid)\n",
    "params_train_aug, params_test = cnn_module.get_params_train_test(80,augment_train,augment_valid)\n",
    "params_test['batch_size']=24\n",
    "def reset_weights(model):\n",
    "    session = backend.get_session()\n",
    "    for layer in model.layers: \n",
    "        if hasattr(layer, 'kernel_initializer'):\n",
    "            layer.kernel.initializer.run(session=session)"
   ]
  },
  {
   "cell_type": "code",
   "execution_count": null,
   "metadata": {},
   "outputs": [],
   "source": [
    "#prep cells for feeding into CNN\n",
    "control_cells = np.array(cnn_module.findallcells_indir('/home/ubuntu/data/control/'))\n",
    "sus_cells     = np.array(cnn_module.findallcells_indir('/home/ubuntu/data/susceptible/'))\n",
    "\n",
    "#label cells, and split cells into test and train, making sure to have equal proportion of sus and ctrl in both\n",
    "control_cells_label = cnn_module.create_label_dict(control_cells,0)\n",
    "sus_cells_label  = cnn_module.create_label_dict(sus_cells,1)\n",
    "\n",
    "train_ctrl, test_ctrl = cnn_module.split_train_test(control_cells_label,0.9)\n",
    "train_sus, test_sus = cnn_module.split_train_test(sus_cells_label,0.9)\n",
    "\n",
    "train_labels = train_ctrl+train_sus\n",
    "test_labels = test_ctrl+test_sus\n",
    "\n",
    "random.shuffle(train_labels)\n",
    "random.shuffle(test_labels)\n",
    "\n",
    "video_path = '/cropped_video80'\n",
    "sample_gap = 10\n",
    "im_paths_train, im_labels_train, im_paths_test, im_labels_test = cnn_module.get_labels_images(train_labels,test_labels,video_path,sample_gap)\n",
    "random.shuffle(im_paths_train)\n",
    "random.shuffle(im_paths_test)"
   ]
  },
  {
   "cell_type": "code",
   "execution_count": null,
   "metadata": {},
   "outputs": [],
   "source": [
    "training_generator_no_aug = DataGenerator.DataGenerator(im_paths_train, im_labels_train, **params_train_no_aug)\n",
    "training_generator_aug = DataGenerator.DataGenerator(im_paths_train, im_labels_train, **params_train_aug)\n",
    "prediction_generator = DataGenerator.DataGenerator(im_paths_test, im_labels_test, **params_test)       "
   ]
  },
  {
   "cell_type": "code",
   "execution_count": 63,
   "metadata": {},
   "outputs": [
    {
     "name": "stdout",
     "output_type": "stream",
     "text": [
      "0\n",
      "done1\n",
      "done2\n",
      "done3\n",
      "done4\n",
      "1\n",
      "done1\n",
      "done2\n",
      "done3\n",
      "done4\n",
      "2\n",
      "done1\n",
      "done2\n",
      "done3\n",
      "done4\n",
      "3\n",
      "done1\n",
      "done2\n",
      "done3\n",
      "done4\n",
      "4\n",
      "done1\n",
      "done2\n",
      "done3\n",
      "done4\n"
     ]
    }
   ],
   "source": [
    "sample_gap=10\n",
    "epochs=30\n",
    "stepsperepoch=100\n",
    "video_path = '/cropped_video80'\n",
    "validate_steps = len(im_paths_test)//24.\n",
    "\n",
    "noBN_no_aug_result=[]\n",
    "noBN_result = [] \n",
    "no_aug_result=[]\n",
    "result = []\n",
    "for repeat in np.arange(0,5):\n",
    "    print(repeat)\n",
    "    model_noBN_no_aug = models.get_luke_model_noBN(80)\n",
    "    model_noBN = models.get_luke_model_noBN(80)\n",
    "    model_no_aug = models.get_luke_model(80)\n",
    "    model_BN = models.get_luke_model(80)\n",
    "    \n",
    "    model_noBN_no_aug.fit_generator(generator=training_generator_no_aug,epochs = epochs,steps_per_epoch=stepsperepoch,validation_data=prediction_generator,validation_steps=validate_steps,verbose=0)\n",
    "    noBN_no_aug_result.append(model_noBN_no_aug.history.history['val_acc'])\n",
    "    print('done1',)\n",
    "    model_noBN.fit_generator(generator=training_generator_aug,epochs = epochs,steps_per_epoch=stepsperepoch,validation_data=prediction_generator,validation_steps=validate_steps,verbose=0)\n",
    "    noBN_result.append(model_noBN.history.history['val_acc'])\n",
    "    print('done2',)\n",
    "    model_no_aug.fit_generator(generator=training_generator_no_aug,epochs = epochs,steps_per_epoch=stepsperepoch,validation_data=prediction_generator,validation_steps=validate_steps,verbose=0)\n",
    "    no_aug_result.append(model_no_aug.history.history['val_acc'])\n",
    "    print('done3',)\n",
    "    model_BN.fit_generator(generator=training_generator_aug,epochs = epochs,steps_per_epoch=stepsperepoch,validation_data=prediction_generator,validation_steps=validate_steps,verbose=0)\n",
    "    result.append(model_BN.history.history['val_acc'])\n",
    "    print('done4')"
   ]
  },
  {
   "cell_type": "code",
   "execution_count": 64,
   "metadata": {},
   "outputs": [],
   "source": [
    "result = np.array(result)\n",
    "no_aug_result = np.array(no_aug_result)\n",
    "noBN_result = np.array(noBN_result)\n",
    "noBN_no_aug_result = np.array(noBN_no_aug_result)"
   ]
  },
  {
   "cell_type": "code",
   "execution_count": 100,
   "metadata": {},
   "outputs": [],
   "source": [
    "xs_scatter =[]\n",
    "for i in range(5):\n",
    "    i = np.arange(1,31)\n",
    "    i = list(i)\n",
    "    xs_scatter.extend(i)"
   ]
  },
  {
   "cell_type": "code",
   "execution_count": 177,
   "metadata": {},
   "outputs": [],
   "source": [
    "os.mkdir('/home/ubuntu/data/figures')"
   ]
  },
  {
   "cell_type": "code",
   "execution_count": 176,
   "metadata": {},
   "outputs": [],
   "source": [
    "import pickle\n",
    "pickle.dump(result,open('/home/ubuntu/data/code/2dCNN/Aug_BN_results/aug_bn.p','wb'))\n",
    "pickle.dump(no_aug_result,open('/home/ubuntu/data/code/2dCNN/Aug_BN_results/no_aug_bn.p','wb'))\n",
    "pickle.dump(noBN_result,open('/home/ubuntu/data/code/2dCNN/Aug_BN_results/aug_no_bn.p','wb'))\n",
    "pickle.dump(noBN_no_aug_result,open('/home/ubuntu/data/code/2dCNN/Aug_BN_results/no_aug_no_bn.p','wb'))"
   ]
  },
  {
   "cell_type": "code",
   "execution_count": 2,
   "metadata": {},
   "outputs": [],
   "source": [
    "import pickle\n",
    "result = pickle.load(open('/home/ubuntu/data/code/2dCNN/Aug_BN_results/aug_bn.p','rb'))\n",
    "no_aug_result =pickle.load(open('/home/ubuntu/data/code/2dCNN/Aug_BN_results/no_aug_bn.p','rb'))\n",
    "noBN_result = pickle.load(open('/home/ubuntu/data/code/2dCNN/Aug_BN_results/aug_no_bn.p','rb'))\n",
    "noBN_no_aug_result = pickle.load(open('/home/ubuntu/data/code/2dCNN/Aug_BN_results/no_aug_no_bn.p','rb'))"
   ]
  },
  {
   "cell_type": "code",
   "execution_count": 7,
   "metadata": {},
   "outputs": [
    {
     "data": {
      "image/png": "[encoded data removed]",
      "text/plain": [
       "<Figure size 576x360 with 1 Axes>"
      ]
     },
     "metadata": {},
     "output_type": "display_data"
    }
   ],
   "source": [
    "plt.style.use('bmh')\n",
    "plt.rcParams.update({\"figure.figsize\" : (8, 5),\n",
    "                     \"axes.facecolor\" : \"white\",\n",
    "                     \"axes.edgecolor\":  \"black\"})\n",
    "\n",
    "plt.xticks(fontsize=12, rotation=0)\n",
    "plt.yticks(fontsize=12, rotation=0)\n",
    "elinewidth=2\n",
    "xs = np.arange(1,31)\n",
    "linewidth=3\n",
    "markersize=3\n",
    "capsize=0\n",
    "plt.errorbar(xs,np.average(result,axis=0),yerr=np.std(result,axis=0),label='Batch Norm, Augmentation',elinewidth=elinewidth,capsize=capsize,linewidth=linewidth,color='#D8B26A')\n",
    "#plt.plot(xs_scatter,result.flatten(),color='#D8B26A',linewidth=0,marker='o',markersize=markersize)\n",
    "\n",
    "plt.errorbar(xs,np.average(no_aug_result,axis=0),yerr=np.std(no_aug_result,axis=0),label = 'Batch Norm',elinewidth=elinewidth,capsize=capsize,linewidth=linewidth,color='#AA3A29')\n",
    "#plt.plot(xs_scatter,no_aug_result.flatten(),color='#AA3A29',linewidth=0,marker='o',markersize=markersize)\n",
    "\n",
    "plt.errorbar(xs,np.average(noBN_result,axis=0),yerr=np.std(noBN_result,axis=0),label = 'Augmentation',elinewidth=elinewidth,capsize=capsize,linewidth=linewidth,color='#752534')\n",
    "#plt.plot(xs_scatter,noBN_result.flatten(),color='#752534',linewidth=0,marker='o',markersize=markersize)\n",
    "\n",
    "plt.errorbar(xs,np.average(noBN_no_aug_result,axis=0),yerr=np.std(noBN_no_aug_result,axis=0),label = 'Neither',elinewidth=elinewidth,capsize=capsize,linewidth=linewidth,color='#4F2524')\n",
    "#plt.errorbar(xs,np.std(noBN_no_aug_result,axis=0),color='#4F2524',linewidth=1,)\n",
    "\n",
    "\n",
    "plt.ylim(0.60,0.90)\n",
    "plt.xlabel('Number of Epochs',fontsize=16)\n",
    "plt.ylabel('Accuracy',fontsize=16)\n",
    "plt.legend(loc=4,frameon=True,fontsize=12)\n",
    "plt.savefig('/home/ubuntu/data/figures/Batch_Aug.png',dpi=300)"
   ]
  },
  {
   "cell_type": "code",
   "execution_count": 146,
   "metadata": {},
   "outputs": [
    {
     "data": {
      "text/plain": [
       "array([0.02276244, 0.02113471, 0.02243523, 0.01202234, 0.00963955,\n",
       "       0.00872179, 0.0148492 , 0.00943706, 0.01652153, 0.0138185 ,\n",
       "       0.01515133, 0.01714368, 0.01666344, 0.01128276, 0.0095231 ,\n",
       "       0.01060134, 0.00773026, 0.01304159, 0.01542813, 0.01496122,\n",
       "       0.00800796, 0.01246417, 0.00836053, 0.00914808, 0.01463888,\n",
       "       0.00931643, 0.01041978, 0.01098559, 0.01127662, 0.01062599])"
      ]
     },
     "execution_count": 146,
     "metadata": {},
     "output_type": "execute_result"
    }
   ],
   "source": [
    "np.std(noBN_no_aug_result,axis=0)"
   ]
  },
  {
   "cell_type": "code",
   "execution_count": 172,
   "metadata": {},
   "outputs": [
    {
     "data": {
      "text/plain": [
       "array([0.72368421, 0.70087719, 0.73947368, 0.72280702, 0.74298246,\n",
       "       0.75482456, 0.77017544, 0.7627193 , 0.73991228, 0.76447368,\n",
       "       0.78245614, 0.79342105, 0.7877193 , 0.76535088, 0.78157895,\n",
       "       0.74605263, 0.77456141, 0.77763158, 0.77105263, 0.74166667,\n",
       "       0.77192982, 0.75701755, 0.78026316, 0.77149123, 0.77236842,\n",
       "       0.77807018, 0.77982456, 0.77017544, 0.78947369, 0.78640351,\n",
       "       0.70219298, 0.69078947, 0.68552632, 0.74912281, 0.73552632,\n",
       "       0.73333333, 0.73070175, 0.74166667, 0.74824561, 0.7377193 ,\n",
       "       0.75175439, 0.75307018, 0.76491228, 0.74868421, 0.76096491,\n",
       "       0.75570175, 0.7622807 , 0.75394737, 0.73245614, 0.74517544,\n",
       "       0.75964913, 0.75350877, 0.75833333, 0.76973684, 0.76710527,\n",
       "       0.75833334, 0.76842106, 0.75438596, 0.7754386 , 0.7627193 ,\n",
       "       0.69868421, 0.74429825, 0.75087719, 0.75      , 0.73684211,\n",
       "       0.75131579, 0.73070175, 0.74298245, 0.75789473, 0.7618421 ,\n",
       "       0.73991228, 0.75438596, 0.74429824, 0.75043859, 0.75438597,\n",
       "       0.75175439, 0.77763158, 0.77149123, 0.76622807, 0.75614035,\n",
       "       0.76754386, 0.77324561, 0.77675439, 0.78640351, 0.75964912,\n",
       "       0.75877193, 0.75307018, 0.77850877, 0.76710526, 0.76140351,\n",
       "       0.68991228, 0.70131579, 0.71535088, 0.75482456, 0.7622807 ,\n",
       "       0.73508772, 0.74122807, 0.73640351, 0.71535088, 0.73026316,\n",
       "       0.74429825, 0.74605263, 0.78991228, 0.77675438, 0.77061404,\n",
       "       0.77587719, 0.76798246, 0.74078947, 0.76096491, 0.775     ,\n",
       "       0.76622807, 0.7872807 , 0.76710526, 0.78640351, 0.79605263,\n",
       "       0.77719298, 0.78114035, 0.78508772, 0.77149123, 0.78508772,\n",
       "       0.65394737, 0.73508772, 0.7254386 , 0.73333333, 0.74736842,\n",
       "       0.74824561, 0.75175439, 0.75350877, 0.76184211, 0.73903509,\n",
       "       0.76184211, 0.77236842, 0.76973684, 0.77192983, 0.77324561,\n",
       "       0.76578948, 0.75657895, 0.76359649, 0.77675439, 0.77807017,\n",
       "       0.78377193, 0.76008772, 0.7622807 , 0.76403509, 0.75350877,\n",
       "       0.75877193, 0.77719298, 0.7622807 , 0.75482456, 0.7754386 ])"
      ]
     },
     "execution_count": 172,
     "metadata": {},
     "output_type": "execute_result"
    }
   ],
   "source": [
    "noBN_no_aug_result.flatten()"
   ]
  },
  {
   "cell_type": "code",
   "execution_count": 98,
   "metadata": {},
   "outputs": [],
   "source": [
    "xs_scatter =[]\n",
    "for i in range(5):\n",
    "    i = np.arange(1,31)\n",
    "    i = list(i)\n",
    "    xs_scatter.extend(i)"
   ]
  },
  {
   "cell_type": "code",
   "execution_count": 99,
   "metadata": {},
   "outputs": [
    {
     "data": {
      "text/plain": [
       "[1,\n",
       " 2,\n",
       " 3,\n",
       " 4,\n",
       " 5,\n",
       " 6,\n",
       " 7,\n",
       " 8,\n",
       " 9,\n",
       " 10,\n",
       " 11,\n",
       " 12,\n",
       " 13,\n",
       " 14,\n",
       " 15,\n",
       " 16,\n",
       " 17,\n",
       " 18,\n",
       " 19,\n",
       " 20,\n",
       " 21,\n",
       " 22,\n",
       " 23,\n",
       " 24,\n",
       " 25,\n",
       " 26,\n",
       " 27,\n",
       " 28,\n",
       " 29,\n",
       " 30,\n",
       " 1,\n",
       " 2,\n",
       " 3,\n",
       " 4,\n",
       " 5,\n",
       " 6,\n",
       " 7,\n",
       " 8,\n",
       " 9,\n",
       " 10,\n",
       " 11,\n",
       " 12,\n",
       " 13,\n",
       " 14,\n",
       " 15,\n",
       " 16,\n",
       " 17,\n",
       " 18,\n",
       " 19,\n",
       " 20,\n",
       " 21,\n",
       " 22,\n",
       " 23,\n",
       " 24,\n",
       " 25,\n",
       " 26,\n",
       " 27,\n",
       " 28,\n",
       " 29,\n",
       " 30,\n",
       " 1,\n",
       " 2,\n",
       " 3,\n",
       " 4,\n",
       " 5,\n",
       " 6,\n",
       " 7,\n",
       " 8,\n",
       " 9,\n",
       " 10,\n",
       " 11,\n",
       " 12,\n",
       " 13,\n",
       " 14,\n",
       " 15,\n",
       " 16,\n",
       " 17,\n",
       " 18,\n",
       " 19,\n",
       " 20,\n",
       " 21,\n",
       " 22,\n",
       " 23,\n",
       " 24,\n",
       " 25,\n",
       " 26,\n",
       " 27,\n",
       " 28,\n",
       " 29,\n",
       " 30,\n",
       " 1,\n",
       " 2,\n",
       " 3,\n",
       " 4,\n",
       " 5,\n",
       " 6,\n",
       " 7,\n",
       " 8,\n",
       " 9,\n",
       " 10,\n",
       " 11,\n",
       " 12,\n",
       " 13,\n",
       " 14,\n",
       " 15,\n",
       " 16,\n",
       " 17,\n",
       " 18,\n",
       " 19,\n",
       " 20,\n",
       " 21,\n",
       " 22,\n",
       " 23,\n",
       " 24,\n",
       " 25,\n",
       " 26,\n",
       " 27,\n",
       " 28,\n",
       " 29,\n",
       " 30,\n",
       " 1,\n",
       " 2,\n",
       " 3,\n",
       " 4,\n",
       " 5,\n",
       " 6,\n",
       " 7,\n",
       " 8,\n",
       " 9,\n",
       " 10,\n",
       " 11,\n",
       " 12,\n",
       " 13,\n",
       " 14,\n",
       " 15,\n",
       " 16,\n",
       " 17,\n",
       " 18,\n",
       " 19,\n",
       " 20,\n",
       " 21,\n",
       " 22,\n",
       " 23,\n",
       " 24,\n",
       " 25,\n",
       " 26,\n",
       " 27,\n",
       " 28,\n",
       " 29,\n",
       " 30]"
      ]
     },
     "execution_count": 99,
     "metadata": {},
     "output_type": "execute_result"
    }
   ],
   "source": [
    "xs_scatter"
   ]
  },
  {
   "cell_type": "code",
   "execution_count": null,
   "metadata": {},
   "outputs": [],
   "source": []
  }
 ],
 "metadata": {
  "kernelspec": {
   "display_name": "Python 3",
   "language": "python",
   "name": "python3"
  },
  "language_info": {
   "codemirror_mode": {
    "name": "ipython",
    "version": 3
   },
   "file_extension": ".py",
   "mimetype": "text/x-python",
   "name": "python",
   "nbconvert_exporter": "python",
   "pygments_lexer": "ipython3",
   "version": "3.6.5"
  }
 },
 "nbformat": 4,
 "nbformat_minor": 2
}
