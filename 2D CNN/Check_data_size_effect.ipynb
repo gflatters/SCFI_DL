{
 "cells": [
  {
   "cell_type": "code",
   "execution_count": 1,
   "metadata": {},
   "outputs": [],
   "source": [
    "import sys\n",
    "sys.path.insert(0, \"/home/ubuntu/data/code/Modules/\")"
   ]
  },
  {
   "cell_type": "code",
   "execution_count": 2,
   "metadata": {},
   "outputs": [
    {
     "name": "stderr",
     "output_type": "stream",
     "text": [
      "Using TensorFlow backend.\n"
     ]
    },
    {
     "name": "stdout",
     "output_type": "stream",
     "text": [
      "WARNING:tensorflow:From /home/ubuntu/anaconda3/envs/tensorflow_p36/lib/python3.6/site-packages/tensorflow_core/__init__.py:1467: The name tf.estimator.inputs is deprecated. Please use tf.compat.v1.estimator.inputs instead.\n",
      "\n"
     ]
    }
   ],
   "source": [
    "import skimage\n",
    "import numpy as np\n",
    "import pickle\n",
    "import gc\n",
    "from albumentations import Compose,HorizontalFlip, VerticalFlip, ToFloat\n",
    "from sklearn.metrics import confusion_matrix\n",
    "import cv2\n",
    "import matplotlib.pyplot as plt\n",
    "from keras import backend\n",
    "from keras.models import Sequential\n",
    "from keras.losses import binary_crossentropy\n",
    "from keras.layers.convolutional import Conv2D, MaxPooling2D\n",
    "from keras.layers import Dense, BatchNormalization, Flatten, Dropout\n",
    "from keras.optimizers import SGD,Adadelta\n",
    "import DataGenerator\n",
    "from albumentations import Compose,HorizontalFlip, VerticalFlip, ToFloat\n",
    "from sklearn.model_selection import KFold\n",
    "from sklearn.metrics import accuracy_score\n",
    "import random\n",
    "import glob\n",
    "import CNN_Module as cnn_module\n",
    "import models\n",
    "import glue_code"
   ]
  },
  {
   "cell_type": "code",
   "execution_count": 3,
   "metadata": {},
   "outputs": [
    {
     "data": {
      "text/plain": [
       "<module 'DataGenerator' from '/home/ubuntu/data/code/Modules/DataGenerator.py'>"
      ]
     },
     "execution_count": 3,
     "metadata": {},
     "output_type": "execute_result"
    }
   ],
   "source": [
    "import imp\n",
    "imp.reload(cnn_module)\n",
    "imp.reload(models)\n",
    "imp.reload(DataGenerator)"
   ]
  },
  {
   "cell_type": "code",
   "execution_count": 4,
   "metadata": {},
   "outputs": [
    {
     "name": "stdout",
     "output_type": "stream",
     "text": [
      "{'dim': (80, 80), 'batch_size': 32, 'n_classes': 2, 'augmentations': Compose([\n",
      "  ToFloat(always_apply=False, p=1.0, max_value=65535),\n",
      "], p=1.0, bbox_params=None, keypoint_params=None, additional_targets={}), 'n_channels': 1, 'shuffle': False}\n"
     ]
    }
   ],
   "source": [
    "augment_train, augment_valid = cnn_module.get_augmentations_train_test()\n",
    "params_train, params_test = cnn_module.get_params_train_test(80,augment_train,augment_valid)#both augment_valid for no flipping else 1 augment_train\n",
    "params_test['batch_size']=32\n",
    "print(params_test)"
   ]
  },
  {
   "cell_type": "code",
   "execution_count": 5,
   "metadata": {},
   "outputs": [
    {
     "name": "stdout",
     "output_type": "stream",
     "text": [
      "156\n",
      "351\n"
     ]
    }
   ],
   "source": [
    "#prep cells for feeding into CNN\n",
    "control_cells = np.array(cnn_module.findallcells_indir('/home/ubuntu/data/control/'))\n",
    "sus_cells     = np.array(cnn_module.findallcells_indir('/home/ubuntu/data/susceptible/'))\n",
    "\n",
    "#label cells, and split cells into test and train, making sure to have equal proportion of sus and ctrl in both\n",
    "control_cells_label = cnn_module.create_label_dict(control_cells,0)\n",
    "sus_cells_label  = cnn_module.create_label_dict(sus_cells,1)\n",
    "\n",
    "train_labels = list(control_cells_label.items())+list(sus_cells_label.items())\n",
    "\n",
    "print(len(control_cells))\n",
    "print(len(sus_cells))"
   ]
  },
  {
   "cell_type": "code",
   "execution_count": 6,
   "metadata": {},
   "outputs": [],
   "source": [
    "paths_train = np.array(train_labels)[:,0]\n",
    "labels_train= np.array(train_labels)[:,1].astype('int')\n",
    "##split into image labels and paths\n",
    "video_path = '/cropped_video80'\n",
    "sample_gap=10\n",
    "im_paths_train, im_labels_train = cnn_module.sample_label_images_in_cells(paths_train,video_path,labels_train,sample_gap)\n",
    "#get a reference dict with all labels for every image\n",
    "im_labels_train_reference = dict(zip(im_paths_train,im_labels_train))"
   ]
  },
  {
   "cell_type": "code",
   "execution_count": 7,
   "metadata": {},
   "outputs": [],
   "source": [
    "def reset_weights(model):\n",
    "    session = backend.get_session()\n",
    "    for layer in model.layers: \n",
    "        if hasattr(layer, 'kernel_initializer'):\n",
    "            layer.kernel.initializer.run(session=session)\n",
    "            \n"
   ]
  },
  {
   "cell_type": "code",
   "execution_count": 10,
   "metadata": {
    "scrolled": true
   },
   "outputs": [
    {
     "name": "stdout",
     "output_type": "stream",
     "text": [
      "WARNING:tensorflow:From /home/ubuntu/anaconda3/envs/tensorflow_p36/lib/python3.6/site-packages/keras/backend/tensorflow_backend.py:74: The name tf.get_default_graph is deprecated. Please use tf.compat.v1.get_default_graph instead.\n",
      "\n",
      "WARNING:tensorflow:From /home/ubuntu/anaconda3/envs/tensorflow_p36/lib/python3.6/site-packages/keras/backend/tensorflow_backend.py:517: The name tf.placeholder is deprecated. Please use tf.compat.v1.placeholder instead.\n",
      "\n",
      "WARNING:tensorflow:From /home/ubuntu/anaconda3/envs/tensorflow_p36/lib/python3.6/site-packages/keras/backend/tensorflow_backend.py:4138: The name tf.random_uniform is deprecated. Please use tf.random.uniform instead.\n",
      "\n",
      "WARNING:tensorflow:From /home/ubuntu/anaconda3/envs/tensorflow_p36/lib/python3.6/site-packages/keras/backend/tensorflow_backend.py:174: The name tf.get_default_session is deprecated. Please use tf.compat.v1.get_default_session instead.\n",
      "\n",
      "WARNING:tensorflow:From /home/ubuntu/anaconda3/envs/tensorflow_p36/lib/python3.6/site-packages/keras/backend/tensorflow_backend.py:181: The name tf.ConfigProto is deprecated. Please use tf.compat.v1.ConfigProto instead.\n",
      "\n",
      "WARNING:tensorflow:From /home/ubuntu/anaconda3/envs/tensorflow_p36/lib/python3.6/site-packages/keras/backend/tensorflow_backend.py:186: The name tf.Session is deprecated. Please use tf.compat.v1.Session instead.\n",
      "\n",
      "WARNING:tensorflow:From /home/ubuntu/anaconda3/envs/tensorflow_p36/lib/python3.6/site-packages/keras/backend/tensorflow_backend.py:190: The name tf.global_variables is deprecated. Please use tf.compat.v1.global_variables instead.\n",
      "\n",
      "WARNING:tensorflow:From /home/ubuntu/anaconda3/envs/tensorflow_p36/lib/python3.6/site-packages/keras/backend/tensorflow_backend.py:199: The name tf.is_variable_initialized is deprecated. Please use tf.compat.v1.is_variable_initialized instead.\n",
      "\n",
      "WARNING:tensorflow:From /home/ubuntu/anaconda3/envs/tensorflow_p36/lib/python3.6/site-packages/keras/backend/tensorflow_backend.py:206: The name tf.variables_initializer is deprecated. Please use tf.compat.v1.variables_initializer instead.\n",
      "\n",
      "WARNING:tensorflow:From /home/ubuntu/anaconda3/envs/tensorflow_p36/lib/python3.6/site-packages/keras/backend/tensorflow_backend.py:1834: The name tf.nn.fused_batch_norm is deprecated. Please use tf.compat.v1.nn.fused_batch_norm instead.\n",
      "\n",
      "WARNING:tensorflow:From /home/ubuntu/anaconda3/envs/tensorflow_p36/lib/python3.6/site-packages/keras/backend/tensorflow_backend.py:133: The name tf.placeholder_with_default is deprecated. Please use tf.compat.v1.placeholder_with_default instead.\n",
      "\n",
      "WARNING:tensorflow:From /home/ubuntu/anaconda3/envs/tensorflow_p36/lib/python3.6/site-packages/keras/backend/tensorflow_backend.py:3976: The name tf.nn.max_pool is deprecated. Please use tf.nn.max_pool2d instead.\n",
      "\n",
      "WARNING:tensorflow:From /home/ubuntu/anaconda3/envs/tensorflow_p36/lib/python3.6/site-packages/keras/backend/tensorflow_backend.py:3445: calling dropout (from tensorflow.python.ops.nn_ops) with keep_prob is deprecated and will be removed in a future version.\n",
      "Instructions for updating:\n",
      "Please use `rate` instead of `keep_prob`. Rate should be set to `rate = 1 - keep_prob`.\n",
      "WARNING:tensorflow:From /home/ubuntu/anaconda3/envs/tensorflow_p36/lib/python3.6/site-packages/keras/optimizers.py:790: The name tf.train.Optimizer is deprecated. Please use tf.compat.v1.train.Optimizer instead.\n",
      "\n",
      "WARNING:tensorflow:From /home/ubuntu/anaconda3/envs/tensorflow_p36/lib/python3.6/site-packages/keras/backend/tensorflow_backend.py:3376: The name tf.log is deprecated. Please use tf.math.log instead.\n",
      "\n",
      "WARNING:tensorflow:From /home/ubuntu/anaconda3/envs/tensorflow_p36/lib/python3.6/site-packages/tensorflow_core/python/ops/nn_impl.py:183: where (from tensorflow.python.ops.array_ops) is deprecated and will be removed in a future version.\n",
      "Instructions for updating:\n",
      "Use tf.where in 2.0, which has the same broadcast rule as np.where\n",
      "cell number = 50\n",
      "repeat number = 0\n",
      "train = 50\n",
      "test = 457\n",
      "WARNING:tensorflow:From /home/ubuntu/anaconda3/envs/tensorflow_p36/lib/python3.6/site-packages/keras/backend/tensorflow_backend.py:986: The name tf.assign_add is deprecated. Please use tf.compat.v1.assign_add instead.\n",
      "\n",
      "WARNING:tensorflow:From /home/ubuntu/anaconda3/envs/tensorflow_p36/lib/python3.6/site-packages/keras/backend/tensorflow_backend.py:973: The name tf.assign is deprecated. Please use tf.compat.v1.assign instead.\n",
      "\n",
      "Epoch 1/5\n",
      "100/100 [==============================] - 7s 72ms/step - loss: 1.0665 - acc: 0.7169\n",
      "Epoch 2/5\n",
      "100/100 [==============================] - 3s 27ms/step - loss: 0.2987 - acc: 0.8897\n",
      "Epoch 3/5\n",
      "100/100 [==============================] - 3s 27ms/step - loss: 0.1586 - acc: 0.9437\n",
      "Epoch 4/5\n",
      "100/100 [==============================] - 3s 27ms/step - loss: 0.0837 - acc: 0.9747\n",
      "Epoch 5/5\n",
      "100/100 [==============================] - 3s 28ms/step - loss: 0.0678 - acc: 0.9788\n",
      "cell number = 50\n",
      "repeat number = 1\n",
      "train = 50\n",
      "test = 457\n",
      "Epoch 1/5\n",
      "100/100 [==============================] - 3s 28ms/step - loss: 1.2341 - acc: 0.7537\n",
      "Epoch 2/5\n",
      "100/100 [==============================] - 3s 28ms/step - loss: 0.3360 - acc: 0.8691\n",
      "Epoch 3/5\n",
      "100/100 [==============================] - 3s 28ms/step - loss: 0.1610 - acc: 0.9381\n",
      "Epoch 4/5\n",
      "100/100 [==============================] - 3s 27ms/step - loss: 0.0870 - acc: 0.9694\n",
      "Epoch 5/5\n",
      "100/100 [==============================] - 3s 28ms/step - loss: 0.0629 - acc: 0.9806\n",
      "cell number = 50\n",
      "repeat number = 2\n",
      "train = 50\n",
      "test = 457\n",
      "Epoch 1/5\n",
      "100/100 [==============================] - 3s 26ms/step - loss: 0.9983 - acc: 0.6797\n",
      "Epoch 2/5\n",
      "100/100 [==============================] - 3s 27ms/step - loss: 0.3090 - acc: 0.8675\n",
      "Epoch 3/5\n",
      "100/100 [==============================] - 3s 27ms/step - loss: 0.1602 - acc: 0.9378\n",
      "Epoch 4/5\n",
      "100/100 [==============================] - 3s 27ms/step - loss: 0.1004 - acc: 0.9688\n",
      "Epoch 5/5\n",
      "100/100 [==============================] - 3s 28ms/step - loss: 0.0564 - acc: 0.9809\n",
      "0.7855266373411535 0.7956043956043956\n",
      "cell number = 100\n",
      "repeat number = 0\n",
      "train = 100\n",
      "test = 407\n",
      "Epoch 1/5\n",
      "100/100 [==============================] - 3s 25ms/step - loss: 1.0009 - acc: 0.6869\n",
      "Epoch 2/5\n",
      "100/100 [==============================] - 2s 25ms/step - loss: 0.4066 - acc: 0.8306\n",
      "Epoch 3/5\n",
      "100/100 [==============================] - 2s 25ms/step - loss: 0.2376 - acc: 0.9119\n",
      "Epoch 4/5\n",
      "100/100 [==============================] - 3s 27ms/step - loss: 0.1404 - acc: 0.9463\n",
      "Epoch 5/5\n",
      "100/100 [==============================] - 3s 26ms/step - loss: 0.0751 - acc: 0.9741\n",
      "cell number = 100\n",
      "repeat number = 1\n",
      "train = 100\n",
      "test = 407\n",
      "Epoch 1/5\n",
      "100/100 [==============================] - 3s 28ms/step - loss: 0.8656 - acc: 0.6622\n",
      "Epoch 2/5\n",
      "100/100 [==============================] - 3s 25ms/step - loss: 0.4391 - acc: 0.8028\n",
      "Epoch 3/5\n",
      "100/100 [==============================] - 3s 26ms/step - loss: 0.3004 - acc: 0.8744\n",
      "Epoch 4/5\n",
      "100/100 [==============================] - 3s 27ms/step - loss: 0.1994 - acc: 0.9294\n",
      "Epoch 5/5\n",
      "100/100 [==============================] - 3s 25ms/step - loss: 0.1290 - acc: 0.9522\n",
      "cell number = 100\n",
      "repeat number = 2\n",
      "train = 100\n",
      "test = 407\n",
      "Epoch 1/5\n",
      "100/100 [==============================] - 3s 26ms/step - loss: 0.8190 - acc: 0.7031\n",
      "Epoch 2/5\n",
      "100/100 [==============================] - 3s 26ms/step - loss: 0.3082 - acc: 0.8722\n",
      "Epoch 3/5\n",
      "100/100 [==============================] - 2s 25ms/step - loss: 0.1781 - acc: 0.9306\n",
      "Epoch 4/5\n",
      "100/100 [==============================] - 3s 26ms/step - loss: 0.1227 - acc: 0.9537\n",
      "Epoch 5/5\n",
      "100/100 [==============================] - 3s 25ms/step - loss: 0.0771 - acc: 0.9706\n",
      "0.7893023574561404 0.8029556650246304\n"
     ]
    }
   ],
   "source": [
    "result = []\n",
    "model = models.get_luke_model(80)\n",
    "for cell_number in np.arange(50,150,50):\n",
    "    cell_number_result = []\n",
    "    \n",
    "    for repeat in np.arange(3):\n",
    "        print('cell number =',cell_number)\n",
    "        print('repeat number =',repeat)\n",
    "        \n",
    "        random.shuffle(train_labels)\n",
    "        #split cells into controlled number of test and train\n",
    "        total_cells = train_labels[:cell_number]\n",
    "        #print(total_cells)\n",
    "        \n",
    "        ##for a 90:10 split use below\n",
    "        #train_cells = total_cells[0:(int((cell_number)*0.9))]\n",
    "        #test_cells = total_cells[(int((cell_number)*0.9)):]\n",
    "        \n",
    "        ##Our original method of splitting, using all cells each time\n",
    "        train_cells = train_labels[:(cell_number)]\n",
    "        test_cells = train_labels[cell_number:]\n",
    "        #print(train_cells)\n",
    "        \n",
    "        print('train =',len(train_cells))\n",
    "        print('test =',len(test_cells))\n",
    "        \n",
    "        #split cells into images\n",
    "        cells_train = np.array(train_cells)[:,0]\n",
    "        labels_train= np.array(train_cells)[:,1].astype('int')\n",
    "        ##split into image labels and paths\n",
    "        im_paths_train, im_labels_train = cnn_module.sample_label_images_in_cells(cells_train,video_path,labels_train,sample_gap)\n",
    "        ##make labels into path -> label dict as generator requires\n",
    "        im_labels_train = dict(zip(im_paths_train,im_labels_train))\n",
    "        \n",
    "        ##repeat for test_cells\n",
    "        cells_test = np.array(test_cells)[:,0]\n",
    "        labels_test= np.array(test_cells)[:,1].astype('int')\n",
    "        im_paths_test, im_labels_test = cnn_module.sample_label_images_in_cells(cells_test,video_path,labels_test,sample_gap)\n",
    "        im_labels_test = dict(zip(im_paths_test,im_labels_test))\n",
    "        #set up generators\n",
    "        training_generator = DataGenerator.DataGenerator(im_paths_train, im_labels_train, **params_train)\n",
    "        prediction_generator = DataGenerator.DataGenerator(im_paths_test, im_labels_test, **params_test)\n",
    "        \n",
    "        ##fit model\n",
    "        sample_gap=10\n",
    "        epochs=5\n",
    "        stepsperepoch=100\n",
    "        video_path = '/cropped_video80'\n",
    "        validate_steps = len(im_paths_test)//32\n",
    "        model.fit_generator(generator=training_generator,epochs = epochs,steps_per_epoch=stepsperepoch,verbose=1)\n",
    "        #print(model.fit_generator(generator=training_generator,epochs = epochs,steps_per_epoch=stepsperepoch,verbose=0))\n",
    "        #make predictions\n",
    "        preds = model.predict_generator(generator=prediction_generator,workers=1,steps = len(im_paths_test)//32, use_multiprocessing=False)\n",
    "        filenames_preds = dict(zip(prediction_generator.filenames,preds))   \n",
    "    \n",
    "        #find accuracies\n",
    "        im_result = [(im_labels_train_reference[key],np.argmax(filenames_preds[key])) for key in filenames_preds.keys()]\n",
    "        image_accuracy = accuracy_score(np.array(im_result)[:,0],np.array(im_result)[:,1])\n",
    "        \n",
    "        split = glue_code.split_preds_into_cells(filenames_preds,np.array(test_cells)[:,0])\n",
    "        #as predict_generator is broken - sometime misses the last few images, we need to make sure that none of our\n",
    "        #cells have 0 images\n",
    "        split = [i for i in split if len(i)>0]\n",
    "        \n",
    "        cell_predictions = np.array(glue_code.get_cell_predictions(split,filenames_preds))\n",
    "        #need to make sure that the true test cell labels we compare against actually exist in cell predictions, so grab all those that do\n",
    "        labels_test_p = [dict(test_cells)[i] for i in cell_predictions[:,0]]#\n",
    "        cell_accuracy = accuracy_score(labels_test_p,np.rint(cell_predictions[:,2].astype('float')))\n",
    "        #print(image_accuracy,cell_accuracy)\n",
    "        cell_number_result.append((cell_number,image_accuracy,cell_accuracy))\n",
    "        reset_weights(model)\n",
    "        \n",
    "    result.append(cell_number_result)\n",
    "    print(np.average(np.array(cell_number_result)[:,1]),np.average(np.array(cell_number_result)[:,2]))"
   ]
  },
  {
   "cell_type": "code",
   "execution_count": 11,
   "metadata": {
    "scrolled": true
   },
   "outputs": [
    {
     "data": {
      "text/plain": [
       "[[(50, 0.7991202346041055, 0.8043956043956044),\n",
       "  (50, 0.7253482404692082, 0.7252747252747253),\n",
       "  (50, 0.8321114369501467, 0.8571428571428571)],\n",
       " [(100, 0.8334703947368421, 0.8522167487684729),\n",
       "  (100, 0.7543174342105263, 0.7586206896551724),\n",
       "  (100, 0.7801192434210527, 0.7980295566502463)]]"
      ]
     },
     "execution_count": 11,
     "metadata": {},
     "output_type": "execute_result"
    }
   ],
   "source": [
    "result"
   ]
  },
  {
   "cell_type": "code",
   "execution_count": 1,
   "metadata": {},
   "outputs": [],
   "source": [
    "import pickle\n",
    "#pickle.dump(result, open('/home/ubuntu/data/code/2dCNN/num_cell_507_control_sus.p','wb'))"
   ]
  },
  {
   "cell_type": "code",
   "execution_count": 2,
   "metadata": {},
   "outputs": [
    {
     "name": "stdout",
     "output_type": "stream",
     "text": [
      "[[(50, 0.7160923753665689, 0.7186813186813187), (50, 0.8101173020527859, 0.8131868131868132), (50, 0.8044354838709677, 0.810989010989011), (50, 0.8340359237536656, 0.8461538461538461), (50, 0.8072916666666666, 0.8092105263157895), (50, 0.7544904692082112, 0.7758241758241758), (50, 0.8029692082111437, 0.8153846153846154), (50, 0.7185667155425219, 0.7164835164835165), (50, 0.7796920821114369, 0.7934065934065934), (50, 0.7673611111111112, 0.7763157894736842)], [(100, 0.8564967105263158, 0.8768472906403941), (100, 0.7358606557377049, 0.7321867321867321), (100, 0.7993421052631579, 0.8152709359605911), (100, 0.8524876644736842, 0.8571428571428571), (100, 0.7965666118421053, 0.8300492610837439), (100, 0.8349385245901639, 0.8574938574938575), (100, 0.833264802631579, 0.8448275862068966), (100, 0.7667557565789473, 0.7660098522167488), (100, 0.7588114754098361, 0.7641277641277642), (100, 0.8474506578947368, 0.854679802955665)], [(150, 0.8507988721804511, 0.8704225352112676), (150, 0.8357911985018727, 0.8314606741573034), (150, 0.8682116104868914, 0.8879551820728291), (150, 0.7302631578947368, 0.7267605633802817), (150, 0.8409304511278195, 0.8450704225352113), (150, 0.39050751879699247, 0.38873239436619716), (150, 0.821746254681648, 0.8319327731092437), (150, 0.8990836466165414, 0.9211267605633803), (150, 0.8534644194756554, 0.8623595505617978), (150, 0.8547932330827067, 0.8676056338028169)], [(200, 0.8194596069868996, 0.8235294117647058), (200, 0.9021739130434783, 0.9218241042345277), (200, 0.8274456521739131, 0.8501628664495114), (200, 0.7621451965065502, 0.761437908496732), (200, 0.8356986899563319, 0.8366013071895425), (200, 0.6790393013100436, 0.6797385620915033), (200, 0.7478165938864629, 0.7483660130718954), (200, 0.8453875545851528, 0.869281045751634), (200, 0.7853260869565217, 0.7850162866449512), (200, 0.8411572052401747, 0.8627450980392157)], [(250, 0.8967604712041884, 0.9176470588235294), (250, 0.8493128272251309, 0.8549019607843137), (250, 0.8782552083333334, 0.90234375), (250, 0.8802083333333334, 0.90625), (250, 0.5244140625, 0.5078125), (250, 0.5849609375, 0.5703125), (250, 0.8836263020833334, 0.91015625), (250, 0.8343098958333334, 0.867704280155642), (250, 0.71630859375, 0.7109375), (250, 0.85986328125, 0.8521400778210116)], [(300, 0.8048387096774193, 0.8019323671497585), (300, 0.8381048387096774, 0.8502415458937198), (300, 0.7703629032258065, 0.7536231884057971), (300, 0.7899756493506493, 0.7815533980582524), (300, 0.7891129032258064, 0.821256038647343), (300, 0.7497983870967742, 0.7439613526570048), (300, 0.7858870967741935, 0.7874396135265701), (300, 0.810064935064935, 0.8203883495145631), (300, 0.8159274193548387, 0.8260869565217391), (300, 0.8538961038961039, 0.8737864077669902)], [(350, 0.7836538461538461, 0.7884615384615384), (350, 0.874465811965812, 0.8782051282051282), (350, 0.47009698275862066, 0.4645161290322581), (350, 0.8127693965517241, 0.8), (350, 0.8234508547008547, 0.8343949044585988), (350, 0.8955662393162394, 0.9038461538461539), (350, 0.8568376068376068, 0.8525641025641025), (350, 0.719017094017094, 0.7307692307692307), (350, 0.7354525862068966, 0.7548387096774194), (350, 0.822198275862069, 0.8258064516129032)], [(400, 0.8520569620253164, 0.8584905660377359), (400, 0.77734375, 0.7757009345794392), (400, 0.782421875, 0.8130841121495327), (400, 0.91484375, 0.9158878504672897), (400, 0.81015625, 0.822429906542056), (400, 0.664453125, 0.6635514018691588), (400, 0.878515625, 0.9065420560747663), (400, 0.8859375, 0.9065420560747663), (400, 0.8640625, 0.8691588785046729), (400, 0.9204905063291139, 0.9339622641509434)], [(450, 0.6964285714285714, 0.6964285714285714), (450, 0.7693452380952381, 0.7678571428571429), (450, 0.8668154761904762, 0.8771929824561403), (450, 0.7678571428571429, 0.7857142857142857), (450, 0.5178571428571429, 0.5178571428571429), (450, 0.9196428571428571, 0.9821428571428571), (450, 0.6510416666666666, 0.6428571428571429), (450, 0.8861607142857143, 0.9285714285714286), (450, 0.9040178571428571, 0.8928571428571429), (450, 0.7247023809523809, 0.7142857142857143)]]\n"
     ]
    }
   ],
   "source": [
    "result_all = pickle.load(open('num_cell_507_control_sus.p','rb'))\n",
    "print(result_all)"
   ]
  },
  {
   "cell_type": "code",
   "execution_count": 3,
   "metadata": {
    "scrolled": true
   },
   "outputs": [
    {
     "name": "stdout",
     "output_type": "stream",
     "text": [
      "[(50, 0.7160923753665689, 0.7186813186813187), (50, 0.8101173020527859, 0.8131868131868132), (50, 0.8044354838709677, 0.810989010989011), (50, 0.8340359237536656, 0.8461538461538461), (50, 0.8072916666666666, 0.8092105263157895), (50, 0.7544904692082112, 0.7758241758241758), (50, 0.8029692082111437, 0.8153846153846154), (50, 0.7185667155425219, 0.7164835164835165), (50, 0.7796920821114369, 0.7934065934065934), (50, 0.7673611111111112, 0.7763157894736842), (100, 0.8564967105263158, 0.8768472906403941), (100, 0.7358606557377049, 0.7321867321867321), (100, 0.7993421052631579, 0.8152709359605911), (100, 0.8524876644736842, 0.8571428571428571), (100, 0.7965666118421053, 0.8300492610837439), (100, 0.8349385245901639, 0.8574938574938575), (100, 0.833264802631579, 0.8448275862068966), (100, 0.7667557565789473, 0.7660098522167488), (100, 0.7588114754098361, 0.7641277641277642), (100, 0.8474506578947368, 0.854679802955665), (150, 0.8507988721804511, 0.8704225352112676), (150, 0.8357911985018727, 0.8314606741573034), (150, 0.8682116104868914, 0.8879551820728291), (150, 0.7302631578947368, 0.7267605633802817), (150, 0.8409304511278195, 0.8450704225352113), (150, 0.39050751879699247, 0.38873239436619716), (150, 0.821746254681648, 0.8319327731092437), (150, 0.8990836466165414, 0.9211267605633803), (150, 0.8534644194756554, 0.8623595505617978), (150, 0.8547932330827067, 0.8676056338028169), (200, 0.8194596069868996, 0.8235294117647058), (200, 0.9021739130434783, 0.9218241042345277), (200, 0.8274456521739131, 0.8501628664495114), (200, 0.7621451965065502, 0.761437908496732), (200, 0.8356986899563319, 0.8366013071895425), (200, 0.6790393013100436, 0.6797385620915033), (200, 0.7478165938864629, 0.7483660130718954), (200, 0.8453875545851528, 0.869281045751634), (200, 0.7853260869565217, 0.7850162866449512), (200, 0.8411572052401747, 0.8627450980392157), (250, 0.8967604712041884, 0.9176470588235294), (250, 0.8493128272251309, 0.8549019607843137), (250, 0.8782552083333334, 0.90234375), (250, 0.8802083333333334, 0.90625), (250, 0.5244140625, 0.5078125), (250, 0.5849609375, 0.5703125), (250, 0.8836263020833334, 0.91015625), (250, 0.8343098958333334, 0.867704280155642), (250, 0.71630859375, 0.7109375), (250, 0.85986328125, 0.8521400778210116), (300, 0.8048387096774193, 0.8019323671497585), (300, 0.8381048387096774, 0.8502415458937198), (300, 0.7703629032258065, 0.7536231884057971), (300, 0.7899756493506493, 0.7815533980582524), (300, 0.7891129032258064, 0.821256038647343), (300, 0.7497983870967742, 0.7439613526570048), (300, 0.7858870967741935, 0.7874396135265701), (300, 0.810064935064935, 0.8203883495145631), (300, 0.8159274193548387, 0.8260869565217391), (300, 0.8538961038961039, 0.8737864077669902), (350, 0.7836538461538461, 0.7884615384615384), (350, 0.874465811965812, 0.8782051282051282), (350, 0.47009698275862066, 0.4645161290322581), (350, 0.8127693965517241, 0.8), (350, 0.8234508547008547, 0.8343949044585988), (350, 0.8955662393162394, 0.9038461538461539), (350, 0.8568376068376068, 0.8525641025641025), (350, 0.719017094017094, 0.7307692307692307), (350, 0.7354525862068966, 0.7548387096774194), (350, 0.822198275862069, 0.8258064516129032), (400, 0.8520569620253164, 0.8584905660377359), (400, 0.77734375, 0.7757009345794392), (400, 0.782421875, 0.8130841121495327), (400, 0.91484375, 0.9158878504672897), (400, 0.81015625, 0.822429906542056), (400, 0.664453125, 0.6635514018691588), (400, 0.878515625, 0.9065420560747663), (400, 0.8859375, 0.9065420560747663), (400, 0.8640625, 0.8691588785046729), (400, 0.9204905063291139, 0.9339622641509434), (450, 0.6964285714285714, 0.6964285714285714), (450, 0.7693452380952381, 0.7678571428571429), (450, 0.8668154761904762, 0.8771929824561403), (450, 0.7678571428571429, 0.7857142857142857), (450, 0.5178571428571429, 0.5178571428571429), (450, 0.9196428571428571, 0.9821428571428571), (450, 0.6510416666666666, 0.6428571428571429), (450, 0.8861607142857143, 0.9285714285714286), (450, 0.9040178571428571, 0.8928571428571429), (450, 0.7247023809523809, 0.7142857142857143)]\n"
     ]
    }
   ],
   "source": [
    "list_res = []\n",
    "for i in result_all:\n",
    "    list_res.extend(i)\n",
    "print(list_res)"
   ]
  },
  {
   "cell_type": "code",
   "execution_count": 7,
   "metadata": {},
   "outputs": [
    {
     "name": "stdout",
     "output_type": "stream",
     "text": [
      "[0.7875636205899363, 0.8198635940015251, 0.8033426489760329, 0.8138702603734218, 0.8000205877584496, 0.8060269218141739, 0.7833402348627334, 0.8465350026450361, 0.7805764411027569]\n"
     ]
    }
   ],
   "source": [
    "averages = [np.average(np.array(i)[:,2]) for i in result_all]\n",
    "print(averages)\n",
    "\n",
    "\n",
    "#print(data)\n",
    "\n"
   ]
  },
  {
   "cell_type": "code",
   "execution_count": null,
   "metadata": {},
   "outputs": [],
   "source": []
  },
  {
   "cell_type": "raw",
   "metadata": {},
   "source": []
  },
  {
   "cell_type": "code",
   "execution_count": 5,
   "metadata": {},
   "outputs": [
    {
     "data": {
      "image/png": "[encoded data removed]",
      "text/plain": [
       "<Figure size 576x360 with 1 Axes>"
      ]
     },
     "metadata": {},
     "output_type": "display_data"
    }
   ],
   "source": [
    "import matplotlib.pyplot as plt\n",
    "\n",
    "def reject_outliers(data, m=2):\n",
    "    return data[abs(data - np.mean(data)) < m * np.std(data)]\n",
    "\n",
    "\n",
    "plt.style.use('bmh')\n",
    "plt.rcParams.update({\"figure.figsize\" : (8, 5),\n",
    "                     \"axes.facecolor\" : \"white\",\n",
    "                     \"axes.edgecolor\":  \"black\"})\n",
    "\n",
    "plt.xticks(fontsize=12, rotation=0)\n",
    "plt.yticks(fontsize=12, rotation=0)\n",
    "averages = [np.average(reject_outliers(np.array(i)[:,2],m=2)) for i in result_all]\n",
    "#averages = averages = [np.average(np.array(i)[:,2]) for i in result_all]\n",
    "bests = [np.max(np.array(i)[:,1]) for i in result_all]\n",
    "stds = [np.std(np.array(i)[:,1]) for i in result_all]\n",
    "xs = np.arange(50,500,50)\n",
    "plt.plot(np.array(list_res)[:,0],np.array(list_res)[:,2],color='black',marker='x',markersize=4,linewidth=0,label = 'Individual Runs')\n",
    "plt.plot(xs,averages,color='yellow',marker='o',linewidth = 0, markersize=10,mew=2,mec='black',label = 'Average Accuracy')\n",
    "plt.ylim(0.65,0.95)\n",
    "plt.legend(loc=2,frameon=True,fontsize=12)\n",
    "plt.ylabel('Accuracy',fontsize=16)\n",
    "plt.xlabel('Number of Cells',fontsize=16)\n",
    "plt.savefig('/home/ubuntu/data/figures/Data_size.png',dpi=300)"
   ]
  },
  {
   "cell_type": "code",
   "execution_count": null,
   "metadata": {},
   "outputs": [],
   "source": [
    "list_res"
   ]
  },
  {
   "cell_type": "code",
   "execution_count": null,
   "metadata": {},
   "outputs": [],
   "source": [
    "all_images = filenames_preds.keys() \n",
    "result = []\n",
    "#for cell in np.array(test_cells)[:,0]:\n",
    "    cell_images = [image_path for image_path in all_images if cell in image_path]\n",
    "    result.append(cell_images)\n"
   ]
  },
  {
   "cell_type": "code",
   "execution_count": null,
   "metadata": {},
   "outputs": [],
   "source": [
    "np.array(test_cells)[:,0][-1]"
   ]
  },
  {
   "cell_type": "code",
   "execution_count": null,
   "metadata": {},
   "outputs": [],
   "source": [
    "len(training_generator)"
   ]
  },
  {
   "cell_type": "code",
   "execution_count": null,
   "metadata": {},
   "outputs": [],
   "source": []
  }
 ],
 "metadata": {
  "kernelspec": {
   "display_name": "Python 3",
   "language": "python",
   "name": "python3"
  },
  "language_info": {
   "codemirror_mode": {
    "name": "ipython",
    "version": 3
   },
   "file_extension": ".py",
   "mimetype": "text/x-python",
   "name": "python",
   "nbconvert_exporter": "python",
   "pygments_lexer": "ipython3",
   "version": "3.6.7"
  }
 },
 "nbformat": 4,
 "nbformat_minor": 2
}
