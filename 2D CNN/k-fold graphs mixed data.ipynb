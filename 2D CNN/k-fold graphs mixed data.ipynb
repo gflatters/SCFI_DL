{
 "cells": [
  {
   "cell_type": "code",
   "execution_count": 1,
   "metadata": {},
   "outputs": [
    {
     "name": "stderr",
     "output_type": "stream",
     "text": [
      "Using TensorFlow backend.\n"
     ]
    },
    {
     "name": "stdout",
     "output_type": "stream",
     "text": [
      "WARNING:tensorflow:From /home/ubuntu/anaconda3/envs/tensorflow_p36/lib/python3.6/site-packages/tensorflow_core/__init__.py:1467: The name tf.estimator.inputs is deprecated. Please use tf.compat.v1.estimator.inputs instead.\n",
      "\n"
     ]
    }
   ],
   "source": [
    "import sys\n",
    "sys.path.insert(0, \"/home/ubuntu/data/code/Modules/\")\n",
    "import skimage\n",
    "import numpy as np\n",
    "import pickle\n",
    "import gc\n",
    "from albumentations import Compose,HorizontalFlip, VerticalFlip, ToFloat\n",
    "from sklearn.metrics import confusion_matrix\n",
    "import cv2\n",
    "import matplotlib.pyplot as plt\n",
    "from keras import backend\n",
    "from keras.models import Sequential\n",
    "from keras.losses import binary_crossentropy\n",
    "from keras.layers.convolutional import Conv2D, MaxPooling2D\n",
    "from keras.layers import Dense, BatchNormalization, Flatten, Dropout\n",
    "from keras.optimizers import SGD,Adadelta\n",
    "import DataGenerator\n",
    "from albumentations import Compose,HorizontalFlip, VerticalFlip, ToFloat\n",
    "from sklearn.model_selection import KFold\n",
    "import random\n",
    "import glob\n",
    "import CNN_Module as cnn_module\n",
    "import models\n",
    "import time"
   ]
  },
  {
   "cell_type": "code",
   "execution_count": 2,
   "metadata": {},
   "outputs": [
    {
     "data": {
      "text/plain": [
       "<module 'models' from '/home/ubuntu/data/code/Modules/models.py'>"
      ]
     },
     "execution_count": 2,
     "metadata": {},
     "output_type": "execute_result"
    }
   ],
   "source": [
    "import imp\n",
    "imp.reload(cnn_module)\n",
    "imp.reload(models)"
   ]
  },
  {
   "cell_type": "code",
   "execution_count": 3,
   "metadata": {},
   "outputs": [
    {
     "name": "stdout",
     "output_type": "stream",
     "text": [
      "WARNING:tensorflow:From /home/ubuntu/anaconda3/envs/tensorflow_p36/lib/python3.6/site-packages/keras/backend/tensorflow_backend.py:74: The name tf.get_default_graph is deprecated. Please use tf.compat.v1.get_default_graph instead.\n",
      "\n",
      "WARNING:tensorflow:From /home/ubuntu/anaconda3/envs/tensorflow_p36/lib/python3.6/site-packages/keras/backend/tensorflow_backend.py:517: The name tf.placeholder is deprecated. Please use tf.compat.v1.placeholder instead.\n",
      "\n",
      "WARNING:tensorflow:From /home/ubuntu/anaconda3/envs/tensorflow_p36/lib/python3.6/site-packages/keras/backend/tensorflow_backend.py:4138: The name tf.random_uniform is deprecated. Please use tf.random.uniform instead.\n",
      "\n",
      "WARNING:tensorflow:From /home/ubuntu/anaconda3/envs/tensorflow_p36/lib/python3.6/site-packages/keras/backend/tensorflow_backend.py:174: The name tf.get_default_session is deprecated. Please use tf.compat.v1.get_default_session instead.\n",
      "\n",
      "WARNING:tensorflow:From /home/ubuntu/anaconda3/envs/tensorflow_p36/lib/python3.6/site-packages/keras/backend/tensorflow_backend.py:181: The name tf.ConfigProto is deprecated. Please use tf.compat.v1.ConfigProto instead.\n",
      "\n",
      "WARNING:tensorflow:From /home/ubuntu/anaconda3/envs/tensorflow_p36/lib/python3.6/site-packages/keras/backend/tensorflow_backend.py:186: The name tf.Session is deprecated. Please use tf.compat.v1.Session instead.\n",
      "\n",
      "WARNING:tensorflow:From /home/ubuntu/anaconda3/envs/tensorflow_p36/lib/python3.6/site-packages/keras/backend/tensorflow_backend.py:190: The name tf.global_variables is deprecated. Please use tf.compat.v1.global_variables instead.\n",
      "\n",
      "WARNING:tensorflow:From /home/ubuntu/anaconda3/envs/tensorflow_p36/lib/python3.6/site-packages/keras/backend/tensorflow_backend.py:199: The name tf.is_variable_initialized is deprecated. Please use tf.compat.v1.is_variable_initialized instead.\n",
      "\n",
      "WARNING:tensorflow:From /home/ubuntu/anaconda3/envs/tensorflow_p36/lib/python3.6/site-packages/keras/backend/tensorflow_backend.py:206: The name tf.variables_initializer is deprecated. Please use tf.compat.v1.variables_initializer instead.\n",
      "\n",
      "WARNING:tensorflow:From /home/ubuntu/anaconda3/envs/tensorflow_p36/lib/python3.6/site-packages/keras/backend/tensorflow_backend.py:1834: The name tf.nn.fused_batch_norm is deprecated. Please use tf.compat.v1.nn.fused_batch_norm instead.\n",
      "\n",
      "WARNING:tensorflow:From /home/ubuntu/anaconda3/envs/tensorflow_p36/lib/python3.6/site-packages/keras/backend/tensorflow_backend.py:133: The name tf.placeholder_with_default is deprecated. Please use tf.compat.v1.placeholder_with_default instead.\n",
      "\n",
      "WARNING:tensorflow:From /home/ubuntu/anaconda3/envs/tensorflow_p36/lib/python3.6/site-packages/keras/backend/tensorflow_backend.py:3976: The name tf.nn.max_pool is deprecated. Please use tf.nn.max_pool2d instead.\n",
      "\n",
      "WARNING:tensorflow:From /home/ubuntu/anaconda3/envs/tensorflow_p36/lib/python3.6/site-packages/keras/backend/tensorflow_backend.py:3445: calling dropout (from tensorflow.python.ops.nn_ops) with keep_prob is deprecated and will be removed in a future version.\n",
      "Instructions for updating:\n",
      "Please use `rate` instead of `keep_prob`. Rate should be set to `rate = 1 - keep_prob`.\n",
      "WARNING:tensorflow:From /home/ubuntu/anaconda3/envs/tensorflow_p36/lib/python3.6/site-packages/keras/optimizers.py:790: The name tf.train.Optimizer is deprecated. Please use tf.compat.v1.train.Optimizer instead.\n",
      "\n",
      "WARNING:tensorflow:From /home/ubuntu/anaconda3/envs/tensorflow_p36/lib/python3.6/site-packages/keras/backend/tensorflow_backend.py:3376: The name tf.log is deprecated. Please use tf.math.log instead.\n",
      "\n",
      "WARNING:tensorflow:From /home/ubuntu/anaconda3/envs/tensorflow_p36/lib/python3.6/site-packages/tensorflow_core/python/ops/nn_impl.py:183: where (from tensorflow.python.ops.array_ops) is deprecated and will be removed in a future version.\n",
      "Instructions for updating:\n",
      "Use tf.where in 2.0, which has the same broadcast rule as np.where\n"
     ]
    }
   ],
   "source": [
    "model = models.get_luke_model_140(input_shape=(140,100,1))\n",
    "#model = models.get_luke_model_noBN(140,100)\n",
    "augment_train, augment_valid = cnn_module.get_augmentations_train_test()\n",
    "params_train, params_test = cnn_module.get_params_train_test(140,100,augment_valid,augment_valid)"
   ]
  },
  {
   "cell_type": "code",
   "execution_count": null,
   "metadata": {
    "scrolled": true
   },
   "outputs": [
    {
     "name": "stdout",
     "output_type": "stream",
     "text": [
      "564\n",
      "608\n",
      "1054\n",
      "[('/home/ubuntu/data/resistant/sample24/cell170', 0), ('/home/ubuntu/data/resistant/sample24/cell171', 0), ('/home/ubuntu/data/resistant/sample24/cell176', 0), ('/home/ubuntu/data/resistant/sample24/cell195', 0), ('/home/ubuntu/data/resistant/sample24/cell217', 0), ('/home/ubuntu/data/resistant/sample28/cell331', 0), ('/home/ubuntu/data/resistant/sample28/cell337', 0), ('/home/ubuntu/data/resistant/sample28/cell338', 0), ('/home/ubuntu/data/resistant/sample28/cell351', 0), ('/home/ubuntu/data/resistant/sample28/cell355', 0), ('/home/ubuntu/data/resistant/sample28/cell362', 0), ('/home/ubuntu/data/resistant/sample28/cell367', 0), ('/home/ubuntu/data/resistant/sample34/cell170', 0), ('/home/ubuntu/data/resistant/sample34/cell173', 0), ('/home/ubuntu/data/resistant/sample34/cell190', 0), ('/home/ubuntu/data/resistant/sample34/cell219', 0), ('/home/ubuntu/data/resistant/sample36/cell280', 0), ('/home/ubuntu/data/resistant/sample36/cell292', 0), ('/home/ubuntu/data/resistant/sample36/cell309', 0), ('/home/ubuntu/data/resistant/sample36/cell311', 0), ('/home/ubuntu/data/resistant/sample42/cell061', 0), ('/home/ubuntu/data/resistant/sample42/cell071', 0), ('/home/ubuntu/data/resistant/sample42/cell079', 0), ('/home/ubuntu/data/resistant/sample42/cell112', 0), ('/home/ubuntu/data/resistant/sample52/cell052', 0), ('/home/ubuntu/data/resistant/sample52/cell053', 0), ('/home/ubuntu/data/resistant/sample52/cell061', 0), ('/home/ubuntu/data/resistant/sample52/cell070', 0), ('/home/ubuntu/data/resistant/sample52/cell074', 0), ('/home/ubuntu/data/resistant/sample52/cell104', 0), ('/home/ubuntu/data/resistant/sample52/cell108', 0), ('/home/ubuntu/data/trimdata/resistant/sample12/cell653', 0), ('/home/ubuntu/data/trimdata/resistant/sample12/cell659', 0), ('/home/ubuntu/data/trimdata/resistant/sample12/cell660', 0), ('/home/ubuntu/data/trimdata/resistant/sample12/cell668', 0), ('/home/ubuntu/data/trimdata/resistant/sample12/cell690', 0), ('/home/ubuntu/data/trimdata/resistant/sample18/cell392', 0), ('/home/ubuntu/data/trimdata/resistant/sample18/cell396', 0), ('/home/ubuntu/data/trimdata/resistant/sample18/cell398', 0), ('/home/ubuntu/data/trimdata/resistant/sample18/cell408', 0), ('/home/ubuntu/data/trimdata/resistant/sample22/cell068', 0), ('/home/ubuntu/data/trimdata/resistant/sample22/cell069', 0), ('/home/ubuntu/data/trimdata/resistant/sample22/cell080', 0), ('/home/ubuntu/data/trimdata/resistant/sample23/cell117', 0), ('/home/ubuntu/data/trimdata/resistant/sample23/cell122', 0), ('/home/ubuntu/data/trimdata/resistant/sample23/cell124', 0), ('/home/ubuntu/data/trimdata/resistant/sample23/cell126', 0), ('/home/ubuntu/data/trimdata/resistant/sample23/cell129', 0), ('/home/ubuntu/data/trimdata/resistant/sample23/cell152', 0), ('/home/ubuntu/data/trimdata/resistant/sample23/cell154', 0), ('/home/ubuntu/data/trimdata/resistant/sample23/cell162', 0), ('/home/ubuntu/data/trimdata/resistant/sample23/cell166', 0), ('/home/ubuntu/data/trimdata/resistant/sample26/cell333', 0), ('/home/ubuntu/data/trimdata/resistant/sample26/cell334', 0), ('/home/ubuntu/data/trimdata/resistant/sample26/cell336', 0), ('/home/ubuntu/data/trimdata/resistant/sample26/cell340', 0), ('/home/ubuntu/data/trimdata/resistant/sample26/cell352', 0), ('/home/ubuntu/data/susceptible/sample15/cell229', 1), ('/home/ubuntu/data/susceptible/sample15/cell240', 1), ('/home/ubuntu/data/susceptible/sample15/cell255', 1), ('/home/ubuntu/data/susceptible/sample15/cell256', 1), ('/home/ubuntu/data/susceptible/sample15/cell264', 1), ('/home/ubuntu/data/susceptible/sample15/cell269', 1), ('/home/ubuntu/data/susceptible/sample22/cell055', 1), ('/home/ubuntu/data/susceptible/sample22/cell058', 1), ('/home/ubuntu/data/susceptible/sample22/cell089', 1), ('/home/ubuntu/data/susceptible/sample22/cell090', 1), ('/home/ubuntu/data/susceptible/sample25/cell232', 1), ('/home/ubuntu/data/susceptible/sample25/cell237', 1), ('/home/ubuntu/data/susceptible/sample25/cell243', 1), ('/home/ubuntu/data/susceptible/sample25/cell255', 1), ('/home/ubuntu/data/susceptible/sample25/cell257', 1), ('/home/ubuntu/data/susceptible/sample34/cell172', 1), ('/home/ubuntu/data/susceptible/sample34/cell192', 1), ('/home/ubuntu/data/susceptible/sample34/cell209', 1), ('/home/ubuntu/data/susceptible/sample34/cell215', 1), ('/home/ubuntu/data/susceptible/sample34/cell225', 1), ('/home/ubuntu/data/susceptible/sample38/cell423', 1), ('/home/ubuntu/data/susceptible/sample38/cell428', 1), ('/home/ubuntu/data/susceptible/sample38/cell434', 1), ('/home/ubuntu/data/susceptible/sample38/cell453', 1), ('/home/ubuntu/data/susceptible/sample44/cell199', 1), ('/home/ubuntu/data/susceptible/sample44/cell201', 1), ('/home/ubuntu/data/susceptible/sample44/cell209', 1), ('/home/ubuntu/data/susceptible/sample46/cell274', 1), ('/home/ubuntu/data/susceptible/sample46/cell292', 1), ('/home/ubuntu/data/susceptible/sample46/cell302', 1), ('/home/ubuntu/data/susceptible/sample46/cell305', 1), ('/home/ubuntu/data/susceptible/sample46/cell319', 1), ('/home/ubuntu/data/susceptible/sample46/cell326', 1), ('/home/ubuntu/data/trimdata/susceptible/sample02/cell054', 1), ('/home/ubuntu/data/trimdata/susceptible/sample02/cell058', 1), ('/home/ubuntu/data/trimdata/susceptible/sample02/cell065', 1), ('/home/ubuntu/data/trimdata/susceptible/sample02/cell081', 1), ('/home/ubuntu/data/trimdata/susceptible/sample02/cell100', 1), ('/home/ubuntu/data/trimdata/susceptible/sample05/cell210', 1), ('/home/ubuntu/data/trimdata/susceptible/sample05/cell214', 1), ('/home/ubuntu/data/trimdata/susceptible/sample05/cell216', 1), ('/home/ubuntu/data/trimdata/susceptible/sample05/cell236', 1), ('/home/ubuntu/data/trimdata/susceptible/sample05/cell247', 1), ('/home/ubuntu/data/trimdata/susceptible/sample05/cell256', 1), ('/home/ubuntu/data/trimdata/susceptible/sample05/cell258', 1), ('/home/ubuntu/data/trimdata/susceptible/sample13/cell104', 1), ('/home/ubuntu/data/trimdata/susceptible/sample13/cell107', 1), ('/home/ubuntu/data/trimdata/susceptible/sample13/cell108', 1), ('/home/ubuntu/data/trimdata/susceptible/sample13/cell113', 1), ('/home/ubuntu/data/trimdata/susceptible/sample13/cell125', 1), ('/home/ubuntu/data/trimdata/susceptible/sample13/cell136', 1), ('/home/ubuntu/data/trimdata/susceptible/sample13/cell139', 1), ('/home/ubuntu/data/trimdata/susceptible/sample14/cell127', 1), ('/home/ubuntu/data/trimdata/susceptible/sample14/cell128', 1), ('/home/ubuntu/data/trimdata/susceptible/sample14/cell131', 1), ('/home/ubuntu/data/trimdata/susceptible/sample14/cell143', 1), ('/home/ubuntu/data/trimdata/susceptible/sample14/cell152', 1), ('/home/ubuntu/data/trimdata/susceptible/sample15/cell137', 1), ('/home/ubuntu/data/trimdata/susceptible/sample15/cell146', 1), ('/home/ubuntu/data/trimdata/susceptible/sample15/cell158', 1), ('/home/ubuntu/data/trimdata/susceptible/sample15/cell160', 1)]\n",
      "fold 1\n",
      "WARNING:tensorflow:From /home/ubuntu/anaconda3/envs/tensorflow_p36/lib/python3.6/site-packages/keras/backend/tensorflow_backend.py:986: The name tf.assign_add is deprecated. Please use tf.compat.v1.assign_add instead.\n",
      "\n",
      "WARNING:tensorflow:From /home/ubuntu/anaconda3/envs/tensorflow_p36/lib/python3.6/site-packages/keras/backend/tensorflow_backend.py:973: The name tf.assign is deprecated. Please use tf.compat.v1.assign instead.\n",
      "\n",
      "Epoch 1/30\n",
      "100/100 [==============================] - 19s 194ms/step - loss: 2.1943 - acc: 0.5566 - val_loss: 0.6940 - val_acc: 0.5701\n",
      "Epoch 2/30\n",
      "100/100 [==============================] - 10s 100ms/step - loss: 0.7794 - acc: 0.5684 - val_loss: 0.6737 - val_acc: 0.5732\n",
      "Epoch 3/30\n",
      "100/100 [==============================] - 8s 82ms/step - loss: 0.7322 - acc: 0.5913 - val_loss: 0.6569 - val_acc: 0.5637\n",
      "Epoch 4/30\n",
      "100/100 [==============================] - 8s 82ms/step - loss: 0.6813 - acc: 0.6216 - val_loss: 0.6580 - val_acc: 0.5994\n",
      "Epoch 5/30\n",
      "100/100 [==============================] - 9s 88ms/step - loss: 0.6606 - acc: 0.6462 - val_loss: 0.7081 - val_acc: 0.5227\n",
      "Epoch 6/30\n",
      "100/100 [==============================] - 9s 87ms/step - loss: 0.6342 - acc: 0.6594 - val_loss: 0.6502 - val_acc: 0.6051\n",
      "Epoch 7/30\n"
     ]
    },
    {
     "name": "stdout",
     "output_type": "stream",
     "text": [
      "100/100 [==============================] - 8s 83ms/step - loss: 0.6052 - acc: 0.6775 - val_loss: 0.6892 - val_acc: 0.5294\n",
      "Epoch 8/30\n",
      "100/100 [==============================] - 7s 69ms/step - loss: 0.5915 - acc: 0.6878 - val_loss: 0.6400 - val_acc: 0.5914\n",
      "Epoch 9/30\n",
      "100/100 [==============================] - 7s 71ms/step - loss: 0.5752 - acc: 0.6912 - val_loss: 0.6765 - val_acc: 0.5625\n",
      "Epoch 10/30\n",
      "100/100 [==============================] - 7s 69ms/step - loss: 0.5486 - acc: 0.7084 - val_loss: 0.7103 - val_acc: 0.5402\n",
      "Epoch 11/30\n",
      "100/100 [==============================] - 7s 69ms/step - loss: 0.5083 - acc: 0.7428 - val_loss: 0.9269 - val_acc: 0.5947\n",
      "Epoch 12/30\n",
      "100/100 [==============================] - 7s 70ms/step - loss: 0.5042 - acc: 0.7372 - val_loss: 0.6564 - val_acc: 0.6001\n",
      "Epoch 13/30\n",
      "100/100 [==============================] - 7s 70ms/step - loss: 0.4575 - acc: 0.7622 - val_loss: 0.8125 - val_acc: 0.6219\n",
      "Epoch 14/30\n",
      "100/100 [==============================] - 7s 70ms/step - loss: 0.4310 - acc: 0.7966 - val_loss: 0.9670 - val_acc: 0.6198\n",
      "Epoch 15/30\n",
      "100/100 [==============================] - 7s 69ms/step - loss: 0.3358 - acc: 0.8459 - val_loss: 1.0344 - val_acc: 0.5881\n",
      "Epoch 16/30\n",
      "100/100 [==============================] - 7s 68ms/step - loss: 0.3321 - acc: 0.8500 - val_loss: 1.1851 - val_acc: 0.6035\n",
      "Epoch 17/30\n",
      "100/100 [==============================] - 7s 69ms/step - loss: 0.2864 - acc: 0.8741 - val_loss: 1.4229 - val_acc: 0.5518\n",
      "Epoch 18/30\n",
      "100/100 [==============================] - 7s 69ms/step - loss: 0.2577 - acc: 0.8912 - val_loss: 3.0599 - val_acc: 0.5606\n",
      "Epoch 19/30\n",
      "100/100 [==============================] - 7s 69ms/step - loss: 0.2213 - acc: 0.9100 - val_loss: 2.3503 - val_acc: 0.5516\n",
      "Epoch 20/30\n",
      "100/100 [==============================] - 7s 67ms/step - loss: 0.1972 - acc: 0.9250 - val_loss: 3.3071 - val_acc: 0.6009\n",
      "Epoch 21/30\n",
      "100/100 [==============================] - 7s 71ms/step - loss: 0.1693 - acc: 0.9363 - val_loss: 7.0163 - val_acc: 0.5357\n",
      "Epoch 22/30\n",
      "100/100 [==============================] - 7s 69ms/step - loss: 0.1541 - acc: 0.9406 - val_loss: 1.1121 - val_acc: 0.5919\n",
      "Epoch 23/30\n",
      "100/100 [==============================] - 7s 69ms/step - loss: 0.1056 - acc: 0.9603 - val_loss: 2.4110 - val_acc: 0.6212\n",
      "Epoch 24/30\n",
      "100/100 [==============================] - 7s 68ms/step - loss: 0.1343 - acc: 0.9463 - val_loss: 6.4364 - val_acc: 0.5705\n",
      "Epoch 25/30\n",
      "100/100 [==============================] - 7s 69ms/step - loss: 0.1149 - acc: 0.9550 - val_loss: 4.0149 - val_acc: 0.5412\n",
      "Epoch 26/30\n",
      " 98/100 [============================>.] - ETA: 0s - loss: 0.1000 - acc: 0.9595"
     ]
    }
   ],
   "source": [
    "sample_gap=10\n",
    "epochs=30\n",
    "stepsperepoch=100\n",
    "k = 5\n",
    "video_path = '/cropped_video100_140'\n",
    "\n",
    "\n",
    "start = time.time()    \n",
    "\n",
    "augment_train, augment_valid = cnn_module.get_augmentations_train_test()\n",
    "params_train, params_test = cnn_module.get_params_train_test(140,100,augment_valid,augment_valid)\n",
    "\n",
    "#prep cells for feeding into CNN\n",
    "cipro_con_cells = np.array(cnn_module.findallcells_indir('/home/ubuntu/data/resistant/'))\n",
    "trim_con_cells = np.array(cnn_module.findallcells_indir('/home/ubuntu/data/trimdata/resistant/'))\n",
    "#ceph_con_cells = np.array(cnn_module.findallcells_indir('/home/ubuntu/data/cephdata/resistant/'))\n",
    "\n",
    "cipro_sus_cells = np.array(cnn_module.findallcells_indir('/home/ubuntu/data/susceptible/'))\n",
    "trim_sus_cells = np.array(cnn_module.findallcells_indir('/home/ubuntu/data/trimdata/susceptible/'))\n",
    "#ceph_sus_cells = np.array(cnn_module.findallcells_indir('/home/ubuntu/data/cephdata/susceptible/'))\n",
    "\n",
    "### mix of 2\n",
    "control_cells = np.append(cipro_con_cells, trim_con_cells)\n",
    "sus_cells = np.append(cipro_sus_cells, trim_sus_cells)\n",
    "\n",
    "### mix of 3\n",
    "#con_cells1 = np.append(cipro_con_cells, trim_con_cells)\n",
    "#sus_cells1 = np.append(cipro_sus_cells, trim_sus_cells)\n",
    "\n",
    "#control_cells = cipro_con_cells\n",
    "#control_cells = np.append(con_cells1, ceph_con_cells)\n",
    "#sus_cells = np.append(sus_cells1, ceph_sus_cells)\n",
    "\n",
    "print(len(control_cells))\n",
    "print(len(sus_cells))\n",
    "\n",
    "#label cells, and split cells into test and train, making sure to have equal proportion of sus and ctrl in both\n",
    "control_cells_label = cnn_module.create_label_dict(control_cells,0)\n",
    "sus_cells_label  = cnn_module.create_label_dict(sus_cells,1)\n",
    "\n",
    "train_ctrl, test_ctrl = cnn_module.split_train_test(control_cells_label,0.9)\n",
    "train_sus, test_sus = cnn_module.split_train_test(sus_cells_label,0.9)\n",
    "train_labels = train_ctrl+train_sus\n",
    "test_labels = test_ctrl+test_sus\n",
    "print(len(train_labels))\n",
    "print(test_labels)\n",
    "\n",
    "im_paths_train, im_labels_train, im_paths_test, im_labels_test = cnn_module.get_labels_images(train_labels,test_labels,video_path,sample_gap)\n",
    "random.shuffle(im_paths_train)\n",
    "random.shuffle(im_paths_test)\n",
    "\n",
    "# now all cells are labeled, add together to send to kfold as we don't need to reserve a train set\n",
    "all_labels = train_labels + test_labels\n",
    "random.shuffle(all_labels)\n",
    "\n",
    "validate_steps = len(im_paths_test)//1\n",
    "model = models.get_luke_model_140(input_shape=(140,100,1))\n",
    "#model = models.get_luke_model_noBN(140,100)\n",
    "\n",
    "#get kfold predictions from training set \n",
    "train_preds, kfold_val_acc, kfold_acc, kfold_val_loss = cnn_module.k_fold_train(all_labels,video_path,model,sample_gap,epochs,stepsperepoch,params_train,params_test,k)\n",
    "\n",
    "\n",
    "end = time.time()\n",
    "run_time = end-start\n",
    "print('time =', run_time)    "
   ]
  },
  {
   "cell_type": "code",
   "execution_count": 8,
   "metadata": {},
   "outputs": [],
   "source": [
    "result = (train_preds, kfold_val_acc, kfold_acc, kfold_val_loss)"
   ]
  },
  {
   "cell_type": "code",
   "execution_count": 9,
   "metadata": {},
   "outputs": [],
   "source": [
    "pickle.dump(result, open('/home/ubuntu/data/code/2dCNN/kfold5_mix_bad.p','wb'))"
   ]
  },
  {
   "cell_type": "code",
   "execution_count": 10,
   "metadata": {},
   "outputs": [],
   "source": [
    "import pickle\n",
    "result_all = pickle.load(open('/home/ubuntu/data/code/2dCNN/kfold5_mix_bad.p','rb'))\n",
    "kfold_val_acc = result_all[1]\n",
    "kfold_acc = result_all[2]\n",
    "kfold_val_loss = result_all[3]\n",
    "#kfold_loss = result_all[4]"
   ]
  },
  {
   "cell_type": "code",
   "execution_count": 11,
   "metadata": {},
   "outputs": [
    {
     "name": "stdout",
     "output_type": "stream",
     "text": [
      "[0.53739646 0.60012929 0.60394103 0.62302381 0.59524308 0.61043494\n",
      " 0.69004153 0.62457724 0.59054734 0.61583998 0.65563981 0.6272392\n",
      " 0.6475191  0.62467996 0.66527492 0.64080925 0.64209413 0.64679485\n",
      " 0.63069297 0.66907226 0.63947287 0.66435105 0.65083416 0.63672619\n",
      " 0.64837237 0.65780233 0.66971733 0.63057807 0.62106977 0.63812569]\n"
     ]
    }
   ],
   "source": [
    "import numpy as np\n",
    "val_acc_avg = np.mean(kfold_val_acc, axis = 0)\n",
    "print(val_acc_avg)"
   ]
  },
  {
   "cell_type": "code",
   "execution_count": 12,
   "metadata": {},
   "outputs": [
    {
     "name": "stdout",
     "output_type": "stream",
     "text": [
      "[0.5716875 0.6083125 0.629     0.654     0.681     0.7263125 0.758875\n",
      " 0.7933125 0.8179375 0.8380625 0.8668125 0.885     0.904375  0.920375\n",
      " 0.9340625 0.936875  0.9429375 0.9483125 0.95175   0.949125  0.95575\n",
      " 0.9560625 0.9574375 0.9605    0.9586875 0.955     0.9593125 0.96\n",
      " 0.9601875 0.961    ]\n"
     ]
    }
   ],
   "source": [
    "import numpy as np\n",
    "acc_avg = np.mean(kfold_acc, axis = 0)\n",
    "print(acc_avg)"
   ]
  },
  {
   "cell_type": "code",
   "execution_count": 11,
   "metadata": {},
   "outputs": [
    {
     "name": "stdout",
     "output_type": "stream",
     "text": [
      "[0.76420785 0.60604537 1.3032563  2.77279319 0.53764769 3.494761\n",
      " 1.72972293 2.12226271 3.16654349 2.93301618 1.82047429 3.1180785\n",
      " 2.98792012 2.08559396 2.34335207 2.36112905 2.71512941 3.23696663\n",
      " 2.94654064 2.5777863  2.53042946 2.49012715 3.41696821 3.35008566\n",
      " 1.84229092 2.23449776 2.2397184  2.05088944 3.26631417 2.00000079]\n"
     ]
    }
   ],
   "source": [
    "import numpy as np\n",
    "val_loss_avg = np.mean(kfold_val_loss, axis = 0)\n",
    "print(val_loss_avg)"
   ]
  },
  {
   "cell_type": "code",
   "execution_count": 13,
   "metadata": {},
   "outputs": [
    {
     "data": {
      "text/plain": [
       "(0.5, 1)"
      ]
     },
     "execution_count": 13,
     "metadata": {},
     "output_type": "execute_result"
    },
    {
     "data": {
      "image/png": "[encoded data removed]",
      "text/plain": [
       "<Figure size 432x288 with 1 Axes>"
      ]
     },
     "metadata": {},
     "output_type": "display_data"
    }
   ],
   "source": [
    "x_vals=np.arange(1,31)\n",
    "\n",
    "#bests = [np.max(np.array(i)[:,1]) for i in data]\n",
    "#stds = [np.std(np.array(i)[:,1]) for i in data]\n",
    "\n",
    "plt.style.use('seaborn-darkgrid')\n",
    "\n",
    "#plt.scatter(np.array(data)[:,0],np.array(data)[:,1],marker='x', alpha= 0.5, label='Individual runs',color='black')\n",
    "plt.scatter(x_vals,val_acc_avg, marker='o', s= 75, label='Averages',color='yellow', edgecolors='black',linewidth=1)\n",
    "#plt.errorbar(x_vals,data_av,std,elinewidth=2,color='maroon',label='std')\n",
    "plt.legend(loc='upper right',frameon=True, fontsize=12)\n",
    "#plt.title('Sample gap vs accuracy')\n",
    "plt.xlabel('Number of Epochs', size = 15)\n",
    "plt.ylabel('Accuracy', size = 15)\n",
    "plt.xticks(np.arange(0, 35, 5))\n",
    "plt.xlim(0,31)\n",
    "plt.ylim(0.5,1)\n",
    "\n",
    "#plt.savefig('/home/ubuntu/data/figs/2dk_cs_val_acc.png', dpi=500)"
   ]
  },
  {
   "cell_type": "code",
   "execution_count": 13,
   "metadata": {},
   "outputs": [
    {
     "data": {
      "text/plain": [
       "(0.43151432751450053, 2.5359390921933875)"
      ]
     },
     "execution_count": 13,
     "metadata": {},
     "output_type": "execute_result"
    },
    {
     "data": {
      "image/png": "[encoded data removed]",
      "text/plain": [
       "<Figure size 432x288 with 1 Axes>"
      ]
     },
     "metadata": {},
     "output_type": "display_data"
    }
   ],
   "source": [
    "x_vals=np.arange(1,31)\n",
    "\n",
    "#bests = [np.max(np.array(i)[:,1]) for i in data]\n",
    "#stds = [np.std(np.array(i)[:,1]) for i in data]\n",
    "\n",
    "plt.style.use('seaborn-darkgrid')\n",
    "\n",
    "#plt.scatter(np.array(data)[:,0],np.array(data)[:,1],marker='x', alpha= 0.5, label='Individual runs',color='black')\n",
    "plt.scatter(x_vals,val_loss_avg, marker='o', s= 75, label='Averages',color='yellow', edgecolors='black',linewidth=1)\n",
    "#plt.errorbar(x_vals,data_av,std,elinewidth=2,color='maroon',label='std')\n",
    "plt.legend(loc='upper right',frameon=True, fontsize=12)\n",
    "#plt.title('Sample gap vs accuracy')\n",
    "plt.xlabel('Number of Epochs', size = 15)\n",
    "plt.ylabel('Val loss', size = 15)\n",
    "plt.xticks(np.arange(0, 35, 5))\n",
    "plt.xlim(0,31)\n",
    "plt.ylim()\n",
    "\n",
    "#plt.savefig('/home/ubuntu/data/figs/2dk_cs_val_acc.png', dpi=500)"
   ]
  },
  {
   "cell_type": "code",
   "execution_count": 14,
   "metadata": {},
   "outputs": [
    {
     "data": {
      "text/plain": [
       "(0.5, 1.05)"
      ]
     },
     "execution_count": 14,
     "metadata": {},
     "output_type": "execute_result"
    },
    {
     "data": {
      "image/png": "[encoded data removed]",
      "text/plain": [
       "<Figure size 432x288 with 1 Axes>"
      ]
     },
     "metadata": {},
     "output_type": "display_data"
    }
   ],
   "source": [
    "x_vals=np.arange(1,31)\n",
    "\n",
    "#bests = [np.max(np.array(i)[:,1]) for i in data]\n",
    "#stds = [np.std(np.array(i)[:,1]) for i in data]\n",
    "\n",
    "plt.style.use('seaborn-darkgrid')\n",
    "\n",
    "#plt.scatter(np.array(data)[:,0],np.array(data)[:,1],marker='x', alpha= 0.5, label='Individual runs',color='black')\n",
    "plt.scatter(x_vals,acc_avg, marker='o', s= 75, label='Averages',color='yellow', edgecolors='black',linewidth=1)\n",
    "#plt.errorbar(x_vals,data_av,std,elinewidth=2,color='maroon',label='std')\n",
    "plt.legend(loc='lower right',frameon=True, fontsize=12)\n",
    "#plt.title('Sample gap vs accuracy')\n",
    "plt.xlabel('Number of Epochs', size = 15)\n",
    "plt.ylabel('Accuracy', size = 15)\n",
    "plt.xticks(np.arange(0, 35, 5))\n",
    "plt.xlim(0,31)\n",
    "plt.ylim(0.5,1.05)\n",
    "\n",
    "#plt.savefig('/home/ubuntu/data/figs/2dk_cs_acc.png', dpi=500)"
   ]
  },
  {
   "cell_type": "code",
   "execution_count": 22,
   "metadata": {},
   "outputs": [
    {
     "data": {
      "text/plain": [
       "array([[ 94,  50],\n",
       "       [  5, 139]])"
      ]
     },
     "execution_count": 22,
     "metadata": {},
     "output_type": "execute_result"
    }
   ],
   "source": [
    "prediction_generator = DataGenerator.DataGenerator(im_paths_test, im_labels_test, **params_test)  \n",
    "preds = model.predict_generator(generator=prediction_generator,workers=1,steps = len(im_paths_test)//24, use_multiprocessing=False)\n",
    "filenames_preds = dict(zip(prediction_generator.filenames,preds))\n",
    "im_result = np.array([(im_labels_test[key],np.argmax(filenames_preds[key])) for key in filenames_preds.keys()])\n",
    "confusion_matrix(im_result[:,0], im_result[:,1])"
   ]
  },
  {
   "cell_type": "code",
   "execution_count": 25,
   "metadata": {},
   "outputs": [
    {
     "name": "stdout",
     "output_type": "stream",
     "text": [
      "Normalized\n"
     ]
    },
    {
     "data": {
      "text/plain": [
       "array([[0.65277778, 0.34722222],\n",
       "       [0.03472222, 0.96527778]])"
      ]
     },
     "execution_count": 25,
     "metadata": {},
     "output_type": "execute_result"
    }
   ],
   "source": [
    "print('Normalised')\n",
    "confusion_matrix(im_result[:,0], im_result[:,1])/144"
   ]
  },
  {
   "cell_type": "code",
   "execution_count": 26,
   "metadata": {},
   "outputs": [
    {
     "name": "stdout",
     "output_type": "stream",
     "text": [
      "Accuracy\n"
     ]
    },
    {
     "data": {
      "text/plain": [
       "0.8090277777777778"
      ]
     },
     "execution_count": 26,
     "metadata": {},
     "output_type": "execute_result"
    }
   ],
   "source": [
    "print('Accuracy')\n",
    "(94+139)/(94+139+55)"
   ]
  },
  {
   "cell_type": "code",
   "execution_count": null,
   "metadata": {},
   "outputs": [],
   "source": [
    "test_predictions"
   ]
  },
  {
   "cell_type": "code",
   "execution_count": null,
   "metadata": {},
   "outputs": [],
   "source": [
    "1264+176+95+745"
   ]
  },
  {
   "cell_type": "code",
   "execution_count": null,
   "metadata": {},
   "outputs": [],
   "source": [
    "2009/2280"
   ]
  },
  {
   "cell_type": "code",
   "execution_count": null,
   "metadata": {},
   "outputs": [],
   "source": [
    "sample_gap"
   ]
  },
  {
   "cell_type": "code",
   "execution_count": null,
   "metadata": {},
   "outputs": [],
   "source": []
  }
 ],
 "metadata": {
  "kernelspec": {
   "display_name": "Python 3",
   "language": "python",
   "name": "python3"
  },
  "language_info": {
   "codemirror_mode": {
    "name": "ipython",
    "version": 3
   },
   "file_extension": ".py",
   "mimetype": "text/x-python",
   "name": "python",
   "nbconvert_exporter": "python",
   "pygments_lexer": "ipython3",
   "version": "3.6.7"
  }
 },
 "nbformat": 4,
 "nbformat_minor": 2
}
